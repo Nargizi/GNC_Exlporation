{
 "cells": [
  {
   "cell_type": "code",
   "execution_count": 2,
   "metadata": {
    "collapsed": true,
    "ExecuteTime": {
     "end_time": "2023-06-27T12:09:55.080596Z",
     "start_time": "2023-06-27T12:09:54.546038Z"
    }
   },
   "outputs": [],
   "source": [
    "import pandas as pd\n",
    "import numpy as np\n",
    "import seaborn as sns\n",
    "import matplotlib.pyplot as plt\n",
    "from sklearn.model_selection import train_test_split"
   ]
  },
  {
   "cell_type": "code",
   "execution_count": 3,
   "outputs": [
    {
     "data": {
      "text/plain": "    Unnamed: 0            word           lemma pos_tag     freq\n0            0              ამ              ეს    Pron  1041654\n1            1         ზამთრის         ზამთარი       N     8035\n2            2        მიწურულს        მიწურული     Dat     5976\n3            3         თითქმის         თითქმის     Adv    62608\n4            4  სასოწარკვეთილი  სასოწარკვეთილი       A      844\n..         ...             ...             ...     ...      ...\n95         105          შუბლზე           შუბლი       N     1697\n96         106          ვაკოცე           კოცნა       V      174\n97         107          როგორც          როგორც      Cj   478016\n98         108            ჩანს           *ჩენა       V    57172\n99         109           მაშინ           მაშინ     Adv   154162\n\n[100 rows x 5 columns]",
      "text/html": "<div>\n<style scoped>\n    .dataframe tbody tr th:only-of-type {\n        vertical-align: middle;\n    }\n\n    .dataframe tbody tr th {\n        vertical-align: top;\n    }\n\n    .dataframe thead th {\n        text-align: right;\n    }\n</style>\n<table border=\"1\" class=\"dataframe\">\n  <thead>\n    <tr style=\"text-align: right;\">\n      <th></th>\n      <th>Unnamed: 0</th>\n      <th>word</th>\n      <th>lemma</th>\n      <th>pos_tag</th>\n      <th>freq</th>\n    </tr>\n  </thead>\n  <tbody>\n    <tr>\n      <th>0</th>\n      <td>0</td>\n      <td>ამ</td>\n      <td>ეს</td>\n      <td>Pron</td>\n      <td>1041654</td>\n    </tr>\n    <tr>\n      <th>1</th>\n      <td>1</td>\n      <td>ზამთრის</td>\n      <td>ზამთარი</td>\n      <td>N</td>\n      <td>8035</td>\n    </tr>\n    <tr>\n      <th>2</th>\n      <td>2</td>\n      <td>მიწურულს</td>\n      <td>მიწურული</td>\n      <td>Dat</td>\n      <td>5976</td>\n    </tr>\n    <tr>\n      <th>3</th>\n      <td>3</td>\n      <td>თითქმის</td>\n      <td>თითქმის</td>\n      <td>Adv</td>\n      <td>62608</td>\n    </tr>\n    <tr>\n      <th>4</th>\n      <td>4</td>\n      <td>სასოწარკვეთილი</td>\n      <td>სასოწარკვეთილი</td>\n      <td>A</td>\n      <td>844</td>\n    </tr>\n    <tr>\n      <th>...</th>\n      <td>...</td>\n      <td>...</td>\n      <td>...</td>\n      <td>...</td>\n      <td>...</td>\n    </tr>\n    <tr>\n      <th>95</th>\n      <td>105</td>\n      <td>შუბლზე</td>\n      <td>შუბლი</td>\n      <td>N</td>\n      <td>1697</td>\n    </tr>\n    <tr>\n      <th>96</th>\n      <td>106</td>\n      <td>ვაკოცე</td>\n      <td>კოცნა</td>\n      <td>V</td>\n      <td>174</td>\n    </tr>\n    <tr>\n      <th>97</th>\n      <td>107</td>\n      <td>როგორც</td>\n      <td>როგორც</td>\n      <td>Cj</td>\n      <td>478016</td>\n    </tr>\n    <tr>\n      <th>98</th>\n      <td>108</td>\n      <td>ჩანს</td>\n      <td>*ჩენა</td>\n      <td>V</td>\n      <td>57172</td>\n    </tr>\n    <tr>\n      <th>99</th>\n      <td>109</td>\n      <td>მაშინ</td>\n      <td>მაშინ</td>\n      <td>Adv</td>\n      <td>154162</td>\n    </tr>\n  </tbody>\n</table>\n<p>100 rows × 5 columns</p>\n</div>"
     },
     "execution_count": 3,
     "metadata": {},
     "output_type": "execute_result"
    }
   ],
   "source": [
    "df = pd.read_csv('data.csv')\n",
    "df[:100]"
   ],
   "metadata": {
    "collapsed": false,
    "pycharm": {
     "name": "#%%\n"
    },
    "ExecuteTime": {
     "end_time": "2023-06-27T12:10:00.865347Z",
     "start_time": "2023-06-27T12:09:55.059191Z"
    }
   }
  },
  {
   "cell_type": "code",
   "execution_count": 40,
   "outputs": [],
   "source": [
    "df = df.drop([\"Unnamed: 0\"], axis=1)\n",
    "df"
   ],
   "metadata": {
    "collapsed": false,
    "pycharm": {
     "name": "#%%\n"
    }
   }
  },
  {
   "cell_type": "code",
   "execution_count": 5,
   "outputs": [
    {
     "data": {
      "text/plain": "      word lemma pos_tag   freq\n2978  თქმა    \\t   <MWE>  82436",
      "text/html": "<div>\n<style scoped>\n    .dataframe tbody tr th:only-of-type {\n        vertical-align: middle;\n    }\n\n    .dataframe tbody tr th {\n        vertical-align: top;\n    }\n\n    .dataframe thead th {\n        text-align: right;\n    }\n</style>\n<table border=\"1\" class=\"dataframe\">\n  <thead>\n    <tr style=\"text-align: right;\">\n      <th></th>\n      <th>word</th>\n      <th>lemma</th>\n      <th>pos_tag</th>\n      <th>freq</th>\n    </tr>\n  </thead>\n  <tbody>\n    <tr>\n      <th>2978</th>\n      <td>თქმა</td>\n      <td>\\t</td>\n      <td>&lt;MWE&gt;</td>\n      <td>82436</td>\n    </tr>\n  </tbody>\n</table>\n</div>"
     },
     "execution_count": 5,
     "metadata": {},
     "output_type": "execute_result"
    }
   ],
   "source": [
    "df.query(\"word == 'თქმა'\")"
   ],
   "metadata": {
    "collapsed": false,
    "pycharm": {
     "name": "#%%\n"
    },
    "ExecuteTime": {
     "end_time": "2023-06-27T12:10:00.896607Z",
     "start_time": "2023-06-27T12:10:00.573122Z"
    }
   }
  },
  {
   "cell_type": "code",
   "execution_count": 6,
   "outputs": [],
   "source": [
    "df.query(\"pos_tag.str.startswith('PP')\")"
   ],
   "metadata": {
    "collapsed": false,
    "ExecuteTime": {
     "end_time": "2023-06-27T12:10:02.210317Z",
     "start_time": "2023-06-27T12:10:00.636585Z"
    }
   }
  },
  {
   "cell_type": "code",
   "execution_count": 7,
   "outputs": [],
   "source": [
    "junk = ['Foreign', 'Unknown', '>XCOMP', 'Symbol', 'Guess', '<MWE>', 'X', 'Punct']\n",
    "# SG -> a LOT. PL -> a LOT.\n",
    "df.query(\"pos_tag == 'Rel:ც'\")"
   ],
   "metadata": {
    "collapsed": false
   }
  },
  {
   "cell_type": "code",
   "execution_count": 8,
   "outputs": [],
   "source": [
    "df.groupby(by='pos_tag').pos_tag.count()"
   ],
   "metadata": {
    "collapsed": false
   }
  },
  {
   "cell_type": "code",
   "execution_count": 9,
   "outputs": [],
   "source": [
    "main_pos = ['N', 'V', 'Adv', 'A', 'Num', 'Pron', 'Cj', 'Interj']"
   ],
   "metadata": {
    "collapsed": false
   }
  },
  {
   "cell_type": "code",
   "execution_count": 10,
   "outputs": [],
   "source": [
    "def convert(tag):\n",
    "    try:\n",
    "        return {\"Nom\":\"N\", \"Dat\":\"N\", \"Gen\":\"N\", \"Erg\":\"N\", \"Voc\":\"N\", \"Inst\":\"N\", \"Foc\":\"Adv\"}[tag]\n",
    "    except KeyError:\n",
    "        if tag in main_pos:\n",
    "            return tag\n",
    "        return 'Other'\n",
    "\n",
    "df.pos_tag = df.pos_tag.agg(convert)"
   ],
   "metadata": {
    "collapsed": false
   }
  },
  {
   "cell_type": "code",
   "execution_count": 11,
   "outputs": [],
   "source": [
    "plt.figure(figsize=(10, 15))\n",
    "sns.barplot(data=df.groupby(by=\"pos_tag\")[\"word\"].count().reset_index().sort_values(by=\"word\", ascending=False), y=\"pos_tag\", x=\"word\")"
   ],
   "metadata": {
    "collapsed": false
   }
  },
  {
   "cell_type": "markdown",
   "source": [
    "## სიტყვის სიგრძეები"
   ],
   "metadata": {
    "collapsed": false
   }
  },
  {
   "cell_type": "code",
   "execution_count": 12,
   "outputs": [],
   "source": [
    "df['word_length'] = df.word.str.len()\n",
    "df['lemma_length'] = df.lemma.str.len()\n",
    "df['ratio'] = df['word_length'] / df['lemma_length']\n",
    "df[['word', 'ratio', 'word_length', 'lemma_length']]"
   ],
   "metadata": {
    "collapsed": false
   }
  },
  {
   "cell_type": "code",
   "execution_count": 13,
   "outputs": [],
   "source": [
    "print(f'max: {df[\"lemma_length\"].max()}, min: {df[\"lemma_length\"].min()}')\n",
    "plt.figure(figsize=(10, 5))\n",
    "sns.countplot(data=df, x='lemma_length')"
   ],
   "metadata": {
    "collapsed": false
   }
  },
  {
   "cell_type": "code",
   "execution_count": 14,
   "outputs": [],
   "source": [
    "df.lemma_length.quantile(q=[ i / 100 for i in range(1, 100)])"
   ],
   "metadata": {
    "collapsed": false
   }
  },
  {
   "cell_type": "code",
   "execution_count": 15,
   "outputs": [],
   "source": [
    "df['lemma_length_category'] = pd.qcut(df.lemma_length, [0, 0.33, 0.67, 1], labels=['low', 'medium', 'high'])"
   ],
   "metadata": {
    "collapsed": false
   }
  },
  {
   "cell_type": "code",
   "execution_count": 16,
   "outputs": [],
   "source": [
    "print(f'max: {df[\"word_length\"].max()}, min: {df[\"word_length\"].min()}')\n",
    "plt.figure(figsize=(10, 5))\n",
    "sns.countplot(data=df, x='word_length')"
   ],
   "metadata": {
    "collapsed": false
   }
  },
  {
   "cell_type": "code",
   "execution_count": 17,
   "outputs": [],
   "source": [
    "df['word_length_category'] = pd.qcut(df.word_length, [0, 0.33, 0.67, 1], labels=['low', 'medium', 'high'])"
   ],
   "metadata": {
    "collapsed": false
   }
  },
  {
   "cell_type": "code",
   "execution_count": 18,
   "outputs": [],
   "source": [
    "plt.figure(figsize=(10, 5))\n",
    "sns.countplot(data=df, x='word_length', color='red', alpha=0.7)\n",
    "sns.countplot(data=df, x='lemma_length', color='blue', alpha=0.7)\n",
    "plt.xlabel(\"\")"
   ],
   "metadata": {
    "collapsed": false
   }
  },
  {
   "cell_type": "code",
   "execution_count": 19,
   "outputs": [],
   "source": [
    "print(f'max: {df[\"ratio\"].max()}, min: {df[\"ratio\"].min()}')\n",
    "plt.figure(figsize=(10, 5))\n",
    "sns.histplot(data=df[df.ratio.between(*list(df.ratio.quantile([.01, .9])))], x='ratio', binwidth=0.2, stat='count')"
   ],
   "metadata": {
    "collapsed": false
   }
  },
  {
   "cell_type": "code",
   "execution_count": 20,
   "outputs": [],
   "source": [
    "df['ratio'].quantile()"
   ],
   "metadata": {
    "collapsed": false
   }
  },
  {
   "cell_type": "code",
   "execution_count": 21,
   "outputs": [],
   "source": [
    "conditions = [\n",
    "    df['ratio'] < 1,\n",
    "    df['ratio'] == 1,\n",
    "    df['ratio'] > 1\n",
    "]\n",
    "choices = ['less', 'equal', 'greater']\n",
    "df['ratio_category'] = np.select(conditions, choices)"
   ],
   "metadata": {
    "collapsed": false
   }
  },
  {
   "cell_type": "code",
   "execution_count": 22,
   "outputs": [],
   "source": [
    "sns.countplot(df, x='ratio_category')"
   ],
   "metadata": {
    "collapsed": false
   }
  },
  {
   "cell_type": "code",
   "execution_count": 23,
   "outputs": [],
   "source": [
    "df.query('ratio_category == \"greater\"')"
   ],
   "metadata": {
    "collapsed": false
   }
  },
  {
   "cell_type": "markdown",
   "source": [
    "## სხვათა სიტყვათა ფორმები"
   ],
   "metadata": {
    "collapsed": false
   }
  },
  {
   "cell_type": "code",
   "execution_count": 24,
   "outputs": [],
   "source": [
    "reported_speech_candidates = df[df.word.str.endswith('ო')].copy()\n",
    "reported_speech_candidates['word'] = reported_speech_candidates.word.str[:-1]\n",
    "reported_speech_candidates = reported_speech_candidates[reported_speech_candidates.word.isin(df.word)]\n",
    "third_person_reported_speech = df.index.isin(reported_speech_candidates[reported_speech_candidates.word.isin(pd.merge(reported_speech_candidates, df, on=['word', 'lemma', 'pos_tag'], how='inner').word)].index)\n",
    "\n",
    "df['reported_speech'] = df.word.str.endswith(('-მეთქი', '-თქო')) | third_person_reported_speech"
   ],
   "metadata": {
    "collapsed": false
   }
  },
  {
   "cell_type": "code",
   "execution_count": 25,
   "outputs": [],
   "source": [
    "df['reported_speech'] = df['reported_speech'].astype('str')"
   ],
   "metadata": {
    "collapsed": false
   }
  },
  {
   "cell_type": "code",
   "execution_count": 26,
   "outputs": [],
   "source": [
    "df.groupby(by='reported_speech').word.count()"
   ],
   "metadata": {
    "collapsed": false
   }
  },
  {
   "cell_type": "code",
   "execution_count": 27,
   "outputs": [],
   "source": [
    "sns.countplot(data=df, x='reported_speech')"
   ],
   "metadata": {
    "collapsed": false
   }
  },
  {
   "cell_type": "markdown",
   "source": [
    "## სიხშირეები"
   ],
   "metadata": {
    "collapsed": false
   }
  },
  {
   "cell_type": "code",
   "execution_count": 28,
   "outputs": [],
   "source": [
    "df.freq.quantile(q=[ i / 100 for i in range(1, 100)])"
   ],
   "metadata": {
    "collapsed": false
   }
  },
  {
   "cell_type": "code",
   "execution_count": 29,
   "outputs": [],
   "source": [
    "df.query('freq > 100').shape[0]"
   ],
   "metadata": {
    "collapsed": false
   }
  },
  {
   "cell_type": "code",
   "execution_count": 30,
   "outputs": [],
   "source": [
    "df['freq_category'] = pd.qcut(df.freq, [0, 0.5, 0.9, 1], labels=['low', 'medium', 'high'])"
   ],
   "metadata": {
    "collapsed": false
   }
  },
  {
   "cell_type": "code",
   "execution_count": 31,
   "outputs": [],
   "source": [
    "df.groupby(by='freq_category').freq.mean()"
   ],
   "metadata": {
    "collapsed": false
   }
  },
  {
   "cell_type": "code",
   "execution_count": 32,
   "outputs": [],
   "source": [
    "plt.figure(figsize=(10, 5))\n",
    "sns.countplot(data=df, x='freq_category')"
   ],
   "metadata": {
    "collapsed": false,
    "pycharm": {
     "name": "#%%\n"
    }
   }
  },
  {
   "cell_type": "code",
   "execution_count": 166,
   "outputs": [
    {
     "data": {
      "text/plain": "             word           lemma pos_tag     freq  word_length  lemma_length  \\\n0              ამ              ეს    Pron  1041654            2             2   \n1         ზამთრის         ზამთარი       N     8035            7             7   \n2        მიწურულს        მიწურული     Dat     5976            8             8   \n3         თითქმის         თითქმის     Adv    62608            7             7   \n4  სასოწარკვეთილი  სასოწარკვეთილი       A      844           14            14   \n\n   ratio freq_category  \n0    1.0          high  \n1    1.0          high  \n2    1.0          high  \n3    1.0          high  \n4    1.0          high  ",
      "text/html": "<div>\n<style scoped>\n    .dataframe tbody tr th:only-of-type {\n        vertical-align: middle;\n    }\n\n    .dataframe tbody tr th {\n        vertical-align: top;\n    }\n\n    .dataframe thead th {\n        text-align: right;\n    }\n</style>\n<table border=\"1\" class=\"dataframe\">\n  <thead>\n    <tr style=\"text-align: right;\">\n      <th></th>\n      <th>word</th>\n      <th>lemma</th>\n      <th>pos_tag</th>\n      <th>freq</th>\n      <th>word_length</th>\n      <th>lemma_length</th>\n      <th>ratio</th>\n      <th>freq_category</th>\n    </tr>\n  </thead>\n  <tbody>\n    <tr>\n      <th>0</th>\n      <td>ამ</td>\n      <td>ეს</td>\n      <td>Pron</td>\n      <td>1041654</td>\n      <td>2</td>\n      <td>2</td>\n      <td>1.0</td>\n      <td>high</td>\n    </tr>\n    <tr>\n      <th>1</th>\n      <td>ზამთრის</td>\n      <td>ზამთარი</td>\n      <td>N</td>\n      <td>8035</td>\n      <td>7</td>\n      <td>7</td>\n      <td>1.0</td>\n      <td>high</td>\n    </tr>\n    <tr>\n      <th>2</th>\n      <td>მიწურულს</td>\n      <td>მიწურული</td>\n      <td>Dat</td>\n      <td>5976</td>\n      <td>8</td>\n      <td>8</td>\n      <td>1.0</td>\n      <td>high</td>\n    </tr>\n    <tr>\n      <th>3</th>\n      <td>თითქმის</td>\n      <td>თითქმის</td>\n      <td>Adv</td>\n      <td>62608</td>\n      <td>7</td>\n      <td>7</td>\n      <td>1.0</td>\n      <td>high</td>\n    </tr>\n    <tr>\n      <th>4</th>\n      <td>სასოწარკვეთილი</td>\n      <td>სასოწარკვეთილი</td>\n      <td>A</td>\n      <td>844</td>\n      <td>14</td>\n      <td>14</td>\n      <td>1.0</td>\n      <td>high</td>\n    </tr>\n  </tbody>\n</table>\n</div>"
     },
     "execution_count": 166,
     "metadata": {},
     "output_type": "execute_result"
    }
   ],
   "source": [
    "df.head()"
   ],
   "metadata": {
    "collapsed": false,
    "ExecuteTime": {
     "end_time": "2023-06-25T17:02:00.714373Z",
     "start_time": "2023-06-25T17:02:00.688051Z"
    }
   }
  },
  {
   "cell_type": "markdown",
   "source": [
    "## ტრეინ / ტესტ დაყოფა"
   ],
   "metadata": {
    "collapsed": false
   }
  },
  {
   "cell_type": "code",
   "execution_count": 295,
   "outputs": [],
   "source": [
    "classes = df[['pos_tag', 'ratio_category', 'word_length_category', 'freq_category']]"
   ],
   "metadata": {
    "collapsed": false,
    "ExecuteTime": {
     "end_time": "2023-06-25T18:42:44.862214Z",
     "start_time": "2023-06-25T18:42:44.746951Z"
    }
   }
  },
  {
   "cell_type": "code",
   "execution_count": 305,
   "outputs": [
    {
     "data": {
      "text/plain": "pos_tag  ratio_category  word_length_category\nA        equal           low                      16096\n                         medium                   24906\n                         high                     17211\n         greater         low                      19072\n                         medium                   51359\n                                                  ...  \nV        greater         medium                  154679\n                         high                     80050\n         less            low                      22896\n                         medium                    8482\n                         high                      1526\nName: word, Length: 81, dtype: int64"
     },
     "execution_count": 305,
     "metadata": {},
     "output_type": "execute_result"
    }
   ],
   "source": [
    "df.groupby(by=['pos_tag', 'ratio_category', 'word_length_category']).word.count()"
   ],
   "metadata": {
    "collapsed": false,
    "ExecuteTime": {
     "end_time": "2023-06-25T18:44:05.234792Z",
     "start_time": "2023-06-25T18:44:04.738944Z"
    }
   }
  },
  {
   "cell_type": "code",
   "execution_count": 296,
   "outputs": [
    {
     "ename": "ValueError",
     "evalue": "The least populated class in y has only 1 member, which is too few. The minimum number of groups for any class cannot be less than 2.",
     "output_type": "error",
     "traceback": [
      "\u001B[0;31m---------------------------------------------------------------------------\u001B[0m",
      "\u001B[0;31mValueError\u001B[0m                                Traceback (most recent call last)",
      "Cell \u001B[0;32mIn[296], line 1\u001B[0m\n\u001B[0;32m----> 1\u001B[0m \u001B[43mtrain_test_split\u001B[49m\u001B[43m(\u001B[49m\u001B[43mdf\u001B[49m\u001B[43m,\u001B[49m\u001B[43m \u001B[49m\u001B[43mtest_size\u001B[49m\u001B[38;5;241;43m=\u001B[39;49m\u001B[38;5;241;43m0.3\u001B[39;49m\u001B[43m,\u001B[49m\u001B[43m \u001B[49m\u001B[43mstratify\u001B[49m\u001B[38;5;241;43m=\u001B[39;49m\u001B[43mclasses\u001B[49m\u001B[43m,\u001B[49m\u001B[43m \u001B[49m\u001B[43mrandom_state\u001B[49m\u001B[38;5;241;43m=\u001B[39;49m\u001B[38;5;241;43m42\u001B[39;49m\u001B[43m)\u001B[49m\n",
      "File \u001B[0;32m~/opt/anaconda3/envs/NLP/lib/python3.10/site-packages/sklearn/model_selection/_split.py:2583\u001B[0m, in \u001B[0;36mtrain_test_split\u001B[0;34m(test_size, train_size, random_state, shuffle, stratify, *arrays)\u001B[0m\n\u001B[1;32m   2579\u001B[0m         CVClass \u001B[38;5;241m=\u001B[39m ShuffleSplit\n\u001B[1;32m   2581\u001B[0m     cv \u001B[38;5;241m=\u001B[39m CVClass(test_size\u001B[38;5;241m=\u001B[39mn_test, train_size\u001B[38;5;241m=\u001B[39mn_train, random_state\u001B[38;5;241m=\u001B[39mrandom_state)\n\u001B[0;32m-> 2583\u001B[0m     train, test \u001B[38;5;241m=\u001B[39m \u001B[38;5;28;43mnext\u001B[39;49m\u001B[43m(\u001B[49m\u001B[43mcv\u001B[49m\u001B[38;5;241;43m.\u001B[39;49m\u001B[43msplit\u001B[49m\u001B[43m(\u001B[49m\u001B[43mX\u001B[49m\u001B[38;5;241;43m=\u001B[39;49m\u001B[43marrays\u001B[49m\u001B[43m[\u001B[49m\u001B[38;5;241;43m0\u001B[39;49m\u001B[43m]\u001B[49m\u001B[43m,\u001B[49m\u001B[43m \u001B[49m\u001B[43my\u001B[49m\u001B[38;5;241;43m=\u001B[39;49m\u001B[43mstratify\u001B[49m\u001B[43m)\u001B[49m\u001B[43m)\u001B[49m\n\u001B[1;32m   2585\u001B[0m \u001B[38;5;28;01mreturn\u001B[39;00m \u001B[38;5;28mlist\u001B[39m(\n\u001B[1;32m   2586\u001B[0m     chain\u001B[38;5;241m.\u001B[39mfrom_iterable(\n\u001B[1;32m   2587\u001B[0m         (_safe_indexing(a, train), _safe_indexing(a, test)) \u001B[38;5;28;01mfor\u001B[39;00m a \u001B[38;5;129;01min\u001B[39;00m arrays\n\u001B[1;32m   2588\u001B[0m     )\n\u001B[1;32m   2589\u001B[0m )\n",
      "File \u001B[0;32m~/opt/anaconda3/envs/NLP/lib/python3.10/site-packages/sklearn/model_selection/_split.py:1689\u001B[0m, in \u001B[0;36mBaseShuffleSplit.split\u001B[0;34m(self, X, y, groups)\u001B[0m\n\u001B[1;32m   1659\u001B[0m \u001B[38;5;250m\u001B[39m\u001B[38;5;124;03m\"\"\"Generate indices to split data into training and test set.\u001B[39;00m\n\u001B[1;32m   1660\u001B[0m \n\u001B[1;32m   1661\u001B[0m \u001B[38;5;124;03mParameters\u001B[39;00m\n\u001B[0;32m   (...)\u001B[0m\n\u001B[1;32m   1686\u001B[0m \u001B[38;5;124;03mto an integer.\u001B[39;00m\n\u001B[1;32m   1687\u001B[0m \u001B[38;5;124;03m\"\"\"\u001B[39;00m\n\u001B[1;32m   1688\u001B[0m X, y, groups \u001B[38;5;241m=\u001B[39m indexable(X, y, groups)\n\u001B[0;32m-> 1689\u001B[0m \u001B[38;5;28;01mfor\u001B[39;00m train, test \u001B[38;5;129;01min\u001B[39;00m \u001B[38;5;28mself\u001B[39m\u001B[38;5;241m.\u001B[39m_iter_indices(X, y, groups):\n\u001B[1;32m   1690\u001B[0m     \u001B[38;5;28;01myield\u001B[39;00m train, test\n",
      "File \u001B[0;32m~/opt/anaconda3/envs/NLP/lib/python3.10/site-packages/sklearn/model_selection/_split.py:2078\u001B[0m, in \u001B[0;36mStratifiedShuffleSplit._iter_indices\u001B[0;34m(self, X, y, groups)\u001B[0m\n\u001B[1;32m   2076\u001B[0m class_counts \u001B[38;5;241m=\u001B[39m np\u001B[38;5;241m.\u001B[39mbincount(y_indices)\n\u001B[1;32m   2077\u001B[0m \u001B[38;5;28;01mif\u001B[39;00m np\u001B[38;5;241m.\u001B[39mmin(class_counts) \u001B[38;5;241m<\u001B[39m \u001B[38;5;241m2\u001B[39m:\n\u001B[0;32m-> 2078\u001B[0m     \u001B[38;5;28;01mraise\u001B[39;00m \u001B[38;5;167;01mValueError\u001B[39;00m(\n\u001B[1;32m   2079\u001B[0m         \u001B[38;5;124m\"\u001B[39m\u001B[38;5;124mThe least populated class in y has only 1\u001B[39m\u001B[38;5;124m\"\u001B[39m\n\u001B[1;32m   2080\u001B[0m         \u001B[38;5;124m\"\u001B[39m\u001B[38;5;124m member, which is too few. The minimum\u001B[39m\u001B[38;5;124m\"\u001B[39m\n\u001B[1;32m   2081\u001B[0m         \u001B[38;5;124m\"\u001B[39m\u001B[38;5;124m number of groups for any class cannot\u001B[39m\u001B[38;5;124m\"\u001B[39m\n\u001B[1;32m   2082\u001B[0m         \u001B[38;5;124m\"\u001B[39m\u001B[38;5;124m be less than 2.\u001B[39m\u001B[38;5;124m\"\u001B[39m\n\u001B[1;32m   2083\u001B[0m     )\n\u001B[1;32m   2085\u001B[0m \u001B[38;5;28;01mif\u001B[39;00m n_train \u001B[38;5;241m<\u001B[39m n_classes:\n\u001B[1;32m   2086\u001B[0m     \u001B[38;5;28;01mraise\u001B[39;00m \u001B[38;5;167;01mValueError\u001B[39;00m(\n\u001B[1;32m   2087\u001B[0m         \u001B[38;5;124m\"\u001B[39m\u001B[38;5;124mThe train_size = \u001B[39m\u001B[38;5;132;01m%d\u001B[39;00m\u001B[38;5;124m should be greater or \u001B[39m\u001B[38;5;124m\"\u001B[39m\n\u001B[1;32m   2088\u001B[0m         \u001B[38;5;124m\"\u001B[39m\u001B[38;5;124mequal to the number of classes = \u001B[39m\u001B[38;5;132;01m%d\u001B[39;00m\u001B[38;5;124m\"\u001B[39m \u001B[38;5;241m%\u001B[39m (n_train, n_classes)\n\u001B[1;32m   2089\u001B[0m     )\n",
      "\u001B[0;31mValueError\u001B[0m: The least populated class in y has only 1 member, which is too few. The minimum number of groups for any class cannot be less than 2."
     ]
    }
   ],
   "source": [
    "train_test_split(df, test_size=0.3, stratify=classes, random_state=42)"
   ],
   "metadata": {
    "collapsed": false,
    "ExecuteTime": {
     "end_time": "2023-06-25T18:42:58.352112Z",
     "start_time": "2023-06-25T18:42:45.816156Z"
    }
   }
  },
  {
   "cell_type": "code",
   "execution_count": 306,
   "outputs": [
    {
     "data": {
      "text/plain": "pos_tag  ratio_category  word_length_category\nA        equal           low                      16096\n                         medium                   24906\n                         high                     17211\n         greater         low                      19072\n                         medium                   51359\n                                                  ...  \nV        greater         medium                  154679\n                         high                     80050\n         less            low                      22896\n                         medium                    8482\n                         high                      1526\nName: word, Length: 81, dtype: int64"
     },
     "execution_count": 306,
     "metadata": {},
     "output_type": "execute_result"
    }
   ],
   "source": [
    "df.groupby(by=['pos_tag', 'ratio_category', 'word_length_category']).word.count()"
   ],
   "metadata": {
    "collapsed": false,
    "ExecuteTime": {
     "end_time": "2023-06-25T18:44:07.928135Z",
     "start_time": "2023-06-25T18:44:07.700372Z"
    }
   }
  },
  {
   "cell_type": "code",
   "execution_count": null,
   "outputs": [],
   "source": [
    " # საშუალო სიხშირე"
   ],
   "metadata": {
    "collapsed": false
   }
  }
 ],
 "metadata": {
  "kernelspec": {
   "display_name": "Python 3",
   "language": "python",
   "name": "python3"
  },
  "language_info": {
   "codemirror_mode": {
    "name": "ipython",
    "version": 2
   },
   "file_extension": ".py",
   "mimetype": "text/x-python",
   "name": "python",
   "nbconvert_exporter": "python",
   "pygments_lexer": "ipython2",
   "version": "2.7.6"
  }
 },
 "nbformat": 4,
 "nbformat_minor": 0
}
