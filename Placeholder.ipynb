{
 "cells": [
  {
   "cell_type": "code",
   "execution_count": 1,
   "metadata": {
    "collapsed": true,
    "ExecuteTime": {
     "end_time": "2023-07-03T17:51:54.826920Z",
     "start_time": "2023-07-03T17:51:54.272575Z"
    }
   },
   "outputs": [],
   "source": [
    "import pandas as pd\n",
    "import numpy as np\n",
    "import seaborn as sns\n",
    "import matplotlib.pyplot as plt\n",
    "from sklearn.model_selection import train_test_split"
   ]
  },
  {
   "cell_type": "code",
   "execution_count": 2,
   "outputs": [
    {
     "data": {
      "text/plain": "    Unnamed: 0            word           lemma pos_tag     freq\n0            0              ამ              ეს    Pron  1041654\n1            1         ზამთრის         ზამთარი       N     8035\n2            2        მიწურულს        მიწურული     Dat     5976\n3            3         თითქმის         თითქმის     Adv    62608\n4            4  სასოწარკვეთილი  სასოწარკვეთილი       A      844\n..         ...             ...             ...     ...      ...\n95         105          შუბლზე           შუბლი       N     1697\n96         106          ვაკოცე           კოცნა       V      174\n97         107          როგორც          როგორც      Cj   478016\n98         108            ჩანს           *ჩენა       V    57172\n99         109           მაშინ           მაშინ     Adv   154162\n\n[100 rows x 5 columns]",
      "text/html": "<div>\n<style scoped>\n    .dataframe tbody tr th:only-of-type {\n        vertical-align: middle;\n    }\n\n    .dataframe tbody tr th {\n        vertical-align: top;\n    }\n\n    .dataframe thead th {\n        text-align: right;\n    }\n</style>\n<table border=\"1\" class=\"dataframe\">\n  <thead>\n    <tr style=\"text-align: right;\">\n      <th></th>\n      <th>Unnamed: 0</th>\n      <th>word</th>\n      <th>lemma</th>\n      <th>pos_tag</th>\n      <th>freq</th>\n    </tr>\n  </thead>\n  <tbody>\n    <tr>\n      <th>0</th>\n      <td>0</td>\n      <td>ამ</td>\n      <td>ეს</td>\n      <td>Pron</td>\n      <td>1041654</td>\n    </tr>\n    <tr>\n      <th>1</th>\n      <td>1</td>\n      <td>ზამთრის</td>\n      <td>ზამთარი</td>\n      <td>N</td>\n      <td>8035</td>\n    </tr>\n    <tr>\n      <th>2</th>\n      <td>2</td>\n      <td>მიწურულს</td>\n      <td>მიწურული</td>\n      <td>Dat</td>\n      <td>5976</td>\n    </tr>\n    <tr>\n      <th>3</th>\n      <td>3</td>\n      <td>თითქმის</td>\n      <td>თითქმის</td>\n      <td>Adv</td>\n      <td>62608</td>\n    </tr>\n    <tr>\n      <th>4</th>\n      <td>4</td>\n      <td>სასოწარკვეთილი</td>\n      <td>სასოწარკვეთილი</td>\n      <td>A</td>\n      <td>844</td>\n    </tr>\n    <tr>\n      <th>...</th>\n      <td>...</td>\n      <td>...</td>\n      <td>...</td>\n      <td>...</td>\n      <td>...</td>\n    </tr>\n    <tr>\n      <th>95</th>\n      <td>105</td>\n      <td>შუბლზე</td>\n      <td>შუბლი</td>\n      <td>N</td>\n      <td>1697</td>\n    </tr>\n    <tr>\n      <th>96</th>\n      <td>106</td>\n      <td>ვაკოცე</td>\n      <td>კოცნა</td>\n      <td>V</td>\n      <td>174</td>\n    </tr>\n    <tr>\n      <th>97</th>\n      <td>107</td>\n      <td>როგორც</td>\n      <td>როგორც</td>\n      <td>Cj</td>\n      <td>478016</td>\n    </tr>\n    <tr>\n      <th>98</th>\n      <td>108</td>\n      <td>ჩანს</td>\n      <td>*ჩენა</td>\n      <td>V</td>\n      <td>57172</td>\n    </tr>\n    <tr>\n      <th>99</th>\n      <td>109</td>\n      <td>მაშინ</td>\n      <td>მაშინ</td>\n      <td>Adv</td>\n      <td>154162</td>\n    </tr>\n  </tbody>\n</table>\n<p>100 rows × 5 columns</p>\n</div>"
     },
     "execution_count": 2,
     "metadata": {},
     "output_type": "execute_result"
    }
   ],
   "source": [
    "df = pd.read_csv('csv/data.csv')\n",
    "df[:100]"
   ],
   "metadata": {
    "collapsed": false,
    "pycharm": {
     "name": "#%%\n"
    },
    "ExecuteTime": {
     "end_time": "2023-07-03T17:51:56.722480Z",
     "start_time": "2023-07-03T17:51:54.827605Z"
    }
   }
  },
  {
   "cell_type": "code",
   "execution_count": 3,
   "outputs": [
    {
     "data": {
      "text/plain": "                   word           lemma pos_tag     freq\n0                    ამ              ეს    Pron  1041654\n1               ზამთრის         ზამთარი       N     8035\n2              მიწურულს        მიწურული     Dat     5976\n3               თითქმის         თითქმის     Adv    62608\n4        სასოწარკვეთილი  სასოწარკვეთილი       A      844\n...                 ...             ...     ...      ...\n1468488  რედაქტორებამდე       რედაქტორი       N        1\n1468489     წაეჩხუბებით         წაჩხუბი       V        1\n1468490        აგვწონეს           აწონა       V        1\n1468491     ტორონჯაძისა       ტორონჯაძე       N        1\n1468492  სეპარატიზმადაა     სეპარატიზმი       N        1\n\n[1468493 rows x 4 columns]",
      "text/html": "<div>\n<style scoped>\n    .dataframe tbody tr th:only-of-type {\n        vertical-align: middle;\n    }\n\n    .dataframe tbody tr th {\n        vertical-align: top;\n    }\n\n    .dataframe thead th {\n        text-align: right;\n    }\n</style>\n<table border=\"1\" class=\"dataframe\">\n  <thead>\n    <tr style=\"text-align: right;\">\n      <th></th>\n      <th>word</th>\n      <th>lemma</th>\n      <th>pos_tag</th>\n      <th>freq</th>\n    </tr>\n  </thead>\n  <tbody>\n    <tr>\n      <th>0</th>\n      <td>ამ</td>\n      <td>ეს</td>\n      <td>Pron</td>\n      <td>1041654</td>\n    </tr>\n    <tr>\n      <th>1</th>\n      <td>ზამთრის</td>\n      <td>ზამთარი</td>\n      <td>N</td>\n      <td>8035</td>\n    </tr>\n    <tr>\n      <th>2</th>\n      <td>მიწურულს</td>\n      <td>მიწურული</td>\n      <td>Dat</td>\n      <td>5976</td>\n    </tr>\n    <tr>\n      <th>3</th>\n      <td>თითქმის</td>\n      <td>თითქმის</td>\n      <td>Adv</td>\n      <td>62608</td>\n    </tr>\n    <tr>\n      <th>4</th>\n      <td>სასოწარკვეთილი</td>\n      <td>სასოწარკვეთილი</td>\n      <td>A</td>\n      <td>844</td>\n    </tr>\n    <tr>\n      <th>...</th>\n      <td>...</td>\n      <td>...</td>\n      <td>...</td>\n      <td>...</td>\n    </tr>\n    <tr>\n      <th>1468488</th>\n      <td>რედაქტორებამდე</td>\n      <td>რედაქტორი</td>\n      <td>N</td>\n      <td>1</td>\n    </tr>\n    <tr>\n      <th>1468489</th>\n      <td>წაეჩხუბებით</td>\n      <td>წაჩხუბი</td>\n      <td>V</td>\n      <td>1</td>\n    </tr>\n    <tr>\n      <th>1468490</th>\n      <td>აგვწონეს</td>\n      <td>აწონა</td>\n      <td>V</td>\n      <td>1</td>\n    </tr>\n    <tr>\n      <th>1468491</th>\n      <td>ტორონჯაძისა</td>\n      <td>ტორონჯაძე</td>\n      <td>N</td>\n      <td>1</td>\n    </tr>\n    <tr>\n      <th>1468492</th>\n      <td>სეპარატიზმადაა</td>\n      <td>სეპარატიზმი</td>\n      <td>N</td>\n      <td>1</td>\n    </tr>\n  </tbody>\n</table>\n<p>1468493 rows × 4 columns</p>\n</div>"
     },
     "execution_count": 3,
     "metadata": {},
     "output_type": "execute_result"
    }
   ],
   "source": [
    "df = df.drop([\"Unnamed: 0\"], axis=1)\n",
    "df"
   ],
   "metadata": {
    "collapsed": false,
    "pycharm": {
     "name": "#%%\n"
    },
    "ExecuteTime": {
     "end_time": "2023-07-03T17:51:56.760243Z",
     "start_time": "2023-07-03T17:51:56.736164Z"
    }
   }
  },
  {
   "cell_type": "code",
   "execution_count": 4,
   "outputs": [
    {
     "data": {
      "text/plain": "      word lemma pos_tag   freq\n2978  თქმა    \\t   <MWE>  82436",
      "text/html": "<div>\n<style scoped>\n    .dataframe tbody tr th:only-of-type {\n        vertical-align: middle;\n    }\n\n    .dataframe tbody tr th {\n        vertical-align: top;\n    }\n\n    .dataframe thead th {\n        text-align: right;\n    }\n</style>\n<table border=\"1\" class=\"dataframe\">\n  <thead>\n    <tr style=\"text-align: right;\">\n      <th></th>\n      <th>word</th>\n      <th>lemma</th>\n      <th>pos_tag</th>\n      <th>freq</th>\n    </tr>\n  </thead>\n  <tbody>\n    <tr>\n      <th>2978</th>\n      <td>თქმა</td>\n      <td>\\t</td>\n      <td>&lt;MWE&gt;</td>\n      <td>82436</td>\n    </tr>\n  </tbody>\n</table>\n</div>"
     },
     "execution_count": 4,
     "metadata": {},
     "output_type": "execute_result"
    }
   ],
   "source": [
    "df.query(\"word == 'თქმა'\")"
   ],
   "metadata": {
    "collapsed": false,
    "pycharm": {
     "name": "#%%\n"
    },
    "ExecuteTime": {
     "end_time": "2023-07-03T17:51:56.891164Z",
     "start_time": "2023-07-03T17:51:56.743927Z"
    }
   }
  },
  {
   "cell_type": "code",
   "execution_count": 5,
   "outputs": [
    {
     "data": {
      "text/plain": "                word     lemma pos_tag  freq\n6136          ვისთან       ვინ      PP  3150\n20282       თავისთან    თავისი      PP  1383\n87035       ვისთანმე       ვინ      PP    22\n102342    თავისთანაც    თავისი      PP    10\n114294     უფროსებში    უფროსი      PP   281\n128902    მანანასთან    მანანა      PP    31\n133297    უფროსებთან    უფროსი      PP   249\n166006     უფროსებზე    უფროსი      PP    42\n580018      დელისთან    დელისი      PP    52\n625563   აღარავისთან  აღარავინ      PP    13\n647273      ვერასთან      ვერა      PP    10\n971876       კასებზე      კასა      PP     3\n1082405   უფროსებშიც    უფროსი      PP    26",
      "text/html": "<div>\n<style scoped>\n    .dataframe tbody tr th:only-of-type {\n        vertical-align: middle;\n    }\n\n    .dataframe tbody tr th {\n        vertical-align: top;\n    }\n\n    .dataframe thead th {\n        text-align: right;\n    }\n</style>\n<table border=\"1\" class=\"dataframe\">\n  <thead>\n    <tr style=\"text-align: right;\">\n      <th></th>\n      <th>word</th>\n      <th>lemma</th>\n      <th>pos_tag</th>\n      <th>freq</th>\n    </tr>\n  </thead>\n  <tbody>\n    <tr>\n      <th>6136</th>\n      <td>ვისთან</td>\n      <td>ვინ</td>\n      <td>PP</td>\n      <td>3150</td>\n    </tr>\n    <tr>\n      <th>20282</th>\n      <td>თავისთან</td>\n      <td>თავისი</td>\n      <td>PP</td>\n      <td>1383</td>\n    </tr>\n    <tr>\n      <th>87035</th>\n      <td>ვისთანმე</td>\n      <td>ვინ</td>\n      <td>PP</td>\n      <td>22</td>\n    </tr>\n    <tr>\n      <th>102342</th>\n      <td>თავისთანაც</td>\n      <td>თავისი</td>\n      <td>PP</td>\n      <td>10</td>\n    </tr>\n    <tr>\n      <th>114294</th>\n      <td>უფროსებში</td>\n      <td>უფროსი</td>\n      <td>PP</td>\n      <td>281</td>\n    </tr>\n    <tr>\n      <th>128902</th>\n      <td>მანანასთან</td>\n      <td>მანანა</td>\n      <td>PP</td>\n      <td>31</td>\n    </tr>\n    <tr>\n      <th>133297</th>\n      <td>უფროსებთან</td>\n      <td>უფროსი</td>\n      <td>PP</td>\n      <td>249</td>\n    </tr>\n    <tr>\n      <th>166006</th>\n      <td>უფროსებზე</td>\n      <td>უფროსი</td>\n      <td>PP</td>\n      <td>42</td>\n    </tr>\n    <tr>\n      <th>580018</th>\n      <td>დელისთან</td>\n      <td>დელისი</td>\n      <td>PP</td>\n      <td>52</td>\n    </tr>\n    <tr>\n      <th>625563</th>\n      <td>აღარავისთან</td>\n      <td>აღარავინ</td>\n      <td>PP</td>\n      <td>13</td>\n    </tr>\n    <tr>\n      <th>647273</th>\n      <td>ვერასთან</td>\n      <td>ვერა</td>\n      <td>PP</td>\n      <td>10</td>\n    </tr>\n    <tr>\n      <th>971876</th>\n      <td>კასებზე</td>\n      <td>კასა</td>\n      <td>PP</td>\n      <td>3</td>\n    </tr>\n    <tr>\n      <th>1082405</th>\n      <td>უფროსებშიც</td>\n      <td>უფროსი</td>\n      <td>PP</td>\n      <td>26</td>\n    </tr>\n  </tbody>\n</table>\n</div>"
     },
     "execution_count": 5,
     "metadata": {},
     "output_type": "execute_result"
    }
   ],
   "source": [
    "df.query(\"pos_tag.str.startswith('PP')\")"
   ],
   "metadata": {
    "collapsed": false,
    "ExecuteTime": {
     "end_time": "2023-07-03T17:51:57.231293Z",
     "start_time": "2023-07-03T17:51:56.836713Z"
    }
   }
  },
  {
   "cell_type": "code",
   "execution_count": 6,
   "outputs": [
    {
     "data": {
      "text/plain": "              word        lemma pos_tag  freq\n75115  ურომლისოდაც  ურომლისოდაც   Rel:ც   454",
      "text/html": "<div>\n<style scoped>\n    .dataframe tbody tr th:only-of-type {\n        vertical-align: middle;\n    }\n\n    .dataframe tbody tr th {\n        vertical-align: top;\n    }\n\n    .dataframe thead th {\n        text-align: right;\n    }\n</style>\n<table border=\"1\" class=\"dataframe\">\n  <thead>\n    <tr style=\"text-align: right;\">\n      <th></th>\n      <th>word</th>\n      <th>lemma</th>\n      <th>pos_tag</th>\n      <th>freq</th>\n    </tr>\n  </thead>\n  <tbody>\n    <tr>\n      <th>75115</th>\n      <td>ურომლისოდაც</td>\n      <td>ურომლისოდაც</td>\n      <td>Rel:ც</td>\n      <td>454</td>\n    </tr>\n  </tbody>\n</table>\n</div>"
     },
     "execution_count": 6,
     "metadata": {},
     "output_type": "execute_result"
    }
   ],
   "source": [
    "junk = ['Foreign', 'Unknown', '>XCOMP', 'Symbol', 'Guess', '<MWE>', 'X', 'Punct']\n",
    "# SG -> a LOT. PL -> a LOT.\n",
    "df.query(\"pos_tag == 'Rel:ც'\")"
   ],
   "metadata": {
    "collapsed": false,
    "ExecuteTime": {
     "end_time": "2023-07-03T17:51:57.303291Z",
     "start_time": "2023-07-03T17:51:57.238105Z"
    }
   }
  },
  {
   "cell_type": "code",
   "execution_count": 7,
   "outputs": [
    {
     "data": {
      "text/plain": "pos_tag\n<MWE>              190\n>XCOMP               1\nA               204610\nAbs                  2\nAdv               6181\n                 ...  \nUnknown             15\nUnrecognized        46\nV               407981\nVoc                232\nX                    1\nName: pos_tag, Length: 64, dtype: int64"
     },
     "execution_count": 7,
     "metadata": {},
     "output_type": "execute_result"
    }
   ],
   "source": [
    "df.groupby(by='pos_tag').pos_tag.count()"
   ],
   "metadata": {
    "collapsed": false,
    "ExecuteTime": {
     "end_time": "2023-07-03T17:51:57.395111Z",
     "start_time": "2023-07-03T17:51:57.296225Z"
    }
   }
  },
  {
   "cell_type": "code",
   "execution_count": 8,
   "outputs": [],
   "source": [
    "main_pos = ['N', 'V', 'Adv', 'A', 'Num', 'Pron', 'Cj', 'Interj']"
   ],
   "metadata": {
    "collapsed": false,
    "ExecuteTime": {
     "end_time": "2023-07-03T17:51:57.398635Z",
     "start_time": "2023-07-03T17:51:57.393771Z"
    }
   }
  },
  {
   "cell_type": "code",
   "execution_count": 9,
   "outputs": [],
   "source": [
    "def convert(tag):\n",
    "    try:\n",
    "        return {\"Nom\":\"N\", \"Dat\":\"N\", \"Gen\":\"N\", \"Erg\":\"N\", \"Voc\":\"N\", \"Inst\":\"N\", \"Foc\":\"Adv\"}[tag]\n",
    "    except KeyError:\n",
    "        if tag in main_pos:\n",
    "            return tag\n",
    "        return 'Other'\n",
    "\n",
    "df.pos_tag = df.pos_tag.agg(convert)"
   ],
   "metadata": {
    "collapsed": false,
    "ExecuteTime": {
     "end_time": "2023-07-03T17:51:58.144434Z",
     "start_time": "2023-07-03T17:51:57.400440Z"
    }
   }
  },
  {
   "cell_type": "code",
   "execution_count": 10,
   "outputs": [
    {
     "data": {
      "text/plain": "<Axes: xlabel='word', ylabel='pos_tag'>"
     },
     "execution_count": 10,
     "metadata": {},
     "output_type": "execute_result"
    },
    {
     "data": {
      "text/plain": "<Figure size 1000x1500 with 1 Axes>",
      "image/png": "[encoded data removed]"
     },
     "metadata": {},
     "output_type": "display_data"
    }
   ],
   "source": [
    "plt.figure(figsize=(10, 15))\n",
    "sns.barplot(data=df.groupby(by=\"pos_tag\")[\"word\"].count().reset_index().sort_values(by=\"word\", ascending=False), y=\"pos_tag\", x=\"word\")"
   ],
   "metadata": {
    "collapsed": false,
    "ExecuteTime": {
     "end_time": "2023-07-03T17:51:58.489842Z",
     "start_time": "2023-07-03T17:51:58.147152Z"
    }
   }
  },
  {
   "cell_type": "markdown",
   "source": [
    "## სიტყვის სიგრძეები"
   ],
   "metadata": {
    "collapsed": false
   }
  },
  {
   "cell_type": "code",
   "execution_count": 11,
   "outputs": [
    {
     "data": {
      "text/plain": "                   word     ratio  word_length  lemma_length\n0                    ამ  1.000000            2             2\n1               ზამთრის  1.000000            7             7\n2              მიწურულს  1.000000            8             8\n3               თითქმის  1.000000            7             7\n4        სასოწარკვეთილი  1.000000           14            14\n...                 ...       ...          ...           ...\n1468488  რედაქტორებამდე  1.555556           14             9\n1468489     წაეჩხუბებით  1.571429           11             7\n1468490        აგვწონეს  1.600000            8             5\n1468491     ტორონჯაძისა  1.222222           11             9\n1468492  სეპარატიზმადაა  1.272727           14            11\n\n[1468493 rows x 4 columns]",
      "text/html": "<div>\n<style scoped>\n    .dataframe tbody tr th:only-of-type {\n        vertical-align: middle;\n    }\n\n    .dataframe tbody tr th {\n        vertical-align: top;\n    }\n\n    .dataframe thead th {\n        text-align: right;\n    }\n</style>\n<table border=\"1\" class=\"dataframe\">\n  <thead>\n    <tr style=\"text-align: right;\">\n      <th></th>\n      <th>word</th>\n      <th>ratio</th>\n      <th>word_length</th>\n      <th>lemma_length</th>\n    </tr>\n  </thead>\n  <tbody>\n    <tr>\n      <th>0</th>\n      <td>ამ</td>\n      <td>1.000000</td>\n      <td>2</td>\n      <td>2</td>\n    </tr>\n    <tr>\n      <th>1</th>\n      <td>ზამთრის</td>\n      <td>1.000000</td>\n      <td>7</td>\n      <td>7</td>\n    </tr>\n    <tr>\n      <th>2</th>\n      <td>მიწურულს</td>\n      <td>1.000000</td>\n      <td>8</td>\n      <td>8</td>\n    </tr>\n    <tr>\n      <th>3</th>\n      <td>თითქმის</td>\n      <td>1.000000</td>\n      <td>7</td>\n      <td>7</td>\n    </tr>\n    <tr>\n      <th>4</th>\n      <td>სასოწარკვეთილი</td>\n      <td>1.000000</td>\n      <td>14</td>\n      <td>14</td>\n    </tr>\n    <tr>\n      <th>...</th>\n      <td>...</td>\n      <td>...</td>\n      <td>...</td>\n      <td>...</td>\n    </tr>\n    <tr>\n      <th>1468488</th>\n      <td>რედაქტორებამდე</td>\n      <td>1.555556</td>\n      <td>14</td>\n      <td>9</td>\n    </tr>\n    <tr>\n      <th>1468489</th>\n      <td>წაეჩხუბებით</td>\n      <td>1.571429</td>\n      <td>11</td>\n      <td>7</td>\n    </tr>\n    <tr>\n      <th>1468490</th>\n      <td>აგვწონეს</td>\n      <td>1.600000</td>\n      <td>8</td>\n      <td>5</td>\n    </tr>\n    <tr>\n      <th>1468491</th>\n      <td>ტორონჯაძისა</td>\n      <td>1.222222</td>\n      <td>11</td>\n      <td>9</td>\n    </tr>\n    <tr>\n      <th>1468492</th>\n      <td>სეპარატიზმადაა</td>\n      <td>1.272727</td>\n      <td>14</td>\n      <td>11</td>\n    </tr>\n  </tbody>\n</table>\n<p>1468493 rows × 4 columns</p>\n</div>"
     },
     "execution_count": 11,
     "metadata": {},
     "output_type": "execute_result"
    }
   ],
   "source": [
    "df['word_length'] = df.word.str.len()\n",
    "df['lemma_length'] = df.lemma.str.len()\n",
    "df['ratio'] = df['word_length'] / df['lemma_length']\n",
    "df[['word', 'ratio', 'word_length', 'lemma_length']]"
   ],
   "metadata": {
    "collapsed": false,
    "ExecuteTime": {
     "end_time": "2023-07-03T17:51:59.192437Z",
     "start_time": "2023-07-03T17:51:58.524067Z"
    }
   }
  },
  {
   "cell_type": "code",
   "execution_count": 12,
   "outputs": [
    {
     "name": "stdout",
     "output_type": "stream",
     "text": [
      "max: 44, min: 1\n"
     ]
    },
    {
     "data": {
      "text/plain": "<Axes: xlabel='lemma_length', ylabel='count'>"
     },
     "execution_count": 12,
     "metadata": {},
     "output_type": "execute_result"
    },
    {
     "data": {
      "text/plain": "<Figure size 1000x500 with 1 Axes>",
      "image/png": "[encoded data removed]"
     },
     "metadata": {},
     "output_type": "display_data"
    }
   ],
   "source": [
    "print(f'max: {df[\"lemma_length\"].max()}, min: {df[\"lemma_length\"].min()}')\n",
    "plt.figure(figsize=(10, 5))\n",
    "sns.countplot(data=df, x='lemma_length')"
   ],
   "metadata": {
    "collapsed": false,
    "ExecuteTime": {
     "end_time": "2023-07-03T17:51:59.705351Z",
     "start_time": "2023-07-03T17:51:59.195311Z"
    }
   }
  },
  {
   "cell_type": "code",
   "execution_count": 13,
   "outputs": [
    {
     "data": {
      "text/plain": "0.01     3.0\n0.02     4.0\n0.03     4.0\n0.04     4.0\n0.05     4.0\n        ... \n0.95    13.0\n0.96    13.0\n0.97    14.0\n0.98    14.0\n0.99    15.0\nName: lemma_length, Length: 99, dtype: float64"
     },
     "execution_count": 13,
     "metadata": {},
     "output_type": "execute_result"
    }
   ],
   "source": [
    "df.lemma_length.quantile(q=[ i / 100 for i in range(1, 100)])"
   ],
   "metadata": {
    "collapsed": false,
    "ExecuteTime": {
     "end_time": "2023-07-03T17:51:59.776236Z",
     "start_time": "2023-07-03T17:51:59.708124Z"
    }
   }
  },
  {
   "cell_type": "code",
   "execution_count": 14,
   "outputs": [],
   "source": [
    "df['lemma_length_category'] = pd.qcut(df.lemma_length, [0, 0.33, 0.67, 1], labels=['low', 'medium', 'high'])"
   ],
   "metadata": {
    "collapsed": false,
    "ExecuteTime": {
     "end_time": "2023-07-03T17:51:59.830274Z",
     "start_time": "2023-07-03T17:51:59.756333Z"
    }
   }
  },
  {
   "cell_type": "code",
   "execution_count": 15,
   "outputs": [
    {
     "name": "stdout",
     "output_type": "stream",
     "text": [
      "max: 45, min: 1\n"
     ]
    },
    {
     "data": {
      "text/plain": "<Axes: xlabel='word_length', ylabel='count'>"
     },
     "execution_count": 15,
     "metadata": {},
     "output_type": "execute_result"
    },
    {
     "data": {
      "text/plain": "<Figure size 1000x500 with 1 Axes>",
      "image/png": "[encoded data removed]"
     },
     "metadata": {},
     "output_type": "display_data"
    }
   ],
   "source": [
    "print(f'max: {df[\"word_length\"].max()}, min: {df[\"word_length\"].min()}')\n",
    "plt.figure(figsize=(10, 5))\n",
    "sns.countplot(data=df, x='word_length')"
   ],
   "metadata": {
    "collapsed": false,
    "ExecuteTime": {
     "end_time": "2023-07-03T17:52:00.422780Z",
     "start_time": "2023-07-03T17:51:59.831739Z"
    }
   }
  },
  {
   "cell_type": "code",
   "execution_count": 16,
   "outputs": [],
   "source": [
    "df['word_length_category'] = pd.qcut(df.word_length, [0, 0.33, 0.67, 1], labels=['low', 'medium', 'high'])"
   ],
   "metadata": {
    "collapsed": false,
    "ExecuteTime": {
     "end_time": "2023-07-03T17:52:00.500300Z",
     "start_time": "2023-07-03T17:52:00.424773Z"
    }
   }
  },
  {
   "cell_type": "code",
   "execution_count": 17,
   "outputs": [
    {
     "data": {
      "text/plain": "Text(0.5, 0, '')"
     },
     "execution_count": 17,
     "metadata": {},
     "output_type": "execute_result"
    },
    {
     "data": {
      "text/plain": "<Figure size 1000x500 with 1 Axes>",
      "image/png": "[encoded data removed]"
     },
     "metadata": {},
     "output_type": "display_data"
    }
   ],
   "source": [
    "plt.figure(figsize=(10, 5))\n",
    "sns.countplot(data=df, x='word_length', color='red', alpha=0.7)\n",
    "sns.countplot(data=df, x='lemma_length', color='blue', alpha=0.7)\n",
    "plt.xlabel(\"\")"
   ],
   "metadata": {
    "collapsed": false,
    "ExecuteTime": {
     "end_time": "2023-07-03T17:52:01.059615Z",
     "start_time": "2023-07-03T17:52:00.501153Z"
    }
   }
  },
  {
   "cell_type": "code",
   "execution_count": 18,
   "outputs": [
    {
     "name": "stdout",
     "output_type": "stream",
     "text": [
      "max: 18.0, min: 0.10526315789473684\n"
     ]
    },
    {
     "data": {
      "text/plain": "<Axes: xlabel='ratio', ylabel='Count'>"
     },
     "execution_count": 18,
     "metadata": {},
     "output_type": "execute_result"
    },
    {
     "data": {
      "text/plain": "<Figure size 1000x500 with 1 Axes>",
      "image/png": "[encoded data removed]"
     },
     "metadata": {},
     "output_type": "display_data"
    }
   ],
   "source": [
    "print(f'max: {df[\"ratio\"].max()}, min: {df[\"ratio\"].min()}')\n",
    "plt.figure(figsize=(10, 5))\n",
    "sns.histplot(data=df[df.ratio.between(*list(df.ratio.quantile([.01, .9])))], x='ratio', binwidth=0.2, stat='count')"
   ],
   "metadata": {
    "collapsed": false,
    "ExecuteTime": {
     "end_time": "2023-07-03T17:52:01.699062Z",
     "start_time": "2023-07-03T17:52:01.062228Z"
    }
   }
  },
  {
   "cell_type": "code",
   "execution_count": 19,
   "outputs": [
    {
     "data": {
      "text/plain": "1.2"
     },
     "execution_count": 19,
     "metadata": {},
     "output_type": "execute_result"
    }
   ],
   "source": [
    "df['ratio'].quantile()"
   ],
   "metadata": {
    "collapsed": false,
    "ExecuteTime": {
     "end_time": "2023-07-03T17:52:01.818890Z",
     "start_time": "2023-07-03T17:52:01.697603Z"
    }
   }
  },
  {
   "cell_type": "code",
   "execution_count": 20,
   "outputs": [],
   "source": [
    "conditions = [\n",
    "    df['ratio'] < 1,\n",
    "    df['ratio'] == 1,\n",
    "    df['ratio'] > 1\n",
    "]\n",
    "choices = ['less', 'equal', 'greater']\n",
    "df['ratio_category'] = np.select(conditions, choices)"
   ],
   "metadata": {
    "collapsed": false,
    "ExecuteTime": {
     "end_time": "2023-07-03T17:52:02.084231Z",
     "start_time": "2023-07-03T17:52:01.728108Z"
    }
   }
  },
  {
   "cell_type": "code",
   "execution_count": 21,
   "outputs": [
    {
     "data": {
      "text/plain": "<Axes: xlabel='ratio_category', ylabel='count'>"
     },
     "execution_count": 21,
     "metadata": {},
     "output_type": "execute_result"
    },
    {
     "data": {
      "text/plain": "<Figure size 640x480 with 1 Axes>",
      "image/png": "[encoded data removed]"
     },
     "metadata": {},
     "output_type": "display_data"
    }
   ],
   "source": [
    "sns.countplot(df, x='ratio_category')"
   ],
   "metadata": {
    "collapsed": false,
    "ExecuteTime": {
     "end_time": "2023-07-03T17:52:02.967385Z",
     "start_time": "2023-07-03T17:52:02.120637Z"
    }
   }
  },
  {
   "cell_type": "code",
   "execution_count": 22,
   "outputs": [
    {
     "data": {
      "text/plain": "                   word        lemma pos_tag   freq  word_length  \\\n5               გახლდით        ხლება       V   1689            7   \n7                 ხანია         ხანი       N  24507            5   \n10           ქალიშვილის    ქალიშვილი       N   1485           10   \n11              რახელის        რახელ       N     39            7   \n12           ამხანაგები     ამხანაგი       N    503           10   \n...                 ...          ...     ...    ...          ...   \n1468488  რედაქტორებამდე    რედაქტორი       N      1           14   \n1468489     წაეჩხუბებით      წაჩხუბი       V      1           11   \n1468490        აგვწონეს        აწონა       V      1            8   \n1468491     ტორონჯაძისა    ტორონჯაძე       N      1           11   \n1468492  სეპარატიზმადაა  სეპარატიზმი       N      1           14   \n\n         lemma_length     ratio lemma_length_category word_length_category  \\\n5                   5  1.400000                   low                  low   \n7                   4  1.250000                   low                  low   \n10                  9  1.111111                medium               medium   \n11                  5  1.400000                   low                  low   \n12                  8  1.250000                medium               medium   \n...               ...       ...                   ...                  ...   \n1468488             9  1.555556                medium                 high   \n1468489             7  1.571429                   low               medium   \n1468490             5  1.600000                   low                  low   \n1468491             9  1.222222                medium               medium   \n1468492            11  1.272727                  high                 high   \n\n        ratio_category  \n5              greater  \n7              greater  \n10             greater  \n11             greater  \n12             greater  \n...                ...  \n1468488        greater  \n1468489        greater  \n1468490        greater  \n1468491        greater  \n1468492        greater  \n\n[1135321 rows x 10 columns]",
      "text/html": "<div>\n<style scoped>\n    .dataframe tbody tr th:only-of-type {\n        vertical-align: middle;\n    }\n\n    .dataframe tbody tr th {\n        vertical-align: top;\n    }\n\n    .dataframe thead th {\n        text-align: right;\n    }\n</style>\n<table border=\"1\" class=\"dataframe\">\n  <thead>\n    <tr style=\"text-align: right;\">\n      <th></th>\n      <th>word</th>\n      <th>lemma</th>\n      <th>pos_tag</th>\n      <th>freq</th>\n      <th>word_length</th>\n      <th>lemma_length</th>\n      <th>ratio</th>\n      <th>lemma_length_category</th>\n      <th>word_length_category</th>\n      <th>ratio_category</th>\n    </tr>\n  </thead>\n  <tbody>\n    <tr>\n      <th>5</th>\n      <td>გახლდით</td>\n      <td>ხლება</td>\n      <td>V</td>\n      <td>1689</td>\n      <td>7</td>\n      <td>5</td>\n      <td>1.400000</td>\n      <td>low</td>\n      <td>low</td>\n      <td>greater</td>\n    </tr>\n    <tr>\n      <th>7</th>\n      <td>ხანია</td>\n      <td>ხანი</td>\n      <td>N</td>\n      <td>24507</td>\n      <td>5</td>\n      <td>4</td>\n      <td>1.250000</td>\n      <td>low</td>\n      <td>low</td>\n      <td>greater</td>\n    </tr>\n    <tr>\n      <th>10</th>\n      <td>ქალიშვილის</td>\n      <td>ქალიშვილი</td>\n      <td>N</td>\n      <td>1485</td>\n      <td>10</td>\n      <td>9</td>\n      <td>1.111111</td>\n      <td>medium</td>\n      <td>medium</td>\n      <td>greater</td>\n    </tr>\n    <tr>\n      <th>11</th>\n      <td>რახელის</td>\n      <td>რახელ</td>\n      <td>N</td>\n      <td>39</td>\n      <td>7</td>\n      <td>5</td>\n      <td>1.400000</td>\n      <td>low</td>\n      <td>low</td>\n      <td>greater</td>\n    </tr>\n    <tr>\n      <th>12</th>\n      <td>ამხანაგები</td>\n      <td>ამხანაგი</td>\n      <td>N</td>\n      <td>503</td>\n      <td>10</td>\n      <td>8</td>\n      <td>1.250000</td>\n      <td>medium</td>\n      <td>medium</td>\n      <td>greater</td>\n    </tr>\n    <tr>\n      <th>...</th>\n      <td>...</td>\n      <td>...</td>\n      <td>...</td>\n      <td>...</td>\n      <td>...</td>\n      <td>...</td>\n      <td>...</td>\n      <td>...</td>\n      <td>...</td>\n      <td>...</td>\n    </tr>\n    <tr>\n      <th>1468488</th>\n      <td>რედაქტორებამდე</td>\n      <td>რედაქტორი</td>\n      <td>N</td>\n      <td>1</td>\n      <td>14</td>\n      <td>9</td>\n      <td>1.555556</td>\n      <td>medium</td>\n      <td>high</td>\n      <td>greater</td>\n    </tr>\n    <tr>\n      <th>1468489</th>\n      <td>წაეჩხუბებით</td>\n      <td>წაჩხუბი</td>\n      <td>V</td>\n      <td>1</td>\n      <td>11</td>\n      <td>7</td>\n      <td>1.571429</td>\n      <td>low</td>\n      <td>medium</td>\n      <td>greater</td>\n    </tr>\n    <tr>\n      <th>1468490</th>\n      <td>აგვწონეს</td>\n      <td>აწონა</td>\n      <td>V</td>\n      <td>1</td>\n      <td>8</td>\n      <td>5</td>\n      <td>1.600000</td>\n      <td>low</td>\n      <td>low</td>\n      <td>greater</td>\n    </tr>\n    <tr>\n      <th>1468491</th>\n      <td>ტორონჯაძისა</td>\n      <td>ტორონჯაძე</td>\n      <td>N</td>\n      <td>1</td>\n      <td>11</td>\n      <td>9</td>\n      <td>1.222222</td>\n      <td>medium</td>\n      <td>medium</td>\n      <td>greater</td>\n    </tr>\n    <tr>\n      <th>1468492</th>\n      <td>სეპარატიზმადაა</td>\n      <td>სეპარატიზმი</td>\n      <td>N</td>\n      <td>1</td>\n      <td>14</td>\n      <td>11</td>\n      <td>1.272727</td>\n      <td>high</td>\n      <td>high</td>\n      <td>greater</td>\n    </tr>\n  </tbody>\n</table>\n<p>1135321 rows × 10 columns</p>\n</div>"
     },
     "execution_count": 22,
     "metadata": {},
     "output_type": "execute_result"
    }
   ],
   "source": [
    "df.query('ratio_category == \"greater\"')"
   ],
   "metadata": {
    "collapsed": false,
    "ExecuteTime": {
     "end_time": "2023-07-03T17:52:03.137242Z",
     "start_time": "2023-07-03T17:52:02.950807Z"
    }
   }
  },
  {
   "cell_type": "markdown",
   "source": [
    "## სხვათა სიტყვათა ფორმები"
   ],
   "metadata": {
    "collapsed": false
   }
  },
  {
   "cell_type": "code",
   "execution_count": 23,
   "outputs": [],
   "source": [
    "reported_speech_candidates = df[df.word.str.endswith('ო')].copy()\n",
    "reported_speech_candidates['word'] = reported_speech_candidates.word.str[:-1]\n",
    "reported_speech_candidates = reported_speech_candidates[reported_speech_candidates.word.isin(df.word)]\n",
    "third_person_reported_speech = df.index.isin(reported_speech_candidates[reported_speech_candidates.word.isin(pd.merge(reported_speech_candidates, df, on=['word', 'lemma', 'pos_tag'], how='inner').word)].index)\n",
    "\n",
    "df['reported_speech'] = df.word.str.endswith(('-მეთქი', '-თქო')) | third_person_reported_speech"
   ],
   "metadata": {
    "collapsed": false,
    "ExecuteTime": {
     "end_time": "2023-07-03T17:52:05.576473Z",
     "start_time": "2023-07-03T17:52:03.192404Z"
    }
   }
  },
  {
   "cell_type": "code",
   "execution_count": 24,
   "outputs": [],
   "source": [
    "df['reported_speech'] = df['reported_speech'].astype('str')"
   ],
   "metadata": {
    "collapsed": false,
    "ExecuteTime": {
     "end_time": "2023-07-03T17:52:05.885930Z",
     "start_time": "2023-07-03T17:52:05.582431Z"
    }
   }
  },
  {
   "cell_type": "code",
   "execution_count": 25,
   "outputs": [
    {
     "data": {
      "text/plain": "reported_speech\nFalse    1379994\nTrue       88499\nName: word, dtype: int64"
     },
     "execution_count": 25,
     "metadata": {},
     "output_type": "execute_result"
    }
   ],
   "source": [
    "df.groupby(by='reported_speech').word.count()"
   ],
   "metadata": {
    "collapsed": false,
    "ExecuteTime": {
     "end_time": "2023-07-03T17:52:06.003100Z",
     "start_time": "2023-07-03T17:52:05.901050Z"
    }
   }
  },
  {
   "cell_type": "code",
   "execution_count": 26,
   "outputs": [
    {
     "data": {
      "text/plain": "<Axes: xlabel='reported_speech', ylabel='count'>"
     },
     "execution_count": 26,
     "metadata": {},
     "output_type": "execute_result"
    },
    {
     "data": {
      "text/plain": "<Figure size 640x480 with 1 Axes>",
      "image/png": "[encoded data removed]"
     },
     "metadata": {},
     "output_type": "display_data"
    }
   ],
   "source": [
    "sns.countplot(data=df, x='reported_speech')"
   ],
   "metadata": {
    "collapsed": false,
    "ExecuteTime": {
     "end_time": "2023-07-03T17:52:06.610879Z",
     "start_time": "2023-07-03T17:52:06.100794Z"
    }
   }
  },
  {
   "cell_type": "markdown",
   "source": [
    "## სიხშირეები"
   ],
   "metadata": {
    "collapsed": false
   }
  },
  {
   "cell_type": "code",
   "execution_count": 27,
   "outputs": [
    {
     "data": {
      "text/plain": "0.01       1.0\n0.02       1.0\n0.03       1.0\n0.04       1.0\n0.05       1.0\n         ...  \n0.95     134.0\n0.96     186.0\n0.97     280.0\n0.98     485.0\n0.99    1155.0\nName: freq, Length: 99, dtype: float64"
     },
     "execution_count": 27,
     "metadata": {},
     "output_type": "execute_result"
    }
   ],
   "source": [
    "df.freq.quantile(q=[ i / 100 for i in range(1, 100)])"
   ],
   "metadata": {
    "collapsed": false,
    "ExecuteTime": {
     "end_time": "2023-07-03T17:52:06.676309Z",
     "start_time": "2023-07-03T17:52:06.613432Z"
    }
   }
  },
  {
   "cell_type": "code",
   "execution_count": 28,
   "outputs": [
    {
     "data": {
      "text/plain": "88497"
     },
     "execution_count": 28,
     "metadata": {},
     "output_type": "execute_result"
    }
   ],
   "source": [
    "df.query('freq > 100').shape[0]"
   ],
   "metadata": {
    "collapsed": false,
    "ExecuteTime": {
     "end_time": "2023-07-03T17:52:06.676547Z",
     "start_time": "2023-07-03T17:52:06.642208Z"
    }
   }
  },
  {
   "cell_type": "code",
   "execution_count": 29,
   "outputs": [],
   "source": [
    "df['freq_category'] = pd.qcut(df.freq, [0, 0.5, 0.9, 1], labels=['low', 'medium', 'high'])"
   ],
   "metadata": {
    "collapsed": false,
    "ExecuteTime": {
     "end_time": "2023-07-03T17:52:06.733587Z",
     "start_time": "2023-07-03T17:52:06.666910Z"
    }
   }
  },
  {
   "cell_type": "code",
   "execution_count": 30,
   "outputs": [
    {
     "data": {
      "text/plain": "freq_category\nlow          1.265799\nmedium      10.680539\nhigh      1006.535783\nName: freq, dtype: float64"
     },
     "execution_count": 30,
     "metadata": {},
     "output_type": "execute_result"
    }
   ],
   "source": [
    "df.groupby(by='freq_category').freq.mean()"
   ],
   "metadata": {
    "collapsed": false,
    "ExecuteTime": {
     "end_time": "2023-07-03T17:52:06.753039Z",
     "start_time": "2023-07-03T17:52:06.730810Z"
    }
   }
  },
  {
   "cell_type": "code",
   "execution_count": 31,
   "outputs": [
    {
     "data": {
      "text/plain": "<Axes: xlabel='freq_category', ylabel='count'>"
     },
     "execution_count": 31,
     "metadata": {},
     "output_type": "execute_result"
    },
    {
     "data": {
      "text/plain": "<Figure size 1000x500 with 1 Axes>",
      "image/png": "[encoded data removed]"
     },
     "metadata": {},
     "output_type": "display_data"
    }
   ],
   "source": [
    "plt.figure(figsize=(10, 5))\n",
    "sns.countplot(data=df, x='freq_category')"
   ],
   "metadata": {
    "collapsed": false,
    "pycharm": {
     "name": "#%%\n"
    },
    "ExecuteTime": {
     "end_time": "2023-07-03T17:52:06.905851Z",
     "start_time": "2023-07-03T17:52:06.755944Z"
    }
   }
  },
  {
   "cell_type": "code",
   "execution_count": 32,
   "outputs": [
    {
     "data": {
      "text/plain": "             word           lemma pos_tag     freq  word_length  lemma_length  \\\n0              ამ              ეს    Pron  1041654            2             2   \n1         ზამთრის         ზამთარი       N     8035            7             7   \n2        მიწურულს        მიწურული       N     5976            8             8   \n3         თითქმის         თითქმის     Adv    62608            7             7   \n4  სასოწარკვეთილი  სასოწარკვეთილი       A      844           14            14   \n\n   ratio lemma_length_category word_length_category ratio_category  \\\n0    1.0                   low                  low          equal   \n1    1.0                   low                  low          equal   \n2    1.0                medium                  low          equal   \n3    1.0                   low                  low          equal   \n4    1.0                  high                 high          equal   \n\n  reported_speech freq_category  \n0           False          high  \n1           False          high  \n2           False          high  \n3           False          high  \n4           False          high  ",
      "text/html": "<div>\n<style scoped>\n    .dataframe tbody tr th:only-of-type {\n        vertical-align: middle;\n    }\n\n    .dataframe tbody tr th {\n        vertical-align: top;\n    }\n\n    .dataframe thead th {\n        text-align: right;\n    }\n</style>\n<table border=\"1\" class=\"dataframe\">\n  <thead>\n    <tr style=\"text-align: right;\">\n      <th></th>\n      <th>word</th>\n      <th>lemma</th>\n      <th>pos_tag</th>\n      <th>freq</th>\n      <th>word_length</th>\n      <th>lemma_length</th>\n      <th>ratio</th>\n      <th>lemma_length_category</th>\n      <th>word_length_category</th>\n      <th>ratio_category</th>\n      <th>reported_speech</th>\n      <th>freq_category</th>\n    </tr>\n  </thead>\n  <tbody>\n    <tr>\n      <th>0</th>\n      <td>ამ</td>\n      <td>ეს</td>\n      <td>Pron</td>\n      <td>1041654</td>\n      <td>2</td>\n      <td>2</td>\n      <td>1.0</td>\n      <td>low</td>\n      <td>low</td>\n      <td>equal</td>\n      <td>False</td>\n      <td>high</td>\n    </tr>\n    <tr>\n      <th>1</th>\n      <td>ზამთრის</td>\n      <td>ზამთარი</td>\n      <td>N</td>\n      <td>8035</td>\n      <td>7</td>\n      <td>7</td>\n      <td>1.0</td>\n      <td>low</td>\n      <td>low</td>\n      <td>equal</td>\n      <td>False</td>\n      <td>high</td>\n    </tr>\n    <tr>\n      <th>2</th>\n      <td>მიწურულს</td>\n      <td>მიწურული</td>\n      <td>N</td>\n      <td>5976</td>\n      <td>8</td>\n      <td>8</td>\n      <td>1.0</td>\n      <td>medium</td>\n      <td>low</td>\n      <td>equal</td>\n      <td>False</td>\n      <td>high</td>\n    </tr>\n    <tr>\n      <th>3</th>\n      <td>თითქმის</td>\n      <td>თითქმის</td>\n      <td>Adv</td>\n      <td>62608</td>\n      <td>7</td>\n      <td>7</td>\n      <td>1.0</td>\n      <td>low</td>\n      <td>low</td>\n      <td>equal</td>\n      <td>False</td>\n      <td>high</td>\n    </tr>\n    <tr>\n      <th>4</th>\n      <td>სასოწარკვეთილი</td>\n      <td>სასოწარკვეთილი</td>\n      <td>A</td>\n      <td>844</td>\n      <td>14</td>\n      <td>14</td>\n      <td>1.0</td>\n      <td>high</td>\n      <td>high</td>\n      <td>equal</td>\n      <td>False</td>\n      <td>high</td>\n    </tr>\n  </tbody>\n</table>\n</div>"
     },
     "execution_count": 32,
     "metadata": {},
     "output_type": "execute_result"
    }
   ],
   "source": [
    "df.head()"
   ],
   "metadata": {
    "collapsed": false,
    "ExecuteTime": {
     "end_time": "2023-07-03T17:52:06.920119Z",
     "start_time": "2023-07-03T17:52:06.906227Z"
    }
   }
  },
  {
   "cell_type": "markdown",
   "source": [
    "## ტრეინ / ტესტ დაყოფა"
   ],
   "metadata": {
    "collapsed": false
   }
  },
  {
   "cell_type": "code",
   "execution_count": 36,
   "outputs": [],
   "source": [
    "categories = ['pos_tag', 'freq_category', 'ratio_category', 'reported_speech', 'word_length_category', 'lemma_length_category']\n",
    "classes = df[['pos_tag']]"
   ],
   "metadata": {
    "collapsed": false,
    "ExecuteTime": {
     "end_time": "2023-07-03T17:55:20.815361Z",
     "start_time": "2023-07-03T17:55:20.793241Z"
    }
   }
  },
  {
   "cell_type": "code",
   "execution_count": 37,
   "outputs": [
    {
     "data": {
      "text/plain": "pos_tag  freq_category  ratio_category  reported_speech  word_length_category  lemma_length_category\nA        low            equal           False            low                   low                      3403\n                                                                               medium                   2923\n                                                                               high                        0\n                                                         medium                low                         0\n                                                                               medium                   3661\n                                                                                                        ... \nV        high           less            True             medium                medium                      0\n                                                                               high                        0\n                                                         high                  low                         0\n                                                                               medium                      0\n                                                                               high                        0\nName: word, Length: 1458, dtype: int64"
     },
     "execution_count": 37,
     "metadata": {},
     "output_type": "execute_result"
    }
   ],
   "source": [
    "df.groupby(by=categories).word.count()"
   ],
   "metadata": {
    "collapsed": false,
    "ExecuteTime": {
     "end_time": "2023-07-03T17:55:22.625979Z",
     "start_time": "2023-07-03T17:55:21.950426Z"
    }
   }
  },
  {
   "cell_type": "code",
   "execution_count": 40,
   "outputs": [],
   "source": [
    "train_df, test_df = train_test_split(df, test_size=0.3, stratify=classes, random_state=42)"
   ],
   "metadata": {
    "collapsed": false,
    "ExecuteTime": {
     "end_time": "2023-07-03T17:56:49.287486Z",
     "start_time": "2023-07-03T17:56:45.750192Z"
    }
   }
  },
  {
   "cell_type": "code",
   "execution_count": 47,
   "outputs": [
    {
     "data": {
      "text/plain": "freq_category  ratio_category  reported_speech  word_length_category  lemma_length_category\nlow            equal           False            low                   low                      0.039986\n                                                                      medium                   0.010448\n                                                                      high                     0.000000\n                                                medium                low                      0.000000\n                                                                      medium                   0.009303\n                                                                                                 ...   \nhigh           less            True             medium                medium                   0.000000\n                                                                      high                     0.000000\n                                                high                  low                      0.000000\n                                                                      medium                   0.000000\n                                                                      high                     0.000000\nName: word, Length: 162, dtype: float64"
     },
     "execution_count": 47,
     "metadata": {},
     "output_type": "execute_result"
    }
   ],
   "source": [
    "train_dist = train_df.groupby(by=categories[1:]).word.count() / train_df.word.count()\n",
    "train_dist"
   ],
   "metadata": {
    "collapsed": false,
    "ExecuteTime": {
     "end_time": "2023-07-03T17:59:27.229652Z",
     "start_time": "2023-07-03T17:59:26.793436Z"
    }
   }
  },
  {
   "cell_type": "code",
   "execution_count": 48,
   "outputs": [
    {
     "data": {
      "text/plain": "freq_category  ratio_category  reported_speech  word_length_category  lemma_length_category\nlow            equal           False            low                   low                      0.040252\n                                                                      medium                   0.010646\n                                                                      high                     0.000000\n                                                medium                low                      0.000000\n                                                                      medium                   0.009238\n                                                                                                 ...   \nhigh           less            True             medium                medium                   0.000000\n                                                                      high                     0.000000\n                                                high                  low                      0.000000\n                                                                      medium                   0.000000\n                                                                      high                     0.000000\nName: word, Length: 162, dtype: float64"
     },
     "execution_count": 48,
     "metadata": {},
     "output_type": "execute_result"
    }
   ],
   "source": [
    "test_dist = test_df.groupby(by=categories[1:]).word.count() / test_df.word.count()\n",
    "test_dist"
   ],
   "metadata": {
    "collapsed": false,
    "ExecuteTime": {
     "end_time": "2023-07-03T17:59:27.433801Z",
     "start_time": "2023-07-03T17:59:27.229943Z"
    }
   }
  },
  {
   "cell_type": "code",
   "execution_count": 49,
   "outputs": [
    {
     "data": {
      "text/plain": "freq_category  ratio_category  reported_speech  word_length_category  lemma_length_category\nlow            equal           False            low                   low                      1.006666\n                                                                      medium                   1.018932\n                                                                      high                          NaN\n                                                medium                low                           NaN\n                                                                      medium                   0.993063\n                                                                                                 ...   \nhigh           less            True             medium                medium                        NaN\n                                                                      high                          NaN\n                                                high                  low                           NaN\n                                                                      medium                        NaN\n                                                                      high                          NaN\nName: word, Length: 162, dtype: float64"
     },
     "execution_count": 49,
     "metadata": {},
     "output_type": "execute_result"
    }
   ],
   "source": [
    "test_dist /  train_dist  # კატეგორიებში განაწილებების შეფარდებები"
   ],
   "metadata": {
    "collapsed": false,
    "ExecuteTime": {
     "end_time": "2023-07-03T17:59:27.691687Z",
     "start_time": "2023-07-03T17:59:27.681642Z"
    }
   }
  },
  {
   "cell_type": "code",
   "execution_count": 52,
   "outputs": [],
   "source": [
    "train_set_lemmas = set(train_df.lemma.unique())\n",
    "test_set_lemmas = set(test_df.lemma.unique())"
   ],
   "metadata": {
    "collapsed": false,
    "ExecuteTime": {
     "end_time": "2023-07-03T18:02:13.402934Z",
     "start_time": "2023-07-03T18:02:13.128939Z"
    }
   }
  },
  {
   "cell_type": "code",
   "execution_count": 57,
   "outputs": [
    {
     "name": "stdout",
     "output_type": "stream",
     "text": [
      "Number of lemmas in test set not present in train set: 35663\n",
      "Number of lemmas in train set not present in test set: 97609\n"
     ]
    }
   ],
   "source": [
    "not_in_test = train_set_lemmas - test_set_lemmas\n",
    "not_in_train = test_set_lemmas - train_set_lemmas\n",
    "print(f'Number of lemmas in test set not present in train set: {len(not_in_train)}')\n",
    "print(f'Number of lemmas in train set not present in test set: {len(not_in_test)}')"
   ],
   "metadata": {
    "collapsed": false,
    "ExecuteTime": {
     "end_time": "2023-07-03T18:03:39.798109Z",
     "start_time": "2023-07-03T18:03:39.795934Z"
    }
   }
  },
  {
   "cell_type": "code",
   "execution_count": 60,
   "outputs": [],
   "source": [
    "train_df.to_csv('csv/train.csv')\n",
    "test_df.to_csv('csv/test.csv')"
   ],
   "metadata": {
    "collapsed": false,
    "ExecuteTime": {
     "end_time": "2023-07-03T18:06:54.366842Z",
     "start_time": "2023-07-03T18:06:49.082471Z"
    }
   }
  },
  {
   "cell_type": "code",
   "execution_count": null,
   "outputs": [],
   "source": [],
   "metadata": {
    "collapsed": false
   }
  }
 ],
 "metadata": {
  "kernelspec": {
   "display_name": "Python 3",
   "language": "python",
   "name": "python3"
  },
  "language_info": {
   "codemirror_mode": {
    "name": "ipython",
    "version": 2
   },
   "file_extension": ".py",
   "mimetype": "text/x-python",
   "name": "python",
   "nbconvert_exporter": "python",
   "pygments_lexer": "ipython2",
   "version": "2.7.6"
  }
 },
 "nbformat": 4,
 "nbformat_minor": 0
}
