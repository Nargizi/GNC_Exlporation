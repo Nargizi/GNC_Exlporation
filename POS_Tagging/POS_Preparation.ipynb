{
 "cells": [
  {
   "cell_type": "markdown",
   "source": [
    "# Imports\n",
    "<a id='imports_id'> </a>"
   ],
   "metadata": {
    "collapsed": false
   }
  },
  {
   "cell_type": "code",
   "execution_count": 29,
   "outputs": [],
   "source": [
    "import os\n",
    "\n",
    "import pandas as pd\n",
    "from dataclasses import dataclass, field\n",
    "from typing import TextIO, List\n",
    "from abc import ABC\n",
    "import pyarrow as pa\n",
    "from functools import cached_property"
   ],
   "metadata": {
    "collapsed": false,
    "ExecuteTime": {
     "end_time": "2023-08-03T12:43:44.258659Z",
     "start_time": "2023-08-03T12:43:44.256133Z"
    }
   }
  },
  {
   "cell_type": "code",
   "execution_count": 45,
   "outputs": [],
   "source": [
    "\n",
    "\n",
    "@dataclass\n",
    "class DatabaseParser(ABC):\n",
    "    dest: str\n",
    "    seq_per_csv: int = field(default=100000)\n",
    "\n",
    "\n",
    "    @cached_property\n",
    "    def table_schema(self) -> pa.Schema:\n",
    "        list_str_type = pa.list_(pa.string())\n",
    "        table_schema = pa.schema([\n",
    "            pa.field('init_words', list_str_type),\n",
    "            pa.field('mod_words', list_str_type),\n",
    "            pa.field('pos_tags', list_str_type)])\n",
    "        return table_schema\n",
    "\n",
    "    def __parse_word(self, line: str) -> List[str]:\n",
    "        return line.split()[1:]  # discard word index\n",
    "\n",
    "    def __read_sentence(self, database: TextIO) -> pa.Table:\n",
    "        init_words = []\n",
    "        mod_words = []\n",
    "        pos_tags = []\n",
    "\n",
    "        for i, line in enumerate(database):\n",
    "            if not line[0].isnumeric():\n",
    "                break\n",
    "            init_word, mod_word, pos_tag = self.__parse_word(line)\n",
    "            init_words.append(init_word)\n",
    "            mod_words.append(mod_word)\n",
    "            pos_tags.append(pos_tag)\n",
    "\n",
    "        return pa.Table.from_arrays([[init_words], [mod_words], [pos_tags]], schema=self.table_schema)\n",
    "\n",
    "    def parse(self, database: TextIO) -> None:\n",
    "        sentences = self.__read_sentence(database)\n",
    "        curr: int = 0\n",
    "        part: int = 1\n",
    "        while not database.closed:\n",
    "            curr_sent = self.__read_sentence(database)\n",
    "            curr += 1\n",
    "            if curr == self.seq_per_csv:\n",
    "                sentences.to_pandas(types_mapper=pd.ArrowDtype).to_orc(os.path.join(self.dest, f'sent_{part}.orc'))\n",
    "                sentences = curr_sent\n",
    "                curr = 0\n",
    "                part += 1\n",
    "            else:\n",
    "                sentences = pa.concat_tables([curr_sent, sentences])\n",
    "\n",
    "\n",
    "        sentences.to_pandas(types_mapper=pd.ArrowDtype).to_orc(os.path.join(self.dest, f'sent_{part}.orc'))\n",
    "\n",
    "\n",
    "\n"
   ],
   "metadata": {
    "collapsed": false,
    "ExecuteTime": {
     "end_time": "2023-08-03T16:51:56.130653Z",
     "start_time": "2023-08-03T16:51:56.128613Z"
    }
   }
  },
  {
   "cell_type": "code",
   "execution_count": null,
   "outputs": [],
   "source": [
    "with open('data/SentenceDatabase.txt', 'r') as f:\n",
    "   DatabaseParser('data', 100000).parse(f)\n"
   ],
   "metadata": {
    "collapsed": false,
    "is_executing": true,
    "ExecuteTime": {
     "start_time": "2023-08-03T16:51:57.830080Z"
    }
   }
  },
  {
   "cell_type": "code",
   "execution_count": null,
   "outputs": [],
   "source": [
    "print('Done')"
   ],
   "metadata": {
    "collapsed": false,
    "is_executing": true
   }
  },
  {
   "cell_type": "code",
   "execution_count": null,
   "outputs": [],
   "source": [],
   "metadata": {
    "collapsed": false
   }
  }
 ],
 "metadata": {
  "kernelspec": {
   "display_name": "Python 3",
   "language": "python",
   "name": "python3"
  },
  "language_info": {
   "codemirror_mode": {
    "name": "ipython",
    "version": 2
   },
   "file_extension": ".py",
   "mimetype": "text/x-python",
   "name": "python",
   "nbconvert_exporter": "python",
   "pygments_lexer": "ipython2",
   "version": "2.7.6"
  }
 },
 "nbformat": 4,
 "nbformat_minor": 0
}
