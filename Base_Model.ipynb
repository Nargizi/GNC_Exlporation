{
 "cells": [
  {
   "cell_type": "code",
   "execution_count": 75,
   "metadata": {
    "ExecuteTime": {
     "end_time": "2023-07-18T10:52:58.046599Z",
     "start_time": "2023-07-18T10:52:55.346683Z"
    }
   },
   "outputs": [],
   "source": [
    "import pandas as pd\n",
    "import numpy as np\n",
    "import random\n",
    "\n",
    "import torch\n",
    "import torch.nn as nn\n",
    "import torchtext\n",
    "from torchtext.vocab import build_vocab_from_iterator\n",
    "import torch.nn.functional as F\n",
    "from torch.utils.data import DataLoader, Dataset\n",
    "from torch.nn.utils.rnn import pad_sequence\n",
    "from sklearn.model_selection import train_test_split\n",
    "\n",
    "\n",
    "import itertools\n",
    "\n",
    "from nltk.metrics import distance\n",
    "import seaborn as sns\n",
    "import matplotlib.pyplot as plt\n"
   ]
  },
  {
   "cell_type": "markdown",
   "metadata": {},
   "source": [
    "# Data"
   ]
  },
  {
   "cell_type": "code",
   "execution_count": 2,
   "metadata": {
    "ExecuteTime": {
     "end_time": "2023-07-18T10:52:58.051039Z",
     "start_time": "2023-07-18T10:52:58.049124Z"
    }
   },
   "outputs": [
    {
     "data": {
      "text/plain": [
       "'cuda'"
      ]
     },
     "execution_count": 2,
     "metadata": {},
     "output_type": "execute_result"
    }
   ],
   "source": [
    "device = ('cuda' if torch.cuda.is_available() else 'cpu')\n",
    "device"
   ]
  },
  {
   "cell_type": "code",
   "execution_count": 3,
   "metadata": {
    "ExecuteTime": {
     "end_time": "2023-07-18T10:53:00.645902Z",
     "start_time": "2023-07-18T10:52:58.052483Z"
    }
   },
   "outputs": [
    {
     "data": {
      "text/html": [
       "<div>\n",
       "<style scoped>\n",
       "    .dataframe tbody tr th:only-of-type {\n",
       "        vertical-align: middle;\n",
       "    }\n",
       "\n",
       "    .dataframe tbody tr th {\n",
       "        vertical-align: top;\n",
       "    }\n",
       "\n",
       "    .dataframe thead th {\n",
       "        text-align: right;\n",
       "    }\n",
       "</style>\n",
       "<table border=\"1\" class=\"dataframe\">\n",
       "  <thead>\n",
       "    <tr style=\"text-align: right;\">\n",
       "      <th></th>\n",
       "      <th>Unnamed: 0</th>\n",
       "      <th>word</th>\n",
       "      <th>lemma</th>\n",
       "      <th>pos_tag</th>\n",
       "      <th>freq</th>\n",
       "      <th>word_length</th>\n",
       "      <th>lemma_length</th>\n",
       "      <th>ratio</th>\n",
       "      <th>lemma_length_category</th>\n",
       "      <th>word_length_category</th>\n",
       "      <th>ratio_category</th>\n",
       "      <th>reported_speech</th>\n",
       "      <th>freq_category</th>\n",
       "    </tr>\n",
       "  </thead>\n",
       "  <tbody>\n",
       "    <tr>\n",
       "      <th>0</th>\n",
       "      <td>1104841</td>\n",
       "      <td>მონოზონისა</td>\n",
       "      <td>მონოზონი</td>\n",
       "      <td>N</td>\n",
       "      <td>1</td>\n",
       "      <td>10</td>\n",
       "      <td>8</td>\n",
       "      <td>1.250000</td>\n",
       "      <td>medium</td>\n",
       "      <td>medium</td>\n",
       "      <td>greater</td>\n",
       "      <td>False</td>\n",
       "      <td>low</td>\n",
       "    </tr>\n",
       "    <tr>\n",
       "      <th>1</th>\n",
       "      <td>1260770</td>\n",
       "      <td>სამხრეთიდგან</td>\n",
       "      <td>სამხრეთი</td>\n",
       "      <td>N</td>\n",
       "      <td>1</td>\n",
       "      <td>12</td>\n",
       "      <td>8</td>\n",
       "      <td>1.500000</td>\n",
       "      <td>medium</td>\n",
       "      <td>high</td>\n",
       "      <td>greater</td>\n",
       "      <td>False</td>\n",
       "      <td>low</td>\n",
       "    </tr>\n",
       "    <tr>\n",
       "      <th>2</th>\n",
       "      <td>637615</td>\n",
       "      <td>მოფიქრებაშია</td>\n",
       "      <td>მოფიქრება</td>\n",
       "      <td>N</td>\n",
       "      <td>1</td>\n",
       "      <td>12</td>\n",
       "      <td>9</td>\n",
       "      <td>1.333333</td>\n",
       "      <td>medium</td>\n",
       "      <td>high</td>\n",
       "      <td>greater</td>\n",
       "      <td>False</td>\n",
       "      <td>low</td>\n",
       "    </tr>\n",
       "    <tr>\n",
       "      <th>3</th>\n",
       "      <td>79017</td>\n",
       "      <td>სიდიადეს</td>\n",
       "      <td>სიდიადე</td>\n",
       "      <td>N</td>\n",
       "      <td>209</td>\n",
       "      <td>8</td>\n",
       "      <td>7</td>\n",
       "      <td>1.142857</td>\n",
       "      <td>low</td>\n",
       "      <td>low</td>\n",
       "      <td>greater</td>\n",
       "      <td>False</td>\n",
       "      <td>high</td>\n",
       "    </tr>\n",
       "    <tr>\n",
       "      <th>4</th>\n",
       "      <td>1107010</td>\n",
       "      <td>განგსტერებისათვის</td>\n",
       "      <td>განგსტერი</td>\n",
       "      <td>N</td>\n",
       "      <td>2</td>\n",
       "      <td>17</td>\n",
       "      <td>9</td>\n",
       "      <td>1.888889</td>\n",
       "      <td>medium</td>\n",
       "      <td>high</td>\n",
       "      <td>greater</td>\n",
       "      <td>False</td>\n",
       "      <td>low</td>\n",
       "    </tr>\n",
       "    <tr>\n",
       "      <th>...</th>\n",
       "      <td>...</td>\n",
       "      <td>...</td>\n",
       "      <td>...</td>\n",
       "      <td>...</td>\n",
       "      <td>...</td>\n",
       "      <td>...</td>\n",
       "      <td>...</td>\n",
       "      <td>...</td>\n",
       "      <td>...</td>\n",
       "      <td>...</td>\n",
       "      <td>...</td>\n",
       "      <td>...</td>\n",
       "      <td>...</td>\n",
       "    </tr>\n",
       "    <tr>\n",
       "      <th>956889</th>\n",
       "      <td>485527</td>\n",
       "      <td>ტონგას</td>\n",
       "      <td>ტონგა</td>\n",
       "      <td>N</td>\n",
       "      <td>102</td>\n",
       "      <td>6</td>\n",
       "      <td>5</td>\n",
       "      <td>1.200000</td>\n",
       "      <td>low</td>\n",
       "      <td>low</td>\n",
       "      <td>greater</td>\n",
       "      <td>False</td>\n",
       "      <td>high</td>\n",
       "    </tr>\n",
       "    <tr>\n",
       "      <th>956890</th>\n",
       "      <td>113442</td>\n",
       "      <td>ადენა</td>\n",
       "      <td>ადენა</td>\n",
       "      <td>N</td>\n",
       "      <td>5</td>\n",
       "      <td>5</td>\n",
       "      <td>5</td>\n",
       "      <td>1.000000</td>\n",
       "      <td>low</td>\n",
       "      <td>low</td>\n",
       "      <td>equal</td>\n",
       "      <td>False</td>\n",
       "      <td>medium</td>\n",
       "    </tr>\n",
       "    <tr>\n",
       "      <th>956891</th>\n",
       "      <td>131905</td>\n",
       "      <td>ვრაცხ</td>\n",
       "      <td>*რაცხვა</td>\n",
       "      <td>V</td>\n",
       "      <td>46</td>\n",
       "      <td>5</td>\n",
       "      <td>7</td>\n",
       "      <td>0.714286</td>\n",
       "      <td>low</td>\n",
       "      <td>low</td>\n",
       "      <td>less</td>\n",
       "      <td>False</td>\n",
       "      <td>medium</td>\n",
       "    </tr>\n",
       "    <tr>\n",
       "      <th>956892</th>\n",
       "      <td>1049224</td>\n",
       "      <td>ამოდგომაც</td>\n",
       "      <td>ამოდგომა</td>\n",
       "      <td>N</td>\n",
       "      <td>1</td>\n",
       "      <td>9</td>\n",
       "      <td>8</td>\n",
       "      <td>1.125000</td>\n",
       "      <td>medium</td>\n",
       "      <td>low</td>\n",
       "      <td>greater</td>\n",
       "      <td>False</td>\n",
       "      <td>low</td>\n",
       "    </tr>\n",
       "    <tr>\n",
       "      <th>956893</th>\n",
       "      <td>652185</td>\n",
       "      <td>ცხიმისაგან</td>\n",
       "      <td>ცხიმი</td>\n",
       "      <td>N</td>\n",
       "      <td>8</td>\n",
       "      <td>10</td>\n",
       "      <td>5</td>\n",
       "      <td>2.000000</td>\n",
       "      <td>low</td>\n",
       "      <td>medium</td>\n",
       "      <td>greater</td>\n",
       "      <td>False</td>\n",
       "      <td>medium</td>\n",
       "    </tr>\n",
       "  </tbody>\n",
       "</table>\n",
       "<p>956894 rows × 13 columns</p>\n",
       "</div>"
      ],
      "text/plain": [
       "        Unnamed: 0               word      lemma pos_tag  freq  word_length  \\\n",
       "0          1104841         მონოზონისა   მონოზონი       N     1           10   \n",
       "1          1260770       სამხრეთიდგან   სამხრეთი       N     1           12   \n",
       "2           637615       მოფიქრებაშია  მოფიქრება       N     1           12   \n",
       "3            79017           სიდიადეს    სიდიადე       N   209            8   \n",
       "4          1107010  განგსტერებისათვის  განგსტერი       N     2           17   \n",
       "...            ...                ...        ...     ...   ...          ...   \n",
       "956889      485527             ტონგას      ტონგა       N   102            6   \n",
       "956890      113442              ადენა      ადენა       N     5            5   \n",
       "956891      131905              ვრაცხ    *რაცხვა       V    46            5   \n",
       "956892     1049224          ამოდგომაც   ამოდგომა       N     1            9   \n",
       "956893      652185         ცხიმისაგან      ცხიმი       N     8           10   \n",
       "\n",
       "        lemma_length     ratio lemma_length_category word_length_category  \\\n",
       "0                  8  1.250000                medium               medium   \n",
       "1                  8  1.500000                medium                 high   \n",
       "2                  9  1.333333                medium                 high   \n",
       "3                  7  1.142857                   low                  low   \n",
       "4                  9  1.888889                medium                 high   \n",
       "...              ...       ...                   ...                  ...   \n",
       "956889             5  1.200000                   low                  low   \n",
       "956890             5  1.000000                   low                  low   \n",
       "956891             7  0.714286                   low                  low   \n",
       "956892             8  1.125000                medium                  low   \n",
       "956893             5  2.000000                   low               medium   \n",
       "\n",
       "       ratio_category  reported_speech freq_category  \n",
       "0             greater            False           low  \n",
       "1             greater            False           low  \n",
       "2             greater            False           low  \n",
       "3             greater            False          high  \n",
       "4             greater            False           low  \n",
       "...               ...              ...           ...  \n",
       "956889        greater            False          high  \n",
       "956890          equal            False        medium  \n",
       "956891           less            False        medium  \n",
       "956892        greater            False           low  \n",
       "956893        greater            False        medium  \n",
       "\n",
       "[956894 rows x 13 columns]"
      ]
     },
     "execution_count": 3,
     "metadata": {},
     "output_type": "execute_result"
    }
   ],
   "source": [
    "data = pd.read_csv('csv/train.csv')\n",
    "data"
   ]
  },
  {
   "cell_type": "code",
   "execution_count": 29,
   "metadata": {},
   "outputs": [
    {
     "data": {
      "text/plain": [
       "('მონოზონისა', 'მონოზონი')"
      ]
     },
     "execution_count": 29,
     "metadata": {},
     "output_type": "execute_result"
    }
   ],
   "source": [
    "word, lemma = data.iloc[0]['word'], data.iloc[0]['lemma']\n",
    "word, lemma"
   ]
  },
  {
   "cell_type": "code",
   "execution_count": 59,
   "metadata": {},
   "outputs": [
    {
     "data": {
      "text/plain": [
       "[(0, 0), (1, 1), (2, 2), (3, 3), (3, 4), (4, 5), (5, 5), (6, 5), (7, 5)]"
      ]
     },
     "execution_count": 59,
     "metadata": {},
     "output_type": "execute_result"
    }
   ],
   "source": [
    "distance.edit_distance_align('THATING', 'THZAT')\n",
    "THA_TING\n",
    "THZAT___\n",
    "# def info(word, lemma, distance):\n",
    "    "
   ]
  },
  {
   "cell_type": "code",
   "execution_count": 49,
   "metadata": {},
   "outputs": [
    {
     "name": "stderr",
     "output_type": "stream",
     "text": [
      "C:\\Users\\giorg\\AppData\\Local\\Temp\\ipykernel_36572\\1997906100.py:2: SettingWithCopyWarning: \n",
      "A value is trying to be set on a copy of a slice from a DataFrame.\n",
      "Try using .loc[row_indexer,col_indexer] = value instead\n",
      "\n",
      "See the caveats in the documentation: https://pandas.pydata.org/pandas-docs/stable/user_guide/indexing.html#returning-a-view-versus-a-copy\n",
      "  df['edit_distance'] = df.apply(lambda x: distance.edit_distance(x.word, x.lemma), axis=1)\n"
     ]
    }
   ],
   "source": [
    "data = data[['word', 'lemma']]\n",
    "data['edit_distance'] = df.apply(lambda x: distance.edit_distance(x.word, x.lemma), axis=1)"
   ]
  },
  {
   "cell_type": "code",
   "execution_count": 55,
   "metadata": {},
   "outputs": [
    {
     "data": {
      "text/plain": [
       "<Axes: xlabel='edit_distance', ylabel='count'>"
      ]
     },
     "execution_count": 55,
     "metadata": {},
     "output_type": "execute_result"
    },
    {
     "data": {
      "image/png": "[encoded data removed]",
      "text/plain": [
       "<Figure size 640x480 with 1 Axes>"
      ]
     },
     "metadata": {},
     "output_type": "display_data"
    }
   ],
   "source": [
    "sns.countplot(df, x ='edit_distance')"
   ]
  },
  {
   "cell_type": "code",
   "execution_count": null,
   "metadata": {},
   "outputs": [],
   "source": [
    "def get_insights()"
   ]
  },
  {
   "cell_type": "code",
   "execution_count": 4,
   "metadata": {
    "ExecuteTime": {
     "end_time": "2023-07-18T10:53:01.226549Z",
     "start_time": "2023-07-18T10:53:00.715985Z"
    }
   },
   "outputs": [
    {
     "data": {
      "text/plain": [
       "32"
      ]
     },
     "execution_count": 4,
     "metadata": {},
     "output_type": "execute_result"
    }
   ],
   "source": [
    "MAX_LENGTH = data.word.str.len().max()\n",
    "MAX_LENGTH"
   ]
  },
  {
   "cell_type": "code",
   "execution_count": 5,
   "metadata": {
    "ExecuteTime": {
     "end_time": "2023-07-18T10:53:04.887258Z",
     "start_time": "2023-07-18T10:53:01.225039Z"
    }
   },
   "outputs": [],
   "source": [
    "def get_tokens(t):\n",
    "    yield from list(t)\n",
    "\n",
    "UNK_TOKEN = '<unk>'\n",
    "EOW_TOKEN = '<end>'\n",
    "PAD_TOKEN = '<pad>'\n",
    "SOW_TOKEN = '<start>'\n",
    "\n",
    "vocab = build_vocab_from_iterator(iterator=get_tokens(itertools.chain(data['word'], data['lemma'])),\n",
    "                                  specials=[EOW_TOKEN, UNK_TOKEN, PAD_TOKEN, SOW_TOKEN],\n",
    "                                  special_first=False\n",
    "                                  )\n",
    "vocab.set_default_index(vocab[UNK_TOKEN])\n",
    "\n",
    "def word_to_seq(word: str):\n",
    "    return torch.tensor(vocab(list(word)) + [vocab[EOW_TOKEN]])"
   ]
  },
  {
   "cell_type": "code",
   "execution_count": 241,
   "metadata": {
    "ExecuteTime": {
     "end_time": "2023-07-18T10:53:04.890081Z",
     "start_time": "2023-07-18T10:53:04.888308Z"
    }
   },
   "outputs": [],
   "source": [
    "BATCH_SIZE = 160\n",
    "RANDOM_STATE = 42"
   ]
  },
  {
   "cell_type": "code",
   "execution_count": 242,
   "metadata": {
    "ExecuteTime": {
     "end_time": "2023-07-18T10:53:04.895573Z",
     "start_time": "2023-07-18T10:53:04.893598Z"
    }
   },
   "outputs": [],
   "source": [
    "class LemmaDataSet(Dataset):\n",
    "    def __init__(self, data_frame: pd.DataFrame):\n",
    "        self.data = data_frame\n",
    "\n",
    "    def __len__(self) -> int:\n",
    "        return len(self.data)\n",
    "\n",
    "    def __getitem__(self, idx: int) -> (str, str):\n",
    "        row = self.data.iloc[idx]\n",
    "        return row['word'], row['lemma']\n"
   ]
  },
  {
   "cell_type": "code",
   "execution_count": 243,
   "metadata": {
    "ExecuteTime": {
     "end_time": "2023-07-18T10:53:04.899832Z",
     "start_time": "2023-07-18T10:53:04.898236Z"
    }
   },
   "outputs": [],
   "source": [
    "def coallate_words(batch):\n",
    "    word_list, lemma_list = [], []\n",
    "    for word, lemma in batch:\n",
    "        word_list.append(word_to_seq(word))\n",
    "        lemma_list.append(word_to_seq(word))\n",
    "\n",
    "\n",
    "    return pad_sequence(word_list, batch_first=True, padding_value=vocab[PAD_TOKEN]), pad_sequence(lemma_list, batch_first=True, padding_value=vocab[PAD_TOKEN])"
   ]
  },
  {
   "cell_type": "code",
   "execution_count": 244,
   "metadata": {
    "ExecuteTime": {
     "end_time": "2023-07-18T10:53:05.103Z",
     "start_time": "2023-07-18T10:53:04.903645Z"
    }
   },
   "outputs": [],
   "source": [
    "train_data, val_data = train_test_split(data, random_state=RANDOM_STATE, train_size=0.8, shuffle=True)\n",
    "train_loader = DataLoader(LemmaDataSet(train_data[:160]), batch_size=BATCH_SIZE, shuffle=True, collate_fn=coallate_words, pin_memory=True)\n",
    "val_loader = DataLoader(LemmaDataSet(val_data), batch_size=BATCH_SIZE, shuffle=True, collate_fn=coallate_words)"
   ]
  },
  {
   "cell_type": "markdown",
   "metadata": {},
   "source": [
    "# Model"
   ]
  },
  {
   "cell_type": "code",
   "execution_count": 118,
   "metadata": {
    "ExecuteTime": {
     "end_time": "2023-07-18T10:53:05.109911Z",
     "start_time": "2023-07-18T10:53:05.108424Z"
    }
   },
   "outputs": [],
   "source": [
    "class EncoderRNN(nn.Module):\n",
    "    def __init__(self, vocab_dim, emb_dim,  hidden_dim, num_layers=1):\n",
    "        super(EncoderRNN, self).__init__()\n",
    "\n",
    "        # set dimensions\n",
    "        self.hidden_size = hidden_dim\n",
    "        self.embedding_size = emb_dim\n",
    "        self.vocab_size = vocab_dim\n",
    "        self.num_layers = num_layers\n",
    "\n",
    "        # initialize layers\n",
    "        self.embedding = nn.Embedding(self.vocab_size, self.embedding_size)\n",
    "        self.gru = nn.GRU(self.embedding_size, self.hidden_size, num_layers=self.num_layers, batch_first=True)\n",
    "\n",
    "    def forward(self, input):\n",
    "        embedded = self.embedding(input)\n",
    "        output, hidden = self.gru(embedded)\n",
    "        return output, hidden\n"
   ]
  },
  {
   "cell_type": "code",
   "execution_count": 119,
   "metadata": {
    "ExecuteTime": {
     "end_time": "2023-07-18T10:53:05.115698Z",
     "start_time": "2023-07-18T10:53:05.113926Z"
    }
   },
   "outputs": [],
   "source": [
    "class DecoderRNN(nn.Module):\n",
    "    def __init__(self, emb_dim, hidden_dim, vocab_dim, num_layers=1):\n",
    "        super(DecoderRNN, self).__init__()\n",
    "        # set dimensions\n",
    "        self.hidden_size = hidden_dim\n",
    "        self.embedding_size = emb_dim\n",
    "        self.output_size = vocab_dim\n",
    "        self.num_layers = num_layers\n",
    "\n",
    "        #initialize layers\n",
    "        self.embedding = nn.Embedding(self.output_size, self.hidden_size)\n",
    "        self.gru = nn.GRU(self.hidden_size,self.hidden_size, batch_first=True)\n",
    "        self.out = nn.Linear(self.hidden_size, self.output_size)\n",
    "        self.softmax = nn.LogSoftmax(dim=-1)\n",
    "\n",
    "    def forward(self, input, hidden):\n",
    "        embedding = F.relu(self.embedding(input))\n",
    "        output, hidden = self.gru(embedding, hidden)\n",
    "        pred = self.softmax(self.out(output))\n",
    "        return pred, hidden\n",
    "\n"
   ]
  },
  {
   "cell_type": "code",
   "execution_count": 188,
   "metadata": {
    "ExecuteTime": {
     "end_time": "2023-07-18T10:53:05.136833Z",
     "start_time": "2023-07-18T10:53:05.122130Z"
    }
   },
   "outputs": [],
   "source": [
    "class Seq2Seq(nn.Module):\n",
    "    def __init__(self, encoder, decoder, device='cpu'):\n",
    "        super().__init__()\n",
    "        self.encoder = encoder\n",
    "        self.decoder = decoder\n",
    "#         self.decoder.embedding = self.encoder.embedding  # \n",
    "        self.device = device\n",
    "\n",
    "    def forward(self, source, target=None, teacher_forcing_ratio=0.5):\n",
    "        input_length = source.size(1) \n",
    "        batch_size = source.size(0)\n",
    "        vocab_size = self.encoder.vocab_size\n",
    "\n",
    "        #initialize a variable to hold the predicted outputs\n",
    "        outputs = []\n",
    "\n",
    "        #encode every word in a sentence\n",
    "        for i in range(input_length):\n",
    "            encoder_output, encoder_hidden = self.encoder(source[:, i].unsqueeze(1))\n",
    "\n",
    "        #use the encoder’s hidden layer as the decoder hidden\n",
    "        decoder_hidden = encoder_hidden.to(device)\n",
    "\n",
    "        #add a start_of_the_word token before the first predicted word\n",
    "        decoder_input = torch.empty(batch_size, 1, dtype=torch.long, device=device).fill_(vocab[SOW_TOKEN])\n",
    "\n",
    "        for t in range(target.size(1) if target is not None else MAX_LENGTH):\n",
    "            decoder_output, decoder_hidden = self.decoder(decoder_input, decoder_hidden)\n",
    "            outputs.append(decoder_output)\n",
    "            _, topi = decoder_output.topk(1)\n",
    "            if target is not None and target.size(1) > t:\n",
    "                teacher_force = random.random() < teacher_forcing_ratio\n",
    "                target_input = target[:, t].unsqueeze(1)\n",
    "                decoder_input = (target_input if teacher_force else topi.squeeze(-1).detach())\n",
    "            else:\n",
    "                decoder_input = topi.squeeze(-1).detach()\n",
    "        return torch.cat(outputs, dim=1)\n"
   ]
  },
  {
   "cell_type": "code",
   "execution_count": 237,
   "metadata": {
    "ExecuteTime": {
     "end_time": "2023-07-18T10:53:05.304314Z",
     "start_time": "2023-07-18T10:53:05.126750Z"
    }
   },
   "outputs": [
    {
     "name": "stdout",
     "output_type": "stream",
     "text": [
      "Number of Parameters: 57447\n"
     ]
    }
   ],
   "source": [
    "model = Seq2Seq(EncoderRNN(vocab_dim=len(vocab), emb_dim=64 ,hidden_dim=64).to(device), DecoderRNN(vocab_dim=len(vocab), emb_dim=64, hidden_dim=64).to(device), device=device)\n",
    "print(f'Number of Parameters: {sum(p.numel() for p in model.parameters())}')"
   ]
  },
  {
   "cell_type": "markdown",
   "metadata": {},
   "source": [
    "# Train"
   ]
  },
  {
   "cell_type": "code",
   "execution_count": 238,
   "metadata": {
    "ExecuteTime": {
     "end_time": "2023-07-18T10:53:05.309292Z",
     "start_time": "2023-07-18T10:53:05.307308Z"
    }
   },
   "outputs": [],
   "source": [
    "\n",
    "def train_epoch(dataloader, model, optimizer, criterion):\n",
    "\n",
    "    total_loss = 0\n",
    "    i = 0\n",
    "    for data in dataloader:\n",
    "        input_tensor, target_tensor = data\n",
    "        input_tensor = input_tensor.to(device)\n",
    "        target_tensor = target_tensor.to(device)\n",
    "        \n",
    "        optimizer.zero_grad()\n",
    "\n",
    "        decoder_outputs = model(input_tensor, target_tensor)\n",
    "        \n",
    "        loss = criterion(\n",
    "            decoder_outputs.view(-1, decoder_outputs.size(-1)),\n",
    "            target_tensor.view(-1)\n",
    "        )\n",
    "        loss.backward()\n",
    "\n",
    "        optimizer.step()\n",
    "\n",
    "        total_loss += loss.item()\n",
    "        \n",
    "\n",
    "    return total_loss / len(dataloader)"
   ]
  },
  {
   "cell_type": "code",
   "execution_count": 239,
   "metadata": {
    "ExecuteTime": {
     "end_time": "2023-07-18T10:53:21.971337Z",
     "start_time": "2023-07-18T10:53:21.969028Z"
    }
   },
   "outputs": [],
   "source": [
    "from torch import optim\n",
    "from datetime import datetime\n",
    "\n",
    "def train(train_dataloader, model, n_epochs, learning_rate=0.001,\n",
    "          display_every=1):\n",
    "    \n",
    "    model.train()\n",
    "    \n",
    "    optimizer = optim.Adam(model.parameters(), lr=learning_rate)\n",
    "    criterion = nn.NLLLoss()\n",
    "    \n",
    "    iter_loss = 0\n",
    "    plot_loss = []\n",
    "\n",
    "    start = datetime.now()\n",
    "    for epoch in range(1, n_epochs + 1):\n",
    "        loss = train_epoch(train_dataloader, model, optimizer, criterion)\n",
    "        iter_loss += loss\n",
    "        iter_loss += loss\n",
    "        \n",
    "        if epoch % display_every == 0:\n",
    "            avg = iter_loss / display_every\n",
    "            total = iter_loss\n",
    "            plot_loss.append(avg)\n",
    "            iter_loss = 0\n",
    "            \n",
    "            print(f'Epoch: {epoch}: Train Loss: {total}, AVG Loss: {avg}, Time Elapsed: {(datetime.now() - start).total_seconds() / 60}M')\n",
    "            start = datetime.now()\n",
    "    \n",
    "    torch.save(model.state_dict(), 'base_model.pt')\n",
    "    return model, plot_loss"
   ]
  },
  {
   "cell_type": "code",
   "execution_count": 248,
   "metadata": {
    "ExecuteTime": {
     "end_time": "2023-07-18T10:53:21.978794Z",
     "start_time": "2023-07-18T10:53:21.974010Z"
    }
   },
   "outputs": [
    {
     "name": "stdout",
     "output_type": "stream",
     "text": [
      "Epoch: 1: Train Loss: 1.4483469724655151, AVG Loss: 1.4483469724655151, Time Elapsed: 0.0010869166666666666M\n",
      "Epoch: 2: Train Loss: 1.1971161365509033, AVG Loss: 1.1971161365509033, Time Elapsed: 0.0010943333333333332M\n",
      "Epoch: 3: Train Loss: 1.377764344215393, AVG Loss: 1.377764344215393, Time Elapsed: 0.0011182666666666667M\n",
      "Epoch: 4: Train Loss: 0.826791524887085, AVG Loss: 0.826791524887085, Time Elapsed: 0.00090195M\n",
      "Epoch: 5: Train Loss: 1.0807915925979614, AVG Loss: 1.0807915925979614, Time Elapsed: 0.0009183333333333334M\n",
      "Epoch: 6: Train Loss: 1.4460134506225586, AVG Loss: 1.4460134506225586, Time Elapsed: 0.0008887M\n",
      "Epoch: 7: Train Loss: 2.5393033027648926, AVG Loss: 2.5393033027648926, Time Elapsed: 0.0008858833333333333M\n",
      "Epoch: 8: Train Loss: 0.996245801448822, AVG Loss: 0.996245801448822, Time Elapsed: 0.0006818666666666666M\n",
      "Epoch: 9: Train Loss: 1.1786483526229858, AVG Loss: 1.1786483526229858, Time Elapsed: 0.0007533833333333333M\n",
      "Epoch: 10: Train Loss: 2.3890490531921387, AVG Loss: 2.3890490531921387, Time Elapsed: 0.0008219666666666667M\n",
      "Epoch: 11: Train Loss: 1.125160574913025, AVG Loss: 1.125160574913025, Time Elapsed: 0.0009528333333333333M\n",
      "Epoch: 12: Train Loss: 1.0104902982711792, AVG Loss: 1.0104902982711792, Time Elapsed: 0.0008300833333333334M\n",
      "Epoch: 13: Train Loss: 1.0530481338500977, AVG Loss: 1.0530481338500977, Time Elapsed: 0.0007043666666666666M\n",
      "Epoch: 14: Train Loss: 2.30824875831604, AVG Loss: 2.30824875831604, Time Elapsed: 0.0007716666666666667M\n",
      "Epoch: 15: Train Loss: 1.7110480070114136, AVG Loss: 1.7110480070114136, Time Elapsed: 0.0008380999999999999M\n",
      "Epoch: 16: Train Loss: 2.813786268234253, AVG Loss: 2.813786268234253, Time Elapsed: 0.0007513M\n",
      "Epoch: 17: Train Loss: 0.8634145259857178, AVG Loss: 0.8634145259857178, Time Elapsed: 0.0006526M\n",
      "Epoch: 18: Train Loss: 1.4697026014328003, AVG Loss: 1.4697026014328003, Time Elapsed: 0.00081845M\n",
      "Epoch: 19: Train Loss: 1.04728102684021, AVG Loss: 1.04728102684021, Time Elapsed: 0.0007500333333333334M\n",
      "Epoch: 20: Train Loss: 1.643423318862915, AVG Loss: 1.643423318862915, Time Elapsed: 0.0008197333333333333M\n",
      "Epoch: 21: Train Loss: 1.1306283473968506, AVG Loss: 1.1306283473968506, Time Elapsed: 0.0007291M\n",
      "Epoch: 22: Train Loss: 1.1939053535461426, AVG Loss: 1.1939053535461426, Time Elapsed: 0.0008059333333333334M\n",
      "Epoch: 23: Train Loss: 1.6548246145248413, AVG Loss: 1.6548246145248413, Time Elapsed: 0.0007355M\n",
      "Epoch: 24: Train Loss: 1.7228362560272217, AVG Loss: 1.7228362560272217, Time Elapsed: 0.0007720333333333334M\n",
      "Epoch: 25: Train Loss: 1.664314866065979, AVG Loss: 1.664314866065979, Time Elapsed: 0.00075095M\n",
      "Epoch: 26: Train Loss: 0.9000123143196106, AVG Loss: 0.9000123143196106, Time Elapsed: 0.0006771166666666667M\n",
      "Epoch: 27: Train Loss: 1.3706461191177368, AVG Loss: 1.3706461191177368, Time Elapsed: 0.0007525833333333333M\n",
      "Epoch: 28: Train Loss: 1.5498666763305664, AVG Loss: 1.5498666763305664, Time Elapsed: 0.0008665333333333333M\n",
      "Epoch: 29: Train Loss: 1.3862395286560059, AVG Loss: 1.3862395286560059, Time Elapsed: 0.0008525000000000001M\n",
      "Epoch: 30: Train Loss: 2.8417038917541504, AVG Loss: 2.8417038917541504, Time Elapsed: 0.0007776666666666666M\n",
      "Epoch: 31: Train Loss: 1.3708244562149048, AVG Loss: 1.3708244562149048, Time Elapsed: 0.0007697833333333333M\n",
      "Epoch: 32: Train Loss: 0.8306849002838135, AVG Loss: 0.8306849002838135, Time Elapsed: 0.0008210833333333334M\n",
      "Epoch: 33: Train Loss: 1.2436412572860718, AVG Loss: 1.2436412572860718, Time Elapsed: 0.0007854833333333333M\n",
      "Epoch: 34: Train Loss: 2.9150028228759766, AVG Loss: 2.9150028228759766, Time Elapsed: 0.0006368666666666667M\n",
      "Epoch: 35: Train Loss: 1.622124433517456, AVG Loss: 1.622124433517456, Time Elapsed: 0.0007836000000000001M\n",
      "Epoch: 36: Train Loss: 1.528991460800171, AVG Loss: 1.528991460800171, Time Elapsed: 0.0006898000000000001M\n",
      "Epoch: 37: Train Loss: 2.292490243911743, AVG Loss: 2.292490243911743, Time Elapsed: 0.0007039M\n",
      "Epoch: 38: Train Loss: 1.1428272724151611, AVG Loss: 1.1428272724151611, Time Elapsed: 0.0006525833333333334M\n",
      "Epoch: 39: Train Loss: 0.9848076701164246, AVG Loss: 0.9848076701164246, Time Elapsed: 0.0007227833333333333M\n",
      "Epoch: 40: Train Loss: 1.0300465822219849, AVG Loss: 1.0300465822219849, Time Elapsed: 0.0007041166666666667M\n",
      "Epoch: 41: Train Loss: 1.543050765991211, AVG Loss: 1.543050765991211, Time Elapsed: 0.0008047333333333333M\n",
      "Epoch: 42: Train Loss: 1.0391416549682617, AVG Loss: 1.0391416549682617, Time Elapsed: 0.0006696M\n",
      "Epoch: 43: Train Loss: 1.1052409410476685, AVG Loss: 1.1052409410476685, Time Elapsed: 0.0006665666666666667M\n",
      "Epoch: 44: Train Loss: 1.3215358257293701, AVG Loss: 1.3215358257293701, Time Elapsed: 0.0006679M\n",
      "Epoch: 45: Train Loss: 1.6294958591461182, AVG Loss: 1.6294958591461182, Time Elapsed: 0.0009195833333333333M\n",
      "Epoch: 46: Train Loss: 1.7891703844070435, AVG Loss: 1.7891703844070435, Time Elapsed: 0.0007028166666666666M\n",
      "Epoch: 47: Train Loss: 1.028064250946045, AVG Loss: 1.028064250946045, Time Elapsed: 0.0007559666666666667M\n",
      "Epoch: 48: Train Loss: 1.022373080253601, AVG Loss: 1.022373080253601, Time Elapsed: 0.0007819666666666667M\n",
      "Epoch: 49: Train Loss: 1.2957526445388794, AVG Loss: 1.2957526445388794, Time Elapsed: 0.0008346166666666667M\n",
      "Epoch: 50: Train Loss: 2.0543406009674072, AVG Loss: 2.0543406009674072, Time Elapsed: 0.0007043333333333333M\n",
      "Epoch: 51: Train Loss: 1.2245957851409912, AVG Loss: 1.2245957851409912, Time Elapsed: 0.0007731M\n",
      "Epoch: 52: Train Loss: 1.3299239873886108, AVG Loss: 1.3299239873886108, Time Elapsed: 0.0006992333333333333M\n",
      "Epoch: 53: Train Loss: 1.8147832155227661, AVG Loss: 1.8147832155227661, Time Elapsed: 0.0007690333333333334M\n",
      "Epoch: 54: Train Loss: 1.051945686340332, AVG Loss: 1.051945686340332, Time Elapsed: 0.0006757666666666666M\n",
      "Epoch: 55: Train Loss: 2.4675769805908203, AVG Loss: 2.4675769805908203, Time Elapsed: 0.0007005833333333333M\n",
      "Epoch: 56: Train Loss: 1.935707449913025, AVG Loss: 1.935707449913025, Time Elapsed: 0.00067095M\n",
      "Epoch: 57: Train Loss: 1.3005515336990356, AVG Loss: 1.3005515336990356, Time Elapsed: 0.0007652000000000001M\n",
      "Epoch: 58: Train Loss: 2.9910545349121094, AVG Loss: 2.9910545349121094, Time Elapsed: 0.0009302000000000001M\n",
      "Epoch: 59: Train Loss: 1.8528573513031006, AVG Loss: 1.8528573513031006, Time Elapsed: 0.00073325M\n",
      "Epoch: 60: Train Loss: 1.97447669506073, AVG Loss: 1.97447669506073, Time Elapsed: 0.0007333333333333333M\n",
      "Epoch: 61: Train Loss: 1.2496846914291382, AVG Loss: 1.2496846914291382, Time Elapsed: 0.0008058833333333333M\n",
      "Epoch: 62: Train Loss: 2.9794812202453613, AVG Loss: 2.9794812202453613, Time Elapsed: 0.0008182166666666666M\n",
      "Epoch: 63: Train Loss: 1.028028130531311, AVG Loss: 1.028028130531311, Time Elapsed: 0.0006520833333333333M\n",
      "Epoch: 64: Train Loss: 1.4852310419082642, AVG Loss: 1.4852310419082642, Time Elapsed: 0.0007373166666666667M\n",
      "Epoch: 65: Train Loss: 1.397097110748291, AVG Loss: 1.397097110748291, Time Elapsed: 0.0009002999999999999M\n",
      "Epoch: 66: Train Loss: 0.9671746492385864, AVG Loss: 0.9671746492385864, Time Elapsed: 0.0008197333333333333M\n",
      "Epoch: 67: Train Loss: 2.1788368225097656, AVG Loss: 2.1788368225097656, Time Elapsed: 0.0007832166666666666M\n",
      "Epoch: 68: Train Loss: 1.6605130434036255, AVG Loss: 1.6605130434036255, Time Elapsed: 0.0008209500000000001M\n",
      "Epoch: 69: Train Loss: 1.9161419868469238, AVG Loss: 1.9161419868469238, Time Elapsed: 0.0006576166666666666M\n",
      "Epoch: 70: Train Loss: 0.9638897180557251, AVG Loss: 0.9638897180557251, Time Elapsed: 0.00085365M\n",
      "Epoch: 71: Train Loss: 1.5644750595092773, AVG Loss: 1.5644750595092773, Time Elapsed: 0.0006686166666666667M\n",
      "Epoch: 72: Train Loss: 1.9501022100448608, AVG Loss: 1.9501022100448608, Time Elapsed: 0.0007303833333333333M\n",
      "Epoch: 73: Train Loss: 1.3783100843429565, AVG Loss: 1.3783100843429565, Time Elapsed: 0.0006890666666666666M\n",
      "Epoch: 74: Train Loss: 2.5682332515716553, AVG Loss: 2.5682332515716553, Time Elapsed: 0.0007845166666666667M\n",
      "Epoch: 75: Train Loss: 1.3344688415527344, AVG Loss: 1.3344688415527344, Time Elapsed: 0.0007235333333333333M\n",
      "Epoch: 76: Train Loss: 2.1028127670288086, AVG Loss: 2.1028127670288086, Time Elapsed: 0.0007821000000000001M\n",
      "Epoch: 77: Train Loss: 0.9680091738700867, AVG Loss: 0.9680091738700867, Time Elapsed: 0.0007204333333333333M\n",
      "Epoch: 78: Train Loss: 1.0600751638412476, AVG Loss: 1.0600751638412476, Time Elapsed: 0.0006372833333333334M\n",
      "Epoch: 79: Train Loss: 0.9014626741409302, AVG Loss: 0.9014626741409302, Time Elapsed: 0.0007099166666666666M\n"
     ]
    },
    {
     "name": "stdout",
     "output_type": "stream",
     "text": [
      "Epoch: 80: Train Loss: 2.5377652645111084, AVG Loss: 2.5377652645111084, Time Elapsed: 0.0007098M\n",
      "Epoch: 81: Train Loss: 1.5126286745071411, AVG Loss: 1.5126286745071411, Time Elapsed: 0.0008642833333333334M\n",
      "Epoch: 82: Train Loss: 1.6352704763412476, AVG Loss: 1.6352704763412476, Time Elapsed: 0.0007687166666666667M\n",
      "Epoch: 83: Train Loss: 0.9755211472511292, AVG Loss: 0.9755211472511292, Time Elapsed: 0.00080535M\n",
      "Epoch: 84: Train Loss: 1.2885831594467163, AVG Loss: 1.2885831594467163, Time Elapsed: 0.0010216166666666667M\n",
      "Epoch: 85: Train Loss: 1.1124615669250488, AVG Loss: 1.1124615669250488, Time Elapsed: 0.00090105M\n",
      "Epoch: 86: Train Loss: 1.2041096687316895, AVG Loss: 1.2041096687316895, Time Elapsed: 0.0007962333333333333M\n",
      "Epoch: 87: Train Loss: 2.8738510608673096, AVG Loss: 2.8738510608673096, Time Elapsed: 0.0006672833333333333M\n",
      "Epoch: 88: Train Loss: 2.372429847717285, AVG Loss: 2.372429847717285, Time Elapsed: 0.0007042166666666667M\n",
      "Epoch: 89: Train Loss: 1.9735069274902344, AVG Loss: 1.9735069274902344, Time Elapsed: 0.0008332333333333333M\n",
      "Epoch: 90: Train Loss: 1.8126254081726074, AVG Loss: 1.8126254081726074, Time Elapsed: 0.00085175M\n",
      "Epoch: 91: Train Loss: 1.3711848258972168, AVG Loss: 1.3711848258972168, Time Elapsed: 0.0008805166666666667M\n",
      "Epoch: 92: Train Loss: 1.8787111043930054, AVG Loss: 1.8787111043930054, Time Elapsed: 0.0007729999999999999M\n",
      "Epoch: 93: Train Loss: 1.0816450119018555, AVG Loss: 1.0816450119018555, Time Elapsed: 0.0007673666666666667M\n",
      "Epoch: 94: Train Loss: 1.1518323421478271, AVG Loss: 1.1518323421478271, Time Elapsed: 0.0007778166666666667M\n",
      "Epoch: 95: Train Loss: 0.8960131406784058, AVG Loss: 0.8960131406784058, Time Elapsed: 0.0009341M\n",
      "Epoch: 96: Train Loss: 1.7916579246520996, AVG Loss: 1.7916579246520996, Time Elapsed: 0.0010153666666666667M\n",
      "Epoch: 97: Train Loss: 1.6081867218017578, AVG Loss: 1.6081867218017578, Time Elapsed: 0.0007373M\n",
      "Epoch: 98: Train Loss: 1.500650405883789, AVG Loss: 1.500650405883789, Time Elapsed: 0.0008283166666666667M\n",
      "Epoch: 99: Train Loss: 2.083635091781616, AVG Loss: 2.083635091781616, Time Elapsed: 0.0008115166666666666M\n",
      "Epoch: 100: Train Loss: 1.2561556100845337, AVG Loss: 1.2561556100845337, Time Elapsed: 0.0009690833333333334M\n",
      "Epoch: 101: Train Loss: 0.8564346432685852, AVG Loss: 0.8564346432685852, Time Elapsed: 0.0008688833333333334M\n",
      "Epoch: 102: Train Loss: 2.5947554111480713, AVG Loss: 2.5947554111480713, Time Elapsed: 0.0008091333333333333M\n",
      "Epoch: 103: Train Loss: 1.241044044494629, AVG Loss: 1.241044044494629, Time Elapsed: 0.0007904333333333334M\n",
      "Epoch: 104: Train Loss: 1.1434309482574463, AVG Loss: 1.1434309482574463, Time Elapsed: 0.00068435M\n",
      "Epoch: 105: Train Loss: 0.8898624777793884, AVG Loss: 0.8898624777793884, Time Elapsed: 0.0007557166666666667M\n",
      "Epoch: 106: Train Loss: 2.257568359375, AVG Loss: 2.257568359375, Time Elapsed: 0.0007499833333333333M\n",
      "Epoch: 107: Train Loss: 1.8041701316833496, AVG Loss: 1.8041701316833496, Time Elapsed: 0.0008307166666666666M\n",
      "Epoch: 108: Train Loss: 0.9270521998405457, AVG Loss: 0.9270521998405457, Time Elapsed: 0.0007168M\n",
      "Epoch: 109: Train Loss: 1.7602002620697021, AVG Loss: 1.7602002620697021, Time Elapsed: 0.0006678166666666666M\n",
      "Epoch: 110: Train Loss: 2.7108802795410156, AVG Loss: 2.7108802795410156, Time Elapsed: 0.0006208499999999999M\n",
      "Epoch: 111: Train Loss: 1.346886396408081, AVG Loss: 1.346886396408081, Time Elapsed: 0.0006829333333333333M\n",
      "Epoch: 112: Train Loss: 2.053334951400757, AVG Loss: 2.053334951400757, Time Elapsed: 0.0008017333333333334M\n",
      "Epoch: 113: Train Loss: 1.433593988418579, AVG Loss: 1.433593988418579, Time Elapsed: 0.0008507833333333334M\n",
      "Epoch: 114: Train Loss: 2.0247161388397217, AVG Loss: 2.0247161388397217, Time Elapsed: 0.0007390333333333333M\n",
      "Epoch: 115: Train Loss: 0.8817283511161804, AVG Loss: 0.8817283511161804, Time Elapsed: 0.0009192333333333334M\n",
      "Epoch: 116: Train Loss: 1.5389671325683594, AVG Loss: 1.5389671325683594, Time Elapsed: 0.0007524166666666666M\n",
      "Epoch: 117: Train Loss: 1.1395158767700195, AVG Loss: 1.1395158767700195, Time Elapsed: 0.00071675M\n",
      "Epoch: 118: Train Loss: 0.9695215225219727, AVG Loss: 0.9695215225219727, Time Elapsed: 0.0006690499999999999M\n",
      "Epoch: 119: Train Loss: 2.1409997940063477, AVG Loss: 2.1409997940063477, Time Elapsed: 0.0006683M\n",
      "Epoch: 120: Train Loss: 1.80118989944458, AVG Loss: 1.80118989944458, Time Elapsed: 0.00092505M\n",
      "Epoch: 121: Train Loss: 0.8822624087333679, AVG Loss: 0.8822624087333679, Time Elapsed: 0.0007368166666666666M\n",
      "Epoch: 122: Train Loss: 1.0361089706420898, AVG Loss: 1.0361089706420898, Time Elapsed: 0.0006507166666666667M\n",
      "Epoch: 123: Train Loss: 0.8130313158035278, AVG Loss: 0.8130313158035278, Time Elapsed: 0.0006832833333333333M\n",
      "Epoch: 124: Train Loss: 0.8184995055198669, AVG Loss: 0.8184995055198669, Time Elapsed: 0.0006904833333333334M\n",
      "Epoch: 125: Train Loss: 1.467704176902771, AVG Loss: 1.467704176902771, Time Elapsed: 0.00073525M\n",
      "Epoch: 126: Train Loss: 1.5486438274383545, AVG Loss: 1.5486438274383545, Time Elapsed: 0.0007214666666666667M\n",
      "Epoch: 127: Train Loss: 3.492530107498169, AVG Loss: 3.492530107498169, Time Elapsed: 0.00085285M\n",
      "Epoch: 128: Train Loss: 1.1091222763061523, AVG Loss: 1.1091222763061523, Time Elapsed: 0.0008798833333333333M\n",
      "Epoch: 129: Train Loss: 1.3886405229568481, AVG Loss: 1.3886405229568481, Time Elapsed: 0.0007877333333333334M\n",
      "Epoch: 130: Train Loss: 0.8499761819839478, AVG Loss: 0.8499761819839478, Time Elapsed: 0.00073765M\n",
      "Epoch: 131: Train Loss: 1.1358544826507568, AVG Loss: 1.1358544826507568, Time Elapsed: 0.0007212833333333333M\n",
      "Epoch: 132: Train Loss: 1.5730897188186646, AVG Loss: 1.5730897188186646, Time Elapsed: 0.00073485M\n",
      "Epoch: 133: Train Loss: 1.8650308847427368, AVG Loss: 1.8650308847427368, Time Elapsed: 0.0007016833333333333M\n",
      "Epoch: 134: Train Loss: 1.3944892883300781, AVG Loss: 1.3944892883300781, Time Elapsed: 0.0007901166666666666M\n",
      "Epoch: 135: Train Loss: 1.8032511472702026, AVG Loss: 1.8032511472702026, Time Elapsed: 0.0009714666666666667M\n",
      "Epoch: 136: Train Loss: 1.2475340366363525, AVG Loss: 1.2475340366363525, Time Elapsed: 0.0006552833333333333M\n",
      "Epoch: 137: Train Loss: 1.399126648902893, AVG Loss: 1.399126648902893, Time Elapsed: 0.0008042M\n",
      "Epoch: 138: Train Loss: 0.9794600605964661, AVG Loss: 0.9794600605964661, Time Elapsed: 0.0007771333333333334M\n",
      "Epoch: 139: Train Loss: 1.2410920858383179, AVG Loss: 1.2410920858383179, Time Elapsed: 0.0007833333333333334M\n",
      "Epoch: 140: Train Loss: 1.111919641494751, AVG Loss: 1.111919641494751, Time Elapsed: 0.0008088666666666666M\n",
      "Epoch: 141: Train Loss: 2.1043357849121094, AVG Loss: 2.1043357849121094, Time Elapsed: 0.00084555M\n",
      "Epoch: 142: Train Loss: 1.8807071447372437, AVG Loss: 1.8807071447372437, Time Elapsed: 0.0007500166666666667M\n",
      "Epoch: 143: Train Loss: 0.8234561681747437, AVG Loss: 0.8234561681747437, Time Elapsed: 0.0007053333333333334M\n",
      "Epoch: 144: Train Loss: 1.155731439590454, AVG Loss: 1.155731439590454, Time Elapsed: 0.0007057833333333333M\n",
      "Epoch: 145: Train Loss: 1.53690767288208, AVG Loss: 1.53690767288208, Time Elapsed: 0.0007187M\n",
      "Epoch: 146: Train Loss: 2.242130756378174, AVG Loss: 2.242130756378174, Time Elapsed: 0.0007259833333333333M\n",
      "Epoch: 147: Train Loss: 1.3263236284255981, AVG Loss: 1.3263236284255981, Time Elapsed: 0.0007024833333333333M\n",
      "Epoch: 148: Train Loss: 0.9530882835388184, AVG Loss: 0.9530882835388184, Time Elapsed: 0.0007155000000000001M\n",
      "Epoch: 149: Train Loss: 0.8230788707733154, AVG Loss: 0.8230788707733154, Time Elapsed: 0.0010263666666666667M\n",
      "Epoch: 150: Train Loss: 1.480075716972351, AVG Loss: 1.480075716972351, Time Elapsed: 0.0009732666666666667M\n",
      "Epoch: 151: Train Loss: 1.0185692310333252, AVG Loss: 1.0185692310333252, Time Elapsed: 0.0006895666666666667M\n",
      "Epoch: 152: Train Loss: 1.520001769065857, AVG Loss: 1.520001769065857, Time Elapsed: 0.0008574499999999999M\n",
      "Epoch: 153: Train Loss: 1.3372865915298462, AVG Loss: 1.3372865915298462, Time Elapsed: 0.0008035666666666667M\n",
      "Epoch: 154: Train Loss: 2.4068541526794434, AVG Loss: 2.4068541526794434, Time Elapsed: 0.0006537M\n",
      "Epoch: 155: Train Loss: 1.4752510786056519, AVG Loss: 1.4752510786056519, Time Elapsed: 0.00108M\n",
      "Epoch: 156: Train Loss: 2.0959672927856445, AVG Loss: 2.0959672927856445, Time Elapsed: 0.0007789333333333334M\n",
      "Epoch: 157: Train Loss: 1.802531123161316, AVG Loss: 1.802531123161316, Time Elapsed: 0.0007938333333333333M\n",
      "Epoch: 158: Train Loss: 1.7303355932235718, AVG Loss: 1.7303355932235718, Time Elapsed: 0.0006598333333333333M\n",
      "Epoch: 159: Train Loss: 1.9251983165740967, AVG Loss: 1.9251983165740967, Time Elapsed: 0.0009853666666666666M\n"
     ]
    },
    {
     "name": "stdout",
     "output_type": "stream",
     "text": [
      "Epoch: 160: Train Loss: 1.3345646858215332, AVG Loss: 1.3345646858215332, Time Elapsed: 0.00123175M\n",
      "Epoch: 161: Train Loss: 1.7368907928466797, AVG Loss: 1.7368907928466797, Time Elapsed: 0.0010454833333333332M\n",
      "Epoch: 162: Train Loss: 0.9769609570503235, AVG Loss: 0.9769609570503235, Time Elapsed: 0.0007192666666666666M\n",
      "Epoch: 163: Train Loss: 0.8889138698577881, AVG Loss: 0.8889138698577881, Time Elapsed: 0.000822M\n",
      "Epoch: 164: Train Loss: 1.602464199066162, AVG Loss: 1.602464199066162, Time Elapsed: 0.0008000333333333334M\n",
      "Epoch: 165: Train Loss: 0.8870993852615356, AVG Loss: 0.8870993852615356, Time Elapsed: 0.0007547000000000001M\n",
      "Epoch: 166: Train Loss: 0.9452052712440491, AVG Loss: 0.9452052712440491, Time Elapsed: 0.0009368833333333333M\n",
      "Epoch: 167: Train Loss: 1.7271782159805298, AVG Loss: 1.7271782159805298, Time Elapsed: 0.0008016166666666666M\n",
      "Epoch: 168: Train Loss: 1.2823901176452637, AVG Loss: 1.2823901176452637, Time Elapsed: 0.00064935M\n",
      "Epoch: 169: Train Loss: 1.8422504663467407, AVG Loss: 1.8422504663467407, Time Elapsed: 0.0007062333333333334M\n",
      "Epoch: 170: Train Loss: 1.9830783605575562, AVG Loss: 1.9830783605575562, Time Elapsed: 0.0006629666666666667M\n",
      "Epoch: 171: Train Loss: 1.4836909770965576, AVG Loss: 1.4836909770965576, Time Elapsed: 0.00071875M\n",
      "Epoch: 172: Train Loss: 2.5984103679656982, AVG Loss: 2.5984103679656982, Time Elapsed: 0.0008398833333333333M\n",
      "Epoch: 173: Train Loss: 2.4065134525299072, AVG Loss: 2.4065134525299072, Time Elapsed: 0.0007361166666666666M\n",
      "Epoch: 174: Train Loss: 2.102207899093628, AVG Loss: 2.102207899093628, Time Elapsed: 0.0008062666666666667M\n",
      "Epoch: 175: Train Loss: 2.7337520122528076, AVG Loss: 2.7337520122528076, Time Elapsed: 0.00091575M\n",
      "Epoch: 176: Train Loss: 1.6345603466033936, AVG Loss: 1.6345603466033936, Time Elapsed: 0.0007137833333333333M\n",
      "Epoch: 177: Train Loss: 0.8064987063407898, AVG Loss: 0.8064987063407898, Time Elapsed: 0.0007236333333333333M\n",
      "Epoch: 178: Train Loss: 1.288491129875183, AVG Loss: 1.288491129875183, Time Elapsed: 0.0008683166666666667M\n",
      "Epoch: 179: Train Loss: 1.5559978485107422, AVG Loss: 1.5559978485107422, Time Elapsed: 0.0007219666666666667M\n",
      "Epoch: 180: Train Loss: 0.8793380856513977, AVG Loss: 0.8793380856513977, Time Elapsed: 0.0008028833333333334M\n",
      "Epoch: 181: Train Loss: 1.2096149921417236, AVG Loss: 1.2096149921417236, Time Elapsed: 0.0007214166666666666M\n",
      "Epoch: 182: Train Loss: 1.1391069889068604, AVG Loss: 1.1391069889068604, Time Elapsed: 0.0006285833333333333M\n",
      "Epoch: 183: Train Loss: 1.5232206583023071, AVG Loss: 1.5232206583023071, Time Elapsed: 0.0006510666666666667M\n",
      "Epoch: 184: Train Loss: 2.388061046600342, AVG Loss: 2.388061046600342, Time Elapsed: 0.0008702M\n",
      "Epoch: 185: Train Loss: 1.8365387916564941, AVG Loss: 1.8365387916564941, Time Elapsed: 0.0007665833333333333M\n",
      "Epoch: 186: Train Loss: 1.9796476364135742, AVG Loss: 1.9796476364135742, Time Elapsed: 0.0007519166666666667M\n",
      "Epoch: 187: Train Loss: 0.9725815057754517, AVG Loss: 0.9725815057754517, Time Elapsed: 0.0006693M\n",
      "Epoch: 188: Train Loss: 2.0449230670928955, AVG Loss: 2.0449230670928955, Time Elapsed: 0.0007857833333333333M\n",
      "Epoch: 189: Train Loss: 1.8751994371414185, AVG Loss: 1.8751994371414185, Time Elapsed: 0.0006668M\n",
      "Epoch: 190: Train Loss: 1.0075186491012573, AVG Loss: 1.0075186491012573, Time Elapsed: 0.000584M\n",
      "Epoch: 191: Train Loss: 0.8629905581474304, AVG Loss: 0.8629905581474304, Time Elapsed: 0.0006885333333333333M\n",
      "Epoch: 192: Train Loss: 1.571476936340332, AVG Loss: 1.571476936340332, Time Elapsed: 0.0006693833333333333M\n",
      "Epoch: 193: Train Loss: 1.0354777574539185, AVG Loss: 1.0354777574539185, Time Elapsed: 0.0007510666666666666M\n",
      "Epoch: 194: Train Loss: 1.2817151546478271, AVG Loss: 1.2817151546478271, Time Elapsed: 0.0007510333333333333M\n",
      "Epoch: 195: Train Loss: 1.1904466152191162, AVG Loss: 1.1904466152191162, Time Elapsed: 0.0008684M\n",
      "Epoch: 196: Train Loss: 1.5719406604766846, AVG Loss: 1.5719406604766846, Time Elapsed: 0.00074125M\n",
      "Epoch: 197: Train Loss: 2.7259202003479004, AVG Loss: 2.7259202003479004, Time Elapsed: 0.0008021166666666667M\n",
      "Epoch: 198: Train Loss: 1.1084144115447998, AVG Loss: 1.1084144115447998, Time Elapsed: 0.00072215M\n",
      "Epoch: 199: Train Loss: 1.167292594909668, AVG Loss: 1.167292594909668, Time Elapsed: 0.0006436833333333334M\n",
      "Epoch: 200: Train Loss: 1.2578845024108887, AVG Loss: 1.2578845024108887, Time Elapsed: 0.0006685166666666667M\n"
     ]
    }
   ],
   "source": [
    "model, graph = train(train_loader, model.to(device), 200, learning_rate=0.0001)"
   ]
  },
  {
   "cell_type": "code",
   "execution_count": 249,
   "metadata": {},
   "outputs": [
    {
     "data": {
      "image/png": "[encoded data removed]",
      "text/plain": [
       "<Figure size 640x480 with 1 Axes>"
      ]
     },
     "metadata": {},
     "output_type": "display_data"
    }
   ],
   "source": [
    "sns.lineplot(graph, label='Train')\n",
    "plt.xlabel('Epoch')\n",
    "plt.ylabel('Avg. Loss')\n",
    "plt.show()"
   ]
  },
  {
   "cell_type": "code",
   "execution_count": 227,
   "metadata": {
    "ExecuteTime": {
     "end_time": "2023-07-18T10:53:21.980400Z",
     "start_time": "2023-07-18T10:53:21.977128Z"
    }
   },
   "outputs": [],
   "source": [
    "source, target = next(iter(train_loader))\n",
    "pred = model(source.to(device), target.to(device)).argmax(dim=1)"
   ]
  },
  {
   "cell_type": "code",
   "execution_count": 228,
   "metadata": {},
   "outputs": [
    {
     "data": {
      "text/plain": [
       "(torch.Size([16, 16]), torch.Size([16, 16]), torch.Size([16, 39]))"
      ]
     },
     "execution_count": 228,
     "metadata": {},
     "output_type": "execute_result"
    }
   ],
   "source": [
    "source.size(), target.size(), pred.size()"
   ]
  },
  {
   "cell_type": "code",
   "execution_count": 229,
   "metadata": {},
   "outputs": [
    {
     "data": {
      "text/plain": [
       "['ფ',\n",
       " 'ო',\n",
       " 'ტ',\n",
       " 'ო',\n",
       " 'გ',\n",
       " 'რ',\n",
       " 'ა',\n",
       " 'ფ',\n",
       " 'ი',\n",
       " 'ა',\n",
       " 'მ',\n",
       " 'დ',\n",
       " 'ე',\n",
       " 'ც',\n",
       " '<end>',\n",
       " '<pad>']"
      ]
     },
     "execution_count": 229,
     "metadata": {},
     "output_type": "execute_result"
    }
   ],
   "source": [
    "[vocab.get_itos()[i] for i in source[0]]"
   ]
  },
  {
   "cell_type": "code",
   "execution_count": 230,
   "metadata": {},
   "outputs": [
    {
     "data": {
      "text/plain": [
       "['ო',\n",
       " 'ს',\n",
       " 'ი',\n",
       " 'ს',\n",
       " 'რ',\n",
       " 'ბ',\n",
       " 'ა',\n",
       " 'გ',\n",
       " 'ლ',\n",
       " 'ბ',\n",
       " 'ნ',\n",
       " 'ა',\n",
       " 'მ',\n",
       " 'ე',\n",
       " 'მ',\n",
       " 'ო',\n",
       " 'ა',\n",
       " 'ვ',\n",
       " 'რ',\n",
       " 'რ',\n",
       " 'ე',\n",
       " 'ს',\n",
       " 'ე',\n",
       " 'ა',\n",
       " 'ა',\n",
       " 'რ',\n",
       " 'ა',\n",
       " 'მ',\n",
       " 'ნ',\n",
       " 'ა',\n",
       " 'რ',\n",
       " 'ა',\n",
       " 'ა',\n",
       " 'რ',\n",
       " 'ა',\n",
       " 'თ',\n",
       " 'ა',\n",
       " 'უ',\n",
       " 'ა']"
      ]
     },
     "execution_count": 230,
     "metadata": {},
     "output_type": "execute_result"
    }
   ],
   "source": [
    "[vocab.get_itos()[i] for i in pred[0]]"
   ]
  },
  {
   "cell_type": "code",
   "execution_count": 134,
   "metadata": {},
   "outputs": [
    {
     "data": {
      "text/plain": [
       "['ლ',\n",
       " 'ა',\n",
       " 'დ',\n",
       " 'ო',\n",
       " 'ს',\n",
       " 'გ',\n",
       " 'ა',\n",
       " 'ნ',\n",
       " '<end>',\n",
       " '<pad>',\n",
       " '<pad>',\n",
       " '<pad>',\n",
       " '<pad>',\n",
       " '<pad>',\n",
       " '<pad>']"
      ]
     },
     "execution_count": 134,
     "metadata": {},
     "output_type": "execute_result"
    }
   ],
   "source": [
    "[vocab.get_itos()[i] for i in target[0]]"
   ]
  },
  {
   "cell_type": "code",
   "execution_count": null,
   "metadata": {},
   "outputs": [],
   "source": [
    "vocab.get_itos()"
   ]
  },
  {
   "cell_type": "code",
   "execution_count": 155,
   "metadata": {},
   "outputs": [
    {
     "data": {
      "text/plain": [
       "(tensor([0, 3, 2]),\n",
       " tensor([[ 0.8605, -0.8043,  0.9290,  0.2762,  1.3111],\n",
       "         [-1.5824, -0.3551,  0.5694, -0.5948, -0.9864],\n",
       "         [-0.2881, -0.2128,  0.2438, -1.0952, -0.5630]], requires_grad=True))"
      ]
     },
     "execution_count": 155,
     "metadata": {},
     "output_type": "execute_result"
    }
   ],
   "source": []
  },
  {
   "cell_type": "code",
   "execution_count": null,
   "metadata": {},
   "outputs": [],
   "source": []
  }
 ],
 "metadata": {
  "kernelspec": {
   "display_name": "Python 3 (ipykernel)",
   "language": "python",
   "name": "python3"
  },
  "language_info": {
   "codemirror_mode": {
    "name": "ipython",
    "version": 3
   },
   "file_extension": ".py",
   "mimetype": "text/x-python",
   "name": "python",
   "nbconvert_exporter": "python",
   "pygments_lexer": "ipython3",
   "version": "3.11.3"
  }
 },
 "nbformat": 4,
 "nbformat_minor": 1
}
