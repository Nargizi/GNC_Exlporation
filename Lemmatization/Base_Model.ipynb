{
 "cells": [
  {
   "cell_type": "code",
   "execution_count": 1,
   "metadata": {
    "ExecuteTime": {
     "end_time": "2023-07-18T10:52:58.046599Z",
     "start_time": "2023-07-18T10:52:55.346683Z"
    }
   },
   "outputs": [],
   "source": [
    "import pandas as pd\n",
    "import numpy as np\n",
    "import random\n",
    "\n",
    "import torch\n",
    "import torch.nn as nn\n",
    "import torchtext\n",
    "from torchtext.vocab import build_vocab_from_iterator\n",
    "import torch.nn.functional as F\n",
    "from torch.utils.data import DataLoader, Dataset\n",
    "from torch.nn.utils.rnn import pad_sequence\n",
    "from sklearn.model_selection import train_test_split\n",
    "\n",
    "\n",
    "import itertools\n",
    "\n",
    "from nltk.metrics import distance\n",
    "import seaborn as sns\n",
    "import matplotlib.pyplot as plt\n"
   ]
  },
  {
   "cell_type": "markdown",
   "metadata": {},
   "source": [
    "# Data"
   ]
  },
  {
   "cell_type": "code",
   "execution_count": 2,
   "metadata": {
    "ExecuteTime": {
     "end_time": "2023-07-18T10:52:58.051039Z",
     "start_time": "2023-07-18T10:52:58.049124Z"
    }
   },
   "outputs": [
    {
     "data": {
      "text/plain": [
       "'cpu'"
      ]
     },
     "execution_count": 2,
     "metadata": {},
     "output_type": "execute_result"
    }
   ],
   "source": [
    "device = ('cuda' if torch.cuda.is_available() else 'cpu')\n",
    "device"
   ]
  },
  {
   "cell_type": "code",
   "execution_count": 3,
   "metadata": {
    "ExecuteTime": {
     "end_time": "2023-07-18T10:53:00.645902Z",
     "start_time": "2023-07-18T10:52:58.052483Z"
    }
   },
   "outputs": [
    {
     "data": {
      "text/html": [
       "<div>\n",
       "<style scoped>\n",
       "    .dataframe tbody tr th:only-of-type {\n",
       "        vertical-align: middle;\n",
       "    }\n",
       "\n",
       "    .dataframe tbody tr th {\n",
       "        vertical-align: top;\n",
       "    }\n",
       "\n",
       "    .dataframe thead th {\n",
       "        text-align: right;\n",
       "    }\n",
       "</style>\n",
       "<table border=\"1\" class=\"dataframe\">\n",
       "  <thead>\n",
       "    <tr style=\"text-align: right;\">\n",
       "      <th></th>\n",
       "      <th>Unnamed: 0</th>\n",
       "      <th>word</th>\n",
       "      <th>lemma</th>\n",
       "      <th>pos_tag</th>\n",
       "      <th>freq</th>\n",
       "      <th>word_length</th>\n",
       "      <th>lemma_length</th>\n",
       "      <th>ratio</th>\n",
       "      <th>lemma_length_category</th>\n",
       "      <th>word_length_category</th>\n",
       "      <th>ratio_category</th>\n",
       "      <th>reported_speech</th>\n",
       "      <th>freq_category</th>\n",
       "    </tr>\n",
       "  </thead>\n",
       "  <tbody>\n",
       "    <tr>\n",
       "      <th>0</th>\n",
       "      <td>1104841</td>\n",
       "      <td>მონოზონისა</td>\n",
       "      <td>მონოზონი</td>\n",
       "      <td>N</td>\n",
       "      <td>1</td>\n",
       "      <td>10</td>\n",
       "      <td>8</td>\n",
       "      <td>1.250000</td>\n",
       "      <td>medium</td>\n",
       "      <td>medium</td>\n",
       "      <td>greater</td>\n",
       "      <td>False</td>\n",
       "      <td>low</td>\n",
       "    </tr>\n",
       "    <tr>\n",
       "      <th>1</th>\n",
       "      <td>1260770</td>\n",
       "      <td>სამხრეთიდგან</td>\n",
       "      <td>სამხრეთი</td>\n",
       "      <td>N</td>\n",
       "      <td>1</td>\n",
       "      <td>12</td>\n",
       "      <td>8</td>\n",
       "      <td>1.500000</td>\n",
       "      <td>medium</td>\n",
       "      <td>high</td>\n",
       "      <td>greater</td>\n",
       "      <td>False</td>\n",
       "      <td>low</td>\n",
       "    </tr>\n",
       "    <tr>\n",
       "      <th>2</th>\n",
       "      <td>637615</td>\n",
       "      <td>მოფიქრებაშია</td>\n",
       "      <td>მოფიქრება</td>\n",
       "      <td>N</td>\n",
       "      <td>1</td>\n",
       "      <td>12</td>\n",
       "      <td>9</td>\n",
       "      <td>1.333333</td>\n",
       "      <td>medium</td>\n",
       "      <td>high</td>\n",
       "      <td>greater</td>\n",
       "      <td>False</td>\n",
       "      <td>low</td>\n",
       "    </tr>\n",
       "    <tr>\n",
       "      <th>3</th>\n",
       "      <td>79017</td>\n",
       "      <td>სიდიადეს</td>\n",
       "      <td>სიდიადე</td>\n",
       "      <td>N</td>\n",
       "      <td>209</td>\n",
       "      <td>8</td>\n",
       "      <td>7</td>\n",
       "      <td>1.142857</td>\n",
       "      <td>low</td>\n",
       "      <td>low</td>\n",
       "      <td>greater</td>\n",
       "      <td>False</td>\n",
       "      <td>high</td>\n",
       "    </tr>\n",
       "    <tr>\n",
       "      <th>4</th>\n",
       "      <td>1107010</td>\n",
       "      <td>განგსტერებისათვის</td>\n",
       "      <td>განგსტერი</td>\n",
       "      <td>N</td>\n",
       "      <td>2</td>\n",
       "      <td>17</td>\n",
       "      <td>9</td>\n",
       "      <td>1.888889</td>\n",
       "      <td>medium</td>\n",
       "      <td>high</td>\n",
       "      <td>greater</td>\n",
       "      <td>False</td>\n",
       "      <td>low</td>\n",
       "    </tr>\n",
       "    <tr>\n",
       "      <th>...</th>\n",
       "      <td>...</td>\n",
       "      <td>...</td>\n",
       "      <td>...</td>\n",
       "      <td>...</td>\n",
       "      <td>...</td>\n",
       "      <td>...</td>\n",
       "      <td>...</td>\n",
       "      <td>...</td>\n",
       "      <td>...</td>\n",
       "      <td>...</td>\n",
       "      <td>...</td>\n",
       "      <td>...</td>\n",
       "      <td>...</td>\n",
       "    </tr>\n",
       "    <tr>\n",
       "      <th>956889</th>\n",
       "      <td>485527</td>\n",
       "      <td>ტონგას</td>\n",
       "      <td>ტონგა</td>\n",
       "      <td>N</td>\n",
       "      <td>102</td>\n",
       "      <td>6</td>\n",
       "      <td>5</td>\n",
       "      <td>1.200000</td>\n",
       "      <td>low</td>\n",
       "      <td>low</td>\n",
       "      <td>greater</td>\n",
       "      <td>False</td>\n",
       "      <td>high</td>\n",
       "    </tr>\n",
       "    <tr>\n",
       "      <th>956890</th>\n",
       "      <td>113442</td>\n",
       "      <td>ადენა</td>\n",
       "      <td>ადენა</td>\n",
       "      <td>N</td>\n",
       "      <td>5</td>\n",
       "      <td>5</td>\n",
       "      <td>5</td>\n",
       "      <td>1.000000</td>\n",
       "      <td>low</td>\n",
       "      <td>low</td>\n",
       "      <td>equal</td>\n",
       "      <td>False</td>\n",
       "      <td>medium</td>\n",
       "    </tr>\n",
       "    <tr>\n",
       "      <th>956891</th>\n",
       "      <td>131905</td>\n",
       "      <td>ვრაცხ</td>\n",
       "      <td>*რაცხვა</td>\n",
       "      <td>V</td>\n",
       "      <td>46</td>\n",
       "      <td>5</td>\n",
       "      <td>7</td>\n",
       "      <td>0.714286</td>\n",
       "      <td>low</td>\n",
       "      <td>low</td>\n",
       "      <td>less</td>\n",
       "      <td>False</td>\n",
       "      <td>medium</td>\n",
       "    </tr>\n",
       "    <tr>\n",
       "      <th>956892</th>\n",
       "      <td>1049224</td>\n",
       "      <td>ამოდგომაც</td>\n",
       "      <td>ამოდგომა</td>\n",
       "      <td>N</td>\n",
       "      <td>1</td>\n",
       "      <td>9</td>\n",
       "      <td>8</td>\n",
       "      <td>1.125000</td>\n",
       "      <td>medium</td>\n",
       "      <td>low</td>\n",
       "      <td>greater</td>\n",
       "      <td>False</td>\n",
       "      <td>low</td>\n",
       "    </tr>\n",
       "    <tr>\n",
       "      <th>956893</th>\n",
       "      <td>652185</td>\n",
       "      <td>ცხიმისაგან</td>\n",
       "      <td>ცხიმი</td>\n",
       "      <td>N</td>\n",
       "      <td>8</td>\n",
       "      <td>10</td>\n",
       "      <td>5</td>\n",
       "      <td>2.000000</td>\n",
       "      <td>low</td>\n",
       "      <td>medium</td>\n",
       "      <td>greater</td>\n",
       "      <td>False</td>\n",
       "      <td>medium</td>\n",
       "    </tr>\n",
       "  </tbody>\n",
       "</table>\n",
       "<p>956894 rows × 13 columns</p>\n",
       "</div>"
      ],
      "text/plain": [
       "        Unnamed: 0               word      lemma pos_tag  freq  word_length  \\\n",
       "0          1104841         მონოზონისა   მონოზონი       N     1           10   \n",
       "1          1260770       სამხრეთიდგან   სამხრეთი       N     1           12   \n",
       "2           637615       მოფიქრებაშია  მოფიქრება       N     1           12   \n",
       "3            79017           სიდიადეს    სიდიადე       N   209            8   \n",
       "4          1107010  განგსტერებისათვის  განგსტერი       N     2           17   \n",
       "...            ...                ...        ...     ...   ...          ...   \n",
       "956889      485527             ტონგას      ტონგა       N   102            6   \n",
       "956890      113442              ადენა      ადენა       N     5            5   \n",
       "956891      131905              ვრაცხ    *რაცხვა       V    46            5   \n",
       "956892     1049224          ამოდგომაც   ამოდგომა       N     1            9   \n",
       "956893      652185         ცხიმისაგან      ცხიმი       N     8           10   \n",
       "\n",
       "        lemma_length     ratio lemma_length_category word_length_category  \\\n",
       "0                  8  1.250000                medium               medium   \n",
       "1                  8  1.500000                medium                 high   \n",
       "2                  9  1.333333                medium                 high   \n",
       "3                  7  1.142857                   low                  low   \n",
       "4                  9  1.888889                medium                 high   \n",
       "...              ...       ...                   ...                  ...   \n",
       "956889             5  1.200000                   low                  low   \n",
       "956890             5  1.000000                   low                  low   \n",
       "956891             7  0.714286                   low                  low   \n",
       "956892             8  1.125000                medium                  low   \n",
       "956893             5  2.000000                   low               medium   \n",
       "\n",
       "       ratio_category  reported_speech freq_category  \n",
       "0             greater            False           low  \n",
       "1             greater            False           low  \n",
       "2             greater            False           low  \n",
       "3             greater            False          high  \n",
       "4             greater            False           low  \n",
       "...               ...              ...           ...  \n",
       "956889        greater            False          high  \n",
       "956890          equal            False        medium  \n",
       "956891           less            False        medium  \n",
       "956892        greater            False           low  \n",
       "956893        greater            False        medium  \n",
       "\n",
       "[956894 rows x 13 columns]"
      ]
     },
     "execution_count": 3,
     "metadata": {},
     "output_type": "execute_result"
    }
   ],
   "source": [
    "data = pd.read_csv('csv/train.csv')\n",
    "data"
   ]
  },
  {
   "cell_type": "code",
   "execution_count": 4,
   "metadata": {},
   "outputs": [
    {
     "data": {
      "text/plain": [
       "('მონოზონისა', 'მონოზონი')"
      ]
     },
     "execution_count": 4,
     "metadata": {},
     "output_type": "execute_result"
    }
   ],
   "source": [
    "word, lemma = data.iloc[0]['word'], data.iloc[0]['lemma']\n",
    "word, lemma"
   ]
  },
  {
   "cell_type": "code",
   "execution_count": 10,
   "metadata": {},
   "outputs": [
    {
     "data": {
      "text/plain": [
       "[(0, 0), (1, 1), (2, 2), (2, 3), (2, 4), (2, 5)]"
      ]
     },
     "execution_count": 218,
     "metadata": {},
     "output_type": "execute_result"
    }
   ],
   "source": [
    "distance.edit_distance_align('ეს', 'ესეთი')"
   ]
  },
  {
   "cell_type": "code",
   "execution_count": 219,
   "metadata": {},
   "outputs": [
    {
     "name": "stderr",
     "output_type": "stream",
     "text": [
      "/var/tmp/ipykernel_22626/957830015.py:2: SettingWithCopyWarning: \n",
      "A value is trying to be set on a copy of a slice from a DataFrame.\n",
      "Try using .loc[row_indexer,col_indexer] = value instead\n",
      "\n",
      "See the caveats in the documentation: https://pandas.pydata.org/pandas-docs/stable/user_guide/indexing.html#returning-a-view-versus-a-copy\n",
      "  data['edit_distance'] = data.apply(lambda x: distance.edit_distance(x.word, x.lemma), axis=1)\n"
     ]
    }
   ],
   "source": [
    "data = data[['word', 'lemma']]\n",
    "data['edit_distance'] = data.apply(lambda x: distance.edit_distance(x.word, x.lemma), axis=1)"
   ]
  },
  {
   "cell_type": "code",
   "execution_count": 220,
   "metadata": {},
   "outputs": [
    {
     "data": {
      "text/plain": [
       "<Axes: xlabel='edit_distance', ylabel='count'>"
      ]
     },
     "execution_count": 220,
     "metadata": {},
     "output_type": "execute_result"
    },
    {
     "data": {
      "image/png": "[encoded data removed]",
      "text/plain": [
       "<Figure size 640x480 with 1 Axes>"
      ]
     },
     "metadata": {},
     "output_type": "display_data"
    }
   ],
   "source": [
    "sns.countplot(data, x ='edit_distance')"
   ]
  },
  {
   "cell_type": "code",
   "execution_count": 5,
   "metadata": {
    "ExecuteTime": {
     "end_time": "2023-07-18T10:53:01.226549Z",
     "start_time": "2023-07-18T10:53:00.715985Z"
    }
   },
   "outputs": [
    {
     "data": {
      "text/plain": [
       "32"
      ]
     },
     "execution_count": 5,
     "metadata": {},
     "output_type": "execute_result"
    }
   ],
   "source": [
    "MAX_LENGTH = data.word.str.len().max()\n",
    "MAX_LENGTH"
   ]
  },
  {
   "cell_type": "code",
   "execution_count": 196,
   "metadata": {
    "ExecuteTime": {
     "end_time": "2023-07-18T10:53:04.887258Z",
     "start_time": "2023-07-18T10:53:01.225039Z"
    }
   },
   "outputs": [],
   "source": [
    "def get_tokens(t):\n",
    "    yield from list(t)\n",
    "\n",
    "UNK_TOKEN = '<unk>'\n",
    "EOW_TOKEN = '<end>'\n",
    "PAD_TOKEN = '<pad>'\n",
    "SOW_TOKEN = '<start>'\n",
    "\n",
    "vocab = build_vocab_from_iterator(iterator=get_tokens(itertools.chain(data['word'], data['lemma'])),\n",
    "                                  specials=[EOW_TOKEN, UNK_TOKEN, PAD_TOKEN, SOW_TOKEN],\n",
    "                                  special_first=False\n",
    "                                  )\n",
    "vocab.set_default_index(vocab[UNK_TOKEN])\n",
    "\n",
    "def word_to_seq(word: str):\n",
    "    return torch.tensor(vocab(list(word)) + [vocab[EOW_TOKEN]])"
   ]
  },
  {
   "cell_type": "code",
   "execution_count": 197,
   "metadata": {
    "ExecuteTime": {
     "end_time": "2023-07-18T10:53:04.890081Z",
     "start_time": "2023-07-18T10:53:04.888308Z"
    }
   },
   "outputs": [],
   "source": [
    "BATCH_SIZE = 128\n",
    "RANDOM_STATE = 42"
   ]
  },
  {
   "cell_type": "code",
   "execution_count": 198,
   "metadata": {
    "ExecuteTime": {
     "end_time": "2023-07-18T10:53:04.895573Z",
     "start_time": "2023-07-18T10:53:04.893598Z"
    }
   },
   "outputs": [],
   "source": [
    "class LemmaDataSet(Dataset):\n",
    "    def __init__(self, data_frame: pd.DataFrame):\n",
    "        self.data = data_frame\n",
    "\n",
    "    def __len__(self) -> int:\n",
    "        return len(self.data)\n",
    "\n",
    "    def __getitem__(self, idx: int) -> (str, str):\n",
    "        row = self.data.iloc[idx]\n",
    "        return row['word'], row['lemma']\n"
   ]
  },
  {
   "cell_type": "code",
   "execution_count": 209,
   "metadata": {
    "ExecuteTime": {
     "end_time": "2023-07-18T10:53:04.899832Z",
     "start_time": "2023-07-18T10:53:04.898236Z"
    }
   },
   "outputs": [],
   "source": [
    "def coallate_words(batch):\n",
    "    word_list, lemma_list = [torch.zeros(MAX_LENGTH, dtype=torch.int64)], [torch.zeros(MAX_LENGTH, dtype=torch.int64)]\n",
    "    for word, lemma in batch:\n",
    "        word_list.append(word_to_seq(word))\n",
    "        lemma_list.append(word_to_seq(lemma))\n",
    "\n",
    "\n",
    "    return pad_sequence(word_list, batch_first=True, padding_value=vocab[PAD_TOKEN])[1:], pad_sequence(lemma_list, batch_first=True, padding_value=vocab[PAD_TOKEN])[1:]"
   ]
  },
  {
   "cell_type": "code",
   "execution_count": 210,
   "metadata": {
    "ExecuteTime": {
     "end_time": "2023-07-18T10:53:05.103Z",
     "start_time": "2023-07-18T10:53:04.903645Z"
    }
   },
   "outputs": [],
   "source": [
    "train_data, val_data = train_test_split(data, random_state=RANDOM_STATE, train_size=0.8, shuffle=True)\n",
    "train_loader = DataLoader(LemmaDataSet(train_data), batch_size=BATCH_SIZE, shuffle=True, collate_fn=coallate_words, pin_memory=True)\n",
    "val_loader = DataLoader(LemmaDataSet(val_data), batch_size=BATCH_SIZE, shuffle=True, collate_fn=coallate_words, pin_memory=True)"
   ]
  },
  {
   "cell_type": "markdown",
   "metadata": {},
   "source": [
    "# Model"
   ]
  },
  {
   "cell_type": "code",
   "execution_count": 211,
   "metadata": {
    "ExecuteTime": {
     "end_time": "2023-07-18T10:53:05.109911Z",
     "start_time": "2023-07-18T10:53:05.108424Z"
    }
   },
   "outputs": [],
   "source": [
    "class EncoderRNN(nn.Module):\n",
    "    def __init__(self, vocab_dim, emb_dim,  hidden_dim, num_layers=1):\n",
    "        super(EncoderRNN, self).__init__()\n",
    "\n",
    "        # set dimensions\n",
    "        self.hidden_size = hidden_dim\n",
    "        self.embedding_size = emb_dim\n",
    "        self.vocab_size = vocab_dim\n",
    "        self.num_layers = num_layers\n",
    "\n",
    "        # initialize layers\n",
    "        self.embedding = nn.Embedding(self.vocab_size, self.embedding_size)\n",
    "        self.gru = nn.GRU(self.embedding_size, self.hidden_size, num_layers=self.num_layers, batch_first=True)\n",
    "\n",
    "    def forward(self, input, hidden=None):\n",
    "        embedded = self.embedding(input)\n",
    "        if hidden is not None:\n",
    "            output, hidden = self.gru(embedded, hidden)\n",
    "        else:\n",
    "            output, hidden = self.gru(embedded)\n",
    "        return output, hidden\n"
   ]
  },
  {
   "cell_type": "code",
   "execution_count": 212,
   "metadata": {
    "ExecuteTime": {
     "end_time": "2023-07-18T10:53:05.115698Z",
     "start_time": "2023-07-18T10:53:05.113926Z"
    }
   },
   "outputs": [],
   "source": [
    "class DecoderRNN(nn.Module):\n",
    "    def __init__(self, emb_dim, hidden_dim, vocab_dim, num_layers=1):\n",
    "        super(DecoderRNN, self).__init__()\n",
    "        # set dimensions\n",
    "        self.hidden_size = hidden_dim\n",
    "        self.embedding_size = emb_dim\n",
    "        self.output_size = vocab_dim\n",
    "        self.num_layers = num_layers\n",
    "\n",
    "        #initialize layers\n",
    "        self.embedding = nn.Embedding(self.output_size, self.hidden_size)\n",
    "        self.gru = nn.GRU(self.hidden_size,self.hidden_size, batch_first=True)\n",
    "        self.out = nn.Linear(self.hidden_size, self.output_size)\n",
    "        self.softmax = nn.LogSoftmax(dim=-1)\n",
    "\n",
    "    def forward(self, input, hidden):\n",
    "        embedding = F.relu(self.embedding(input))\n",
    "        output, hidden = self.gru(embedding, hidden)\n",
    "        pred = self.softmax(self.out(output))\n",
    "        return pred, hidden\n",
    "\n"
   ]
  },
  {
   "cell_type": "code",
   "execution_count": 213,
   "metadata": {
    "ExecuteTime": {
     "end_time": "2023-07-18T10:53:05.136833Z",
     "start_time": "2023-07-18T10:53:05.122130Z"
    }
   },
   "outputs": [],
   "source": [
    "class Seq2Seq(nn.Module):\n",
    "    def __init__(self, encoder, decoder, device='cpu'):\n",
    "        super().__init__()\n",
    "        self.encoder = encoder\n",
    "        self.decoder = decoder\n",
    "#         self.decoder.embedding = self.encoder.embedding  # \n",
    "        self.device = device\n",
    "\n",
    "    def forward(self, source, target=None, teacher_forcing_ratio=0.5):\n",
    "        input_length = source.size(1) \n",
    "        batch_size = source.size(0)\n",
    "        vocab_size = self.encoder.vocab_size\n",
    "\n",
    "        #initialize a variable to hold the predicted outputs\n",
    "        outputs = []\n",
    "        encoder_output, encoder_hidden = self.encoder(source[:, 0].unsqueeze(1))\n",
    "        #encode every word in a sentence\n",
    "        for i in range(1, input_length):\n",
    "            encoder_output, encoder_hidden = self.encoder(source[:, i].unsqueeze(1), encoder_hidden)\n",
    "\n",
    "        #use the encoder’s hidden layer as the decoder hidden\n",
    "        decoder_hidden = encoder_hidden.to(device)\n",
    "\n",
    "        #add a start_of_the_word token before the first predicted word\n",
    "        decoder_input = torch.empty(batch_size, 1, dtype=torch.long, device=device).fill_(vocab[SOW_TOKEN])\n",
    "\n",
    "        for t in range(MAX_LENGTH):\n",
    "            decoder_output, decoder_hidden = self.decoder(decoder_input, decoder_hidden)\n",
    "            outputs.append(decoder_output)\n",
    "            _, topi = decoder_output.topk(1)\n",
    "            if target is not None and target.size(1) > t:\n",
    "                teacher_force = random.random() < teacher_forcing_ratio\n",
    "                target_input = target[:, t].unsqueeze(1)\n",
    "                decoder_input = (target_input if teacher_force else topi.squeeze(-1).detach())\n",
    "            else:\n",
    "                decoder_input = topi.squeeze(-1).detach()\n",
    "        return torch.cat(outputs, dim=1)\n"
   ]
  },
  {
   "cell_type": "code",
   "execution_count": 214,
   "metadata": {
    "ExecuteTime": {
     "end_time": "2023-07-18T10:53:05.304314Z",
     "start_time": "2023-07-18T10:53:05.126750Z"
    }
   },
   "outputs": [
    {
     "name": "stdout",
     "output_type": "stream",
     "text": [
      "Number of Parameters: 57447\n"
     ]
    }
   ],
   "source": [
    "model = Seq2Seq(EncoderRNN(vocab_dim=len(vocab), emb_dim=64 ,hidden_dim=64).to(device), DecoderRNN(vocab_dim=len(vocab), emb_dim=64, hidden_dim=64).to(device), device=device)\n",
    "print(f'Number of Parameters: {sum(p.numel() for p in model.parameters())}')"
   ]
  },
  {
   "cell_type": "markdown",
   "metadata": {},
   "source": [
    "# Train"
   ]
  },
  {
   "cell_type": "code",
   "execution_count": 215,
   "metadata": {
    "ExecuteTime": {
     "end_time": "2023-07-18T10:53:05.309292Z",
     "start_time": "2023-07-18T10:53:05.307308Z"
    }
   },
   "outputs": [],
   "source": [
    "\n",
    "def train_epoch(dataloader, model, optimizer, criterion):\n",
    "    model.train()\n",
    "    \n",
    "    total_loss = 0\n",
    "    for data in dataloader:\n",
    "        input_tensor, target_tensor = data\n",
    "        input_tensor = input_tensor.to(device)\n",
    "        target_tensor = target_tensor.to(device)\n",
    "        \n",
    "        optimizer.zero_grad()\n",
    "\n",
    "        decoder_outputs = model(input_tensor, target_tensor)\n",
    "        \n",
    "        \n",
    "        loss = criterion(\n",
    "            decoder_outputs.view(-1, decoder_outputs.size(-1)),\n",
    "            target_tensor.view(-1)\n",
    "        )\n",
    "        loss.backward()\n",
    "\n",
    "        optimizer.step()\n",
    "\n",
    "        total_loss += loss.item()\n",
    "        \n",
    "\n",
    "    return total_loss / len(dataloader)\n",
    "\n",
    "def validate_epoch(dataloader, model, criterion):\n",
    "    model.eval()\n",
    "    total_loss = 0\n",
    "    for data in dataloader:\n",
    "        input_tensor, target_tensor = data\n",
    "        input_tensor = input_tensor.to(device)\n",
    "        target_tensor = target_tensor.to(device)\n",
    "        \n",
    "        decoder_outputs = model(input_tensor)\n",
    "        \n",
    "        loss = criterion(\n",
    "            decoder_outputs.view(-1, decoder_outputs.size(-1)),\n",
    "            target_tensor.view(-1)\n",
    "        )\n",
    "        total_loss += loss.item() \n",
    "        \n",
    "    return total_loss / len(val_loader)"
   ]
  },
  {
   "cell_type": "code",
   "execution_count": 216,
   "metadata": {
    "ExecuteTime": {
     "end_time": "2023-07-18T10:53:21.971337Z",
     "start_time": "2023-07-18T10:53:21.969028Z"
    }
   },
   "outputs": [],
   "source": [
    "from torch import optim\n",
    "from datetime import datetime\n",
    "\n",
    "\n",
    "def train(train_loader, val_loader,  model, n_epochs, learning_rate=0.001,\n",
    "          display_every=1):\n",
    "    \n",
    "    optimizer = optim.Adam(model.parameters(), lr=learning_rate)\n",
    "    criterion = nn.NLLLoss()\n",
    "    \n",
    "    iter_train_loss = 0\n",
    "    iter_val_loss = 0\n",
    "    plot_train_loss = []\n",
    "    plot_val_loss = []\n",
    "\n",
    "    start = datetime.now()\n",
    "    for epoch in range(1, n_epochs + 1):\n",
    "        train_loss = train_epoch(train_loader, model, optimizer, criterion)\n",
    "        val_loss = validate_epoch(val_loader, model, criterion)\n",
    "        iter_train_loss += train_loss\n",
    "        iter_val_loss += val_loss\n",
    "        \n",
    "        if epoch % display_every == 0:\n",
    "            train_avg = iter_train_loss / display_every\n",
    "            train_total = iter_train_loss\n",
    "            val_avg = iter_val_loss / display_every\n",
    "            val_total = iter_val_loss\n",
    "            plot_train_loss.append(train_avg)\n",
    "            iter_train_loss = 0\n",
    "            plot_val_loss.append(val_avg)\n",
    "            iter_val_loss = 0\n",
    "            \n",
    "            print(f'Epoch: {epoch}: Train Loss: {train_total}, Validation Loss: {val_total},\\\n",
    "            Train AVG Loss: {train_avg}, Validation AVG Loss: {val_avg},\\\n",
    "            Time Elapsed: {(datetime.now() - start).total_seconds() / 60}M')\n",
    "            start = datetime.now()\n",
    "    \n",
    "    return model, plot_val_loss, plot_train_loss"
   ]
  },
  {
   "cell_type": "code",
   "execution_count": 217,
   "metadata": {
    "ExecuteTime": {
     "end_time": "2023-07-18T10:53:21.978794Z",
     "start_time": "2023-07-18T10:53:21.974010Z"
    }
   },
   "outputs": [
    {
     "name": "stdout",
     "output_type": "stream",
     "text": [
      "Epoch: 1: Train Loss: 0.9664386556581464, Validation Loss: 1.0065408274531364,            Train AVG Loss: 0.9664386556581464, Validation AVG Loss: 1.0065408274531364,            Time Elapsed: 0.66298785M\n",
      "Epoch: 2: Train Loss: 0.7460095149171931, Validation Loss: 0.8431869089603424,            Train AVG Loss: 0.7460095149171931, Validation AVG Loss: 0.8431869089603424,            Time Elapsed: 0.6580340333333333M\n",
      "Epoch: 3: Train Loss: 0.6988199427914437, Validation Loss: 0.8273501679301262,            Train AVG Loss: 0.6988199427914437, Validation AVG Loss: 0.8273501679301262,            Time Elapsed: 0.6532804333333334M\n",
      "Epoch: 4: Train Loss: 0.6712531487045386, Validation Loss: 0.8172565400600433,            Train AVG Loss: 0.6712531487045386, Validation AVG Loss: 0.8172565400600433,            Time Elapsed: 0.663195M\n",
      "Epoch: 5: Train Loss: 0.6526340846820256, Validation Loss: 0.7788749501109123,            Train AVG Loss: 0.6526340846820256, Validation AVG Loss: 0.7788749501109123,            Time Elapsed: 0.6755302166666667M\n",
      "Epoch: 6: Train Loss: 0.6386896675200109, Validation Loss: 0.7779036790132523,            Train AVG Loss: 0.6386896675200109, Validation AVG Loss: 0.7779036790132523,            Time Elapsed: 0.6561640166666667M\n"
     ]
    },
    {
     "ename": "KeyboardInterrupt",
     "evalue": "",
     "output_type": "error",
     "traceback": [
      "\u001b[0;31m---------------------------------------------------------------------------\u001b[0m",
      "\u001b[0;31mKeyboardInterrupt\u001b[0m                         Traceback (most recent call last)",
      "Cell \u001b[0;32mIn[217], line 2\u001b[0m\n\u001b[1;32m      1\u001b[0m VERSION \u001b[38;5;241m=\u001b[39m \u001b[38;5;241m0\u001b[39m\n\u001b[0;32m----> 2\u001b[0m model,graph_val, graph_train,  \u001b[38;5;241m=\u001b[39m \u001b[43mtrain\u001b[49m\u001b[43m(\u001b[49m\u001b[43mtrain_loader\u001b[49m\u001b[43m,\u001b[49m\u001b[43m \u001b[49m\u001b[43mval_loader\u001b[49m\u001b[43m,\u001b[49m\u001b[43m \u001b[49m\u001b[43mmodel\u001b[49m\u001b[38;5;241;43m.\u001b[39;49m\u001b[43mto\u001b[49m\u001b[43m(\u001b[49m\u001b[43mdevice\u001b[49m\u001b[43m)\u001b[49m\u001b[43m,\u001b[49m\u001b[43m \u001b[49m\u001b[38;5;241;43m50\u001b[39;49m\u001b[43m,\u001b[49m\u001b[43m \u001b[49m\u001b[43mlearning_rate\u001b[49m\u001b[38;5;241;43m=\u001b[39;49m\u001b[38;5;241;43m0.001\u001b[39;49m\u001b[43m)\u001b[49m\n\u001b[1;32m      3\u001b[0m torch\u001b[38;5;241m.\u001b[39msave(model\u001b[38;5;241m.\u001b[39mstate_dict(), \u001b[38;5;124mf\u001b[39m\u001b[38;5;124m'\u001b[39m\u001b[38;5;124mLemmatization/weights/base_model_v\u001b[39m\u001b[38;5;132;01m{\u001b[39;00mVERSION\u001b[38;5;132;01m}\u001b[39;00m\u001b[38;5;124m.pt\u001b[39m\u001b[38;5;124m'\u001b[39m)\n",
      "Cell \u001b[0;32mIn[216], line 18\u001b[0m, in \u001b[0;36mtrain\u001b[0;34m(train_loader, val_loader, model, n_epochs, learning_rate, display_every)\u001b[0m\n\u001b[1;32m     16\u001b[0m start \u001b[38;5;241m=\u001b[39m datetime\u001b[38;5;241m.\u001b[39mnow()\n\u001b[1;32m     17\u001b[0m \u001b[38;5;28;01mfor\u001b[39;00m epoch \u001b[38;5;129;01min\u001b[39;00m \u001b[38;5;28mrange\u001b[39m(\u001b[38;5;241m1\u001b[39m, n_epochs \u001b[38;5;241m+\u001b[39m \u001b[38;5;241m1\u001b[39m):\n\u001b[0;32m---> 18\u001b[0m     train_loss \u001b[38;5;241m=\u001b[39m \u001b[43mtrain_epoch\u001b[49m\u001b[43m(\u001b[49m\u001b[43mtrain_loader\u001b[49m\u001b[43m,\u001b[49m\u001b[43m \u001b[49m\u001b[43mmodel\u001b[49m\u001b[43m,\u001b[49m\u001b[43m \u001b[49m\u001b[43moptimizer\u001b[49m\u001b[43m,\u001b[49m\u001b[43m \u001b[49m\u001b[43mcriterion\u001b[49m\u001b[43m)\u001b[49m\n\u001b[1;32m     19\u001b[0m     val_loss \u001b[38;5;241m=\u001b[39m validate_epoch(val_loader, model, criterion)\n\u001b[1;32m     20\u001b[0m     iter_train_loss \u001b[38;5;241m+\u001b[39m\u001b[38;5;241m=\u001b[39m train_loss\n",
      "Cell \u001b[0;32mIn[215], line 19\u001b[0m, in \u001b[0;36mtrain_epoch\u001b[0;34m(dataloader, model, optimizer, criterion)\u001b[0m\n\u001b[1;32m     12\u001b[0m decoder_outputs \u001b[38;5;241m=\u001b[39m model(input_tensor, target_tensor)\n\u001b[1;32m     15\u001b[0m loss \u001b[38;5;241m=\u001b[39m criterion(\n\u001b[1;32m     16\u001b[0m     decoder_outputs\u001b[38;5;241m.\u001b[39mview(\u001b[38;5;241m-\u001b[39m\u001b[38;5;241m1\u001b[39m, decoder_outputs\u001b[38;5;241m.\u001b[39msize(\u001b[38;5;241m-\u001b[39m\u001b[38;5;241m1\u001b[39m)),\n\u001b[1;32m     17\u001b[0m     target_tensor\u001b[38;5;241m.\u001b[39mview(\u001b[38;5;241m-\u001b[39m\u001b[38;5;241m1\u001b[39m)\n\u001b[1;32m     18\u001b[0m )\n\u001b[0;32m---> 19\u001b[0m \u001b[43mloss\u001b[49m\u001b[38;5;241;43m.\u001b[39;49m\u001b[43mbackward\u001b[49m\u001b[43m(\u001b[49m\u001b[43m)\u001b[49m\n\u001b[1;32m     21\u001b[0m optimizer\u001b[38;5;241m.\u001b[39mstep()\n\u001b[1;32m     23\u001b[0m total_loss \u001b[38;5;241m+\u001b[39m\u001b[38;5;241m=\u001b[39m loss\u001b[38;5;241m.\u001b[39mitem()\n",
      "File \u001b[0;32m/opt/conda/envs/pytorch/lib/python3.10/site-packages/torch/_tensor.py:487\u001b[0m, in \u001b[0;36mTensor.backward\u001b[0;34m(self, gradient, retain_graph, create_graph, inputs)\u001b[0m\n\u001b[1;32m    477\u001b[0m \u001b[38;5;28;01mif\u001b[39;00m has_torch_function_unary(\u001b[38;5;28mself\u001b[39m):\n\u001b[1;32m    478\u001b[0m     \u001b[38;5;28;01mreturn\u001b[39;00m handle_torch_function(\n\u001b[1;32m    479\u001b[0m         Tensor\u001b[38;5;241m.\u001b[39mbackward,\n\u001b[1;32m    480\u001b[0m         (\u001b[38;5;28mself\u001b[39m,),\n\u001b[0;32m   (...)\u001b[0m\n\u001b[1;32m    485\u001b[0m         inputs\u001b[38;5;241m=\u001b[39minputs,\n\u001b[1;32m    486\u001b[0m     )\n\u001b[0;32m--> 487\u001b[0m \u001b[43mtorch\u001b[49m\u001b[38;5;241;43m.\u001b[39;49m\u001b[43mautograd\u001b[49m\u001b[38;5;241;43m.\u001b[39;49m\u001b[43mbackward\u001b[49m\u001b[43m(\u001b[49m\n\u001b[1;32m    488\u001b[0m \u001b[43m    \u001b[49m\u001b[38;5;28;43mself\u001b[39;49m\u001b[43m,\u001b[49m\u001b[43m \u001b[49m\u001b[43mgradient\u001b[49m\u001b[43m,\u001b[49m\u001b[43m \u001b[49m\u001b[43mretain_graph\u001b[49m\u001b[43m,\u001b[49m\u001b[43m \u001b[49m\u001b[43mcreate_graph\u001b[49m\u001b[43m,\u001b[49m\u001b[43m \u001b[49m\u001b[43minputs\u001b[49m\u001b[38;5;241;43m=\u001b[39;49m\u001b[43minputs\u001b[49m\n\u001b[1;32m    489\u001b[0m \u001b[43m\u001b[49m\u001b[43m)\u001b[49m\n",
      "File \u001b[0;32m/opt/conda/envs/pytorch/lib/python3.10/site-packages/torch/autograd/__init__.py:200\u001b[0m, in \u001b[0;36mbackward\u001b[0;34m(tensors, grad_tensors, retain_graph, create_graph, grad_variables, inputs)\u001b[0m\n\u001b[1;32m    195\u001b[0m     retain_graph \u001b[38;5;241m=\u001b[39m create_graph\n\u001b[1;32m    197\u001b[0m \u001b[38;5;66;03m# The reason we repeat same the comment below is that\u001b[39;00m\n\u001b[1;32m    198\u001b[0m \u001b[38;5;66;03m# some Python versions print out the first line of a multi-line function\u001b[39;00m\n\u001b[1;32m    199\u001b[0m \u001b[38;5;66;03m# calls in the traceback and some print out the last line\u001b[39;00m\n\u001b[0;32m--> 200\u001b[0m \u001b[43mVariable\u001b[49m\u001b[38;5;241;43m.\u001b[39;49m\u001b[43m_execution_engine\u001b[49m\u001b[38;5;241;43m.\u001b[39;49m\u001b[43mrun_backward\u001b[49m\u001b[43m(\u001b[49m\u001b[43m  \u001b[49m\u001b[38;5;66;43;03m# Calls into the C++ engine to run the backward pass\u001b[39;49;00m\n\u001b[1;32m    201\u001b[0m \u001b[43m    \u001b[49m\u001b[43mtensors\u001b[49m\u001b[43m,\u001b[49m\u001b[43m \u001b[49m\u001b[43mgrad_tensors_\u001b[49m\u001b[43m,\u001b[49m\u001b[43m \u001b[49m\u001b[43mretain_graph\u001b[49m\u001b[43m,\u001b[49m\u001b[43m \u001b[49m\u001b[43mcreate_graph\u001b[49m\u001b[43m,\u001b[49m\u001b[43m \u001b[49m\u001b[43minputs\u001b[49m\u001b[43m,\u001b[49m\n\u001b[1;32m    202\u001b[0m \u001b[43m    \u001b[49m\u001b[43mallow_unreachable\u001b[49m\u001b[38;5;241;43m=\u001b[39;49m\u001b[38;5;28;43;01mTrue\u001b[39;49;00m\u001b[43m,\u001b[49m\u001b[43m \u001b[49m\u001b[43maccumulate_grad\u001b[49m\u001b[38;5;241;43m=\u001b[39;49m\u001b[38;5;28;43;01mTrue\u001b[39;49;00m\u001b[43m)\u001b[49m\n",
      "\u001b[0;31mKeyboardInterrupt\u001b[0m: "
     ]
    }
   ],
   "source": [
    "VERSION = 0\n",
    "model,graph_val, graph_train,  = train(train_loader, val_loader, model.to(device), 50, learning_rate=0.001)\n",
    "torch.save(model.state_dict(), f'Lemmatization/weights/base_model_v{VERSION}.pt')"
   ]
  },
  {
   "cell_type": "code",
   "execution_count": 142,
   "metadata": {},
   "outputs": [
    {
     "data": {
      "image/png": "[encoded data removed]",
      "text/plain": [
       "<Figure size 640x480 with 1 Axes>"
      ]
     },
     "metadata": {},
     "output_type": "display_data"
    }
   ],
   "source": [
    "sns.lineplot(graph_train, label='Train')\n",
    "sns.lineplot(graph_val, label='Validation')\n",
    "plt.xlabel('Epoch')\n",
    "plt.ylabel('Avg. Loss')\n",
    "plt.show()"
   ]
  },
  {
   "cell_type": "code",
   "execution_count": 143,
   "metadata": {
    "ExecuteTime": {
     "end_time": "2023-07-18T10:53:21.980400Z",
     "start_time": "2023-07-18T10:53:21.977128Z"
    }
   },
   "outputs": [],
   "source": [
    "source, target = next(iter(train_loader))\n",
    "pred = model(source.to(device), target.to(device)).argmax(dim=2)"
   ]
  },
  {
   "cell_type": "code",
   "execution_count": 144,
   "metadata": {},
   "outputs": [
    {
     "data": {
      "text/plain": [
       "(torch.Size([160, 22]), torch.Size([160, 22]), torch.Size([160, 22]))"
      ]
     },
     "execution_count": 144,
     "metadata": {},
     "output_type": "execute_result"
    }
   ],
   "source": [
    "source.size(), target.size(), pred.size()"
   ]
  },
  {
   "cell_type": "code",
   "execution_count": 145,
   "metadata": {},
   "outputs": [
    {
     "data": {
      "text/plain": [
       "['რ',\n",
       " 'ა',\n",
       " 'დ',\n",
       " 'ი',\n",
       " 'ო',\n",
       " 'ს',\n",
       " 'ი',\n",
       " 'გ',\n",
       " 'ნ',\n",
       " 'ა',\n",
       " 'ლ',\n",
       " 'ე',\n",
       " 'ბ',\n",
       " 'ს',\n",
       " '<end>',\n",
       " '<pad>',\n",
       " '<pad>',\n",
       " '<pad>',\n",
       " '<pad>',\n",
       " '<pad>',\n",
       " '<pad>',\n",
       " '<pad>']"
      ]
     },
     "execution_count": 145,
     "metadata": {},
     "output_type": "execute_result"
    }
   ],
   "source": [
    "[vocab.get_itos()[i] for i in source[0]]"
   ]
  },
  {
   "cell_type": "code",
   "execution_count": 146,
   "metadata": {},
   "outputs": [
    {
     "data": {
      "text/plain": [
       "['რ',\n",
       " 'ა',\n",
       " 'დ',\n",
       " 'ი',\n",
       " 'ო',\n",
       " 'ნ',\n",
       " 'ი',\n",
       " 'ნ',\n",
       " 'ა',\n",
       " 'ნ',\n",
       " 'ლ',\n",
       " 'ი',\n",
       " '<end>',\n",
       " '<pad>',\n",
       " '<pad>',\n",
       " '<pad>',\n",
       " '<pad>',\n",
       " '<pad>',\n",
       " '<pad>',\n",
       " '<pad>',\n",
       " '<pad>',\n",
       " '<pad>']"
      ]
     },
     "execution_count": 146,
     "metadata": {},
     "output_type": "execute_result"
    }
   ],
   "source": [
    "[vocab.get_itos()[i] for i in pred[0]]"
   ]
  },
  {
   "cell_type": "code",
   "execution_count": 147,
   "metadata": {},
   "outputs": [
    {
     "data": {
      "text/plain": [
       "['რ',\n",
       " 'ა',\n",
       " 'დ',\n",
       " 'ი',\n",
       " 'ო',\n",
       " 'ს',\n",
       " 'ი',\n",
       " 'გ',\n",
       " 'ნ',\n",
       " 'ა',\n",
       " 'ლ',\n",
       " 'ი',\n",
       " '<end>',\n",
       " '<pad>',\n",
       " '<pad>',\n",
       " '<pad>',\n",
       " '<pad>',\n",
       " '<pad>',\n",
       " '<pad>',\n",
       " '<pad>',\n",
       " '<pad>',\n",
       " '<pad>']"
      ]
     },
     "execution_count": 147,
     "metadata": {},
     "output_type": "execute_result"
    }
   ],
   "source": [
    "[vocab.get_itos()[i] for i in target[0]]"
   ]
  },
  {
   "cell_type": "code",
   "execution_count": null,
   "metadata": {},
   "outputs": [],
   "source": [
    "vocab.get_itos()"
   ]
  },
  {
   "cell_type": "code",
   "execution_count": 155,
   "metadata": {},
   "outputs": [
    {
     "data": {
      "text/plain": [
       "(tensor([0, 3, 2]),\n",
       " tensor([[ 0.8605, -0.8043,  0.9290,  0.2762,  1.3111],\n",
       "         [-1.5824, -0.3551,  0.5694, -0.5948, -0.9864],\n",
       "         [-0.2881, -0.2128,  0.2438, -1.0952, -0.5630]], requires_grad=True))"
      ]
     },
     "execution_count": 155,
     "metadata": {},
     "output_type": "execute_result"
    }
   ],
   "source": []
  },
  {
   "cell_type": "code",
   "execution_count": null,
   "metadata": {},
   "outputs": [],
   "source": []
  }
 ],
 "metadata": {
  "environment": {
   "kernel": "conda-env-pytorch-pytorch",
   "name": "workbench-notebooks.m109",
   "type": "gcloud",
   "uri": "gcr.io/deeplearning-platform-release/workbench-notebooks:m109"
  },
  "kernelspec": {
   "display_name": "PyTorch 1-13",
   "language": "python",
   "name": "conda-env-pytorch-pytorch"
  },
  "language_info": {
   "codemirror_mode": {
    "name": "ipython",
    "version": 3
   },
   "file_extension": ".py",
   "mimetype": "text/x-python",
   "name": "python",
   "nbconvert_exporter": "python",
   "pygments_lexer": "ipython3",
   "version": "3.10.12"
  }
 },
 "nbformat": 4,
 "nbformat_minor": 4
}
