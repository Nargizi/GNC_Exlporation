{
 "cells": [
  {
   "cell_type": "code",
   "execution_count": 207,
   "id": "7536fe5e-0448-4bd1-aefa-e615be46d6a2",
   "metadata": {},
   "outputs": [],
   "source": [
    "import os\n",
    "import itertools\n",
    "\n",
    "import numpy as np\n",
    "import pandas as pd\n",
    "import seaborn as sns\n",
    "import matplotlib.pyplot as plt\n",
    "import torch\n",
    "import torchtext\n",
    "\n",
    "from torch.utils.data import DataLoader, Dataset\n",
    "from torch.nn.utils.rnn import pad_sequence\n",
    "from torchtext.vocab import build_vocab_from_iterator\n",
    "import torch.nn.functional as F\n",
    "\n",
    "\n",
    "from nltk.metrics import distance\n",
    "from nltk.translate.bleu_score import sentence_bleu"
   ]
  },
  {
   "cell_type": "markdown",
   "id": "ff7adef0-d93f-4cd3-9049-a98f0b69ac2d",
   "metadata": {},
   "source": [
    "# Data"
   ]
  },
  {
   "cell_type": "code",
   "execution_count": 57,
   "id": "47560241-5f02-4620-897f-7ee8100192a2",
   "metadata": {},
   "outputs": [
    {
     "data": {
      "text/html": [
       "<div>\n",
       "<style scoped>\n",
       "    .dataframe tbody tr th:only-of-type {\n",
       "        vertical-align: middle;\n",
       "    }\n",
       "\n",
       "    .dataframe tbody tr th {\n",
       "        vertical-align: top;\n",
       "    }\n",
       "\n",
       "    .dataframe thead th {\n",
       "        text-align: right;\n",
       "    }\n",
       "</style>\n",
       "<table border=\"1\" class=\"dataframe\">\n",
       "  <thead>\n",
       "    <tr style=\"text-align: right;\">\n",
       "      <th></th>\n",
       "      <th>Unnamed: 0</th>\n",
       "      <th>word</th>\n",
       "      <th>lemma</th>\n",
       "      <th>pos_tag</th>\n",
       "      <th>freq</th>\n",
       "      <th>word_length</th>\n",
       "      <th>lemma_length</th>\n",
       "      <th>ratio</th>\n",
       "      <th>lemma_length_category</th>\n",
       "      <th>word_length_category</th>\n",
       "      <th>ratio_category</th>\n",
       "      <th>reported_speech</th>\n",
       "      <th>freq_category</th>\n",
       "    </tr>\n",
       "  </thead>\n",
       "  <tbody>\n",
       "    <tr>\n",
       "      <th>0</th>\n",
       "      <td>143445</td>\n",
       "      <td>საჩემოა</td>\n",
       "      <td>საჩემო</td>\n",
       "      <td>A</td>\n",
       "      <td>10</td>\n",
       "      <td>7</td>\n",
       "      <td>6</td>\n",
       "      <td>1.166667</td>\n",
       "      <td>low</td>\n",
       "      <td>low</td>\n",
       "      <td>greater</td>\n",
       "      <td>False</td>\n",
       "      <td>medium</td>\n",
       "    </tr>\n",
       "    <tr>\n",
       "      <th>1</th>\n",
       "      <td>805277</td>\n",
       "      <td>საჭმელ-სასმელით</td>\n",
       "      <td>საჭმელსასმელი</td>\n",
       "      <td>N</td>\n",
       "      <td>15</td>\n",
       "      <td>15</td>\n",
       "      <td>13</td>\n",
       "      <td>1.153846</td>\n",
       "      <td>high</td>\n",
       "      <td>high</td>\n",
       "      <td>greater</td>\n",
       "      <td>False</td>\n",
       "      <td>medium</td>\n",
       "    </tr>\n",
       "    <tr>\n",
       "      <th>2</th>\n",
       "      <td>902975</td>\n",
       "      <td>დავნაძლევდით</td>\n",
       "      <td>დანაძლევება</td>\n",
       "      <td>V</td>\n",
       "      <td>4</td>\n",
       "      <td>12</td>\n",
       "      <td>11</td>\n",
       "      <td>1.090909</td>\n",
       "      <td>high</td>\n",
       "      <td>high</td>\n",
       "      <td>greater</td>\n",
       "      <td>False</td>\n",
       "      <td>medium</td>\n",
       "    </tr>\n",
       "    <tr>\n",
       "      <th>3</th>\n",
       "      <td>55733</td>\n",
       "      <td>ჯორჯი</td>\n",
       "      <td>ჯორჯ</td>\n",
       "      <td>N</td>\n",
       "      <td>330</td>\n",
       "      <td>5</td>\n",
       "      <td>4</td>\n",
       "      <td>1.250000</td>\n",
       "      <td>low</td>\n",
       "      <td>low</td>\n",
       "      <td>greater</td>\n",
       "      <td>False</td>\n",
       "      <td>high</td>\n",
       "    </tr>\n",
       "    <tr>\n",
       "      <th>4</th>\n",
       "      <td>228515</td>\n",
       "      <td>გამეშვი</td>\n",
       "      <td>გაშვება</td>\n",
       "      <td>V</td>\n",
       "      <td>13</td>\n",
       "      <td>7</td>\n",
       "      <td>7</td>\n",
       "      <td>1.000000</td>\n",
       "      <td>low</td>\n",
       "      <td>low</td>\n",
       "      <td>equal</td>\n",
       "      <td>False</td>\n",
       "      <td>medium</td>\n",
       "    </tr>\n",
       "    <tr>\n",
       "      <th>...</th>\n",
       "      <td>...</td>\n",
       "      <td>...</td>\n",
       "      <td>...</td>\n",
       "      <td>...</td>\n",
       "      <td>...</td>\n",
       "      <td>...</td>\n",
       "      <td>...</td>\n",
       "      <td>...</td>\n",
       "      <td>...</td>\n",
       "      <td>...</td>\n",
       "      <td>...</td>\n",
       "      <td>...</td>\n",
       "      <td>...</td>\n",
       "    </tr>\n",
       "    <tr>\n",
       "      <th>410093</th>\n",
       "      <td>671912</td>\n",
       "      <td>ყმაშია</td>\n",
       "      <td>ყმა</td>\n",
       "      <td>N</td>\n",
       "      <td>2</td>\n",
       "      <td>6</td>\n",
       "      <td>3</td>\n",
       "      <td>2.000000</td>\n",
       "      <td>low</td>\n",
       "      <td>low</td>\n",
       "      <td>greater</td>\n",
       "      <td>False</td>\n",
       "      <td>low</td>\n",
       "    </tr>\n",
       "    <tr>\n",
       "      <th>410094</th>\n",
       "      <td>339503</td>\n",
       "      <td>სათხარი</td>\n",
       "      <td>სათხარი</td>\n",
       "      <td>A</td>\n",
       "      <td>1</td>\n",
       "      <td>7</td>\n",
       "      <td>7</td>\n",
       "      <td>1.000000</td>\n",
       "      <td>low</td>\n",
       "      <td>low</td>\n",
       "      <td>equal</td>\n",
       "      <td>False</td>\n",
       "      <td>low</td>\n",
       "    </tr>\n",
       "    <tr>\n",
       "      <th>410095</th>\n",
       "      <td>1060380</td>\n",
       "      <td>ასანთმასალებისკენ</td>\n",
       "      <td>ასანთმასალა</td>\n",
       "      <td>N</td>\n",
       "      <td>1</td>\n",
       "      <td>17</td>\n",
       "      <td>11</td>\n",
       "      <td>1.545455</td>\n",
       "      <td>high</td>\n",
       "      <td>high</td>\n",
       "      <td>greater</td>\n",
       "      <td>False</td>\n",
       "      <td>low</td>\n",
       "    </tr>\n",
       "    <tr>\n",
       "      <th>410096</th>\n",
       "      <td>1315693</td>\n",
       "      <td>პაულუმაც</td>\n",
       "      <td>პაულუ</td>\n",
       "      <td>N</td>\n",
       "      <td>4</td>\n",
       "      <td>8</td>\n",
       "      <td>5</td>\n",
       "      <td>1.600000</td>\n",
       "      <td>low</td>\n",
       "      <td>low</td>\n",
       "      <td>greater</td>\n",
       "      <td>False</td>\n",
       "      <td>medium</td>\n",
       "    </tr>\n",
       "    <tr>\n",
       "      <th>410097</th>\n",
       "      <td>963327</td>\n",
       "      <td>წილებშიც</td>\n",
       "      <td>წილა</td>\n",
       "      <td>N</td>\n",
       "      <td>2</td>\n",
       "      <td>8</td>\n",
       "      <td>4</td>\n",
       "      <td>2.000000</td>\n",
       "      <td>low</td>\n",
       "      <td>low</td>\n",
       "      <td>greater</td>\n",
       "      <td>False</td>\n",
       "      <td>low</td>\n",
       "    </tr>\n",
       "  </tbody>\n",
       "</table>\n",
       "<p>410098 rows × 13 columns</p>\n",
       "</div>"
      ],
      "text/plain": [
       "        Unnamed: 0               word          lemma pos_tag  freq  \\\n",
       "0           143445            საჩემოა         საჩემო       A    10   \n",
       "1           805277    საჭმელ-სასმელით  საჭმელსასმელი       N    15   \n",
       "2           902975       დავნაძლევდით    დანაძლევება       V     4   \n",
       "3            55733              ჯორჯი           ჯორჯ       N   330   \n",
       "4           228515            გამეშვი        გაშვება       V    13   \n",
       "...            ...                ...            ...     ...   ...   \n",
       "410093      671912             ყმაშია            ყმა       N     2   \n",
       "410094      339503            სათხარი        სათხარი       A     1   \n",
       "410095     1060380  ასანთმასალებისკენ    ასანთმასალა       N     1   \n",
       "410096     1315693           პაულუმაც          პაულუ       N     4   \n",
       "410097      963327           წილებშიც           წილა       N     2   \n",
       "\n",
       "        word_length  lemma_length     ratio lemma_length_category  \\\n",
       "0                 7             6  1.166667                   low   \n",
       "1                15            13  1.153846                  high   \n",
       "2                12            11  1.090909                  high   \n",
       "3                 5             4  1.250000                   low   \n",
       "4                 7             7  1.000000                   low   \n",
       "...             ...           ...       ...                   ...   \n",
       "410093            6             3  2.000000                   low   \n",
       "410094            7             7  1.000000                   low   \n",
       "410095           17            11  1.545455                  high   \n",
       "410096            8             5  1.600000                   low   \n",
       "410097            8             4  2.000000                   low   \n",
       "\n",
       "       word_length_category ratio_category  reported_speech freq_category  \n",
       "0                       low        greater            False        medium  \n",
       "1                      high        greater            False        medium  \n",
       "2                      high        greater            False        medium  \n",
       "3                       low        greater            False          high  \n",
       "4                       low          equal            False        medium  \n",
       "...                     ...            ...              ...           ...  \n",
       "410093                  low        greater            False           low  \n",
       "410094                  low          equal            False           low  \n",
       "410095                 high        greater            False           low  \n",
       "410096                  low        greater            False        medium  \n",
       "410097                  low        greater            False           low  \n",
       "\n",
       "[410098 rows x 13 columns]"
      ]
     },
     "execution_count": 57,
     "metadata": {},
     "output_type": "execute_result"
    }
   ],
   "source": [
    "data = pd.read_csv('csv/test.csv')\n",
    "data"
   ]
  },
  {
   "cell_type": "markdown",
   "id": "e930e2d7-de5f-4e5a-8fc4-3991950db198",
   "metadata": {},
   "source": [
    "## Preparation"
   ]
  },
  {
   "cell_type": "code",
   "execution_count": 204,
   "id": "4e991b1f-2a81-4043-9d36-e9462a1bca25",
   "metadata": {},
   "outputs": [
    {
     "data": {
      "text/plain": [
       "8.114172709937625"
      ]
     },
     "execution_count": 204,
     "metadata": {},
     "output_type": "execute_result"
    }
   ],
   "source": [
    "MAX_LENGTH = 37\n",
    "AVG_LENGTH = data.lemma.str.len().mean()\n",
    "AVG_LENGTH"
   ]
  },
  {
   "cell_type": "code",
   "execution_count": 59,
   "id": "971fc8f0-88a5-4e0d-8d75-89f7df654962",
   "metadata": {},
   "outputs": [],
   "source": [
    "def get_tokens(t):\n",
    "    yield from list(t)\n",
    "\n",
    "UNK_TOKEN = '<unk>'\n",
    "EOW_TOKEN = '<end>'\n",
    "PAD_TOKEN = '<pad>'\n",
    "SOW_TOKEN = '<start>'\n",
    "\n",
    "vocab = build_vocab_from_iterator(iterator=get_tokens(itertools.chain(data['word'], data['lemma'])),\n",
    "                                  specials=[EOW_TOKEN, UNK_TOKEN, PAD_TOKEN, SOW_TOKEN],\n",
    "                                  special_first=False\n",
    "                                  )\n",
    "vocab.set_default_index(vocab[UNK_TOKEN])\n",
    "\n",
    "def word_to_seq(word: str):\n",
    "    return torch.tensor(vocab(list(word)) + [vocab[EOW_TOKEN]])"
   ]
  },
  {
   "cell_type": "code",
   "execution_count": 60,
   "id": "fe6c8548-db97-4bd4-9c73-fafb9e141c44",
   "metadata": {},
   "outputs": [],
   "source": [
    "class LemmaDataSet(Dataset):\n",
    "    def __init__(self, data_frame: pd.DataFrame):\n",
    "        self.data = data_frame\n",
    "\n",
    "    def __len__(self) -> int:\n",
    "        return len(self.data)\n",
    "\n",
    "    def __getitem__(self, idx: int) -> (str, str):\n",
    "        row = self.data.iloc[idx]\n",
    "        return row['word'], row['lemma']\n"
   ]
  },
  {
   "cell_type": "code",
   "execution_count": 61,
   "id": "5814b033-5d0f-470b-85aa-98fa9d366eb4",
   "metadata": {},
   "outputs": [],
   "source": [
    "def coallate_words(batch):\n",
    "    word_list, lemma_list = [torch.zeros(MAX_LENGTH, dtype=torch.int64)], [torch.zeros(MAX_LENGTH, dtype=torch.int64)]\n",
    "    for word, lemma in batch:\n",
    "        word_list.append(word_to_seq(word))\n",
    "        lemma_list.append(word_to_seq(lemma))\n",
    "\n",
    "\n",
    "    return pad_sequence(word_list, batch_first=True, padding_value=vocab[PAD_TOKEN])[1:], pad_sequence(lemma_list, batch_first=True, padding_value=vocab[PAD_TOKEN])[1:]"
   ]
  },
  {
   "cell_type": "markdown",
   "id": "b9c1dbc0-360e-4201-8ac1-46f72f4dca53",
   "metadata": {},
   "source": [
    "# Model"
   ]
  },
  {
   "cell_type": "code",
   "execution_count": 238,
   "id": "72793754-3d01-4945-b6fb-aa93b1816da2",
   "metadata": {},
   "outputs": [],
   "source": [
    "MODEL_NAME = 'base_model_v0.pt'\n",
    "MODEL_WEIGHTS = 'base_model_v2.pt'"
   ]
  },
  {
   "cell_type": "code",
   "execution_count": 239,
   "id": "abef6990-8550-4dd4-8663-5a60480efa09",
   "metadata": {},
   "outputs": [
    {
     "name": "stdout",
     "output_type": "stream",
     "text": [
      "Number of Parameters: 57447\n"
     ]
    }
   ],
   "source": [
    "model = torch.jit.load(os.path.join('models', MODEL_NAME))\n",
    "model.load_state_dict(torch.load(os.path.join('weights', MODEL_WEIGHTS)))\n",
    "model.eval()\n",
    "print(f'Number of Parameters: {sum(p.numel() for p in model.parameters())}')"
   ]
  },
  {
   "cell_type": "markdown",
   "id": "2a963ff9-6a47-4400-9a7c-d974ef2b03ad",
   "metadata": {},
   "source": [
    "# Evaluation"
   ]
  },
  {
   "cell_type": "code",
   "execution_count": 240,
   "id": "2eaa7665-b4b5-435b-9f0e-a3d74783bbd2",
   "metadata": {},
   "outputs": [],
   "source": [
    "# Metrics\n",
    "def edit_distances(target: torch.Tensor, pred: torch.Tensor):\n",
    "    return [distance.edit_distance(t, p) for t, p in zip(target.tolist(), pred.tolist())]\n",
    "\n",
    "def accurecy(target: torch.Tensor, pred: torch.Tensor):\n",
    "    return [1 if t == p else 0 for t, p in zip(target.tolist(), pred.tolist())]"
   ]
  },
  {
   "cell_type": "code",
   "execution_count": 241,
   "id": "b0dfd4cf-cede-48b1-9b00-23077feb3c71",
   "metadata": {},
   "outputs": [],
   "source": [
    "def evaluate(model, loader):\n",
    "    acc = 0\n",
    "    total = 0\n",
    "    edit_distance = 0\n",
    "    for i, (x, y) in enumerate(loader):\n",
    "        y_pred = model(y).argmax(dim=2)\n",
    "        acc += sum(accurecy(y, y_pred))\n",
    "        total += x.size()[0]\n",
    "        edit_distance += sum(edit_distances(y, y_pred))\n",
    "    print(f'Avg Accurecy: {acc / total}, Avg Edit Distance {edit_distance / total}')\n",
    "    return acc / total, edit_distance / total\n",
    "    \n",
    "# MAX_LENGTH * total - bad 0 - good "
   ]
  },
  {
   "cell_type": "code",
   "execution_count": 242,
   "id": "4bba2730-cec7-4605-8df6-94687ec86a9b",
   "metadata": {},
   "outputs": [],
   "source": [
    "def evaluate_category(cat_data):\n",
    "    points = []\n",
    "    for dtype, df in cat_data.items():\n",
    "        print(f'Type: {dtype}')\n",
    "        loader = DataLoader(LemmaDataSet(df), batch_size=128, collate_fn=coallate_words)\n",
    "        acc, edit_distance = evaluate(model, loader)\n",
    "        points.append({'type': dtype, 'accuracy': acc, 'edit_distance': edit_distance, 'avg_length': df.lemma.str.len().mean()})\n",
    "\n",
    "    fig, axs = plt.subplots(nrows=5, figsize=(8, 17))\n",
    "    fig.tight_layout()\n",
    "    fig.subplots_adjust(hspace=0.3)\n",
    "    df = pd.DataFrame(points)\n",
    "\n",
    "    # Average Edit Distance - Avg. Number of character differences between target and predicted words\n",
    "    # Normalized Edit Distance - Average Edit Distance / Avg.Length of a target word by category\n",
    "    df['norm_distance'] = df['edit_distance'] / df['avg_length'] \n",
    "\n",
    "    # Average Inverse Distance is computed in a following manner:\n",
    "    # 1 - Normalized Edit Distance\n",
    "\n",
    "    df['inv_distance'] = 1 - df['norm_distance']  \n",
    "\n",
    "    axs[2].set_title('Avg. Edit Distance')\n",
    "    sns.barplot(df.sort_values(by='edit_distance', ascending=True), x='type', y='edit_distance', ax=axs[2])\n",
    "    axs[3].set_title('Avg. Normalized Edit Distance')\n",
    "    sns.barplot(df.sort_values(by='norm_distance', ascending=True), x='type', y='norm_distance', ax=axs[3])\n",
    "    axs[4].set_title('Avg. Inverse Edit Distance')\n",
    "    sns.barplot(df.sort_values(by='inv_distance', ascending=False), x='type', y='inv_distance', ax=axs[4])\n",
    "\n",
    "    axs[1].set_title('Avg. Accuracy')\n",
    "    sns.barplot(df.sort_values(by='accuracy', ascending=False), x='type', y='accuracy', ax=axs[1])\n",
    "\n",
    "    df_melted = df.melt(id_vars='type', var_name='metric', value_name='value', value_vars=['accuracy', 'inv_distance'])\n",
    "    sns.barplot(df_melted, x='type', y='value', hue='metric', ax=axs[0])\n"
   ]
  },
  {
   "cell_type": "markdown",
   "id": "a206ea30-a448-4b87-b4c2-b7905721c72b",
   "metadata": {},
   "source": [
    "## Edit Distance"
   ]
  },
  {
   "cell_type": "code",
   "execution_count": 243,
   "id": "6b37cc7b-caf6-47c8-ba09-3f8f59ffb6f9",
   "metadata": {},
   "outputs": [],
   "source": [
    "data['edit_distance'] = data.apply(lambda x: distance.edit_distance(x.word, x.lemma), axis=1)"
   ]
  },
  {
   "cell_type": "code",
   "execution_count": 244,
   "id": "39169663-df2c-4a45-acf4-5fe49c845bf7",
   "metadata": {},
   "outputs": [
    {
     "data": {
      "text/plain": [
       "<Axes: xlabel='edit_distance', ylabel='count'>"
      ]
     },
     "execution_count": 244,
     "metadata": {},
     "output_type": "execute_result"
    },
    {
     "data": {
      "image/png": "[encoded data removed]",
      "text/plain": [
       "<Figure size 640x480 with 1 Axes>"
      ]
     },
     "metadata": {},
     "output_type": "display_data"
    }
   ],
   "source": [
    "sns.countplot(data, x ='edit_distance')"
   ]
  },
  {
   "cell_type": "code",
   "execution_count": 245,
   "id": "7e5c04f3-a9d4-4b34-86cf-56f07ea3924f",
   "metadata": {},
   "outputs": [],
   "source": [
    "by_edit_distance = dict(list(data.groupby('edit_distance')))"
   ]
  },
  {
   "cell_type": "code",
   "execution_count": 246,
   "id": "7183b082-248d-4b8a-aad6-0e2de5e29b00",
   "metadata": {},
   "outputs": [
    {
     "name": "stdout",
     "output_type": "stream",
     "text": [
      "Type: 0\n",
      "Avg Accurecy: 0.7098842448187427, Avg Edit Distance 0.8678519442711582\n",
      "Type: 1\n",
      "Avg Accurecy: 0.7598236559707501, Avg Edit Distance 0.694447010995103\n",
      "Type: 2\n",
      "Avg Accurecy: 0.7551312299059937, Avg Edit Distance 0.7757172719826901\n",
      "Type: 3\n",
      "Avg Accurecy: 0.7645223574842827, Avg Edit Distance 0.8332195248298759\n",
      "Type: 4\n",
      "Avg Accurecy: 0.764419660786555, Avg Edit Distance 0.8503043035002626\n",
      "Type: 5\n",
      "Avg Accurecy: 0.7723095380923816, Avg Edit Distance 0.8435512897420516\n",
      "Type: 6\n",
      "Avg Accurecy: 0.7400258122439818, Avg Edit Distance 0.9881600359126873\n",
      "Type: 7\n",
      "Avg Accurecy: 0.7375233354075917, Avg Edit Distance 1.038954573739888\n",
      "Type: 8\n",
      "Avg Accurecy: 0.7361563517915309, Avg Edit Distance 1.0215484840892006\n",
      "Type: 9\n",
      "Avg Accurecy: 0.7200736648250461, Avg Edit Distance 1.2166973603437692\n",
      "Type: 10\n",
      "Avg Accurecy: 0.7244367417677643, Avg Edit Distance 1.218370883882149\n",
      "Type: 11\n",
      "Avg Accurecy: 0.65, Avg Edit Distance 1.4666666666666666\n",
      "Type: 12\n",
      "Avg Accurecy: 0.5483870967741935, Avg Edit Distance 2.1129032258064515\n",
      "Type: 13\n",
      "Avg Accurecy: 0.5, Avg Edit Distance 2.4444444444444446\n",
      "Type: 14\n",
      "Avg Accurecy: 0.3076923076923077, Avg Edit Distance 7.846153846153846\n",
      "Type: 15\n",
      "Avg Accurecy: 0.0, Avg Edit Distance 37.0\n",
      "Type: 16\n",
      "Avg Accurecy: 0.5, Avg Edit Distance 10.5\n"
     ]
    },
    {
     "data": {
      "image/png": "[encoded data removed]",
      "text/plain": [
       "<Figure size 800x1700 with 5 Axes>"
      ]
     },
     "metadata": {},
     "output_type": "display_data"
    }
   ],
   "source": [
    "evaluate_category(by_edit_distance)"
   ]
  },
  {
   "cell_type": "markdown",
   "id": "92e421e3-cb3d-488b-9f7e-d3115fb95bf9",
   "metadata": {},
   "source": [
    "## POS Tags"
   ]
  },
  {
   "cell_type": "code",
   "execution_count": 247,
   "id": "06194321-5c76-4a5d-a674-0e6664e98f18",
   "metadata": {},
   "outputs": [
    {
     "data": {
      "text/plain": [
       "<Axes: xlabel='pos_tag', ylabel='count'>"
      ]
     },
     "execution_count": 247,
     "metadata": {},
     "output_type": "execute_result"
    },
    {
     "data": {
      "image/png": "[encoded data removed]",
      "text/plain": [
       "<Figure size 640x480 with 1 Axes>"
      ]
     },
     "metadata": {},
     "output_type": "display_data"
    }
   ],
   "source": [
    "sns.countplot(data, x ='pos_tag')"
   ]
  },
  {
   "cell_type": "code",
   "execution_count": 248,
   "id": "16aed2e2-fd43-4ea0-b54b-1589138c054e",
   "metadata": {},
   "outputs": [],
   "source": [
    "by_pos_tag = dict(list(data.groupby('pos_tag')))"
   ]
  },
  {
   "cell_type": "code",
   "execution_count": null,
   "id": "7cdc3698-4f56-48fe-ad9c-6a166da77517",
   "metadata": {},
   "outputs": [
    {
     "name": "stdout",
     "output_type": "stream",
     "text": [
      "Type: A\n",
      "Avg Accurecy: 0.805976753288746, Avg Edit Distance 0.6081754905464509\n",
      "Type: Adv\n",
      "Avg Accurecy: 0.13860369609856263, Avg Edit Distance 2.6006160164271046\n",
      "Type: Cj\n",
      "Avg Accurecy: 0.367816091954023, Avg Edit Distance 1.6666666666666667\n",
      "Type: Interj\n",
      "Avg Accurecy: 0.32196969696969696, Avg Edit Distance 1.7196969696969697\n",
      "Type: N\n",
      "Avg Accurecy: 0.747409414002461, Avg Edit Distance 0.6992080627059285\n",
      "Type: Num\n",
      "Avg Accurecy: 0.5429155313351499, Avg Edit Distance 1.7438692098092643\n",
      "Type: Other\n",
      "Avg Accurecy: 0.7265209686946249, Avg Edit Distance 0.7643236857649144\n",
      "Type: Pp\n",
      "Avg Accurecy: 0.203125, Avg Edit Distance 2.03125\n",
      "Type: Pron\n",
      "Avg Accurecy: 0.42257001647446457, Avg Edit Distance 1.5782537067545306\n",
      "Type: V\n"
     ]
    }
   ],
   "source": [
    "evaluate_category(by_pos_tag)"
   ]
  },
  {
   "cell_type": "markdown",
   "id": "db17589c-d9ee-410f-b6ed-bd4240b56d3a",
   "metadata": {},
   "source": [
    "## word_length"
   ]
  },
  {
   "cell_type": "code",
   "execution_count": null,
   "id": "ad90cecd-8460-48c5-8ba0-4c42b9ea2235",
   "metadata": {},
   "outputs": [],
   "source": [
    "sns.countplot(data, x ='word_length_category')"
   ]
  },
  {
   "cell_type": "code",
   "execution_count": null,
   "id": "59997cc2-4a0d-476c-a468-a8130972fcbb",
   "metadata": {},
   "outputs": [],
   "source": [
    "by_word_length = dict(list(data.groupby('word_length_category')))"
   ]
  },
  {
   "cell_type": "code",
   "execution_count": null,
   "id": "f1e9a93e-94ae-48fe-beeb-6dd96a16af7d",
   "metadata": {},
   "outputs": [],
   "source": [
    "evaluate_category(by_word_length)"
   ]
  },
  {
   "cell_type": "markdown",
   "id": "a455e88a-d796-4cb6-8752-985dfe3bdcfa",
   "metadata": {},
   "source": [
    "## lemma length"
   ]
  },
  {
   "cell_type": "code",
   "execution_count": null,
   "id": "36c66a30-b44e-4789-a65a-d3f5088b4090",
   "metadata": {},
   "outputs": [],
   "source": [
    "sns.countplot(data, x ='lemma_length_category')"
   ]
  },
  {
   "cell_type": "code",
   "execution_count": null,
   "id": "cb3c7c0a-13e2-4fc1-844c-e971b8f9349f",
   "metadata": {},
   "outputs": [],
   "source": [
    "by_lemma_length = dict(list(data.groupby('lemma_length_category')))"
   ]
  },
  {
   "cell_type": "code",
   "execution_count": null,
   "id": "84d45635-b3a0-4f67-899f-a56f0454c6b2",
   "metadata": {},
   "outputs": [],
   "source": [
    "evaluate_category(by_lemma_length)"
   ]
  },
  {
   "cell_type": "markdown",
   "id": "33c3d6f9-3338-4daf-a128-5772237a1715",
   "metadata": {},
   "source": [
    "## Word Length / Lemma Length Ratio"
   ]
  },
  {
   "cell_type": "code",
   "execution_count": null,
   "id": "cd1ee2c9-6780-4c8b-9fc2-a5107a61fa82",
   "metadata": {},
   "outputs": [],
   "source": [
    "sns.countplot(data, x ='ratio_category')"
   ]
  },
  {
   "cell_type": "code",
   "execution_count": null,
   "id": "a14ff8c8-8328-44f3-8e23-90f2cf21c269",
   "metadata": {},
   "outputs": [],
   "source": [
    "by_ratio = dict(list(data.groupby('ratio_category')))"
   ]
  },
  {
   "cell_type": "code",
   "execution_count": null,
   "id": "ecc8a450-a3d2-4843-95a7-d4db45a428a1",
   "metadata": {},
   "outputs": [],
   "source": [
    "evaluate_category(by_ratio)"
   ]
  },
  {
   "cell_type": "markdown",
   "id": "1a846465-ade4-4a3b-9651-1d8cdbc7aa62",
   "metadata": {},
   "source": [
    "## Frequencies"
   ]
  },
  {
   "cell_type": "code",
   "execution_count": null,
   "id": "1a0bd4c5-6749-454a-adab-6e36c42dc963",
   "metadata": {},
   "outputs": [],
   "source": [
    "sns.countplot(data, x ='freq_category')"
   ]
  },
  {
   "cell_type": "code",
   "execution_count": null,
   "id": "76a5da1f-d246-457a-bb95-f876c10568d0",
   "metadata": {},
   "outputs": [],
   "source": [
    "by_freq = dict(list(data.groupby('freq_category')))"
   ]
  },
  {
   "cell_type": "code",
   "execution_count": null,
   "id": "cf831686-5b44-4c13-bcfe-8243bee27802",
   "metadata": {},
   "outputs": [],
   "source": [
    "evaluate_category(by_freq)"
   ]
  },
  {
   "cell_type": "markdown",
   "id": "473bb2f0-a8db-4851-8aeb-ed62e812f4d6",
   "metadata": {},
   "source": [
    "## Reported Speech"
   ]
  },
  {
   "cell_type": "code",
   "execution_count": null,
   "id": "5f779ab8-8542-4297-b7ca-7320c9fb41cc",
   "metadata": {},
   "outputs": [],
   "source": [
    "sns.countplot(data, x ='reported_speech')"
   ]
  },
  {
   "cell_type": "code",
   "execution_count": null,
   "id": "97a79e2f-ad1c-473f-91ab-81e00ef2992f",
   "metadata": {},
   "outputs": [],
   "source": [
    "by_reported_speech = dict(list(data.groupby('reported_speech')))"
   ]
  },
  {
   "cell_type": "code",
   "execution_count": null,
   "id": "7287b4e2-9964-4366-a424-ad9a5cfc8c10",
   "metadata": {},
   "outputs": [],
   "source": [
    "evaluate_category(by_reported_speech)"
   ]
  },
  {
   "cell_type": "code",
   "execution_count": null,
   "id": "366a5d92-6800-4f30-b266-163d8aabc8fb",
   "metadata": {},
   "outputs": [],
   "source": []
  },
  {
   "cell_type": "code",
   "execution_count": null,
   "id": "39994ce8-1b60-41dc-b760-9a52f2bcf4d1",
   "metadata": {},
   "outputs": [],
   "source": []
  }
 ],
 "metadata": {
  "environment": {
   "kernel": "conda-env-pytorch-pytorch",
   "name": "workbench-notebooks.m109",
   "type": "gcloud",
   "uri": "gcr.io/deeplearning-platform-release/workbench-notebooks:m109"
  },
  "kernelspec": {
   "display_name": "PyTorch 1-13",
   "language": "python",
   "name": "conda-env-pytorch-pytorch"
  },
  "language_info": {
   "codemirror_mode": {
    "name": "ipython",
    "version": 3
   },
   "file_extension": ".py",
   "mimetype": "text/x-python",
   "name": "python",
   "nbconvert_exporter": "python",
   "pygments_lexer": "ipython3",
   "version": "3.10.12"
  }
 },
 "nbformat": 4,
 "nbformat_minor": 5
}
