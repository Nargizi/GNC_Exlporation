{
 "cells": [
  {
   "cell_type": "code",
   "execution_count": 203,
   "id": "46ee5db5-cb34-4f08-85ce-2341d827ad72",
   "metadata": {},
   "outputs": [],
   "source": [
    "%matplotlib inline\n",
    "\n",
    "from ast import literal_eval\n",
    "import re\n",
    "import pandas as pd\n",
    "import numpy as np\n",
    "import matplotlib.pyplot as plt\n",
    "import seaborn as sns\n",
    "pd.options.display.float_format = '{:.8f}'.format"
   ]
  },
  {
   "cell_type": "markdown",
   "id": "c5234248-1152-4669-a14b-208523cdc283",
   "metadata": {
    "tags": []
   },
   "source": [
    "# საწყისი ცხრილი"
   ]
  },
  {
   "cell_type": "markdown",
   "id": "72817936-33e4-461b-ae6f-fd54e83f21d1",
   "metadata": {},
   "source": [
    "ცხრილის მონაცემები, სადაც კორპუსიდან ამოღბულია სიტყვის ყველა შესაძლო მახასიათებელი. მათ შორის ლემების და მეტყველების ნაწილაკებიხ რამოდენიმე ვარიანტი"
   ]
  },
  {
   "cell_type": "code",
   "execution_count": 2,
   "id": "4e2178a3-116b-499b-98b2-d18635918551",
   "metadata": {},
   "outputs": [
    {
     "data": {
      "text/html": [
       "<div>\n",
       "<style scoped>\n",
       "    .dataframe tbody tr th:only-of-type {\n",
       "        vertical-align: middle;\n",
       "    }\n",
       "\n",
       "    .dataframe tbody tr th {\n",
       "        vertical-align: top;\n",
       "    }\n",
       "\n",
       "    .dataframe thead th {\n",
       "        text-align: right;\n",
       "    }\n",
       "</style>\n",
       "<table border=\"1\" class=\"dataframe\">\n",
       "  <thead>\n",
       "    <tr style=\"text-align: right;\">\n",
       "      <th></th>\n",
       "      <th>word_init</th>\n",
       "      <th>word_mod</th>\n",
       "      <th>lemma_basic</th>\n",
       "      <th>lemma_adv</th>\n",
       "      <th>pos_tag</th>\n",
       "      <th>freq</th>\n",
       "    </tr>\n",
       "  </thead>\n",
       "  <tbody>\n",
       "    <tr>\n",
       "      <th>0</th>\n",
       "      <td>ამ</td>\n",
       "      <td>ამ</td>\n",
       "      <td>{'??', '\\t', 'ეს'}</td>\n",
       "      <td>{'??', 'ეს'}</td>\n",
       "      <td>{'Pron', 'Dem', 'Gen', 'Erg', 'Prop', 'Inst', ...</td>\n",
       "      <td>1041654</td>\n",
       "    </tr>\n",
       "    <tr>\n",
       "      <th>1</th>\n",
       "      <td>ზამთრის</td>\n",
       "      <td>ზამთრის</td>\n",
       "      <td>{'ზამთარი', 'ზამთარ·ი'}</td>\n",
       "      <td>{'ზამთ[ა]რ-ი', 'ზამთ[ა]რ·ი'}</td>\n",
       "      <td>{'Gen', 'Sg', 'LevGuess', 'Temp', 'N'}</td>\n",
       "      <td>8035</td>\n",
       "    </tr>\n",
       "    <tr>\n",
       "      <th>2</th>\n",
       "      <td>მიწურულს</td>\n",
       "      <td>მიწურულს</td>\n",
       "      <td>{'მი·წურულ·ი', 'მიწურული', 'მიწურულ·ი'}</td>\n",
       "      <td>{'მიწურულ·ი', 'მი-წურულ-ი/წურ', 'მიწურულ-ი', '...</td>\n",
       "      <td>{'Pv', 'Sg', 'A', 'PastPart', 'LevGuess', 'Dat...</td>\n",
       "      <td>5976</td>\n",
       "    </tr>\n",
       "    <tr>\n",
       "      <th>3</th>\n",
       "      <td>თითქმის</td>\n",
       "      <td>თითქმის</td>\n",
       "      <td>{'თითქმის'}</td>\n",
       "      <td>{'თითქმის'}</td>\n",
       "      <td>{'LevGuess', 'Adv', 'DegNum', 'Deg'}</td>\n",
       "      <td>62608</td>\n",
       "    </tr>\n",
       "    <tr>\n",
       "      <th>4</th>\n",
       "      <td>სასოწარკვეთილი</td>\n",
       "      <td>სასოწარკვეთილი</td>\n",
       "      <td>{'სასოწარკვეთილ·ი', 'სასოწარკვეთილი'}</td>\n",
       "      <td>{'სასოწარკვეთილ·ი', 'სასოწარკვეთილ-ი'}</td>\n",
       "      <td>{'Gen', 'Att', 'A', 'Nom', 'Sg', 'Inst', 'LevG...</td>\n",
       "      <td>844</td>\n",
       "    </tr>\n",
       "    <tr>\n",
       "      <th>...</th>\n",
       "      <td>...</td>\n",
       "      <td>...</td>\n",
       "      <td>...</td>\n",
       "      <td>...</td>\n",
       "      <td>...</td>\n",
       "      <td>...</td>\n",
       "    </tr>\n",
       "    <tr>\n",
       "      <th>95</th>\n",
       "      <td>ხომ</td>\n",
       "      <td>ხომ</td>\n",
       "      <td>{'ხომ'}</td>\n",
       "      <td>{'ხომ'}</td>\n",
       "      <td>{'Disc', 'Adv'}</td>\n",
       "      <td>127578</td>\n",
       "    </tr>\n",
       "    <tr>\n",
       "      <th>96</th>\n",
       "      <td>ვსაყვედურობდი</td>\n",
       "      <td>ვსაყვედურობდი</td>\n",
       "      <td>{'საყვედურ·ი', 'საყვედური'}</td>\n",
       "      <td>{'საყვედურ-ი/საყვედურ', 'საყვედურ·ი/საყვედურ'}</td>\n",
       "      <td>{'&lt;S:Nom&gt;', 'S:1Sg', 'V', 'MedAct', '&lt;S-IO&gt;', ...</td>\n",
       "      <td>19</td>\n",
       "    </tr>\n",
       "    <tr>\n",
       "      <th>97</th>\n",
       "      <td>საწინააღმდეგო</td>\n",
       "      <td>საწინააღმდეგო</td>\n",
       "      <td>{'საწინააღმდეგო'}</td>\n",
       "      <td>{'საწინააღმდეგო'}</td>\n",
       "      <td>{'Gen', 'Erg', 'Att', 'A', 'Nom', 'Inst', 'Sg'...</td>\n",
       "      <td>9474</td>\n",
       "    </tr>\n",
       "    <tr>\n",
       "      <th>98</th>\n",
       "      <td>გაქვს</td>\n",
       "      <td>გაქვს</td>\n",
       "      <td>{'ქონა'}</td>\n",
       "      <td>{'ქონ[ა]/ქვ'}</td>\n",
       "      <td>{'DO:3', '&lt;DO:Nom&gt;', 'V', 'Inv', '&lt;S:Dat&gt;', 'S...</td>\n",
       "      <td>8972</td>\n",
       "    </tr>\n",
       "    <tr>\n",
       "      <th>99</th>\n",
       "      <td>წამოვდექი</td>\n",
       "      <td>წამოვდექი</td>\n",
       "      <td>{'წამოდგომა', 'წამო·დგომა'}</td>\n",
       "      <td>{'წამო·დგომ[ა]/დექ', 'წამო-დგომ[ა]/დექ'}</td>\n",
       "      <td>{'Pv', '&lt;S:Nom&gt;', 'S:1Sg', 'V', '&lt;S&gt;', 'LevGue...</td>\n",
       "      <td>332</td>\n",
       "    </tr>\n",
       "  </tbody>\n",
       "</table>\n",
       "<p>100 rows × 6 columns</p>\n",
       "</div>"
      ],
      "text/plain": [
       "         word_init        word_mod                              lemma_basic  \\\n",
       "0               ამ              ამ                       {'??', '\\t', 'ეს'}   \n",
       "1          ზამთრის         ზამთრის                  {'ზამთარი', 'ზამთარ·ი'}   \n",
       "2         მიწურულს        მიწურულს  {'მი·წურულ·ი', 'მიწურული', 'მიწურულ·ი'}   \n",
       "3          თითქმის         თითქმის                              {'თითქმის'}   \n",
       "4   სასოწარკვეთილი  სასოწარკვეთილი    {'სასოწარკვეთილ·ი', 'სასოწარკვეთილი'}   \n",
       "..             ...             ...                                      ...   \n",
       "95             ხომ             ხომ                                  {'ხომ'}   \n",
       "96   ვსაყვედურობდი   ვსაყვედურობდი              {'საყვედურ·ი', 'საყვედური'}   \n",
       "97   საწინააღმდეგო   საწინააღმდეგო                        {'საწინააღმდეგო'}   \n",
       "98           გაქვს           გაქვს                                 {'ქონა'}   \n",
       "99       წამოვდექი       წამოვდექი              {'წამოდგომა', 'წამო·დგომა'}   \n",
       "\n",
       "                                            lemma_adv  \\\n",
       "0                                        {'??', 'ეს'}   \n",
       "1                        {'ზამთ[ა]რ-ი', 'ზამთ[ა]რ·ი'}   \n",
       "2   {'მიწურულ·ი', 'მი-წურულ-ი/წურ', 'მიწურულ-ი', '...   \n",
       "3                                         {'თითქმის'}   \n",
       "4              {'სასოწარკვეთილ·ი', 'სასოწარკვეთილ-ი'}   \n",
       "..                                                ...   \n",
       "95                                            {'ხომ'}   \n",
       "96     {'საყვედურ-ი/საყვედურ', 'საყვედურ·ი/საყვედურ'}   \n",
       "97                                  {'საწინააღმდეგო'}   \n",
       "98                                      {'ქონ[ა]/ქვ'}   \n",
       "99           {'წამო·დგომ[ა]/დექ', 'წამო-დგომ[ა]/დექ'}   \n",
       "\n",
       "                                              pos_tag     freq  \n",
       "0   {'Pron', 'Dem', 'Gen', 'Erg', 'Prop', 'Inst', ...  1041654  \n",
       "1              {'Gen', 'Sg', 'LevGuess', 'Temp', 'N'}     8035  \n",
       "2   {'Pv', 'Sg', 'A', 'PastPart', 'LevGuess', 'Dat...     5976  \n",
       "3                {'LevGuess', 'Adv', 'DegNum', 'Deg'}    62608  \n",
       "4   {'Gen', 'Att', 'A', 'Nom', 'Sg', 'Inst', 'LevG...      844  \n",
       "..                                                ...      ...  \n",
       "95                                    {'Disc', 'Adv'}   127578  \n",
       "96  {'<S:Nom>', 'S:1Sg', 'V', 'MedAct', '<S-IO>', ...       19  \n",
       "97  {'Gen', 'Erg', 'Att', 'A', 'Nom', 'Inst', 'Sg'...     9474  \n",
       "98  {'DO:3', '<DO:Nom>', 'V', 'Inv', '<S:Dat>', 'S...     8972  \n",
       "99  {'Pv', '<S:Nom>', 'S:1Sg', 'V', '<S>', 'LevGue...      332  \n",
       "\n",
       "[100 rows x 6 columns]"
      ]
     },
     "execution_count": 2,
     "metadata": {},
     "output_type": "execute_result"
    }
   ],
   "source": [
    "df = pd.read_csv('csv/adv_dict.csv')\n",
    "df[:100]"
   ]
  },
  {
   "cell_type": "code",
   "execution_count": 3,
   "id": "f2358f7f-03ce-4451-9c34-a8885d52f341",
   "metadata": {},
   "outputs": [
    {
     "name": "stdout",
     "output_type": "stream",
     "text": [
      "number of words: 2635260\n"
     ]
    }
   ],
   "source": [
    "print(f'number of words: {df.shape[0]}')"
   ]
  },
  {
   "cell_type": "markdown",
   "id": "6dcdc863-9d69-442d-af06-2845178ee61d",
   "metadata": {
    "tags": []
   },
   "source": [
    "## ცხრილის გასუფთავება"
   ]
  },
  {
   "cell_type": "markdown",
   "id": "2be8c477-62bf-4007-a2b4-1409c2ea42f3",
   "metadata": {
    "tags": []
   },
   "source": [
    "### სიტყვები"
   ]
  },
  {
   "cell_type": "code",
   "execution_count": 4,
   "id": "3f9a0f46-8680-4b71-9fa3-a2ab74a42ee8",
   "metadata": {},
   "outputs": [
    {
     "name": "stdout",
     "output_type": "stream",
     "text": [
      "number of words with different \"word_init\" and \"word_mod\" forms: 39066\n"
     ]
    },
    {
     "data": {
      "text/html": [
       "<div>\n",
       "<style scoped>\n",
       "    .dataframe tbody tr th:only-of-type {\n",
       "        vertical-align: middle;\n",
       "    }\n",
       "\n",
       "    .dataframe tbody tr th {\n",
       "        vertical-align: top;\n",
       "    }\n",
       "\n",
       "    .dataframe thead th {\n",
       "        text-align: right;\n",
       "    }\n",
       "</style>\n",
       "<table border=\"1\" class=\"dataframe\">\n",
       "  <thead>\n",
       "    <tr style=\"text-align: right;\">\n",
       "      <th></th>\n",
       "      <th>word_init</th>\n",
       "      <th>word_mod</th>\n",
       "      <th>lemma_basic</th>\n",
       "      <th>lemma_adv</th>\n",
       "      <th>pos_tag</th>\n",
       "      <th>freq</th>\n",
       "      <th>diff</th>\n",
       "    </tr>\n",
       "  </thead>\n",
       "  <tbody>\n",
       "    <tr>\n",
       "      <th>163</th>\n",
       "      <td>ფანტავდა~</td>\n",
       "      <td>ფანტავდა</td>\n",
       "      <td>{'*·ფანტვა'}</td>\n",
       "      <td>{'*·ფანტვ[ა]/ფანტ'}</td>\n",
       "      <td>{'&lt;S:Nom&gt;', 'DO:3', 'S:3Sg', 'V', '&lt;DO:Dat&gt;', ...</td>\n",
       "      <td>50</td>\n",
       "      <td>1</td>\n",
       "    </tr>\n",
       "    <tr>\n",
       "      <th>177</th>\n",
       "      <td>სტაბეკს</td>\n",
       "      <td>სტაშეკს</td>\n",
       "      <td>{'სტაშეკ'}</td>\n",
       "      <td>{'სტაშეკ'}</td>\n",
       "      <td>{'Prop', 'Anthr', 'Dialect', 'LevGuess', 'Firs...</td>\n",
       "      <td>8</td>\n",
       "      <td>1</td>\n",
       "    </tr>\n",
       "    <tr>\n",
       "      <th>219</th>\n",
       "      <td>დამკვიდრა</td>\n",
       "      <td>დამკვიდრდა</td>\n",
       "      <td>{'დამკვიდრება', 'და·მკვიდრება'}</td>\n",
       "      <td>{'და·მკვიდრებ[ა]/მკვიდრ', 'და-მკვიდრებ[ა]/მკვი...</td>\n",
       "      <td>{'Pv', '&lt;S:Nom&gt;', 'S:3Sg', 'V', '&lt;S&gt;', 'LevGue...</td>\n",
       "      <td>2083</td>\n",
       "      <td>1</td>\n",
       "    </tr>\n",
       "    <tr>\n",
       "      <th>333</th>\n",
       "      <td>დავბოდიალობდი</td>\n",
       "      <td>დავბორიალობდი</td>\n",
       "      <td>{'და·ბორიალ·ი'}</td>\n",
       "      <td>{'და·ბორიალ·ი/ბორიალ'}</td>\n",
       "      <td>{'Pv', '&lt;S:Nom&gt;', 'S:1Sg', 'V', 'MedAct', '&lt;S&gt;...</td>\n",
       "      <td>22</td>\n",
       "      <td>1</td>\n",
       "    </tr>\n",
       "    <tr>\n",
       "      <th>428</th>\n",
       "      <td>მქონებოდა</td>\n",
       "      <td>მგონებოდა</td>\n",
       "      <td>{'გონება'}</td>\n",
       "      <td>{'გონებ[ა]/გონ'}</td>\n",
       "      <td>{'DO:3', '&lt;DO:Nom&gt;', 'V', 'Inv', '&lt;S:Dat&gt;', '&lt;...</td>\n",
       "      <td>19</td>\n",
       "      <td>1</td>\n",
       "    </tr>\n",
       "    <tr>\n",
       "      <th>...</th>\n",
       "      <td>...</td>\n",
       "      <td>...</td>\n",
       "      <td>...</td>\n",
       "      <td>...</td>\n",
       "      <td>...</td>\n",
       "      <td>...</td>\n",
       "      <td>...</td>\n",
       "    </tr>\n",
       "    <tr>\n",
       "      <th>6535</th>\n",
       "      <td>გავვოცდი</td>\n",
       "      <td>გავოცდი</td>\n",
       "      <td>{'გა·ოცება'}</td>\n",
       "      <td>{'გა·ოცებ[ა]/ოც'}</td>\n",
       "      <td>{'Pv', '&lt;S:Nom&gt;', 'S:1Sg', 'V', '&lt;S&gt;', 'LevGue...</td>\n",
       "      <td>288</td>\n",
       "      <td>1</td>\n",
       "    </tr>\n",
       "    <tr>\n",
       "      <th>6541</th>\n",
       "      <td>ახვრებს</td>\n",
       "      <td>ახარებს</td>\n",
       "      <td>{'ხარება', '*·ხარება', 'გა·ხარება'}</td>\n",
       "      <td>{'გა·ხარებ[ა]/ხარ', '*·ხარება', '*·ხარებ[ა]/ხარ'}</td>\n",
       "      <td>{'&lt;S:Nom&gt;', 'DO:3', 'S:3Sg', 'V', '&lt;S-DO-IO&gt;',...</td>\n",
       "      <td>591</td>\n",
       "      <td>1</td>\n",
       "    </tr>\n",
       "    <tr>\n",
       "      <th>6742</th>\n",
       "      <td>მხირულება</td>\n",
       "      <td>მხიარულება</td>\n",
       "      <td>{'მხიარულება'}</td>\n",
       "      <td>{'მხიარულებ[ა]'}</td>\n",
       "      <td>{'Sg', 'Nom', 'Voc', 'LevGuess', 'N'}</td>\n",
       "      <td>448</td>\n",
       "      <td>1</td>\n",
       "    </tr>\n",
       "    <tr>\n",
       "      <th>6854</th>\n",
       "      <td>ფონოკაბინეტს</td>\n",
       "      <td>ფოტოკაბინეტს</td>\n",
       "      <td>{'ფოტოკაბინეტ·ი'}</td>\n",
       "      <td>{'ფოტოკაბინეტ·ი'}</td>\n",
       "      <td>{'LevGuess', 'Dat', 'Sg', 'N'}</td>\n",
       "      <td>2</td>\n",
       "      <td>1</td>\n",
       "    </tr>\n",
       "    <tr>\n",
       "      <th>6857</th>\n",
       "      <td>ავნერვიულდი</td>\n",
       "      <td>გავნერვიულდი</td>\n",
       "      <td>{'გა·ნერვიულება'}</td>\n",
       "      <td>{'გა·ნერვიულებ[ა]/ნერვიულ'}</td>\n",
       "      <td>{'Pv', '&lt;S:Nom&gt;', 'S:1Sg', 'V', '&lt;S&gt;', 'LevGue...</td>\n",
       "      <td>55</td>\n",
       "      <td>1</td>\n",
       "    </tr>\n",
       "  </tbody>\n",
       "</table>\n",
       "<p>100 rows × 7 columns</p>\n",
       "</div>"
      ],
      "text/plain": [
       "          word_init       word_mod                          lemma_basic  \\\n",
       "163       ფანტავდა~       ფანტავდა                         {'*·ფანტვა'}   \n",
       "177         სტაბეკს        სტაშეკს                           {'სტაშეკ'}   \n",
       "219       დამკვიდრა     დამკვიდრდა      {'დამკვიდრება', 'და·მკვიდრება'}   \n",
       "333   დავბოდიალობდი  დავბორიალობდი                      {'და·ბორიალ·ი'}   \n",
       "428       მქონებოდა      მგონებოდა                           {'გონება'}   \n",
       "...             ...            ...                                  ...   \n",
       "6535       გავვოცდი        გავოცდი                         {'გა·ოცება'}   \n",
       "6541        ახვრებს        ახარებს  {'ხარება', '*·ხარება', 'გა·ხარება'}   \n",
       "6742      მხირულება     მხიარულება                       {'მხიარულება'}   \n",
       "6854   ფონოკაბინეტს   ფოტოკაბინეტს                    {'ფოტოკაბინეტ·ი'}   \n",
       "6857    ავნერვიულდი   გავნერვიულდი                    {'გა·ნერვიულება'}   \n",
       "\n",
       "                                              lemma_adv  \\\n",
       "163                                 {'*·ფანტვ[ა]/ფანტ'}   \n",
       "177                                          {'სტაშეკ'}   \n",
       "219   {'და·მკვიდრებ[ა]/მკვიდრ', 'და-მკვიდრებ[ა]/მკვი...   \n",
       "333                              {'და·ბორიალ·ი/ბორიალ'}   \n",
       "428                                    {'გონებ[ა]/გონ'}   \n",
       "...                                                 ...   \n",
       "6535                                  {'გა·ოცებ[ა]/ოც'}   \n",
       "6541  {'გა·ხარებ[ა]/ხარ', '*·ხარება', '*·ხარებ[ა]/ხარ'}   \n",
       "6742                                   {'მხიარულებ[ა]'}   \n",
       "6854                                  {'ფოტოკაბინეტ·ი'}   \n",
       "6857                        {'გა·ნერვიულებ[ა]/ნერვიულ'}   \n",
       "\n",
       "                                                pos_tag  freq  diff  \n",
       "163   {'<S:Nom>', 'DO:3', 'S:3Sg', 'V', '<DO:Dat>', ...    50     1  \n",
       "177   {'Prop', 'Anthr', 'Dialect', 'LevGuess', 'Firs...     8     1  \n",
       "219   {'Pv', '<S:Nom>', 'S:3Sg', 'V', '<S>', 'LevGue...  2083     1  \n",
       "333   {'Pv', '<S:Nom>', 'S:1Sg', 'V', 'MedAct', '<S>...    22     1  \n",
       "428   {'DO:3', '<DO:Nom>', 'V', 'Inv', '<S:Dat>', '<...    19     1  \n",
       "...                                                 ...   ...   ...  \n",
       "6535  {'Pv', '<S:Nom>', 'S:1Sg', 'V', '<S>', 'LevGue...   288     1  \n",
       "6541  {'<S:Nom>', 'DO:3', 'S:3Sg', 'V', '<S-DO-IO>',...   591     1  \n",
       "6742              {'Sg', 'Nom', 'Voc', 'LevGuess', 'N'}   448     1  \n",
       "6854                     {'LevGuess', 'Dat', 'Sg', 'N'}     2     1  \n",
       "6857  {'Pv', '<S:Nom>', 'S:1Sg', 'V', '<S>', 'LevGue...    55     1  \n",
       "\n",
       "[100 rows x 7 columns]"
      ]
     },
     "execution_count": 4,
     "metadata": {},
     "output_type": "execute_result"
    }
   ],
   "source": [
    "df['diff'] = np.where(df['word_init'] != df['word_mod'], 1, 0)\n",
    "diff = df[df['diff'] == 1]\n",
    "print(f'number of words with different \"word_init\" and \"word_mod\" forms: {diff.shape[0]}')\n",
    "diff[:100]"
   ]
  },
  {
   "cell_type": "markdown",
   "id": "8e88aa23-9460-43c6-8e9e-5f9a11eb3700",
   "metadata": {},
   "source": [
    "ზოგ შემთხვევაში \"word_mod\"-ში მოცემული გვაქვს \"word_init\" ფორმის ანუ რაც ტექსტში იყო მოცემული საწყისად მისი გასწორებული ვარიანტი. დამკვიდრა -> დამკვიდრდა ან გავვოცდი -> გავოცდი, მხირულება -> მხიარულება. თუმცა ზოგიერთ შემთხვევაში ძირფესვიანი ცვლილება ხდება სიტყვის მქონებოდა -> მგონებოდა ან ახვრებს -> ახარებს ;დდდ. ყველა შემთხვევაში ლემები გვაქვს სიტყვის სახეცვლილი/ გასწორებული ფორმის და არა იმ ფორმის რაც რეალურად ტექტში იყო ანუ გამართული ქართული სიტყვს. აქედან გამომდინარე შეგვიძლია საწყისი ველი დავდროფოთ საერთოდ. "
   ]
  },
  {
   "cell_type": "code",
   "execution_count": 5,
   "id": "79f789c4-12f8-4ece-bfb8-eccb23418e6c",
   "metadata": {},
   "outputs": [
    {
     "data": {
      "text/html": [
       "<div>\n",
       "<style scoped>\n",
       "    .dataframe tbody tr th:only-of-type {\n",
       "        vertical-align: middle;\n",
       "    }\n",
       "\n",
       "    .dataframe tbody tr th {\n",
       "        vertical-align: top;\n",
       "    }\n",
       "\n",
       "    .dataframe thead th {\n",
       "        text-align: right;\n",
       "    }\n",
       "</style>\n",
       "<table border=\"1\" class=\"dataframe\">\n",
       "  <thead>\n",
       "    <tr style=\"text-align: right;\">\n",
       "      <th></th>\n",
       "      <th>word</th>\n",
       "      <th>lemma_basic</th>\n",
       "      <th>lemma_adv</th>\n",
       "      <th>pos_tag</th>\n",
       "      <th>freq</th>\n",
       "    </tr>\n",
       "  </thead>\n",
       "  <tbody>\n",
       "    <tr>\n",
       "      <th>0</th>\n",
       "      <td>ამ</td>\n",
       "      <td>{'??', '\\t', 'ეს'}</td>\n",
       "      <td>{'??', 'ეს'}</td>\n",
       "      <td>{'Pron', 'Dem', 'Gen', 'Erg', 'Prop', 'Inst', ...</td>\n",
       "      <td>1041654</td>\n",
       "    </tr>\n",
       "    <tr>\n",
       "      <th>1</th>\n",
       "      <td>ზამთრის</td>\n",
       "      <td>{'ზამთარი', 'ზამთარ·ი'}</td>\n",
       "      <td>{'ზამთ[ა]რ-ი', 'ზამთ[ა]რ·ი'}</td>\n",
       "      <td>{'Gen', 'Sg', 'LevGuess', 'Temp', 'N'}</td>\n",
       "      <td>8035</td>\n",
       "    </tr>\n",
       "    <tr>\n",
       "      <th>2</th>\n",
       "      <td>მიწურულს</td>\n",
       "      <td>{'მი·წურულ·ი', 'მიწურული', 'მიწურულ·ი'}</td>\n",
       "      <td>{'მიწურულ·ი', 'მი-წურულ-ი/წურ', 'მიწურულ-ი', '...</td>\n",
       "      <td>{'Pv', 'Sg', 'A', 'PastPart', 'LevGuess', 'Dat...</td>\n",
       "      <td>5976</td>\n",
       "    </tr>\n",
       "    <tr>\n",
       "      <th>3</th>\n",
       "      <td>თითქმის</td>\n",
       "      <td>{'თითქმის'}</td>\n",
       "      <td>{'თითქმის'}</td>\n",
       "      <td>{'LevGuess', 'Adv', 'DegNum', 'Deg'}</td>\n",
       "      <td>62608</td>\n",
       "    </tr>\n",
       "    <tr>\n",
       "      <th>4</th>\n",
       "      <td>სასოწარკვეთილი</td>\n",
       "      <td>{'სასოწარკვეთილ·ი', 'სასოწარკვეთილი'}</td>\n",
       "      <td>{'სასოწარკვეთილ·ი', 'სასოწარკვეთილ-ი'}</td>\n",
       "      <td>{'Gen', 'Att', 'A', 'Nom', 'Sg', 'Inst', 'LevG...</td>\n",
       "      <td>844</td>\n",
       "    </tr>\n",
       "    <tr>\n",
       "      <th>...</th>\n",
       "      <td>...</td>\n",
       "      <td>...</td>\n",
       "      <td>...</td>\n",
       "      <td>...</td>\n",
       "      <td>...</td>\n",
       "    </tr>\n",
       "    <tr>\n",
       "      <th>95</th>\n",
       "      <td>ხომ</td>\n",
       "      <td>{'ხომ'}</td>\n",
       "      <td>{'ხომ'}</td>\n",
       "      <td>{'Disc', 'Adv'}</td>\n",
       "      <td>127578</td>\n",
       "    </tr>\n",
       "    <tr>\n",
       "      <th>96</th>\n",
       "      <td>ვსაყვედურობდი</td>\n",
       "      <td>{'საყვედურ·ი', 'საყვედური'}</td>\n",
       "      <td>{'საყვედურ-ი/საყვედურ', 'საყვედურ·ი/საყვედურ'}</td>\n",
       "      <td>{'&lt;S:Nom&gt;', 'S:1Sg', 'V', 'MedAct', '&lt;S-IO&gt;', ...</td>\n",
       "      <td>19</td>\n",
       "    </tr>\n",
       "    <tr>\n",
       "      <th>97</th>\n",
       "      <td>საწინააღმდეგო</td>\n",
       "      <td>{'საწინააღმდეგო'}</td>\n",
       "      <td>{'საწინააღმდეგო'}</td>\n",
       "      <td>{'Gen', 'Erg', 'Att', 'A', 'Nom', 'Inst', 'Sg'...</td>\n",
       "      <td>9474</td>\n",
       "    </tr>\n",
       "    <tr>\n",
       "      <th>98</th>\n",
       "      <td>გაქვს</td>\n",
       "      <td>{'ქონა'}</td>\n",
       "      <td>{'ქონ[ა]/ქვ'}</td>\n",
       "      <td>{'DO:3', '&lt;DO:Nom&gt;', 'V', 'Inv', '&lt;S:Dat&gt;', 'S...</td>\n",
       "      <td>8972</td>\n",
       "    </tr>\n",
       "    <tr>\n",
       "      <th>99</th>\n",
       "      <td>წამოვდექი</td>\n",
       "      <td>{'წამოდგომა', 'წამო·დგომა'}</td>\n",
       "      <td>{'წამო·დგომ[ა]/დექ', 'წამო-დგომ[ა]/დექ'}</td>\n",
       "      <td>{'Pv', '&lt;S:Nom&gt;', 'S:1Sg', 'V', '&lt;S&gt;', 'LevGue...</td>\n",
       "      <td>332</td>\n",
       "    </tr>\n",
       "  </tbody>\n",
       "</table>\n",
       "<p>100 rows × 5 columns</p>\n",
       "</div>"
      ],
      "text/plain": [
       "              word                              lemma_basic  \\\n",
       "0               ამ                       {'??', '\\t', 'ეს'}   \n",
       "1          ზამთრის                  {'ზამთარი', 'ზამთარ·ი'}   \n",
       "2         მიწურულს  {'მი·წურულ·ი', 'მიწურული', 'მიწურულ·ი'}   \n",
       "3          თითქმის                              {'თითქმის'}   \n",
       "4   სასოწარკვეთილი    {'სასოწარკვეთილ·ი', 'სასოწარკვეთილი'}   \n",
       "..             ...                                      ...   \n",
       "95             ხომ                                  {'ხომ'}   \n",
       "96   ვსაყვედურობდი              {'საყვედურ·ი', 'საყვედური'}   \n",
       "97   საწინააღმდეგო                        {'საწინააღმდეგო'}   \n",
       "98           გაქვს                                 {'ქონა'}   \n",
       "99       წამოვდექი              {'წამოდგომა', 'წამო·დგომა'}   \n",
       "\n",
       "                                            lemma_adv  \\\n",
       "0                                        {'??', 'ეს'}   \n",
       "1                        {'ზამთ[ა]რ-ი', 'ზამთ[ა]რ·ი'}   \n",
       "2   {'მიწურულ·ი', 'მი-წურულ-ი/წურ', 'მიწურულ-ი', '...   \n",
       "3                                         {'თითქმის'}   \n",
       "4              {'სასოწარკვეთილ·ი', 'სასოწარკვეთილ-ი'}   \n",
       "..                                                ...   \n",
       "95                                            {'ხომ'}   \n",
       "96     {'საყვედურ-ი/საყვედურ', 'საყვედურ·ი/საყვედურ'}   \n",
       "97                                  {'საწინააღმდეგო'}   \n",
       "98                                      {'ქონ[ა]/ქვ'}   \n",
       "99           {'წამო·დგომ[ა]/დექ', 'წამო-დგომ[ა]/დექ'}   \n",
       "\n",
       "                                              pos_tag     freq  \n",
       "0   {'Pron', 'Dem', 'Gen', 'Erg', 'Prop', 'Inst', ...  1041654  \n",
       "1              {'Gen', 'Sg', 'LevGuess', 'Temp', 'N'}     8035  \n",
       "2   {'Pv', 'Sg', 'A', 'PastPart', 'LevGuess', 'Dat...     5976  \n",
       "3                {'LevGuess', 'Adv', 'DegNum', 'Deg'}    62608  \n",
       "4   {'Gen', 'Att', 'A', 'Nom', 'Sg', 'Inst', 'LevG...      844  \n",
       "..                                                ...      ...  \n",
       "95                                    {'Disc', 'Adv'}   127578  \n",
       "96  {'<S:Nom>', 'S:1Sg', 'V', 'MedAct', '<S-IO>', ...       19  \n",
       "97  {'Gen', 'Erg', 'Att', 'A', 'Nom', 'Inst', 'Sg'...     9474  \n",
       "98  {'DO:3', '<DO:Nom>', 'V', 'Inv', '<S:Dat>', 'S...     8972  \n",
       "99  {'Pv', '<S:Nom>', 'S:1Sg', 'V', '<S>', 'LevGue...      332  \n",
       "\n",
       "[100 rows x 5 columns]"
      ]
     },
     "execution_count": 5,
     "metadata": {},
     "output_type": "execute_result"
    }
   ],
   "source": [
    "df = df.drop(['word_init', 'diff'], axis=1)\n",
    "df = df.rename(columns={'word_mod': 'word'})\n",
    "df = df.dropna(subset=['word'])\n",
    "df[:100]"
   ]
  },
  {
   "cell_type": "markdown",
   "id": "461d2280-c585-430f-99f2-f296710b22a5",
   "metadata": {},
   "source": [
    "ამ ყველაფერთან ერთად გვაქვს სიტყვები, რომლებიც, არასწორადაა ამოჭრილი. მაგ: (სიტყვა, ლათინ- და ა.შ. ანუ შეიცავს ასეობის და რიცხვების გარდა სხვა აღმნიშვნელ ნაწილებს და მისი სხვა ფორმა უკვე მოიძებნება კორპუსში. ესეიგი ეს არ შეეხება კომპოზიტებს, რომლებიც ცალსახად დეფისით იწერება."
   ]
  },
  {
   "cell_type": "code",
   "execution_count": 6,
   "id": "70e9a390-4ec5-4b12-a590-c687f9d30330",
   "metadata": {},
   "outputs": [
    {
     "name": "stdout",
     "output_type": "stream",
     "text": [
      "Number of malformed words: 75023\n"
     ]
    }
   ],
   "source": [
    "words = set(df['word'])\n",
    "malformed_words = set()\n",
    "malformed_word_indecies = list()\n",
    "def extract(row):\n",
    "    x = row['word']\n",
    "    noise = re.compile(r'\\W', re.UNICODE)\n",
    "    try:\n",
    "        word = noise.sub(r'', x)\n",
    "        if word.isnumeric():\n",
    "            return\n",
    "        composite = x.split('-')  # check if word is a composite\n",
    "        if len(composite) == 2 and ((composite[0] in words and composite[1] in words) or (composite[1].startswith(composite[0]))):\n",
    "            return\n",
    "        if all(map(lambda x: len(x) == 1, x.split('.'))):  # check for abbreviation and initials\n",
    "            return\n",
    "        if word != x and word in words:\n",
    "            malformed_words.add((x, word))\n",
    "            malformed_word_indecies.append(row.name)\n",
    "    except Exception:\n",
    "        print(x)\n",
    "    \n",
    "            \n",
    "df.apply(extract, axis=1)\n",
    "print(f\"Number of malformed words: {len(malformed_words)}\")\n"
   ]
  },
  {
   "cell_type": "code",
   "execution_count": 7,
   "id": "33b0e881-e0bf-4170-934a-412229b5fdfa",
   "metadata": {},
   "outputs": [
    {
     "name": "stdout",
     "output_type": "stream",
     "text": [
      "('ხშირსა.”', 'ხშირსა')\n",
      "('წინასწარ-მცნობელობისა', 'წინასწარმცნობელობისა')\n",
      "('სიმბოლოა.“', 'სიმბოლოა')\n",
      "('გაყაო“', 'გაყაო')\n",
      "('ტეტე”', 'ტეტე')\n",
      "('”(უსაფრთხოების', 'უსაფრთხოების')\n",
      "('ჩამოგეყვანათ…-', 'ჩამოგეყვანათ')\n",
      "('უბნებია.“', 'უბნებია')\n",
      "('გა-მორჩეულად', 'გამორჩეულად')\n",
      "('არაკომპეტენტურია.”', 'არაკომპეტენტურია')\n",
      "('გვატყუ-ებ-და', 'გვატყუებდა')\n",
      "('ქართველისა.“', 'ქართველისა')\n",
      "('მაგრამ.“', 'მაგრამ')\n",
      "('ჩვენიანი(', 'ჩვენიანი')\n",
      "('ვენდობოდი.“', 'ვენდობოდი')\n",
      "('ქუთა-ისში', 'ქუთაისში')\n",
      "('უარს.', 'უარს')\n",
      "('Cubano„', 'Cubano')\n",
      "('კონფესიები-', 'კონფესიები')\n",
      "('სობესედნიკმა“', 'სობესედნიკმა')\n",
      "('კგ“', 'კგ')\n",
      "('კონფედერაციაში.“', 'კონფედერაციაში')\n",
      "('შეძლო.', 'შეძლო')\n",
      "('ქაოსში.“', 'ქაოსში')\n",
      "('Q7”', 'Q7')\n",
      "('კო-შ-კ-თ-ან', 'კოშკთან')\n",
      "('”ნატო-ს', 'ნატოს')\n",
      "('ურთიერთობები.”', 'ურთიერთობები')\n",
      "('დი-ვი-დი“', 'დივიდი')\n",
      "('ნა-წი-ლე-ბის', 'ნაწილების')\n",
      "('lucida”', 'lucida')\n",
      "('მომარაგებას.”', 'მომარაგებას')\n",
      "('მიაყენეს.”', 'მიაყენეს')\n",
      "('დამ-თავ-რ-დე-ბა', 'დამთავრდება')\n",
      "('მოვაწყოთ.“', 'მოვაწყოთ')\n",
      "('ლოკომოტივი-', 'ლოკომოტივი')\n",
      "('ოლქზე“', 'ოლქზე')\n",
      "('ოსებისათვის.„', 'ოსებისათვის')\n",
      "('მოვიყ-ვანეთ', 'მოვიყვანეთ')\n",
      "('…ზარდუშთ', 'ზარდუშთ')\n",
      "('ვადით.”', 'ვადით')\n",
      "('რეჟიმებისა.“', 'რეჟიმებისა')\n",
      "('ი~დ', 'იდ')\n",
      "('Bess”', 'Bess')\n",
      "('წინათგრძნობა.”', 'წინათგრძნობა')\n",
      "('შესძლებს.“', 'შესძლებს')\n",
      "('გაუყალბებელ(!)', 'გაუყალბებელ')\n",
      "('დაიმსახურებს.“', 'დაიმსახურებს')\n",
      "('Company”', 'Company')\n",
      "('`აღზევანს', 'აღზევანს')\n"
     ]
    }
   ],
   "source": [
    "for i, word in enumerate(malformed_words):\n",
    "    if i == 50:\n",
    "        break\n",
    "    print(word)"
   ]
  },
  {
   "cell_type": "markdown",
   "id": "12d97d4f-724f-448d-a12e-77dddbe1edb0",
   "metadata": {},
   "source": [
    "შეგვიძლია ასეთი დეფორმირებული სიტყვები ამოვიღოთ სიიდან."
   ]
  },
  {
   "cell_type": "code",
   "execution_count": 8,
   "id": "b505add6-da6e-4a98-933e-457c7a945c69",
   "metadata": {},
   "outputs": [
    {
     "data": {
      "text/plain": [
       "(2560235, 5)"
      ]
     },
     "execution_count": 8,
     "metadata": {},
     "output_type": "execute_result"
    }
   ],
   "source": [
    "df = df.drop(malformed_word_indecies).reset_index(drop=True)\n",
    "df.shape"
   ]
  },
  {
   "cell_type": "markdown",
   "id": "d32b6335-63b2-40c8-a65e-008c011f895d",
   "metadata": {},
   "source": [
    "ასევე ბლომად გვაქვს მოცემული არაქართული სიტყვები და სიტყვები სადაც ქართული ანბანიდან ამოღებული ასოებია გამოყენებული ან სიტყვები, რომლებიც უბრალოდ "
   ]
  },
  {
   "cell_type": "code",
   "execution_count": 9,
   "id": "1032584b-ca5b-4c62-aa1f-37df476aabce",
   "metadata": {},
   "outputs": [
    {
     "name": "stdout",
     "output_type": "stream",
     "text": [
      "Number of malformed words: 175383\n"
     ]
    }
   ],
   "source": [
    "words = set(df['word'])\n",
    "malformed_words = set()\n",
    "malformed_word_indecies = list()\n",
    "def extract(row):\n",
    "    word = row['word']\n",
    "    noise = re.compile(r'[^ა-ჰ0-9-]+', re.UNICODE)\n",
    "    number_or_time = re.compile(r'([0-9]+[.,:-]?)+', )\n",
    "    try:\n",
    "        if noise.search(word) is not None and number_or_time.match(word) is None:\n",
    "            malformed_words.add(word)\n",
    "            malformed_word_indecies.append(row.name)\n",
    "    except Exception:\n",
    "        print(word)\n",
    "            \n",
    "df.apply(extract, axis=1)\n",
    "print(f\"Number of malformed words: {len(malformed_words)}\")"
   ]
  },
  {
   "cell_type": "code",
   "execution_count": 10,
   "id": "a2d7dd08-6dbf-43dc-a480-2f2d37831bcf",
   "metadata": {},
   "outputs": [
    {
     "name": "stdout",
     "output_type": "stream",
     "text": [
      "минимальны\n",
      "ჰქონია…ფინანსთა\n",
      "დაემხოს.როგორც\n",
      "რეჯისი-5.5\n",
      "შრიოდერი-4.5\n",
      "დ.აგირე\n",
      "SWIFT:SOGEUSD33\n",
      "quo\n",
      "Yisrael\n",
      "კაეტანო1:1\n",
      "თAვმტკივანი\n",
      "Taschen-ის\n",
      "ლარით.სახელმწიფო\n",
      "#1082\n",
      "ა.ი.მირცხულავას\n",
      "ლ.კრავჩუკის\n",
      "Giacomochiari\n",
      "დეპუტატი.კიდევ\n",
      "UღLB-ზე\n",
      "infected\n",
      "პანათინაიკოსი2:0\n",
      "(ფ)-ჰერეთი\n",
      "TTIP\n",
      "Tageszeitung“\n",
      "ჴსნისა\n",
      "Madonna\n",
      "Fast\n",
      "ჩერნომორეცი2:1\n",
      "Mythology\n",
      "გაცდა.სახლში\n",
      "Opisanie\n",
      "დოÇ-ს\n",
      "SALE\n",
      "сидеть\n",
      "მნიშვნელოვანია:იმფერი\n",
      "თაეპოდონგ-2“\n",
      "სიტყვებზე-„\n",
      "OECD-ის\n",
      "ჭიაურელი:35\n",
      "Mუსე-ის\n",
      "XIXს-ში\n",
      "rôle\n",
      "(ტყიბული)-სამტრედია\n",
      "რენი1:2\n",
      "serves\n",
      "Trouper\n",
      "უშუიდი~\n",
      "церковное\n",
      "ვრიზასი-7(კარაჩოლო\n",
      "ჯი-ეს-ელ“\n"
     ]
    }
   ],
   "source": [
    "for i, word in enumerate(malformed_words):\n",
    "    if i == 50:\n",
    "        break\n",
    "    print(word)"
   ]
  },
  {
   "cell_type": "code",
   "execution_count": 11,
   "id": "cb17d56c-4cb0-43db-be31-0e9a24f53924",
   "metadata": {},
   "outputs": [
    {
     "data": {
      "text/plain": [
       "(2384852, 5)"
      ]
     },
     "execution_count": 11,
     "metadata": {},
     "output_type": "execute_result"
    }
   ],
   "source": [
    "df = df.drop(malformed_word_indecies).reset_index(drop=True)\n",
    "df.shape"
   ]
  },
  {
   "cell_type": "markdown",
   "id": "709b3094-8448-4c9d-98c6-c721349ca73a",
   "metadata": {
    "tags": [],
    "toc-hr-collapsed": true
   },
   "source": [
    "### მეტყველების ნაწილის თეგები"
   ]
  },
  {
   "cell_type": "markdown",
   "id": "4f5cbe1b-0f74-4727-b7e5-71f2a1e77f3d",
   "metadata": {},
   "source": [
    "ვინაიდან ცხრილში pos_tag-ზე გვაქვს ყველა შესაძლო კონტექსტში გამოყენებულ სიტყვაზე ინფორმაცია, თუ რომელ მეტყველების ნაწილს მიეკუთვნება. უკონტექსტოდ ეს ინფორმაცია არ იქნება გამოსადეგი ჩვენთვის. პირველადი ვარაუდი მქონდა, რომ არ შეიძლებოდა უმეტესობა სიტყვა მოაზრებული ყოფილიყო რამდენიმე მეტყველების ნაწილად სხვადასხვა კონტექსტში, ფორმების განსხვავებულობის გამო. თუმცა, როგორც მაგალითებიდან ვხედავთ ასე არ ხდება ამ კორპუსში:"
   ]
  },
  {
   "cell_type": "code",
   "execution_count": 12,
   "id": "fbbce66d-492c-428a-bffe-328467d48ea4",
   "metadata": {},
   "outputs": [
    {
     "data": {
      "text/plain": [
       "6820    {'Pv', '<S:Nom>', 'S:3Pl', '<DO:Nom>', 'S:3Sg'...\n",
       "Name: pos_tag, dtype: object"
      ]
     },
     "execution_count": 12,
     "metadata": {},
     "output_type": "execute_result"
    }
   ],
   "source": [
    "df[df['word'] == 'მივდივარ']['pos_tag']"
   ]
  },
  {
   "cell_type": "code",
   "execution_count": 13,
   "id": "613f5716-19f2-46aa-8d14-e71ef731282a",
   "metadata": {},
   "outputs": [
    {
     "data": {
      "text/plain": [
       "4    {'Gen', 'Att', 'A', 'Nom', 'Sg', 'Inst', 'LevG...\n",
       "Name: pos_tag, dtype: object"
      ]
     },
     "execution_count": 13,
     "metadata": {},
     "output_type": "execute_result"
    }
   ],
   "source": [
    "df[df['word'] == 'სასოწარკვეთილი']['pos_tag']"
   ]
  },
  {
   "cell_type": "markdown",
   "id": "50d33d00-cf6a-4589-8e52-9881abf77606",
   "metadata": {},
   "source": [
    "ერთ შემთხვევაში ცალსახად ზმნა ასევე, არსებით სახელადაცაა მონიშნული, მეორე შემთხვევაში აშკარა ზედსართავი სახელი არსებით სახელად, აქედან გამომდინარე უმჯობესი იქნება თუ უკონტექსტოდ არ გვექნება pos_tag-ი გამოყენებული."
   ]
  },
  {
   "cell_type": "code",
   "execution_count": 14,
   "id": "6317e6ff-6139-4754-ac02-7eda3e1cfbbf",
   "metadata": {},
   "outputs": [
    {
     "data": {
      "text/html": [
       "<div>\n",
       "<style scoped>\n",
       "    .dataframe tbody tr th:only-of-type {\n",
       "        vertical-align: middle;\n",
       "    }\n",
       "\n",
       "    .dataframe tbody tr th {\n",
       "        vertical-align: top;\n",
       "    }\n",
       "\n",
       "    .dataframe thead th {\n",
       "        text-align: right;\n",
       "    }\n",
       "</style>\n",
       "<table border=\"1\" class=\"dataframe\">\n",
       "  <thead>\n",
       "    <tr style=\"text-align: right;\">\n",
       "      <th></th>\n",
       "      <th>word</th>\n",
       "      <th>lemma_basic</th>\n",
       "      <th>lemma_adv</th>\n",
       "      <th>freq</th>\n",
       "    </tr>\n",
       "  </thead>\n",
       "  <tbody>\n",
       "    <tr>\n",
       "      <th>0</th>\n",
       "      <td>ამ</td>\n",
       "      <td>{'??', '\\t', 'ეს'}</td>\n",
       "      <td>{'??', 'ეს'}</td>\n",
       "      <td>1041654</td>\n",
       "    </tr>\n",
       "    <tr>\n",
       "      <th>1</th>\n",
       "      <td>ზამთრის</td>\n",
       "      <td>{'ზამთარი', 'ზამთარ·ი'}</td>\n",
       "      <td>{'ზამთ[ა]რ-ი', 'ზამთ[ა]რ·ი'}</td>\n",
       "      <td>8035</td>\n",
       "    </tr>\n",
       "    <tr>\n",
       "      <th>2</th>\n",
       "      <td>მიწურულს</td>\n",
       "      <td>{'მი·წურულ·ი', 'მიწურული', 'მიწურულ·ი'}</td>\n",
       "      <td>{'მიწურულ·ი', 'მი-წურულ-ი/წურ', 'მიწურულ-ი', '...</td>\n",
       "      <td>5976</td>\n",
       "    </tr>\n",
       "    <tr>\n",
       "      <th>3</th>\n",
       "      <td>თითქმის</td>\n",
       "      <td>{'თითქმის'}</td>\n",
       "      <td>{'თითქმის'}</td>\n",
       "      <td>62608</td>\n",
       "    </tr>\n",
       "    <tr>\n",
       "      <th>4</th>\n",
       "      <td>სასოწარკვეთილი</td>\n",
       "      <td>{'სასოწარკვეთილ·ი', 'სასოწარკვეთილი'}</td>\n",
       "      <td>{'სასოწარკვეთილ·ი', 'სასოწარკვეთილ-ი'}</td>\n",
       "      <td>844</td>\n",
       "    </tr>\n",
       "    <tr>\n",
       "      <th>...</th>\n",
       "      <td>...</td>\n",
       "      <td>...</td>\n",
       "      <td>...</td>\n",
       "      <td>...</td>\n",
       "    </tr>\n",
       "    <tr>\n",
       "      <th>95</th>\n",
       "      <td>გადავეხვიე</td>\n",
       "      <td>{'გადა·ხვევა'}</td>\n",
       "      <td>{'გადა·ხვევ[ა]/ხვ'}</td>\n",
       "      <td>35</td>\n",
       "    </tr>\n",
       "    <tr>\n",
       "      <th>96</th>\n",
       "      <td>შუბლზე</td>\n",
       "      <td>{'შუბლი', 'შუბლ·ი'}</td>\n",
       "      <td>{'შუბლ·ი', 'შუბლ-ი'}</td>\n",
       "      <td>1697</td>\n",
       "    </tr>\n",
       "    <tr>\n",
       "      <th>97</th>\n",
       "      <td>ვაკოცე</td>\n",
       "      <td>{'კოცნა'}</td>\n",
       "      <td>{'კოცნ[ა]/კოც'}</td>\n",
       "      <td>174</td>\n",
       "    </tr>\n",
       "    <tr>\n",
       "      <th>98</th>\n",
       "      <td>როგორც</td>\n",
       "      <td>{'როგორც', 'როგორც კი'}</td>\n",
       "      <td>{'როგორც', 'კი'}</td>\n",
       "      <td>478016</td>\n",
       "    </tr>\n",
       "    <tr>\n",
       "      <th>99</th>\n",
       "      <td>ჩანს</td>\n",
       "      <td>{'ჩანი', 'ჩან·ი', '*·ჩენა', '*ჩენა'}</td>\n",
       "      <td>{'ჩან·ი', 'ჩან-ი', '*-ჩენ[ა]/ჩან', '*·ჩენ[ა]/ჩ...</td>\n",
       "      <td>57172</td>\n",
       "    </tr>\n",
       "  </tbody>\n",
       "</table>\n",
       "<p>100 rows × 4 columns</p>\n",
       "</div>"
      ],
      "text/plain": [
       "              word                              lemma_basic  \\\n",
       "0               ამ                       {'??', '\\t', 'ეს'}   \n",
       "1          ზამთრის                  {'ზამთარი', 'ზამთარ·ი'}   \n",
       "2         მიწურულს  {'მი·წურულ·ი', 'მიწურული', 'მიწურულ·ი'}   \n",
       "3          თითქმის                              {'თითქმის'}   \n",
       "4   სასოწარკვეთილი    {'სასოწარკვეთილ·ი', 'სასოწარკვეთილი'}   \n",
       "..             ...                                      ...   \n",
       "95      გადავეხვიე                           {'გადა·ხვევა'}   \n",
       "96          შუბლზე                      {'შუბლი', 'შუბლ·ი'}   \n",
       "97          ვაკოცე                                {'კოცნა'}   \n",
       "98          როგორც                  {'როგორც', 'როგორც კი'}   \n",
       "99            ჩანს     {'ჩანი', 'ჩან·ი', '*·ჩენა', '*ჩენა'}   \n",
       "\n",
       "                                            lemma_adv     freq  \n",
       "0                                        {'??', 'ეს'}  1041654  \n",
       "1                        {'ზამთ[ა]რ-ი', 'ზამთ[ა]რ·ი'}     8035  \n",
       "2   {'მიწურულ·ი', 'მი-წურულ-ი/წურ', 'მიწურულ-ი', '...     5976  \n",
       "3                                         {'თითქმის'}    62608  \n",
       "4              {'სასოწარკვეთილ·ი', 'სასოწარკვეთილ-ი'}      844  \n",
       "..                                                ...      ...  \n",
       "95                                {'გადა·ხვევ[ა]/ხვ'}       35  \n",
       "96                               {'შუბლ·ი', 'შუბლ-ი'}     1697  \n",
       "97                                    {'კოცნ[ა]/კოც'}      174  \n",
       "98                                   {'როგორც', 'კი'}   478016  \n",
       "99  {'ჩან·ი', 'ჩან-ი', '*-ჩენ[ა]/ჩან', '*·ჩენ[ა]/ჩ...    57172  \n",
       "\n",
       "[100 rows x 4 columns]"
      ]
     },
     "execution_count": 14,
     "metadata": {},
     "output_type": "execute_result"
    }
   ],
   "source": [
    "df = df.drop(['pos_tag'], axis=1)\n",
    "df[:100]"
   ]
  },
  {
   "cell_type": "markdown",
   "id": "6ef55dce-5fc1-48b6-ba65-d438ff0a2e6b",
   "metadata": {
    "tags": []
   },
   "source": [
    "### ლემები"
   ]
  },
  {
   "cell_type": "markdown",
   "id": "f2024197-fc43-4809-973c-b4b2bfad14f9",
   "metadata": {
    "tags": []
   },
   "source": [
    "#### ულემო სიტყვები"
   ]
  },
  {
   "cell_type": "code",
   "execution_count": 15,
   "id": "02235c78-9c72-4aea-802d-11b2320640bc",
   "metadata": {},
   "outputs": [
    {
     "name": "stdout",
     "output_type": "stream",
     "text": [
      "Number of words without lemmas: 910909\n",
      "Frequency of words without lemmas: 3745518, prct: 2.3720464719763865%\n",
      "The most frequent words without lemma:\n"
     ]
    },
    {
     "data": {
      "text/html": [
       "<div>\n",
       "<style scoped>\n",
       "    .dataframe tbody tr th:only-of-type {\n",
       "        vertical-align: middle;\n",
       "    }\n",
       "\n",
       "    .dataframe tbody tr th {\n",
       "        vertical-align: top;\n",
       "    }\n",
       "\n",
       "    .dataframe thead th {\n",
       "        text-align: right;\n",
       "    }\n",
       "</style>\n",
       "<table border=\"1\" class=\"dataframe\">\n",
       "  <thead>\n",
       "    <tr style=\"text-align: right;\">\n",
       "      <th></th>\n",
       "      <th>word</th>\n",
       "      <th>lemma_basic</th>\n",
       "      <th>lemma_adv</th>\n",
       "      <th>freq</th>\n",
       "    </tr>\n",
       "  </thead>\n",
       "  <tbody>\n",
       "    <tr>\n",
       "      <th>767714</th>\n",
       "      <td>ვიტ</td>\n",
       "      <td>{'??'}</td>\n",
       "      <td>{'??'}</td>\n",
       "      <td>8375</td>\n",
       "    </tr>\n",
       "    <tr>\n",
       "      <th>877574</th>\n",
       "      <td>ინტერ-პრესი</td>\n",
       "      <td>{'??'}</td>\n",
       "      <td>{'??'}</td>\n",
       "      <td>6784</td>\n",
       "    </tr>\n",
       "    <tr>\n",
       "      <th>901566</th>\n",
       "      <td>პრაიმ-ნიუსი</td>\n",
       "      <td>{'??'}</td>\n",
       "      <td>{'??'}</td>\n",
       "      <td>5833</td>\n",
       "    </tr>\n",
       "    <tr>\n",
       "      <th>526919</th>\n",
       "      <td>ჩელსის</td>\n",
       "      <td>{'??'}</td>\n",
       "      <td>{'??'}</td>\n",
       "      <td>5563</td>\n",
       "    </tr>\n",
       "    <tr>\n",
       "      <th>395527</th>\n",
       "      <td>ქართულ-აფხაზური</td>\n",
       "      <td>{'??'}</td>\n",
       "      <td>{'??'}</td>\n",
       "      <td>5375</td>\n",
       "    </tr>\n",
       "    <tr>\n",
       "      <th>...</th>\n",
       "      <td>...</td>\n",
       "      <td>...</td>\n",
       "      <td>...</td>\n",
       "      <td>...</td>\n",
       "    </tr>\n",
       "    <tr>\n",
       "      <th>102988</th>\n",
       "      <td>მიგელ</td>\n",
       "      <td>{'??'}</td>\n",
       "      <td>{'??'}</td>\n",
       "      <td>1187</td>\n",
       "    </tr>\n",
       "    <tr>\n",
       "      <th>66934</th>\n",
       "      <td>კოული</td>\n",
       "      <td>{'??'}</td>\n",
       "      <td>{'??'}</td>\n",
       "      <td>1183</td>\n",
       "    </tr>\n",
       "    <tr>\n",
       "      <th>985215</th>\n",
       "      <td>მედია-ნიუსს</td>\n",
       "      <td>{'??'}</td>\n",
       "      <td>{'??'}</td>\n",
       "      <td>1177</td>\n",
       "    </tr>\n",
       "    <tr>\n",
       "      <th>411266</th>\n",
       "      <td>რონალდ</td>\n",
       "      <td>{'??'}</td>\n",
       "      <td>{'??'}</td>\n",
       "      <td>1172</td>\n",
       "    </tr>\n",
       "    <tr>\n",
       "      <th>1414859</th>\n",
       "      <td>ფ-ში</td>\n",
       "      <td>{'??'}</td>\n",
       "      <td>{'??'}</td>\n",
       "      <td>1158</td>\n",
       "    </tr>\n",
       "  </tbody>\n",
       "</table>\n",
       "<p>100 rows × 4 columns</p>\n",
       "</div>"
      ],
      "text/plain": [
       "                    word lemma_basic lemma_adv  freq\n",
       "767714               ვიტ      {'??'}    {'??'}  8375\n",
       "877574       ინტერ-პრესი      {'??'}    {'??'}  6784\n",
       "901566       პრაიმ-ნიუსი      {'??'}    {'??'}  5833\n",
       "526919            ჩელსის      {'??'}    {'??'}  5563\n",
       "395527   ქართულ-აფხაზური      {'??'}    {'??'}  5375\n",
       "...                  ...         ...       ...   ...\n",
       "102988             მიგელ      {'??'}    {'??'}  1187\n",
       "66934              კოული      {'??'}    {'??'}  1183\n",
       "985215       მედია-ნიუსს      {'??'}    {'??'}  1177\n",
       "411266            რონალდ      {'??'}    {'??'}  1172\n",
       "1414859             ფ-ში      {'??'}    {'??'}  1158\n",
       "\n",
       "[100 rows x 4 columns]"
      ]
     },
     "execution_count": 15,
     "metadata": {},
     "output_type": "execute_result"
    }
   ],
   "source": [
    "no_lemma = df[(df['lemma_basic'] == \"{'??'}\") & (df['lemma_adv'] == \"{'??'}\")]\n",
    "print(f'Number of words without lemmas: {no_lemma.shape[0]}')\n",
    "print(f'Frequency of words without lemmas: {no_lemma[\"freq\"].sum()}, prct: {no_lemma[\"freq\"].sum() / df[\"freq\"].sum() * 100}%')\n",
    "print(f'The most frequent words without lemma:')\n",
    "no_lemma.sort_values(by=['freq'], ascending=False)[: 100]"
   ]
  },
  {
   "cell_type": "markdown",
   "id": "5cc616e5-940b-41f6-b512-3b681365c76d",
   "metadata": {},
   "source": [
    "როგორც ვხედავთ, იმის მიუხედავად, რომ კორპუსში არსებული სიტყვების ნახევარს საერთოდ არ აქვს ლემმა. ისინი გამოყენების სიხშირით კორპუსის მხოლოდ 2%-ს შეადგენენ. ამასთან ერთად როგორც ვხედავთ pos-tag-იც კი არასწორად აქვთ შესაბამებული. მაგ: ანტირუსული სახელად არის წარმოდგენილი და ა.შ. ტრენინგისთვის სრულიად გამოუსადეგარი იქნება ამიტომაც ასეთ სიტყვებსაც ვდროფავ."
   ]
  },
  {
   "cell_type": "code",
   "execution_count": 16,
   "id": "412822a2-525e-46f4-93db-9dde73593b40",
   "metadata": {},
   "outputs": [
    {
     "name": "stdout",
     "output_type": "stream",
     "text": [
      "Number of words left: 1473943\n"
     ]
    },
    {
     "data": {
      "text/html": [
       "<div>\n",
       "<style scoped>\n",
       "    .dataframe tbody tr th:only-of-type {\n",
       "        vertical-align: middle;\n",
       "    }\n",
       "\n",
       "    .dataframe tbody tr th {\n",
       "        vertical-align: top;\n",
       "    }\n",
       "\n",
       "    .dataframe thead th {\n",
       "        text-align: right;\n",
       "    }\n",
       "</style>\n",
       "<table border=\"1\" class=\"dataframe\">\n",
       "  <thead>\n",
       "    <tr style=\"text-align: right;\">\n",
       "      <th></th>\n",
       "      <th>word</th>\n",
       "      <th>lemma_basic</th>\n",
       "      <th>lemma_adv</th>\n",
       "      <th>freq</th>\n",
       "    </tr>\n",
       "  </thead>\n",
       "  <tbody>\n",
       "    <tr>\n",
       "      <th>0</th>\n",
       "      <td>ამ</td>\n",
       "      <td>{'??', '\\t', 'ეს'}</td>\n",
       "      <td>{'??', 'ეს'}</td>\n",
       "      <td>1041654</td>\n",
       "    </tr>\n",
       "    <tr>\n",
       "      <th>1</th>\n",
       "      <td>ზამთრის</td>\n",
       "      <td>{'ზამთარი', 'ზამთარ·ი'}</td>\n",
       "      <td>{'ზამთ[ა]რ-ი', 'ზამთ[ა]რ·ი'}</td>\n",
       "      <td>8035</td>\n",
       "    </tr>\n",
       "    <tr>\n",
       "      <th>2</th>\n",
       "      <td>მიწურულს</td>\n",
       "      <td>{'მი·წურულ·ი', 'მიწურული', 'მიწურულ·ი'}</td>\n",
       "      <td>{'მიწურულ·ი', 'მი-წურულ-ი/წურ', 'მიწურულ-ი', '...</td>\n",
       "      <td>5976</td>\n",
       "    </tr>\n",
       "    <tr>\n",
       "      <th>3</th>\n",
       "      <td>თითქმის</td>\n",
       "      <td>{'თითქმის'}</td>\n",
       "      <td>{'თითქმის'}</td>\n",
       "      <td>62608</td>\n",
       "    </tr>\n",
       "    <tr>\n",
       "      <th>4</th>\n",
       "      <td>სასოწარკვეთილი</td>\n",
       "      <td>{'სასოწარკვეთილ·ი', 'სასოწარკვეთილი'}</td>\n",
       "      <td>{'სასოწარკვეთილ·ი', 'სასოწარკვეთილ-ი'}</td>\n",
       "      <td>844</td>\n",
       "    </tr>\n",
       "    <tr>\n",
       "      <th>...</th>\n",
       "      <td>...</td>\n",
       "      <td>...</td>\n",
       "      <td>...</td>\n",
       "      <td>...</td>\n",
       "    </tr>\n",
       "    <tr>\n",
       "      <th>95</th>\n",
       "      <td>შუბლზე</td>\n",
       "      <td>{'შუბლი', 'შუბლ·ი'}</td>\n",
       "      <td>{'შუბლ·ი', 'შუბლ-ი'}</td>\n",
       "      <td>1697</td>\n",
       "    </tr>\n",
       "    <tr>\n",
       "      <th>96</th>\n",
       "      <td>ვაკოცე</td>\n",
       "      <td>{'კოცნა'}</td>\n",
       "      <td>{'კოცნ[ა]/კოც'}</td>\n",
       "      <td>174</td>\n",
       "    </tr>\n",
       "    <tr>\n",
       "      <th>97</th>\n",
       "      <td>როგორც</td>\n",
       "      <td>{'როგორც', 'როგორც კი'}</td>\n",
       "      <td>{'როგორც', 'კი'}</td>\n",
       "      <td>478016</td>\n",
       "    </tr>\n",
       "    <tr>\n",
       "      <th>98</th>\n",
       "      <td>ჩანს</td>\n",
       "      <td>{'ჩანი', 'ჩან·ი', '*·ჩენა', '*ჩენა'}</td>\n",
       "      <td>{'ჩან·ი', 'ჩან-ი', '*-ჩენ[ა]/ჩან', '*·ჩენ[ა]/ჩ...</td>\n",
       "      <td>57172</td>\n",
       "    </tr>\n",
       "    <tr>\n",
       "      <th>99</th>\n",
       "      <td>მაშინ</td>\n",
       "      <td>{'მაშინ'}</td>\n",
       "      <td>{'მაშინ'}</td>\n",
       "      <td>154162</td>\n",
       "    </tr>\n",
       "  </tbody>\n",
       "</table>\n",
       "<p>100 rows × 4 columns</p>\n",
       "</div>"
      ],
      "text/plain": [
       "              word                              lemma_basic  \\\n",
       "0               ამ                       {'??', '\\t', 'ეს'}   \n",
       "1          ზამთრის                  {'ზამთარი', 'ზამთარ·ი'}   \n",
       "2         მიწურულს  {'მი·წურულ·ი', 'მიწურული', 'მიწურულ·ი'}   \n",
       "3          თითქმის                              {'თითქმის'}   \n",
       "4   სასოწარკვეთილი    {'სასოწარკვეთილ·ი', 'სასოწარკვეთილი'}   \n",
       "..             ...                                      ...   \n",
       "95          შუბლზე                      {'შუბლი', 'შუბლ·ი'}   \n",
       "96          ვაკოცე                                {'კოცნა'}   \n",
       "97          როგორც                  {'როგორც', 'როგორც კი'}   \n",
       "98            ჩანს     {'ჩანი', 'ჩან·ი', '*·ჩენა', '*ჩენა'}   \n",
       "99           მაშინ                                {'მაშინ'}   \n",
       "\n",
       "                                            lemma_adv     freq  \n",
       "0                                        {'??', 'ეს'}  1041654  \n",
       "1                        {'ზამთ[ა]რ-ი', 'ზამთ[ა]რ·ი'}     8035  \n",
       "2   {'მიწურულ·ი', 'მი-წურულ-ი/წურ', 'მიწურულ-ი', '...     5976  \n",
       "3                                         {'თითქმის'}    62608  \n",
       "4              {'სასოწარკვეთილ·ი', 'სასოწარკვეთილ-ი'}      844  \n",
       "..                                                ...      ...  \n",
       "95                               {'შუბლ·ი', 'შუბლ-ი'}     1697  \n",
       "96                                    {'კოცნ[ა]/კოც'}      174  \n",
       "97                                   {'როგორც', 'კი'}   478016  \n",
       "98  {'ჩან·ი', 'ჩან-ი', '*-ჩენ[ა]/ჩან', '*·ჩენ[ა]/ჩ...    57172  \n",
       "99                                          {'მაშინ'}   154162  \n",
       "\n",
       "[100 rows x 4 columns]"
      ]
     },
     "execution_count": 16,
     "metadata": {},
     "output_type": "execute_result"
    }
   ],
   "source": [
    "df = df.drop(no_lemma.index).reset_index(drop=True)\n",
    "print(f'Number of words left: {df.shape[0]}')\n",
    "df[:100]"
   ]
  },
  {
   "cell_type": "markdown",
   "id": "df4dee62-19d3-49cb-a34e-4870243509ee",
   "metadata": {
    "jp-MarkdownHeadingCollapsed": true,
    "tags": []
   },
   "source": [
    "#### განსხვავებული ტიპის ლემები"
   ]
  },
  {
   "cell_type": "code",
   "execution_count": 17,
   "id": "1f9b1da2-b0a2-4819-9035-90ab1fe883c8",
   "metadata": {},
   "outputs": [
    {
     "name": "stdout",
     "output_type": "stream",
     "text": [
      "       word               lemma_adv     lemma_basic\n",
      "18217  ჭამა  {'ჭამ[ა]/ჭამ', 'ჭ[ა]'}  {'ჭამა', 'ჭა'}\n",
      "       word       lemma_adv lemma_basic\n",
      "11963  ჭამს  {'ჭამ[ა]/ჭამ'}    {'ჭამა'}\n"
     ]
    }
   ],
   "source": [
    "print(df[df['word'] == 'ჭამა'][['word', 'lemma_adv', 'lemma_basic']])\n",
    "print(df[df['word'] == 'ჭამს'][['word', 'lemma_adv', 'lemma_basic']])"
   ]
  },
  {
   "cell_type": "markdown",
   "id": "61bd818d-d4b1-4486-890a-e9798049e8ad",
   "metadata": {},
   "source": [
    "ძალიან უცნაური ლემები აქვთ ზოგიერთ შემთხვევაში ამა თუ იმ სიტყვას. არ ვიცი რა კონტექსტში შეიძლება იყოს ჭამა ჭის რაიმე ფორმა. (ერთადერთი რაც მახსენდება შესაძლებელია ჭამ (ჭის მოთხრობითი ბრუნვა და ჭამის მეორე პირის მხოლობითი ფორმა ორივე ნაირად იქნას ინტერპრეტრებული.)) ამასთან ერთად lemma_basic-ში არის სიტყვის არსებითი სახელის ფორმა არჩეული ლემად. სახელზმნის შემთხვევაში. ხოლო lemma_adv-ში \"არსებითი სახელი\\ზმნის ბუძე\" ფორმატი, მიუხედავად იმისა სიტყვა, რომელიც დაგვყავს ზმნადაა მოცემული და არსებით სახელად. და დამატებით აღნიშნულია, მოცილებადი ნაწილი სიტყვის. შესაბამისად მხოლოდ ინფორმატიულ დატვირთვას ატარებს და მარტივი ლემის სხვანაირად წარმოდგენას განასახიერებს."
   ]
  },
  {
   "cell_type": "code",
   "execution_count": 18,
   "id": "4a88495c-fbba-492c-b7f9-f9c98ab9c204",
   "metadata": {},
   "outputs": [
    {
     "name": "stdout",
     "output_type": "stream",
     "text": [
      "31021\n"
     ]
    },
    {
     "data": {
      "text/html": [
       "<div>\n",
       "<style scoped>\n",
       "    .dataframe tbody tr th:only-of-type {\n",
       "        vertical-align: middle;\n",
       "    }\n",
       "\n",
       "    .dataframe tbody tr th {\n",
       "        vertical-align: top;\n",
       "    }\n",
       "\n",
       "    .dataframe thead th {\n",
       "        text-align: right;\n",
       "    }\n",
       "</style>\n",
       "<table border=\"1\" class=\"dataframe\">\n",
       "  <thead>\n",
       "    <tr style=\"text-align: right;\">\n",
       "      <th></th>\n",
       "      <th>word</th>\n",
       "      <th>lemma_basic</th>\n",
       "      <th>lemma_adv</th>\n",
       "      <th>freq</th>\n",
       "      <th>diff</th>\n",
       "    </tr>\n",
       "  </thead>\n",
       "  <tbody>\n",
       "    <tr>\n",
       "      <th>0</th>\n",
       "      <td>ამ</td>\n",
       "      <td>{'??', '\\t', 'ეს'}</td>\n",
       "      <td>{'??', 'ეს'}</td>\n",
       "      <td>1041654</td>\n",
       "      <td>1</td>\n",
       "    </tr>\n",
       "    <tr>\n",
       "      <th>2</th>\n",
       "      <td>მიწურულს</td>\n",
       "      <td>{'მი·წურულ·ი', 'მიწურული', 'მიწურულ·ი'}</td>\n",
       "      <td>{'მიწურულ·ი', 'მი-წურულ-ი/წურ', 'მიწურულ-ი', '...</td>\n",
       "      <td>5976</td>\n",
       "      <td>1</td>\n",
       "    </tr>\n",
       "    <tr>\n",
       "      <th>5</th>\n",
       "      <td>გახლდით</td>\n",
       "      <td>{'ხლება'}</td>\n",
       "      <td>{'ხლებ[ა]/ახლ', 'ხლებ[ა]/ხლ'}</td>\n",
       "      <td>1689</td>\n",
       "      <td>1</td>\n",
       "    </tr>\n",
       "    <tr>\n",
       "      <th>6</th>\n",
       "      <td>რა</td>\n",
       "      <td>{'რა თქმა უნდა', '\\t', 'რა', '??'}</td>\n",
       "      <td>{'უნდა', 'რ[ა]', 'რა', '??', 'თქმა'}</td>\n",
       "      <td>418777</td>\n",
       "      <td>1</td>\n",
       "    </tr>\n",
       "    <tr>\n",
       "      <th>7</th>\n",
       "      <td>ხანია</td>\n",
       "      <td>{'ხანი', 'ხან·ი'}</td>\n",
       "      <td>{'ხ[ა]ნ-ი', 'ხან·ი', 'ხ[ა]ნ·ი'}</td>\n",
       "      <td>24507</td>\n",
       "      <td>1</td>\n",
       "    </tr>\n",
       "    <tr>\n",
       "      <th>...</th>\n",
       "      <td>...</td>\n",
       "      <td>...</td>\n",
       "      <td>...</td>\n",
       "      <td>...</td>\n",
       "      <td>...</td>\n",
       "    </tr>\n",
       "    <tr>\n",
       "      <th>1213</th>\n",
       "      <td>ვალი</td>\n",
       "      <td>{'ვალი', 'ვალ·ი'}</td>\n",
       "      <td>{'ვალი', 'ვალ-ი', 'ვალ·ი'}</td>\n",
       "      <td>5625</td>\n",
       "      <td>1</td>\n",
       "    </tr>\n",
       "    <tr>\n",
       "      <th>1214</th>\n",
       "      <td>გაწევს</td>\n",
       "      <td>{'გა·წევა', '*·წოლა'}</td>\n",
       "      <td>{'გა·წევ[ა]/წ[ევ]'}</td>\n",
       "      <td>58</td>\n",
       "      <td>1</td>\n",
       "    </tr>\n",
       "    <tr>\n",
       "      <th>1223</th>\n",
       "      <td>მილკა</td>\n",
       "      <td>{'მილკა'}</td>\n",
       "      <td>{'მილკა', 'მილკ[ა]'}</td>\n",
       "      <td>20</td>\n",
       "      <td>1</td>\n",
       "    </tr>\n",
       "    <tr>\n",
       "      <th>1230</th>\n",
       "      <td>ზმანებათა</td>\n",
       "      <td>{'ზმანება'}</td>\n",
       "      <td>{'ზმანებ[ა]/ზმან', 'ზმანებ[ა]'}</td>\n",
       "      <td>26</td>\n",
       "      <td>1</td>\n",
       "    </tr>\n",
       "    <tr>\n",
       "      <th>1236</th>\n",
       "      <td>მშვენიერი</td>\n",
       "      <td>{'მშვენიერ·ი', 'მშვენიერი'}</td>\n",
       "      <td>{'მშვენიერ·ი', 'მშვენიერ-ი', 'მშვენი[ე]რ·ი', '...</td>\n",
       "      <td>9363</td>\n",
       "      <td>1</td>\n",
       "    </tr>\n",
       "  </tbody>\n",
       "</table>\n",
       "<p>100 rows × 5 columns</p>\n",
       "</div>"
      ],
      "text/plain": [
       "           word                              lemma_basic  \\\n",
       "0            ამ                       {'??', '\\t', 'ეს'}   \n",
       "2      მიწურულს  {'მი·წურულ·ი', 'მიწურული', 'მიწურულ·ი'}   \n",
       "5       გახლდით                                {'ხლება'}   \n",
       "6            რა       {'რა თქმა უნდა', '\\t', 'რა', '??'}   \n",
       "7         ხანია                        {'ხანი', 'ხან·ი'}   \n",
       "...         ...                                      ...   \n",
       "1213       ვალი                        {'ვალი', 'ვალ·ი'}   \n",
       "1214     გაწევს                    {'გა·წევა', '*·წოლა'}   \n",
       "1223      მილკა                                {'მილკა'}   \n",
       "1230  ზმანებათა                              {'ზმანება'}   \n",
       "1236  მშვენიერი              {'მშვენიერ·ი', 'მშვენიერი'}   \n",
       "\n",
       "                                              lemma_adv     freq  diff  \n",
       "0                                          {'??', 'ეს'}  1041654     1  \n",
       "2     {'მიწურულ·ი', 'მი-წურულ-ი/წურ', 'მიწურულ-ი', '...     5976     1  \n",
       "5                         {'ხლებ[ა]/ახლ', 'ხლებ[ა]/ხლ'}     1689     1  \n",
       "6                  {'უნდა', 'რ[ა]', 'რა', '??', 'თქმა'}   418777     1  \n",
       "7                       {'ხ[ა]ნ-ი', 'ხან·ი', 'ხ[ა]ნ·ი'}    24507     1  \n",
       "...                                                 ...      ...   ...  \n",
       "1213                         {'ვალი', 'ვალ-ი', 'ვალ·ი'}     5625     1  \n",
       "1214                                {'გა·წევ[ა]/წ[ევ]'}       58     1  \n",
       "1223                               {'მილკა', 'მილკ[ა]'}       20     1  \n",
       "1230                    {'ზმანებ[ა]/ზმან', 'ზმანებ[ა]'}       26     1  \n",
       "1236  {'მშვენიერ·ი', 'მშვენიერ-ი', 'მშვენი[ე]რ·ი', '...     9363     1  \n",
       "\n",
       "[100 rows x 5 columns]"
      ]
     },
     "execution_count": 18,
     "metadata": {},
     "output_type": "execute_result"
    }
   ],
   "source": [
    "def tryconvert(x):\n",
    "    try:\n",
    "        return len(literal_eval(x))\n",
    "    except Exception:\n",
    "        return 0\n",
    "    \n",
    "df['diff'] = np.where(df['lemma_basic'].apply(lambda x: len(literal_eval(x))) \n",
    "                      != df['lemma_adv'].apply(lambda x: tryconvert(x)) , 1, 0)\n",
    "diff = df[df['diff'] == 1]\n",
    "print(diff.shape[0])\n",
    "diff[:100]"
   ]
  },
  {
   "cell_type": "markdown",
   "id": "1f5c4d6c-12d3-4e11-8991-ad0cdae9b631",
   "metadata": {},
   "source": [
    "როგორც ვხედავთ ძირითადად ორივე ლემის ტიპში დამთხვევები გვაქ, ლემების რაოდენობის მხრივ, თუმცა 33205 სიტყვაში საქმე სხვაგვარადაა."
   ]
  },
  {
   "cell_type": "code",
   "execution_count": 19,
   "id": "83b70d07-5561-4766-937e-1e140d6fd810",
   "metadata": {},
   "outputs": [
    {
     "name": "stdout",
     "output_type": "stream",
     "text": [
      "    word                        lemma_adv        lemma_basic\n",
      "7  ხანია  {'ხ[ა]ნ-ი', 'ხან·ი', 'ხ[ა]ნ·ი'}  {'ხანი', 'ხან·ი'}\n"
     ]
    }
   ],
   "source": [
    "print(df[df['word'] == 'ხანია'][['word', 'lemma_adv', 'lemma_basic']])"
   ]
  },
  {
   "cell_type": "code",
   "execution_count": 20,
   "id": "7d45ddbf-6bf6-4a20-bc42-6aae8cb5f3f6",
   "metadata": {},
   "outputs": [
    {
     "data": {
      "text/html": [
       "<div>\n",
       "<style scoped>\n",
       "    .dataframe tbody tr th:only-of-type {\n",
       "        vertical-align: middle;\n",
       "    }\n",
       "\n",
       "    .dataframe tbody tr th {\n",
       "        vertical-align: top;\n",
       "    }\n",
       "\n",
       "    .dataframe thead th {\n",
       "        text-align: right;\n",
       "    }\n",
       "</style>\n",
       "<table border=\"1\" class=\"dataframe\">\n",
       "  <thead>\n",
       "    <tr style=\"text-align: right;\">\n",
       "      <th></th>\n",
       "      <th>word</th>\n",
       "      <th>lemma</th>\n",
       "      <th>freq</th>\n",
       "    </tr>\n",
       "  </thead>\n",
       "  <tbody>\n",
       "    <tr>\n",
       "      <th>0</th>\n",
       "      <td>ამ</td>\n",
       "      <td>{'??', '\\t', 'ეს'}</td>\n",
       "      <td>1041654</td>\n",
       "    </tr>\n",
       "    <tr>\n",
       "      <th>1</th>\n",
       "      <td>ზამთრის</td>\n",
       "      <td>{'ზამთარი', 'ზამთარ·ი'}</td>\n",
       "      <td>8035</td>\n",
       "    </tr>\n",
       "    <tr>\n",
       "      <th>2</th>\n",
       "      <td>მიწურულს</td>\n",
       "      <td>{'მი·წურულ·ი', 'მიწურული', 'მიწურულ·ი'}</td>\n",
       "      <td>5976</td>\n",
       "    </tr>\n",
       "    <tr>\n",
       "      <th>3</th>\n",
       "      <td>თითქმის</td>\n",
       "      <td>{'თითქმის'}</td>\n",
       "      <td>62608</td>\n",
       "    </tr>\n",
       "    <tr>\n",
       "      <th>4</th>\n",
       "      <td>სასოწარკვეთილი</td>\n",
       "      <td>{'სასოწარკვეთილ·ი', 'სასოწარკვეთილი'}</td>\n",
       "      <td>844</td>\n",
       "    </tr>\n",
       "    <tr>\n",
       "      <th>...</th>\n",
       "      <td>...</td>\n",
       "      <td>...</td>\n",
       "      <td>...</td>\n",
       "    </tr>\n",
       "    <tr>\n",
       "      <th>95</th>\n",
       "      <td>შუბლზე</td>\n",
       "      <td>{'შუბლი', 'შუბლ·ი'}</td>\n",
       "      <td>1697</td>\n",
       "    </tr>\n",
       "    <tr>\n",
       "      <th>96</th>\n",
       "      <td>ვაკოცე</td>\n",
       "      <td>{'კოცნა'}</td>\n",
       "      <td>174</td>\n",
       "    </tr>\n",
       "    <tr>\n",
       "      <th>97</th>\n",
       "      <td>როგორც</td>\n",
       "      <td>{'როგორც', 'როგორც კი'}</td>\n",
       "      <td>478016</td>\n",
       "    </tr>\n",
       "    <tr>\n",
       "      <th>98</th>\n",
       "      <td>ჩანს</td>\n",
       "      <td>{'ჩანი', 'ჩან·ი', '*·ჩენა', '*ჩენა'}</td>\n",
       "      <td>57172</td>\n",
       "    </tr>\n",
       "    <tr>\n",
       "      <th>99</th>\n",
       "      <td>მაშინ</td>\n",
       "      <td>{'მაშინ'}</td>\n",
       "      <td>154162</td>\n",
       "    </tr>\n",
       "  </tbody>\n",
       "</table>\n",
       "<p>100 rows × 3 columns</p>\n",
       "</div>"
      ],
      "text/plain": [
       "              word                                    lemma     freq\n",
       "0               ამ                       {'??', '\\t', 'ეს'}  1041654\n",
       "1          ზამთრის                  {'ზამთარი', 'ზამთარ·ი'}     8035\n",
       "2         მიწურულს  {'მი·წურულ·ი', 'მიწურული', 'მიწურულ·ი'}     5976\n",
       "3          თითქმის                              {'თითქმის'}    62608\n",
       "4   სასოწარკვეთილი    {'სასოწარკვეთილ·ი', 'სასოწარკვეთილი'}      844\n",
       "..             ...                                      ...      ...\n",
       "95          შუბლზე                      {'შუბლი', 'შუბლ·ი'}     1697\n",
       "96          ვაკოცე                                {'კოცნა'}      174\n",
       "97          როგორც                  {'როგორც', 'როგორც კი'}   478016\n",
       "98            ჩანს     {'ჩანი', 'ჩან·ი', '*·ჩენა', '*ჩენა'}    57172\n",
       "99           მაშინ                                {'მაშინ'}   154162\n",
       "\n",
       "[100 rows x 3 columns]"
      ]
     },
     "execution_count": 20,
     "metadata": {},
     "output_type": "execute_result"
    }
   ],
   "source": [
    "df = df.drop(['lemma_adv', 'diff'], axis=1)\n",
    "df = df.rename(columns={'lemma_basic': 'lemma'})\n",
    "df[:100]"
   ]
  },
  {
   "cell_type": "markdown",
   "id": "5d1a8683-758d-4ea8-baec-091b8e356e03",
   "metadata": {
    "tags": []
   },
   "source": [
    "#### ლემის ფორმა"
   ]
  },
  {
   "cell_type": "code",
   "execution_count": 21,
   "id": "fb37b3f5-6712-42e4-a4a0-c54af567c0b5",
   "metadata": {},
   "outputs": [
    {
     "name": "stdout",
     "output_type": "stream",
     "text": [
      "Word: წამოვდექი  Lemma: 89    {'წამოდგომა', 'წამო·დგომა'}\n",
      "Name: lemma, dtype: object\n",
      "Word: ავდექი  Lemma: 9165    {'ა·დგომა', 'ადგომა'}\n",
      "Name: lemma, dtype: object\n",
      "Word: დავდექი  Lemma: 90625    {'და·დგომა'}\n",
      "Name: lemma, dtype: object\n",
      "Word: ვდგავარ  Lemma: 2322    {'დგომა'}\n",
      "Name: lemma, dtype: object\n"
     ]
    }
   ],
   "source": [
    "print(f\"Word: წამოვდექი  Lemma: {df[df['word'] == 'წამოვდექი']['lemma']}\")\n",
    "print(f\"Word: ავდექი  Lemma: {df[df['word'] == 'ავდექი']['lemma']}\")\n",
    "print(f\"Word: დავდექი  Lemma: {df[df['word'] == 'დავდექი']['lemma']}\")\n",
    "print(f\"Word: ვდგავარ  Lemma: {df[df['word'] == 'ვდგავარ']['lemma']}\")"
   ]
  },
  {
   "cell_type": "markdown",
   "id": "b577513e-36a2-4939-a8a7-6812c10ec221",
   "metadata": {},
   "source": [
    "როგორც ვხედავთ საინტერესო სიტყვათა ნათესაობა შეინიშნება ლემებში. საერთო ძირის მქონე სიტყვათა ჯგუფები აღნიშნულია შესაბამისად."
   ]
  },
  {
   "cell_type": "code",
   "execution_count": 22,
   "id": "97e0ec8c-74f5-4647-a705-f766bdc8547f",
   "metadata": {},
   "outputs": [
    {
     "name": "stdout",
     "output_type": "stream",
     "text": [
      "Word: ზამთარი  Lemma: 47444    {'ზამთარი', 'ზამთარ·ი'}\n",
      "Name: lemma, dtype: object\n",
      "Word: ზამთრული  Lemma: 1124123    {'ზამთრულ·ი'}\n",
      "Name: lemma, dtype: object\n",
      "Word: დაზამთრდა  Lemma: 313719    {'და·ზამთრება'}\n",
      "Name: lemma, dtype: object\n",
      "Word: საზამთრო  Lemma: 43533    {'საზამთრო'}\n",
      "Name: lemma, dtype: object\n"
     ]
    }
   ],
   "source": [
    "print(f\"Word: ზამთარი  Lemma: {df[df['word'] == 'ზამთარი']['lemma']}\")\n",
    "print(f\"Word: ზამთრული  Lemma: {df[df['word'] == 'ზამთრული']['lemma']}\")\n",
    "print(f\"Word: დაზამთრდა  Lemma: {df[df['word'] == 'დაზამთრდა']['lemma']}\")\n",
    "print(f\"Word: საზამთრო  Lemma: {df[df['word'] == 'საზამთრო']['lemma']}\")"
   ]
  },
  {
   "cell_type": "code",
   "execution_count": 23,
   "id": "fa1d8611-3975-4aac-a1cf-e654529eaa8e",
   "metadata": {},
   "outputs": [
    {
     "name": "stdout",
     "output_type": "stream",
     "text": [
      "Word: დაკავება  Lemma: 119973    {'დაკავება', 'და·კავება'}\n",
      "Name: lemma, dtype: object\n",
      "Word: დაკავებული  Lemma: 62949    {'დაკავებული', 'და·კავებულ·ი'}\n",
      "Name: lemma, dtype: object\n"
     ]
    }
   ],
   "source": [
    "print(f\"Word: დაკავება  Lemma: {df[df['word'] == 'დაკავება']['lemma']}\")\n",
    "print(f\"Word: დაკავებული  Lemma: {df[df['word'] == 'დაკავებული']['lemma']}\")"
   ]
  },
  {
   "cell_type": "markdown",
   "id": "4cf8517e-ca93-4771-adc9-7cb738410bbd",
   "metadata": {},
   "source": [
    "ზემოთა აღნიშნული ფაქტის მიუხედავად, ყველგან არ ჩანს მსგავსი ნათესაობა, ზოგან აშკარად საერთო ძირის მიუხედავად, მცირედი განსხვავებები შეინიშნება გამოყოფილ წერტილებით გამოყოფილ ნაწილებში. ამიტომაც, მიუხედავად იმისა, რომ საინტერესო იდეაა, ვფიქრობ, რომ ჯობია წერტილები დავკარგოთ ლემებიდან და შემდგომ თუ გაჩნდება ამის საჭიროება სხვა გზით მოვნახოთ საერთო ძირები ჩვეულებრივი ლემებიდან."
   ]
  },
  {
   "cell_type": "code",
   "execution_count": 24,
   "id": "30d1dfa6-cf98-4590-bec8-3d24566317f1",
   "metadata": {},
   "outputs": [
    {
     "data": {
      "text/html": [
       "<div>\n",
       "<style scoped>\n",
       "    .dataframe tbody tr th:only-of-type {\n",
       "        vertical-align: middle;\n",
       "    }\n",
       "\n",
       "    .dataframe tbody tr th {\n",
       "        vertical-align: top;\n",
       "    }\n",
       "\n",
       "    .dataframe thead th {\n",
       "        text-align: right;\n",
       "    }\n",
       "</style>\n",
       "<table border=\"1\" class=\"dataframe\">\n",
       "  <thead>\n",
       "    <tr style=\"text-align: right;\">\n",
       "      <th></th>\n",
       "      <th>word</th>\n",
       "      <th>lemma</th>\n",
       "      <th>freq</th>\n",
       "    </tr>\n",
       "  </thead>\n",
       "  <tbody>\n",
       "    <tr>\n",
       "      <th>0</th>\n",
       "      <td>ამ</td>\n",
       "      <td>{'??', 'ეს', '\\t'}</td>\n",
       "      <td>1041654</td>\n",
       "    </tr>\n",
       "    <tr>\n",
       "      <th>1</th>\n",
       "      <td>ზამთრის</td>\n",
       "      <td>{'ზამთარი'}</td>\n",
       "      <td>8035</td>\n",
       "    </tr>\n",
       "    <tr>\n",
       "      <th>2</th>\n",
       "      <td>მიწურულს</td>\n",
       "      <td>{'მიწურული'}</td>\n",
       "      <td>5976</td>\n",
       "    </tr>\n",
       "    <tr>\n",
       "      <th>3</th>\n",
       "      <td>თითქმის</td>\n",
       "      <td>{'თითქმის'}</td>\n",
       "      <td>62608</td>\n",
       "    </tr>\n",
       "    <tr>\n",
       "      <th>4</th>\n",
       "      <td>სასოწარკვეთილი</td>\n",
       "      <td>{'სასოწარკვეთილი'}</td>\n",
       "      <td>844</td>\n",
       "    </tr>\n",
       "    <tr>\n",
       "      <th>...</th>\n",
       "      <td>...</td>\n",
       "      <td>...</td>\n",
       "      <td>...</td>\n",
       "    </tr>\n",
       "    <tr>\n",
       "      <th>95</th>\n",
       "      <td>შუბლზე</td>\n",
       "      <td>{'შუბლი'}</td>\n",
       "      <td>1697</td>\n",
       "    </tr>\n",
       "    <tr>\n",
       "      <th>96</th>\n",
       "      <td>ვაკოცე</td>\n",
       "      <td>{'კოცნა'}</td>\n",
       "      <td>174</td>\n",
       "    </tr>\n",
       "    <tr>\n",
       "      <th>97</th>\n",
       "      <td>როგორც</td>\n",
       "      <td>{'როგორც', 'როგორც კი'}</td>\n",
       "      <td>478016</td>\n",
       "    </tr>\n",
       "    <tr>\n",
       "      <th>98</th>\n",
       "      <td>ჩანს</td>\n",
       "      <td>{'*ჩენა', 'ჩანი'}</td>\n",
       "      <td>57172</td>\n",
       "    </tr>\n",
       "    <tr>\n",
       "      <th>99</th>\n",
       "      <td>მაშინ</td>\n",
       "      <td>{'მაშინ'}</td>\n",
       "      <td>154162</td>\n",
       "    </tr>\n",
       "  </tbody>\n",
       "</table>\n",
       "<p>100 rows × 3 columns</p>\n",
       "</div>"
      ],
      "text/plain": [
       "              word                    lemma     freq\n",
       "0               ამ       {'??', 'ეს', '\\t'}  1041654\n",
       "1          ზამთრის              {'ზამთარი'}     8035\n",
       "2         მიწურულს             {'მიწურული'}     5976\n",
       "3          თითქმის              {'თითქმის'}    62608\n",
       "4   სასოწარკვეთილი       {'სასოწარკვეთილი'}      844\n",
       "..             ...                      ...      ...\n",
       "95          შუბლზე                {'შუბლი'}     1697\n",
       "96          ვაკოცე                {'კოცნა'}      174\n",
       "97          როგორც  {'როგორც', 'როგორც კი'}   478016\n",
       "98            ჩანს        {'*ჩენა', 'ჩანი'}    57172\n",
       "99           მაშინ                {'მაშინ'}   154162\n",
       "\n",
       "[100 rows x 3 columns]"
      ]
     },
     "execution_count": 24,
     "metadata": {},
     "output_type": "execute_result"
    }
   ],
   "source": [
    "def remove_dot(x):\n",
    "    return str({re.sub('·', '', word)for word in literal_eval(x)})\n",
    "\n",
    "df['lemma'] = df['lemma'].apply(lambda x: remove_dot(x))\n",
    "df[:100]"
   ]
  },
  {
   "cell_type": "markdown",
   "id": "3d1607ed-b7d6-49d6-8358-8bd2254b5294",
   "metadata": {
    "tags": []
   },
   "source": [
    "#### მრავალლემიანობა"
   ]
  },
  {
   "cell_type": "code",
   "execution_count": 25,
   "id": "3a6a8132-c5bf-4c2a-970a-9010e99b3aa7",
   "metadata": {},
   "outputs": [
    {
     "name": "stdout",
     "output_type": "stream",
     "text": [
      "Number of words with ambigious lemmas: 22298\n"
     ]
    },
    {
     "data": {
      "text/html": [
       "<div>\n",
       "<style scoped>\n",
       "    .dataframe tbody tr th:only-of-type {\n",
       "        vertical-align: middle;\n",
       "    }\n",
       "\n",
       "    .dataframe tbody tr th {\n",
       "        vertical-align: top;\n",
       "    }\n",
       "\n",
       "    .dataframe thead th {\n",
       "        text-align: right;\n",
       "    }\n",
       "</style>\n",
       "<table border=\"1\" class=\"dataframe\">\n",
       "  <thead>\n",
       "    <tr style=\"text-align: right;\">\n",
       "      <th></th>\n",
       "      <th>word</th>\n",
       "      <th>lemma</th>\n",
       "      <th>freq</th>\n",
       "      <th>lemma_count</th>\n",
       "    </tr>\n",
       "  </thead>\n",
       "  <tbody>\n",
       "    <tr>\n",
       "      <th>0</th>\n",
       "      <td>ამ</td>\n",
       "      <td>{'??', 'ეს', '\\t'}</td>\n",
       "      <td>1041654</td>\n",
       "      <td>3</td>\n",
       "    </tr>\n",
       "    <tr>\n",
       "      <th>6</th>\n",
       "      <td>რა</td>\n",
       "      <td>{'??', 'რა თქმა უნდა', 'რა', '\\t'}</td>\n",
       "      <td>418777</td>\n",
       "      <td>4</td>\n",
       "    </tr>\n",
       "    <tr>\n",
       "      <th>9</th>\n",
       "      <td>უფროსი</td>\n",
       "      <td>{'უფროსი', 'უფრო'}</td>\n",
       "      <td>23894</td>\n",
       "      <td>2</td>\n",
       "    </tr>\n",
       "    <tr>\n",
       "      <th>16</th>\n",
       "      <td>და</td>\n",
       "      <td>{'??', 'და ასე შემდეგ', 'და', '\\t'}</td>\n",
       "      <td>5410387</td>\n",
       "      <td>4</td>\n",
       "    </tr>\n",
       "    <tr>\n",
       "      <th>21</th>\n",
       "      <td>მახარა</td>\n",
       "      <td>{'მახარა', 'ხარება'}</td>\n",
       "      <td>75</td>\n",
       "      <td>2</td>\n",
       "    </tr>\n",
       "    <tr>\n",
       "      <th>...</th>\n",
       "      <td>...</td>\n",
       "      <td>...</td>\n",
       "      <td>...</td>\n",
       "      <td>...</td>\n",
       "    </tr>\n",
       "    <tr>\n",
       "      <th>4200</th>\n",
       "      <td>უნუგეშო</td>\n",
       "      <td>{'უნუგეშო', 'ნუგეშება'}</td>\n",
       "      <td>208</td>\n",
       "      <td>2</td>\n",
       "    </tr>\n",
       "    <tr>\n",
       "      <th>4241</th>\n",
       "      <td>მკიდა</td>\n",
       "      <td>{'*მკა', 'კიდება'}</td>\n",
       "      <td>12</td>\n",
       "      <td>2</td>\n",
       "    </tr>\n",
       "    <tr>\n",
       "      <th>4247</th>\n",
       "      <td>მკათათვე</td>\n",
       "      <td>{'მკა', 'მკათათვე'}</td>\n",
       "      <td>19</td>\n",
       "      <td>2</td>\n",
       "    </tr>\n",
       "    <tr>\n",
       "      <th>4253</th>\n",
       "      <td>რაშებს</td>\n",
       "      <td>{'რაში', 'რაშა'}</td>\n",
       "      <td>34</td>\n",
       "      <td>2</td>\n",
       "    </tr>\n",
       "    <tr>\n",
       "      <th>4279</th>\n",
       "      <td>მუხლები</td>\n",
       "      <td>{'მუხლა', 'მუხლი'}</td>\n",
       "      <td>1616</td>\n",
       "      <td>2</td>\n",
       "    </tr>\n",
       "  </tbody>\n",
       "</table>\n",
       "<p>500 rows × 4 columns</p>\n",
       "</div>"
      ],
      "text/plain": [
       "          word                                lemma     freq  lemma_count\n",
       "0           ამ                   {'??', 'ეს', '\\t'}  1041654            3\n",
       "6           რა   {'??', 'რა თქმა უნდა', 'რა', '\\t'}   418777            4\n",
       "9       უფროსი                   {'უფროსი', 'უფრო'}    23894            2\n",
       "16          და  {'??', 'და ასე შემდეგ', 'და', '\\t'}  5410387            4\n",
       "21      მახარა                 {'მახარა', 'ხარება'}       75            2\n",
       "...        ...                                  ...      ...          ...\n",
       "4200   უნუგეშო              {'უნუგეშო', 'ნუგეშება'}      208            2\n",
       "4241     მკიდა                   {'*მკა', 'კიდება'}       12            2\n",
       "4247  მკათათვე                  {'მკა', 'მკათათვე'}       19            2\n",
       "4253    რაშებს                     {'რაში', 'რაშა'}       34            2\n",
       "4279   მუხლები                   {'მუხლა', 'მუხლი'}     1616            2\n",
       "\n",
       "[500 rows x 4 columns]"
      ]
     },
     "execution_count": 25,
     "metadata": {},
     "output_type": "execute_result"
    }
   ],
   "source": [
    "df['lemma_count'] = df['lemma'].apply(lambda x: len(literal_eval(x)))\n",
    "amb_lemmas = df[df['lemma_count'] != 1]\n",
    "print(f'Number of words with ambigious lemmas: {amb_lemmas.shape[0]}')\n",
    "amb_lemmas[:500]"
   ]
  },
  {
   "cell_type": "code",
   "execution_count": 26,
   "id": "afc3d3c1-6852-4209-b4d2-fb43cd0bd20a",
   "metadata": {},
   "outputs": [],
   "source": [
    "count = {}\n",
    "def counter(x):\n",
    "    for lemma in literal_eval(x.lemma):\n",
    "        try:\n",
    "            count[lemma].add(x.word)\n",
    "        except KeyError:\n",
    "            count[lemma] = {x.word}\n",
    "    \n",
    "df[['lemma', 'word']].apply(counter, axis=1)\n",
    "lemmas_frame = pd.DataFrame(count.items(), columns=['lemma', 'lexems'])"
   ]
  },
  {
   "cell_type": "code",
   "execution_count": 27,
   "id": "a26145a3-e72e-493d-966e-161c6757f5fb",
   "metadata": {},
   "outputs": [],
   "source": [
    "lemmas_frame['count'] = lemmas_frame['lexems'].apply(len)"
   ]
  },
  {
   "cell_type": "code",
   "execution_count": 28,
   "id": "918e2f7b-9e3a-4592-81d2-d8b96b670db4",
   "metadata": {},
   "outputs": [
    {
     "name": "stdout",
     "output_type": "stream",
     "text": [
      "Number of unique lemmas 212915\n"
     ]
    },
    {
     "data": {
      "text/html": [
       "<div>\n",
       "<style scoped>\n",
       "    .dataframe tbody tr th:only-of-type {\n",
       "        vertical-align: middle;\n",
       "    }\n",
       "\n",
       "    .dataframe tbody tr th {\n",
       "        vertical-align: top;\n",
       "    }\n",
       "\n",
       "    .dataframe thead th {\n",
       "        text-align: right;\n",
       "    }\n",
       "</style>\n",
       "<table border=\"1\" class=\"dataframe\">\n",
       "  <thead>\n",
       "    <tr style=\"text-align: right;\">\n",
       "      <th></th>\n",
       "      <th>lemma</th>\n",
       "      <th>lexems</th>\n",
       "      <th>count</th>\n",
       "    </tr>\n",
       "  </thead>\n",
       "  <tbody>\n",
       "    <tr>\n",
       "      <th>2</th>\n",
       "      <td>\\t</td>\n",
       "      <td>{კალიჩენკო, კორესპოდენციებიდამ, პუარო, ვაჟა-ფშ...</td>\n",
       "      <td>6824</td>\n",
       "    </tr>\n",
       "    <tr>\n",
       "      <th>0</th>\n",
       "      <td>??</td>\n",
       "      <td>{ბიშოვეცთან, კალიჩენკო, შასვი, ატრიბუციის, სტა...</td>\n",
       "      <td>2701</td>\n",
       "    </tr>\n",
       "    <tr>\n",
       "      <th>1420</th>\n",
       "      <td>მიცემა</td>\n",
       "      <td>{შეაძლევთ, მიგეცაო, მოგ-ვცემს, მიცეთო, მოგვცემ...</td>\n",
       "      <td>811</td>\n",
       "    </tr>\n",
       "    <tr>\n",
       "      <th>1001</th>\n",
       "      <td>დაბრუნება</td>\n",
       "      <td>{დაჰბრუნდი, დამაბრუნოთო, დაუბრუნებდით, დაჰბრუნ...</td>\n",
       "      <td>680</td>\n",
       "    </tr>\n",
       "    <tr>\n",
       "      <th>276</th>\n",
       "      <td>კითხვა</td>\n",
       "      <td>{მკითხავდიო, კითხვაშიაც, კითხვისაგან, მიკითხია...</td>\n",
       "      <td>620</td>\n",
       "    </tr>\n",
       "    <tr>\n",
       "      <th>...</th>\n",
       "      <td>...</td>\n",
       "      <td>...</td>\n",
       "      <td>...</td>\n",
       "    </tr>\n",
       "    <tr>\n",
       "      <th>128888</th>\n",
       "      <td>ჩამოწეწილჩამოგლეჯილი</td>\n",
       "      <td>{ჩამოწეწილ-ჩამოგლეჯილი}</td>\n",
       "      <td>1</td>\n",
       "    </tr>\n",
       "    <tr>\n",
       "      <th>128887</th>\n",
       "      <td>არაძალმომრეობა</td>\n",
       "      <td>{არაძალმომრეობის}</td>\n",
       "      <td>1</td>\n",
       "    </tr>\n",
       "    <tr>\n",
       "      <th>128885</th>\n",
       "      <td>ყვავიაშვილი</td>\n",
       "      <td>{ყვავიაშვილი}</td>\n",
       "      <td>1</td>\n",
       "    </tr>\n",
       "    <tr>\n",
       "      <th>128883</th>\n",
       "      <td>დადგმეჳნება</td>\n",
       "      <td>{დაადგმევიენ}</td>\n",
       "      <td>1</td>\n",
       "    </tr>\n",
       "    <tr>\n",
       "      <th>212914</th>\n",
       "      <td>წინასწარმეტყველთაგანნი</td>\n",
       "      <td>{წინასწარმეტყველთაგანნი-}</td>\n",
       "      <td>1</td>\n",
       "    </tr>\n",
       "  </tbody>\n",
       "</table>\n",
       "<p>212915 rows × 3 columns</p>\n",
       "</div>"
      ],
      "text/plain": [
       "                         lemma  \\\n",
       "2                           \\t   \n",
       "0                           ??   \n",
       "1420                    მიცემა   \n",
       "1001                 დაბრუნება   \n",
       "276                     კითხვა   \n",
       "...                        ...   \n",
       "128888    ჩამოწეწილჩამოგლეჯილი   \n",
       "128887          არაძალმომრეობა   \n",
       "128885             ყვავიაშვილი   \n",
       "128883             დადგმეჳნება   \n",
       "212914  წინასწარმეტყველთაგანნი   \n",
       "\n",
       "                                                   lexems  count  \n",
       "2       {კალიჩენკო, კორესპოდენციებიდამ, პუარო, ვაჟა-ფშ...   6824  \n",
       "0       {ბიშოვეცთან, კალიჩენკო, შასვი, ატრიბუციის, სტა...   2701  \n",
       "1420    {შეაძლევთ, მიგეცაო, მოგ-ვცემს, მიცეთო, მოგვცემ...    811  \n",
       "1001    {დაჰბრუნდი, დამაბრუნოთო, დაუბრუნებდით, დაჰბრუნ...    680  \n",
       "276     {მკითხავდიო, კითხვაშიაც, კითხვისაგან, მიკითხია...    620  \n",
       "...                                                   ...    ...  \n",
       "128888                            {ჩამოწეწილ-ჩამოგლეჯილი}      1  \n",
       "128887                                  {არაძალმომრეობის}      1  \n",
       "128885                                      {ყვავიაშვილი}      1  \n",
       "128883                                      {დაადგმევიენ}      1  \n",
       "212914                          {წინასწარმეტყველთაგანნი-}      1  \n",
       "\n",
       "[212915 rows x 3 columns]"
      ]
     },
     "execution_count": 28,
     "metadata": {},
     "output_type": "execute_result"
    }
   ],
   "source": [
    "print(f'Number of unique lemmas {len(lemmas_frame)}')\n",
    "lemmas_frame.sort_values(by='count', ascending=False)"
   ]
  },
  {
   "cell_type": "code",
   "execution_count": 29,
   "id": "4319e89a-e67e-4929-a62b-37fe6d65143d",
   "metadata": {},
   "outputs": [],
   "source": [
    "def word_to_lemma(word):\n",
    "    return (df[df['word'] == word]['lemma'].item())\n",
    "    \n",
    "def lemma_to_words(lemma):\n",
    "    return (lemmas_frame[lemmas_frame['lemma'] == lemma]['lexems'].item())\n",
    "    "
   ]
  },
  {
   "cell_type": "markdown",
   "id": "6d38728d-633e-4e98-a157-1183920e0190",
   "metadata": {},
   "source": [
    "რამდენიმე ტიპის ლემები გვხვდება აქ, რომლებიც გადასგდებია: '??' (როგორც ამოუცნობი ლემების შემთხვევაში), '\\t', ლემები რომლებიც რაიმე ფრაზას წარმოადგენს, იმის ნაცვლად, რომ თითო სიტყვას შეესაბამებოდეს. ამასთან ერთად ჩანს ლემებიც, რომელსაც შინაარსობრივი დატვირთვა არ გააჩნია, მიუხედავად იმის, რომ ლემა სიტყვის, რომელიმე ფორმა უნდა იყოს და შესაბამისად ასეთ დიდ კორპუსში ცალკე ხაზადაც უნდა იყოს წარმოდგენილი."
   ]
  },
  {
   "cell_type": "markdown",
   "id": "ba7271c5-bbc2-4b24-bfc5-de7f87b14a4e",
   "metadata": {},
   "source": [
    "ლემები, რომლებიც ცალკეულ სიტყვად კორპუსში არ გვაქ მოცემული:"
   ]
  },
  {
   "cell_type": "code",
   "execution_count": 30,
   "id": "53948d34-0b60-4e3f-8b87-7e00cbd57cd2",
   "metadata": {},
   "outputs": [
    {
     "name": "stdout",
     "output_type": "stream",
     "text": [
      "Number of malformed lemmas: 56096\n"
     ]
    }
   ],
   "source": [
    "lemmas_not_present_as_words = set()\n",
    "words = set(df['word'])\n",
    "def extract(x):\n",
    "    for lemma in literal_eval(x):\n",
    "        if lemma not in words:\n",
    "            lemmas_not_present_as_words.add(lemma)\n",
    "    \n",
    "df['lemma'].apply(extract)\n",
    "print(f'Number of malformed lemmas: {len(lemmas_not_present_as_words)}')"
   ]
  },
  {
   "cell_type": "code",
   "execution_count": 31,
   "id": "407d1d54-5aa0-4cfb-9948-59ba8c2876ef",
   "metadata": {},
   "outputs": [
    {
     "name": "stdout",
     "output_type": "stream",
     "text": [
      "\n",
      "230კაციანი\n",
      "არაჯანსაღობაჲ\n",
      "სადაყოფა\n",
      "70+\n",
      "ასმეოთხმოცე\n",
      "ყუარება\n",
      "ფუწი\n",
      "673670\n",
      "19311936\n",
      "435439\n",
      "ორთავი\n",
      "2932\n",
      "10.2931\n",
      "19891994\n",
      "19111968\n",
      "შუაგულიანი\n",
      "შეფერდებული\n",
      "0910files\n",
      "არამარკაჲ\n",
      "კობისეული\n",
      "შემსქელებელი\n",
      "620630\n",
      "რიმაჲ\n",
      "18701871\n",
      "122160\n",
      "102530\n",
      "ტონიკა\n",
      "ტერფიანი\n",
      "არაუმეტჱსი\n",
      "13001400\n",
      "არასოჲ\n",
      "შესასახლებელი\n",
      "1770კილომეტრიანი\n",
      "მომხრეჲ\n",
      "კაიდღე\n",
      "ბენედიქტინური\n",
      "ამოწუწვა\n",
      "ნაკური\n",
      "შერევინება\n",
      "ოტომანი\n",
      "307მილიონიანი\n",
      "უკალათბურთო\n",
      "ქურცინი\n",
      "დრება\n",
      "9719,50კარატიანი\n",
      "402407\n",
      "სეფარეთი\n",
      "გალეშვა\n",
      "კრიზისიანი\n"
     ]
    }
   ],
   "source": [
    "for i, lemma in enumerate(lemmas_not_present_as_words):\n",
    "    if i == 50:\n",
    "        break\n",
    "    print(lemma)"
   ]
  },
  {
   "cell_type": "code",
   "execution_count": 32,
   "id": "32d3442c-e25f-4ff9-92d5-eef32b61bb1b",
   "metadata": {},
   "outputs": [
    {
     "data": {
      "text/plain": [
       "{'ვაწუხებინებ', 'შეაწუხებინა'}"
      ]
     },
     "execution_count": 32,
     "metadata": {},
     "output_type": "execute_result"
    }
   ],
   "source": [
    "lemma_to_words('შეწუხებინება')"
   ]
  },
  {
   "cell_type": "markdown",
   "id": "6980b686-8320-4c16-8725-e0b69e79c373",
   "metadata": {},
   "source": [
    "არც თუ ისე ცოტა ლემმა ასეთი სახის. თუმცა არ ვარ დარწმუნებული, როგორ უნდა მოვექცეთ ასეთ ლემებს. ზოგიერთი უბრალოდ არ მოიძენბება კორპუსში სავარაუდოდ მათი სიიშვიათიდან გამომდინარე, დანარჩენები კი ან ბოლო ხმოვანია სახეცვლილი მაგ: ზვირთება - ზვირთების ნაცვლად და ა.შ. "
   ]
  },
  {
   "cell_type": "markdown",
   "id": "6b6afc2f-8959-42af-8050-1871423c19d7",
   "metadata": {},
   "source": [
    "რამოდენიმე ლემიანი სიტყვები:"
   ]
  },
  {
   "cell_type": "code",
   "execution_count": 33,
   "id": "f7df96ff-8cb8-430e-a4b7-295bcd632e4d",
   "metadata": {},
   "outputs": [
    {
     "name": "stdout",
     "output_type": "stream",
     "text": [
      "Word: უნდა  Lemma: {'\\t', 'უნდა', 'ნდომა'}\n",
      "Word: მინდა  Lemma: {'ნდომა'}\n",
      "Word: გვინდა  Lemma: {'ნდომა'}\n",
      "Lemma: ნდომა Words: {'ნდომის', 'ნდომაა', 'ნდომად', 'მდომებოდა', 'გინდათო', 'უნდოდე', 'უნდიხარ', 'გვინდით', 'ვუნდოდიო', 'გვინდიხარ', 'ენდომებოდა', 'მინდიხართო', 'ენდომებათ', 'ნდომაზე', 'ვუნდივართო', 'მინდოდეს', 'გვინდიხართო', 'ენდომებოდათ', 'მინდიხარ-მეთქი', 'დომებია', 'გენდომებოდა', 'გინდოდა-მეთქი', 'გვენდომებოდა', 'გნდომებია', 'მინდოდა-მეთქი', 'გინდოდესო', 'მდომებოდა-მეთქი', 'ვდომებივართ', 'უნდა-თქო', 'გინდა-რა', 'მინდოდა-რა', 'სდომებიათ', 'ნდომულობდა', 'უნდოდაო', 'მენდომება', 'ნდომითა', 'ენდომებოდაო', 'მინდოდი', 'ნდომაში', 'უნდოდათ-მეთქი', 'უნდათ-თქო', '-გვინდა', 'სდომებოდათ', 'გდომებოდა', 'ნდომაც', 'გვინდიხარო', 'ნდომებიათ', 'ნდომასაც', 'უნდათო', 'სდომებიათო', 'უნდოდეთ-მეთქი', 'ნდომასთან', 'ნდომაო', 'მინდიხარო', 'უნდოდარა', 'გვინდაო', 'ნდომით', '-მინდაო', 'გინდოდა', 'მინდა-მეთქი', 'გვინდა-რა', 'მინდიხართ', 'გინდოდი', 'გენდომებათ', 'უნდება', 'ვუნდივართ', 'ვუნდი', 'მინდოდე', 'ნდომისაგან', 'უნდოდეთ', 'გინდოდათო', 'უნდათრა', 'უნდოდეს', 'გინდოდეს', 'გინდივართ', 'გინდა-თქო', 'ვუნდივარ', 'გუინდი', 'ნდომას', 'გდომებოდათ', 'ნდომისათვის', 'გინდა', 'ნდომებოდეს', 'გინა', 'სდომებიაო', 'მინარე', 'გვინდოდეს', 'მინდამეთქი', 'გინდი', 'გდომებიათ', 'ნდომაზეა', 'გვნდომებოდა', 'ვუნდოდეთ', 'უნდოდა-მეთქი', 'უნდათ', 'მინდოდის', 'ნდომისგან', 'უნდოდით', 'მნდომებოდა', 'ვდომებივარ', 'მინდოდა', 'მინდა', 'გენდომები', 'გენდომებოდაო', 'გინდაა', 'უნდოდესო', 'უნდაა', 'ნდომულობენ', 'მდომებია', 'გვინდოდა', 'გენდომება', 'ენდომება-მეთქი', 'მენდომებაო', 'უნდოდენ', 'გინდაო', '-გინდოდა', 'ნდომებოდა', 'ნდომანი', 'ნდომისგანაც', 'გდომებიაო', 'გვინდა', '-მინდა', 'ნდომასა', 'ნდომამა', 'მინდოდათქო', 'გინდოდეთ', 'გინდაცა', 'მინდოდაო', 'გვენდომება', 'მინ-და', 'უნდათთქო', 'გვინდოდაო', 'ჰნდომულობს', 'გუინი', 'გინდათ-მეთქი', 'გვდომებოდა', 'ნდომებია', 'გნდომებოდა', 'უნდა', 'უნდოდათ-რა', 'გვდომებია', 'ნდომულობს', 'ნდომამ', 'უნდოდა-რა', 'ნდომებს', 'ნდომათაგანის', 'გინდოდესთ', 'გინდოდაო', 'გინ-და', 'ნდომებოდათ', 'ვუნდივარო', 'ვენდომებიო', 'უნდებათ', 'მინდაა', 'სდომებია', 'ენდომება', 'ნდომებიაო', 'მინდიხარ-თქო', 'ენდომებაო', 'მინდიხარ', 'გინდივარ', 'მნდომებია', 'უნდაო', 'გინდა-თქვა', 'უნდიხართო', 'გინდოდით', 'ვუნდოდით', 'ენდომები', 'მინდა-თქო', 'გინდოდათ', 'ვუნდივარ-მეთქი', 'უნდიხართ', 'უნდოდათო', 'მინდა-რა', 'უნდოდის', 'მინდება', 'ნდომისა', 'მინდათქო', 'გდომებიათო', 'ნდომამაც', 'გნდომებიათ', 'გინდოდე', 'მინდო-და', 'მინდა-რაო', 'გინდება', 'გინდოდეთო', 'გინდათ', 'გინდივართო', 'მინდებაო', 'უნდი', 'გვინა', 'ვენდომებით', 'მინდარა', 'მინდაო', 'უნ-დოდა', 'უნდიხარო', 'უნდოდა', 'გენდომებოდათ', 'გვინდიხართ', 'ნდომა', 'გვინდოდი', 'ვუნდოდე', 'გვინდაღა', 'გდომებია', 'უნდათ-მეთქი', 'ნდომათა', 'სდომებოდა', 'გვინდა-მეთქი', 'მინდოდით', 'გინდა-მეთქი', 'უნა', 'გვინდოდესო', 'გვინდა-თქო', 'ვუნდოდი', 'მინდა-თქვა', 'გინდივარო', 'უნდოდეს-მეთქი', 'უნდოდი', 'გვნდომებია', 'უნდა-მეთქი', 'ვენდომები', 'გენდომებით', 'უნდოდა-თქვა', 'უნდოდათ', 'უნდებოდათ', 'სდომებოდეს', '-გინდა', 'უნდათ-რა', 'ვდომებოდი'}\n",
      "Lemma: ნდომა Words: {'უნდა', 'უნდა-რა', '-უნდა', 'უნდარა', 'უნდა-მეთქი', 'უნდა-თქო', 'უნდაც', 'უნ-და', 'უნდაში', 'უნდაო', 'უნდას'}\n"
     ]
    }
   ],
   "source": [
    "print(f\"Word: უნდა  Lemma: {word_to_lemma('უნდა')}\")\n",
    "print(f\"Word: მინდა  Lemma: {word_to_lemma('მინდა')}\")\n",
    "print(f\"Word: გვინდა  Lemma: {word_to_lemma('გვინდა')}\")\n",
    "print(f\"Lemma: ნდომა Words: {lemma_to_words('ნდომა')}\")\n",
    "print(f\"Lemma: ნდომა Words: {lemma_to_words('უნდა')}\")"
   ]
  },
  {
   "cell_type": "markdown",
   "id": "63e251cc-d2c7-4e3d-ab7e-8133208815f4",
   "metadata": {},
   "source": [
    "ყველა ლემა ქმნის ლექსემების ჯგუფს, თუმცა რამოდენიმე ლემას კორპუსში აქვს თანაკვეთა ლექსემების სიაში, რაც ბუნდოვანს ხდის, რომელ ჯგუფს უნდა ეკუთვნოდეს, რეალურად ესა თუ ის სიტყვა. გაერთიანებული უნდა იყოს ეს ჯგუფები თუ განცალკევებული ერთმანეთისგან."
   ]
  },
  {
   "cell_type": "code",
   "execution_count": 34,
   "id": "cbcaca84-0ffd-4b26-b676-e4c48869e4f4",
   "metadata": {},
   "outputs": [],
   "source": [
    "set1 = lemma_to_words('ნდომა')\n",
    "set2 = lemma_to_words('უნდა')"
   ]
  },
  {
   "cell_type": "code",
   "execution_count": 35,
   "id": "f556ad90-3086-467d-a1f6-a6db8e7102d6",
   "metadata": {},
   "outputs": [
    {
     "name": "stdout",
     "output_type": "stream",
     "text": [
      "difference 7\n",
      "intersection 4\n",
      "{'უნდა-რა', '-უნდა', 'უნდარა', 'უნდაც', 'უნ-და', 'უნდაში', 'უნდას'}\n",
      "{'უნდა', 'უნდაო', 'უნდა-მეთქი', 'უნდა-თქო'}\n"
     ]
    }
   ],
   "source": [
    "diff = set2.difference(set1)\n",
    "inter = set2.intersection(set1)\n",
    "print(f'difference {len(diff)}')\n",
    "print(f'intersection {len(inter)}')\n",
    "print(diff)\n",
    "print(inter)"
   ]
  },
  {
   "cell_type": "code",
   "execution_count": 36,
   "id": "53b545d7-ed65-4661-bf9d-cf3f6910ebce",
   "metadata": {},
   "outputs": [],
   "source": [
    "set1 = lemma_to_words('ჭა')\n",
    "set2 = lemma_to_words('ჭამა')"
   ]
  },
  {
   "cell_type": "code",
   "execution_count": 37,
   "id": "7084dc1e-cb91-4c5b-8cfd-147f00ed6d37",
   "metadata": {},
   "outputs": [
    {
     "name": "stdout",
     "output_type": "stream",
     "text": [
      "difference 331\n",
      "intersection 5\n",
      "{'გვჭამს', 'იჭამს', 'მოეჭამნა', 'ვსჭამეო', 'ვჭამეთო', 'ვჭამეო', 'ვჭამეთქო', 'ჭამიდან', 'ჭამეთქო', 'ჭამოს', 'შეუჭამიათ', 'ჭამაც', 'გვჭამთ', 'ჰსჭამეთ', 'ჭამეო', 'ჭამისათვის', 'ვჭამდიო', 'შეგვიჭამს', 'მოუჭამიათ', 'დაეჭამათ', 'შემიჭამია-რა', 'დაგვიჭამია', 'დაეჭამა', 'ჭამამ', 'მჭამთ', 'ჭამთო', 'დაუჭამეს', 'გვჭამდეს', 'მოეჭამათ', 'ჭამაა', 'მჭამდნენ', 'იჭმებაო', 'ჭამამა', 'ჭამასო', 'შეგვიჭამა', 'სჭამდეთ', 'სჭამდათ', 'იჭამსო', 'მჭამს', 'შეგიჭამს', 'შეეჭამა', 'მიჭამაო', 'დაუჭამია', 'გიჭამით', 'შეუჭამიხარო', 'დამიჭამაო', 'შემიჭამენო', 'ჭამდა', 'დაგიჭამიათ', 'სჭამე', 'გვაჭამო', 'ამოეჭამნა', 'მიჭამია-რაო', 'ჭამით', 'ჭამაღა', 'შეეჭამათ', 'სჭამოს', 'გვიჭამიაო', 'ჭამითო', 'გადაგვიჭამს', 'სჭამდით', 'გადაეჭამა', 'ვჭამთო', 'სჭამდენ', 'ჭამეთო', 'შემიჭამია', 'სჭამენ', 'გჭამს', 'ვჭამოთო', 'ჭამას', 'იჭმებოდა', 'აჭამდა', 'შეგიჭამთ', 'იჭამდა', 'ჭამოსო', 'ჭამოს-მეთქი', 'შეგვიჭამდნენ', 'შევუჭამ', 'უჭამიაო', 'სჭამოთ', 'მჭამსო', 'ჭამანი', 'შევუჭამივარ', 'სჭამეო', 'ჭამაშიაც', 'შეუჭამესო', 'შევეჭამე', 'მოგვიჭამია', 'ჭამის', 'ვჭამე', 'შეეჭამნეს', 'დამიჭამეს', 'შემიჭამაო', 'ჭამად', 'გჭამოთო', 'ჭამისო', 'შემიჭამდიო', 'სჭამ', 'ჭამასა', 'დაუჭამიათ', 'გვიჭამია', 'შეუჭამიაო', 'წაგიჭამია', 'ჭამოო', 'გვიჭამია-რა', 'ჭამდეს', 'გამოეჭამა', 'სჭამონ', 'გამოუჭამიათ-მეთქი', 'ჭამს', 'ჰსჭამდა', 'შეუჭამე', 'მჭამო', 'ჭამაშია', 'აჭამდნენ', 'ჭამენო', 'ჭამისაც', 'ჭამ-მეთქი', 'მჭამდა', 'შემიჭამა', 'გიჭამიათო', 'შეუჭამიხართ', 'სჭამა', 'მჭამე', 'შეეჭამნა', 'ვჭამოთ-თქო', 'ჭამაზეც', 'ჭამდესო', 'ამოგვეჭამა', 'ჭამაშიაო', 'ჭამასავით', 'ვჭამოთ', 'შევუჭამდი', 'შემეჭამა', 'შეუჭამა', 'ვჭამ', 'ჭამენ', 'ვსჭამთ', 'ჰსჭამსო', 'ვსჭამო', 'წაეჭამათ', 'სჭამდი', 'შემიჭამდი', 'დავეჭამეთ', 'ვაჭამო', 'სჭამს', 'ჭამისაკენ', 'ამოგიჭამს', 'მოგვიჭამდეს', 'ვჭამთ', 'შეუჭამიხარ', 'შეგვიჭამეს', 'ჭამდაო', 'ვჭამოო', 'ჭამესო', 'სჭამთო', 'ჭამამდეც', 'შეეჭამა-თქო', 'ჭამისთვის', 'უჭამნია', 'ჭამსო', 'დაგიჭამა', 'სჭამსო', 'ვაჭამდი', 'ჭამისას', 'ჭამენ-მეთქი', 'გიჭამიათ', 'შევუჭამთ', 'შეგვიჭამდა', 'შეუჭამეს', 'მჭამენ', 'ვჭამდით', 'უჭამია', 'ვსჭამდი', 'შეუჭამოთ', 'ვჭამდითო', 'ჰსჭამენ', 'ჭამისა', 'ამოუჭამა', 'ვჭამდე', 'ჭამდენ', 'სჭამდნენო', 'მოუჭამია', 'იჭამ', 'ჭამასაც', 'შეგიჭამონ', 'ჭამათ', 'სჭამეს', 'შეგიჭამოთ', 'დაუჭამს', 'შეგიჭამა', 'წავუჭამე', 'გადაუჭამიაო', 'შევუჭამივართ', 'მოეჭამა', 'მოუჭამიაო', 'ვიჭამთ', 'მჭამ', 'მჭამეთ', 'ეჭმება', 'შეუჭამს', 'გიჭამიაო', 'შემიჭამს', 'შეგიჭამე', 'მიჭამია', 'სჭამდეს', 'ჭამაცა', 'სჭამდეო', 'აჭამო', 'დამიჭამა', 'გჭამდა', 'ვჭამოთ-მეთქი', 'ვსჭამ', 'შეგიჭამია', 'გვჭამონ', 'ჭამასთან', 'შეგიჭამიათ', 'ჭამონო', 'ამოგიჭამა', 'შემიჭამეთ', 'სჭამდა', 'ვჭამდეთ', 'ვჭამეთ', 'სჭამდესო', 'ჭამდნენ', 'შემიჭამეს', 'ამოუჭამათ', 'ჰსჭამდნენ', 'სჭამო', 'ჭამაზეა', 'მომიჭამია', 'შეუჭამია', 'შეუჭამ', 'ვჭამე-მეთქი', 'გვჭამდნენ', 'სჭამდე', 'ჭამისთვისაც', 'ჭამაზედ', 'ამომიჭამია', 'გამოგვიჭამს', 'გვჭამდა', 'შეუჭამეთ', 'ჭამადაც', 'იჭამენ', 'გვჭამენ', 'იჭამდნენ', 'ჭამე', 'შევუჭამეთ', 'ამოუჭამია', 'შეუჭამოს', 'ჭამამდის', 'ჭამო-მეთქი', 'გამოუჭამია', 'ვსჭამდე', 'ჭამეთ', 'სჭამენო', 'ჭამითაც', 'სჭამდნენ', 'ჭამე-მეთქი', 'ჭამამდე', 'შევუჭამო', 'ჭამისაგან', 'დაგვეჭამა', 'გიჭამია', 'ვჭამ-მეთქი', 'გამოუჭამეს', 'გაჭამო', 'შემიჭამოს', 'ჭამაზედაც', 'მოგიჭამიათ', 'სჭამდაო', 'ვჭამო', 'გჭამენო', 'ჭამაშიც', 'დაუჭამა', 'ჰჭამდი', 'ჭამთ', 'ჭამოთო', 'შეგვეჭამა', 'იჭმება', 'ჭამონ', 'ვსჭამოთო', 'მაჭამდნენ', 'შეგიჭამენ', 'სჭამოთო', 'იჭმებოდეს', 'ჭამაზე', 'დამიჭამოს', 'ჭამაში', 'შეგვიჭამონ', 'შეგვიჭამია', 'სჭამეთ', 'ჭამითა', 'ჭამოთ', 'სჭამთ', 'ეჭმებოდა', 'ჭამისგან', 'ვჭამდი', 'ჭამდით', 'შემიჭამდა', 'ჭამისკენ', 'მიჭამიაო', 'ჭამისადმი', 'გვჭამეთ', 'შემიჭამე', 'ჭამაო', 'ჭამე-ო', 'გამოუჭამდნენ', 'აჭამენ', 'ჭამდნენო', 'ვიჭამდე', 'ამოეჭამა', 'შეგიჭამიაო', 'უჭამიარა', 'შეგიჭამეს', 'გჭამენ', 'შეგიჭამ', 'ჭამეს', 'შემიჭამენ', 'შევუჭამე', 'ვჭამო-მეთქი', 'ჭამისთანავე', 'ჭამედ', 'ჭამნო', 'უჭამიათ', 'გადაგვიჭამა', 'გვჭამოს', 'მჭამოს', 'ჭამა-მეთქი', 'შემიჭამთ', 'შეუჭამათ'}\n",
      "{'ჭამ', 'ჭამდი', 'ჭამდე', 'ჭამა', 'ჭამო'}\n"
     ]
    }
   ],
   "source": [
    "diff = set2.difference(set1)\n",
    "inter = set2.intersection(set1)\n",
    "print(f'difference {len(diff)}')\n",
    "print(f'intersection {len(inter)}')\n",
    "print(diff)\n",
    "print(inter)"
   ]
  },
  {
   "cell_type": "markdown",
   "id": "23b5cf46-0d9a-4f86-94aa-705788b8b38d",
   "metadata": {},
   "source": [
    "ამ ყველაფრის მიუხედავ, არის რაღაცეები რისგანაც მაინც შეგვიზლია გავწმინდოთ ლემები მაგალითად. '??' ან '\\t'"
   ]
  },
  {
   "cell_type": "code",
   "execution_count": 39,
   "id": "2fcb846a-3185-4cab-9270-01b2676c6088",
   "metadata": {},
   "outputs": [
    {
     "data": {
      "text/html": [
       "<div>\n",
       "<style scoped>\n",
       "    .dataframe tbody tr th:only-of-type {\n",
       "        vertical-align: middle;\n",
       "    }\n",
       "\n",
       "    .dataframe tbody tr th {\n",
       "        vertical-align: top;\n",
       "    }\n",
       "\n",
       "    .dataframe thead th {\n",
       "        text-align: right;\n",
       "    }\n",
       "</style>\n",
       "<table border=\"1\" class=\"dataframe\">\n",
       "  <thead>\n",
       "    <tr style=\"text-align: right;\">\n",
       "      <th></th>\n",
       "      <th>word</th>\n",
       "      <th>lemma</th>\n",
       "      <th>freq</th>\n",
       "      <th>lemma_count</th>\n",
       "    </tr>\n",
       "  </thead>\n",
       "  <tbody>\n",
       "    <tr>\n",
       "      <th>0</th>\n",
       "      <td>ამ</td>\n",
       "      <td>{'ეს'}</td>\n",
       "      <td>1041654</td>\n",
       "      <td>1</td>\n",
       "    </tr>\n",
       "    <tr>\n",
       "      <th>1</th>\n",
       "      <td>ზამთრის</td>\n",
       "      <td>{'ზამთარი'}</td>\n",
       "      <td>8035</td>\n",
       "      <td>1</td>\n",
       "    </tr>\n",
       "    <tr>\n",
       "      <th>2</th>\n",
       "      <td>მიწურულს</td>\n",
       "      <td>{'მიწურული'}</td>\n",
       "      <td>5976</td>\n",
       "      <td>1</td>\n",
       "    </tr>\n",
       "    <tr>\n",
       "      <th>3</th>\n",
       "      <td>თითქმის</td>\n",
       "      <td>{'თითქმის'}</td>\n",
       "      <td>62608</td>\n",
       "      <td>1</td>\n",
       "    </tr>\n",
       "    <tr>\n",
       "      <th>4</th>\n",
       "      <td>სასოწარკვეთილი</td>\n",
       "      <td>{'სასოწარკვეთილი'}</td>\n",
       "      <td>844</td>\n",
       "      <td>1</td>\n",
       "    </tr>\n",
       "    <tr>\n",
       "      <th>...</th>\n",
       "      <td>...</td>\n",
       "      <td>...</td>\n",
       "      <td>...</td>\n",
       "      <td>...</td>\n",
       "    </tr>\n",
       "    <tr>\n",
       "      <th>95</th>\n",
       "      <td>შუბლზე</td>\n",
       "      <td>{'შუბლი'}</td>\n",
       "      <td>1697</td>\n",
       "      <td>1</td>\n",
       "    </tr>\n",
       "    <tr>\n",
       "      <th>96</th>\n",
       "      <td>ვაკოცე</td>\n",
       "      <td>{'კოცნა'}</td>\n",
       "      <td>174</td>\n",
       "      <td>1</td>\n",
       "    </tr>\n",
       "    <tr>\n",
       "      <th>97</th>\n",
       "      <td>როგორც</td>\n",
       "      <td>{'როგორც'}</td>\n",
       "      <td>478016</td>\n",
       "      <td>1</td>\n",
       "    </tr>\n",
       "    <tr>\n",
       "      <th>98</th>\n",
       "      <td>ჩანს</td>\n",
       "      <td>{'*ჩენა', 'ჩანი'}</td>\n",
       "      <td>57172</td>\n",
       "      <td>2</td>\n",
       "    </tr>\n",
       "    <tr>\n",
       "      <th>99</th>\n",
       "      <td>მაშინ</td>\n",
       "      <td>{'მაშინ'}</td>\n",
       "      <td>154162</td>\n",
       "      <td>1</td>\n",
       "    </tr>\n",
       "  </tbody>\n",
       "</table>\n",
       "<p>100 rows × 4 columns</p>\n",
       "</div>"
      ],
      "text/plain": [
       "              word               lemma     freq  lemma_count\n",
       "0               ამ              {'ეს'}  1041654            1\n",
       "1          ზამთრის         {'ზამთარი'}     8035            1\n",
       "2         მიწურულს        {'მიწურული'}     5976            1\n",
       "3          თითქმის         {'თითქმის'}    62608            1\n",
       "4   სასოწარკვეთილი  {'სასოწარკვეთილი'}      844            1\n",
       "..             ...                 ...      ...          ...\n",
       "95          შუბლზე           {'შუბლი'}     1697            1\n",
       "96          ვაკოცე           {'კოცნა'}      174            1\n",
       "97          როგორც          {'როგორც'}   478016            1\n",
       "98            ჩანს   {'*ჩენა', 'ჩანი'}    57172            2\n",
       "99           მაშინ           {'მაშინ'}   154162            1\n",
       "\n",
       "[100 rows x 4 columns]"
      ]
     },
     "execution_count": 39,
     "metadata": {},
     "output_type": "execute_result"
    }
   ],
   "source": [
    "def clean(x):\n",
    "    word = x.word\n",
    "    lemmas = x.lemma\n",
    "    bad_lemma_patterns = re.compile(r'\\?\\?|\\t')\n",
    "    new_lemmas = set()\n",
    "    for lemma in literal_eval(lemmas):\n",
    "        try:\n",
    "            if bad_lemma_patterns.search(lemma) is not None:\n",
    "                continue\n",
    "            words = lemma.split()\n",
    "            if words is not None and len(words) > 1:\n",
    "                continue\n",
    "        except Exception:\n",
    "            pass\n",
    "        new_lemmas.add(lemma)\n",
    "    x['lemma'] = str(new_lemmas)\n",
    "    x['lemma_count'] = len(new_lemmas)\n",
    "    return x\n",
    "\n",
    "cleaned_df = df.apply(lambda x: clean(x), axis=1)\n",
    "cleaned_df[:100]"
   ]
  },
  {
   "cell_type": "code",
   "execution_count": 40,
   "id": "d6285de5-79b0-4ba3-ae5b-0f4e0299611e",
   "metadata": {},
   "outputs": [
    {
     "name": "stdout",
     "output_type": "stream",
     "text": [
      "Number of words with ambigious lemmas: 18138\n"
     ]
    },
    {
     "data": {
      "text/html": [
       "<div>\n",
       "<style scoped>\n",
       "    .dataframe tbody tr th:only-of-type {\n",
       "        vertical-align: middle;\n",
       "    }\n",
       "\n",
       "    .dataframe tbody tr th {\n",
       "        vertical-align: top;\n",
       "    }\n",
       "\n",
       "    .dataframe thead th {\n",
       "        text-align: right;\n",
       "    }\n",
       "</style>\n",
       "<table border=\"1\" class=\"dataframe\">\n",
       "  <thead>\n",
       "    <tr style=\"text-align: right;\">\n",
       "      <th></th>\n",
       "      <th>word</th>\n",
       "      <th>lemma</th>\n",
       "      <th>freq</th>\n",
       "      <th>lemma_count</th>\n",
       "    </tr>\n",
       "  </thead>\n",
       "  <tbody>\n",
       "    <tr>\n",
       "      <th>9</th>\n",
       "      <td>უფროსი</td>\n",
       "      <td>{'უფროსი', 'უფრო'}</td>\n",
       "      <td>23894</td>\n",
       "      <td>2</td>\n",
       "    </tr>\n",
       "    <tr>\n",
       "      <th>21</th>\n",
       "      <td>მახარა</td>\n",
       "      <td>{'მახარა', 'ხარება'}</td>\n",
       "      <td>75</td>\n",
       "      <td>2</td>\n",
       "    </tr>\n",
       "    <tr>\n",
       "      <th>25</th>\n",
       "      <td>შეხვდა</td>\n",
       "      <td>{'შეხვდომა', 'შეხვედრა'}</td>\n",
       "      <td>19596</td>\n",
       "      <td>2</td>\n",
       "    </tr>\n",
       "    <tr>\n",
       "      <th>28</th>\n",
       "      <td>პირველივე</td>\n",
       "      <td>{'პირველიივე', 'პირველივე'}</td>\n",
       "      <td>8989</td>\n",
       "      <td>2</td>\n",
       "    </tr>\n",
       "    <tr>\n",
       "      <th>34</th>\n",
       "      <td>ამბით</td>\n",
       "      <td>{'ამბა', 'ამბავი'}</td>\n",
       "      <td>840</td>\n",
       "      <td>2</td>\n",
       "    </tr>\n",
       "    <tr>\n",
       "      <th>44</th>\n",
       "      <td>არის</td>\n",
       "      <td>{'ყოფნა', 'არე'}</td>\n",
       "      <td>582792</td>\n",
       "      <td>2</td>\n",
       "    </tr>\n",
       "    <tr>\n",
       "      <th>51</th>\n",
       "      <td>ვიცნობთ</td>\n",
       "      <td>{'*ცნობა', 'ცნობა'}</td>\n",
       "      <td>1052</td>\n",
       "      <td>2</td>\n",
       "    </tr>\n",
       "    <tr>\n",
       "      <th>61</th>\n",
       "      <td>შენ</td>\n",
       "      <td>{'შენ', 'შენი'}</td>\n",
       "      <td>62211</td>\n",
       "      <td>2</td>\n",
       "    </tr>\n",
       "    <tr>\n",
       "      <th>62</th>\n",
       "      <td>მხოლოდ</td>\n",
       "      <td>{'მხოლოდ', 'მხოლო'}</td>\n",
       "      <td>298169</td>\n",
       "      <td>2</td>\n",
       "    </tr>\n",
       "    <tr>\n",
       "      <th>65</th>\n",
       "      <td>მერედა</td>\n",
       "      <td>{'მერე', 'მერედა'}</td>\n",
       "      <td>1223</td>\n",
       "      <td>2</td>\n",
       "    </tr>\n",
       "    <tr>\n",
       "      <th>91</th>\n",
       "      <td>ჩემს</td>\n",
       "      <td>{'მე', 'ჩემი'}</td>\n",
       "      <td>72189</td>\n",
       "      <td>2</td>\n",
       "    </tr>\n",
       "    <tr>\n",
       "      <th>93</th>\n",
       "      <td>დადგა</td>\n",
       "      <td>{'დადგმა', 'დადგომა'}</td>\n",
       "      <td>13715</td>\n",
       "      <td>2</td>\n",
       "    </tr>\n",
       "    <tr>\n",
       "      <th>98</th>\n",
       "      <td>ჩანს</td>\n",
       "      <td>{'*ჩენა', 'ჩანი'}</td>\n",
       "      <td>57172</td>\n",
       "      <td>2</td>\n",
       "    </tr>\n",
       "    <tr>\n",
       "      <th>134</th>\n",
       "      <td>შორის</td>\n",
       "      <td>{'შორის', 'შორი'}</td>\n",
       "      <td>244634</td>\n",
       "      <td>2</td>\n",
       "    </tr>\n",
       "    <tr>\n",
       "      <th>156</th>\n",
       "      <td>ჩვენს</td>\n",
       "      <td>{'ჩვენ', 'ჩვენი'}</td>\n",
       "      <td>108145</td>\n",
       "      <td>2</td>\n",
       "    </tr>\n",
       "    <tr>\n",
       "      <th>177</th>\n",
       "      <td>ერთად</td>\n",
       "      <td>{'ერი', 'ერთად', 'ერთი', 'ერთა'}</td>\n",
       "      <td>151071</td>\n",
       "      <td>4</td>\n",
       "    </tr>\n",
       "    <tr>\n",
       "      <th>178</th>\n",
       "      <td>ვართ</td>\n",
       "      <td>{'ყოფნა', 'ვარი'}</td>\n",
       "      <td>51649</td>\n",
       "      <td>2</td>\n",
       "    </tr>\n",
       "    <tr>\n",
       "      <th>182</th>\n",
       "      <td>შემდეგ</td>\n",
       "      <td>{'შემდეგ', 'შემდეგი'}</td>\n",
       "      <td>396135</td>\n",
       "      <td>2</td>\n",
       "    </tr>\n",
       "    <tr>\n",
       "      <th>190</th>\n",
       "      <td>მანძილზე</td>\n",
       "      <td>{'მანძილი', 'მანძილზე'}</td>\n",
       "      <td>32071</td>\n",
       "      <td>2</td>\n",
       "    </tr>\n",
       "    <tr>\n",
       "      <th>191</th>\n",
       "      <td>მის</td>\n",
       "      <td>{'მისი', 'ის'}</td>\n",
       "      <td>183573</td>\n",
       "      <td>2</td>\n",
       "    </tr>\n",
       "    <tr>\n",
       "      <th>204</th>\n",
       "      <td>გეგმავდა</td>\n",
       "      <td>{'*გეგმვა', 'დაგეგმვა'}</td>\n",
       "      <td>1649</td>\n",
       "      <td>2</td>\n",
       "    </tr>\n",
       "    <tr>\n",
       "      <th>214</th>\n",
       "      <td>პირველად</td>\n",
       "      <td>{'პირველად', 'პირველი', 'პირველადი'}</td>\n",
       "      <td>38138</td>\n",
       "      <td>3</td>\n",
       "    </tr>\n",
       "    <tr>\n",
       "      <th>216</th>\n",
       "      <td>პირველი</td>\n",
       "      <td>{'პირველი', 'პირველ'}</td>\n",
       "      <td>148578</td>\n",
       "      <td>2</td>\n",
       "    </tr>\n",
       "    <tr>\n",
       "      <th>217</th>\n",
       "      <td>იყო</td>\n",
       "      <td>{'იყო', 'ყოფნა'}</td>\n",
       "      <td>624156</td>\n",
       "      <td>2</td>\n",
       "    </tr>\n",
       "    <tr>\n",
       "      <th>218</th>\n",
       "      <td>ვინაც</td>\n",
       "      <td>{'ვინა', 'ვინ'}</td>\n",
       "      <td>2305</td>\n",
       "      <td>2</td>\n",
       "    </tr>\n",
       "    <tr>\n",
       "      <th>222</th>\n",
       "      <td>მეუღლის</td>\n",
       "      <td>{'მოღლა', 'მეუღლე'}</td>\n",
       "      <td>4718</td>\n",
       "      <td>2</td>\n",
       "    </tr>\n",
       "    <tr>\n",
       "      <th>224</th>\n",
       "      <td>უმცროსი</td>\n",
       "      <td>{'უმცრო', 'უმცროსი'}</td>\n",
       "      <td>3941</td>\n",
       "      <td>2</td>\n",
       "    </tr>\n",
       "    <tr>\n",
       "      <th>231</th>\n",
       "      <td>ამბის</td>\n",
       "      <td>{'ამბა', 'ამბავი'}</td>\n",
       "      <td>2873</td>\n",
       "      <td>2</td>\n",
       "    </tr>\n",
       "    <tr>\n",
       "      <th>232</th>\n",
       "      <td>გარდაცვალების</td>\n",
       "      <td>{'გარდაცვლა', 'გარდაცვალება'}</td>\n",
       "      <td>8056</td>\n",
       "      <td>2</td>\n",
       "    </tr>\n",
       "    <tr>\n",
       "      <th>233</th>\n",
       "      <td>შესახებ</td>\n",
       "      <td>{'შესახები', 'შესახებ'}</td>\n",
       "      <td>218762</td>\n",
       "      <td>2</td>\n",
       "    </tr>\n",
       "    <tr>\n",
       "      <th>258</th>\n",
       "      <td>მესამედ</td>\n",
       "      <td>{'მესამე', 'მესამედი'}</td>\n",
       "      <td>3164</td>\n",
       "      <td>2</td>\n",
       "    </tr>\n",
       "    <tr>\n",
       "      <th>263</th>\n",
       "      <td>ყურებს</td>\n",
       "      <td>{'ყური', 'ყურა'}</td>\n",
       "      <td>566</td>\n",
       "      <td>2</td>\n",
       "    </tr>\n",
       "    <tr>\n",
       "      <th>278</th>\n",
       "      <td>ჩვენ</td>\n",
       "      <td>{'ჩვენ', 'ჩვენი'}</td>\n",
       "      <td>289594</td>\n",
       "      <td>2</td>\n",
       "    </tr>\n",
       "    <tr>\n",
       "      <th>281</th>\n",
       "      <td>ვესაუბრებით</td>\n",
       "      <td>{'საუბრება', 'საუბარი'}</td>\n",
       "      <td>559</td>\n",
       "      <td>2</td>\n",
       "    </tr>\n",
       "    <tr>\n",
       "      <th>285</th>\n",
       "      <td>მესტუმრებიან</td>\n",
       "      <td>{'სტუმრება', '*სტუმრება'}</td>\n",
       "      <td>12</td>\n",
       "      <td>2</td>\n",
       "    </tr>\n",
       "    <tr>\n",
       "      <th>288</th>\n",
       "      <td>დაწვრილებით</td>\n",
       "      <td>{'დაწვრილებით', 'დაწვრილებითი', 'დაწვრილება'}</td>\n",
       "      <td>4119</td>\n",
       "      <td>3</td>\n",
       "    </tr>\n",
       "    <tr>\n",
       "      <th>293</th>\n",
       "      <td>არა</td>\n",
       "      <td>{'არ', 'არა'}</td>\n",
       "      <td>396486</td>\n",
       "      <td>2</td>\n",
       "    </tr>\n",
       "    <tr>\n",
       "      <th>296</th>\n",
       "      <td>ძალიან</td>\n",
       "      <td>{'ძალიანი', 'ძალიან'}</td>\n",
       "      <td>250474</td>\n",
       "      <td>2</td>\n",
       "    </tr>\n",
       "    <tr>\n",
       "      <th>308</th>\n",
       "      <td>დამრჩენია</td>\n",
       "      <td>{'დარჩენა', 'დამრჩენი'}</td>\n",
       "      <td>529</td>\n",
       "      <td>2</td>\n",
       "    </tr>\n",
       "    <tr>\n",
       "      <th>309</th>\n",
       "      <td>ვთხოვო</td>\n",
       "      <td>{'თხოვნა', '*თხოვნა'}</td>\n",
       "      <td>593</td>\n",
       "      <td>2</td>\n",
       "    </tr>\n",
       "    <tr>\n",
       "      <th>311</th>\n",
       "      <td>ჩემზე</td>\n",
       "      <td>{'მე', 'ჩემი'}</td>\n",
       "      <td>8326</td>\n",
       "      <td>2</td>\n",
       "    </tr>\n",
       "    <tr>\n",
       "      <th>344</th>\n",
       "      <td>მეყიდა</td>\n",
       "      <td>{'ყიდვა', 'მოყიდვა'}</td>\n",
       "      <td>168</td>\n",
       "      <td>2</td>\n",
       "    </tr>\n",
       "    <tr>\n",
       "      <th>376</th>\n",
       "      <td>ვიხევ</td>\n",
       "      <td>{'დახევა', '*ხევა'}</td>\n",
       "      <td>34</td>\n",
       "      <td>2</td>\n",
       "    </tr>\n",
       "    <tr>\n",
       "      <th>379</th>\n",
       "      <td>გაჭირვებით</td>\n",
       "      <td>{'გაჭირვებით', 'გაჭირვება'}</td>\n",
       "      <td>1289</td>\n",
       "      <td>2</td>\n",
       "    </tr>\n",
       "    <tr>\n",
       "      <th>391</th>\n",
       "      <td>ხელებს</td>\n",
       "      <td>{'ხელი', 'ხელა'}</td>\n",
       "      <td>2767</td>\n",
       "      <td>2</td>\n",
       "    </tr>\n",
       "    <tr>\n",
       "      <th>393</th>\n",
       "      <td>ასხამენ</td>\n",
       "      <td>{'*სხმა', 'დასხმა', 'ასხმა'}</td>\n",
       "      <td>418</td>\n",
       "      <td>3</td>\n",
       "    </tr>\n",
       "    <tr>\n",
       "      <th>398</th>\n",
       "      <td>პირიქით</td>\n",
       "      <td>{'პირიქით', 'პირიქითი'}</td>\n",
       "      <td>23861</td>\n",
       "      <td>2</td>\n",
       "    </tr>\n",
       "    <tr>\n",
       "      <th>401</th>\n",
       "      <td>საკმაოდ</td>\n",
       "      <td>{'საკმაო', 'საკმაოდ'}</td>\n",
       "      <td>78847</td>\n",
       "      <td>2</td>\n",
       "    </tr>\n",
       "    <tr>\n",
       "      <th>404</th>\n",
       "      <td>აქვს</td>\n",
       "      <td>{'აქვი', 'ქონა'}</td>\n",
       "      <td>230641</td>\n",
       "      <td>2</td>\n",
       "    </tr>\n",
       "    <tr>\n",
       "      <th>418</th>\n",
       "      <td>როგორ</td>\n",
       "      <td>{'როგორ', 'როგორი'}</td>\n",
       "      <td>162401</td>\n",
       "      <td>2</td>\n",
       "    </tr>\n",
       "  </tbody>\n",
       "</table>\n",
       "</div>"
      ],
      "text/plain": [
       "              word                                          lemma    freq  \\\n",
       "9           უფროსი                             {'უფროსი', 'უფრო'}   23894   \n",
       "21          მახარა                           {'მახარა', 'ხარება'}      75   \n",
       "25          შეხვდა                       {'შეხვდომა', 'შეხვედრა'}   19596   \n",
       "28       პირველივე                    {'პირველიივე', 'პირველივე'}    8989   \n",
       "34           ამბით                             {'ამბა', 'ამბავი'}     840   \n",
       "44            არის                               {'ყოფნა', 'არე'}  582792   \n",
       "51         ვიცნობთ                            {'*ცნობა', 'ცნობა'}    1052   \n",
       "61             შენ                                {'შენ', 'შენი'}   62211   \n",
       "62          მხოლოდ                            {'მხოლოდ', 'მხოლო'}  298169   \n",
       "65          მერედა                             {'მერე', 'მერედა'}    1223   \n",
       "91            ჩემს                                 {'მე', 'ჩემი'}   72189   \n",
       "93           დადგა                          {'დადგმა', 'დადგომა'}   13715   \n",
       "98            ჩანს                              {'*ჩენა', 'ჩანი'}   57172   \n",
       "134          შორის                              {'შორის', 'შორი'}  244634   \n",
       "156          ჩვენს                              {'ჩვენ', 'ჩვენი'}  108145   \n",
       "177          ერთად               {'ერი', 'ერთად', 'ერთი', 'ერთა'}  151071   \n",
       "178           ვართ                              {'ყოფნა', 'ვარი'}   51649   \n",
       "182         შემდეგ                          {'შემდეგ', 'შემდეგი'}  396135   \n",
       "190       მანძილზე                        {'მანძილი', 'მანძილზე'}   32071   \n",
       "191            მის                                 {'მისი', 'ის'}  183573   \n",
       "204       გეგმავდა                        {'*გეგმვა', 'დაგეგმვა'}    1649   \n",
       "214       პირველად           {'პირველად', 'პირველი', 'პირველადი'}   38138   \n",
       "216        პირველი                          {'პირველი', 'პირველ'}  148578   \n",
       "217            იყო                               {'იყო', 'ყოფნა'}  624156   \n",
       "218          ვინაც                                {'ვინა', 'ვინ'}    2305   \n",
       "222        მეუღლის                            {'მოღლა', 'მეუღლე'}    4718   \n",
       "224        უმცროსი                           {'უმცრო', 'უმცროსი'}    3941   \n",
       "231          ამბის                             {'ამბა', 'ამბავი'}    2873   \n",
       "232  გარდაცვალების                  {'გარდაცვლა', 'გარდაცვალება'}    8056   \n",
       "233        შესახებ                        {'შესახები', 'შესახებ'}  218762   \n",
       "258        მესამედ                         {'მესამე', 'მესამედი'}    3164   \n",
       "263         ყურებს                               {'ყური', 'ყურა'}     566   \n",
       "278           ჩვენ                              {'ჩვენ', 'ჩვენი'}  289594   \n",
       "281    ვესაუბრებით                        {'საუბრება', 'საუბარი'}     559   \n",
       "285   მესტუმრებიან                      {'სტუმრება', '*სტუმრება'}      12   \n",
       "288    დაწვრილებით  {'დაწვრილებით', 'დაწვრილებითი', 'დაწვრილება'}    4119   \n",
       "293            არა                                  {'არ', 'არა'}  396486   \n",
       "296         ძალიან                          {'ძალიანი', 'ძალიან'}  250474   \n",
       "308      დამრჩენია                        {'დარჩენა', 'დამრჩენი'}     529   \n",
       "309         ვთხოვო                          {'თხოვნა', '*თხოვნა'}     593   \n",
       "311          ჩემზე                                 {'მე', 'ჩემი'}    8326   \n",
       "344         მეყიდა                           {'ყიდვა', 'მოყიდვა'}     168   \n",
       "376          ვიხევ                            {'დახევა', '*ხევა'}      34   \n",
       "379     გაჭირვებით                    {'გაჭირვებით', 'გაჭირვება'}    1289   \n",
       "391         ხელებს                               {'ხელი', 'ხელა'}    2767   \n",
       "393        ასხამენ                   {'*სხმა', 'დასხმა', 'ასხმა'}     418   \n",
       "398        პირიქით                        {'პირიქით', 'პირიქითი'}   23861   \n",
       "401        საკმაოდ                          {'საკმაო', 'საკმაოდ'}   78847   \n",
       "404           აქვს                               {'აქვი', 'ქონა'}  230641   \n",
       "418          როგორ                            {'როგორ', 'როგორი'}  162401   \n",
       "\n",
       "     lemma_count  \n",
       "9              2  \n",
       "21             2  \n",
       "25             2  \n",
       "28             2  \n",
       "34             2  \n",
       "44             2  \n",
       "51             2  \n",
       "61             2  \n",
       "62             2  \n",
       "65             2  \n",
       "91             2  \n",
       "93             2  \n",
       "98             2  \n",
       "134            2  \n",
       "156            2  \n",
       "177            4  \n",
       "178            2  \n",
       "182            2  \n",
       "190            2  \n",
       "191            2  \n",
       "204            2  \n",
       "214            3  \n",
       "216            2  \n",
       "217            2  \n",
       "218            2  \n",
       "222            2  \n",
       "224            2  \n",
       "231            2  \n",
       "232            2  \n",
       "233            2  \n",
       "258            2  \n",
       "263            2  \n",
       "278            2  \n",
       "281            2  \n",
       "285            2  \n",
       "288            3  \n",
       "293            2  \n",
       "296            2  \n",
       "308            2  \n",
       "309            2  \n",
       "311            2  \n",
       "344            2  \n",
       "376            2  \n",
       "379            2  \n",
       "391            2  \n",
       "393            3  \n",
       "398            2  \n",
       "401            2  \n",
       "404            2  \n",
       "418            2  "
      ]
     },
     "execution_count": 40,
     "metadata": {},
     "output_type": "execute_result"
    }
   ],
   "source": [
    "cleaned_df = cleaned_df[cleaned_df['lemma_count'] != 0]\n",
    "amb_lemmas = cleaned_df[cleaned_df['lemma_count'] != 1]\n",
    "print(f'Number of words with ambigious lemmas: {amb_lemmas.shape[0]}')\n",
    "amb_lemmas[:50]"
   ]
  },
  {
   "cell_type": "markdown",
   "id": "dda0ba28-7436-46fc-a313-75d9c3c118bd",
   "metadata": {},
   "source": [
    "კიდევ ერთი რამ რაც შევამჩნიე არის, ფაქტი, რომ ზოგიერთი ზმნა ლემას იცვლის სერიებსა და მწკრივებში"
   ]
  },
  {
   "cell_type": "code",
   "execution_count": 41,
   "id": "aecf756a-0881-4c36-ad24-b102dfcdb325",
   "metadata": {},
   "outputs": [
    {
     "data": {
      "text/plain": [
       "\"{'დასხმა'}\""
      ]
     },
     "execution_count": 41,
     "metadata": {},
     "output_type": "execute_result"
    }
   ],
   "source": [
    "word_to_lemma('დამისხა')"
   ]
  },
  {
   "cell_type": "code",
   "execution_count": 42,
   "id": "34c9a13a-beda-4ac9-92cb-825484379964",
   "metadata": {},
   "outputs": [
    {
     "name": "stdout",
     "output_type": "stream",
     "text": [
      "{'დამისხით', 'მასხამს', 'გასხამ', 'დამისხიო', 'დასხმანი', 'დავესხმით', 'დასხამდა', 'დაგვესხნენო', 'დაგვესხი', 'დავესხი-მეთქი', 'დაგესხმება', 'დამესხნნეს', 'დამსხას', 'დაგესხმებით-მეთქი', 'დასხმაც', 'დაგესხეს', 'დაასხათ', 'დაესხმები', 'დაისხას', 'დაგასხეს', 'დამესხმიან', 'დამისხაო', 'დაგესხმებით', 'დაგვესხმება', 'დამსხმოდა', 'დაგესხმებითო', 'დავისხა', 'გვასხან', 'დაგასხამთ', 'გასხამთ', 'დასხმისგან', 'დაგესხმით', 'დაესხმის', 'მასხამენ', 'დამესხმებოდნენ', 'დამსხმოდაო', 'გვასხამდნენ', 'დაგვსხით', 'დავუსხამდი', 'დაისხეს', '-დაასხით', 'დავისხით', 'დაგისხამ', 'დაგვესხმებოდნენ', 'დასხმაში', 'დასხას', 'დაგესხათ', 'დამსხმოდნენ', 'დაგასხამს', 'გვასხამენო', 'დამისხან', 'დაესხმოდათ', 'დასხამ', 'დაგსხეს', 'დასხამენ', 'დაესხმებოდით', 'დაგვასხა', 'დაასხეს', 'დაგვესხნეს', 'დასხმენ', 'დასხმისას', 'დაისხამთ', 'დამისხამს', 'დავსხმოდი', 'დაგვესხაო', 'დავესხმი', 'მასხამდა', 'დაგსხმიათ', 'დაგვსხნა', 'დავუსხამ-მეთქი', 'დაგვესხმებოდა', 'დაესხმი', 'დასხმასავით', 'დაასხამთ', 'დასხმიან', 'დაასხამდენ', 'დაუსხა', 'დაუსხან', 'ასხამდით', 'დამასხამენ', 'მასხამთ', 'დაასხით', 'დავესხა', 'დასხმად', 'დაგვესხან', 'დაგესხენ', 'დაესხმება', 'დაგვესხას', 'დაესხმიანო', 'გვასხამდა', 'დამისხა', 'ასხამ', 'დაასხას', 'დასხნეს', 'დაასხიო', 'დავსხამდი', 'დაგვსხამენ', 'დაგვისხა', 'დაგესხას', 'დასხმის', 'დავასხ', 'დამესხმოდა', 'მასხეს', 'დაგვესხით', 'დამესხა', 'დავესხი', 'დაისხამდეს', 'დამესხა-მეთქი', 'დაესხნეს', 'დაესხენ', 'დაგესხით', 'დაასხა-მეთქი', 'დავესხმებოდი', 'დაგასხამო', 'დაესხმოდეს', 'დაუსხათ', 'დაუსხას', 'დავისხია', 'დამესხნენო', 'დასხმამდე', 'დასხმიდეს', 'გვასხეს', 'დაგასხა', 'დაგესხნენთ', 'დავასხამთო', 'დასხა', 'ასხამდა', 'დაისხნა', 'დამისხამთ', 'დაგვესხნენ', 'დაგისხი', 'დაგვასხამ', 'დაგისხნა', 'დამესხენ', 'დაგასხათ', 'გვასხა', 'დასხმაა', 'დავუსხი', 'დასხი', 'დასხათ', 'დაგესხნეს', 'დაგვსხა', 'დაგვსხმოდა', 'დავსხამდით', 'დაგვსხამდნენ', 'დავსხნე', 'დასხმოდნენ', 'დამსხნი', 'დაესხმით', 'დასხმაზე', 'დაასხამენ', 'დაესხით', 'დაუსხამს', 'დავუსხით', 'დაესხმებათ', 'დაგასხას', 'დაესხმებიან', 'დამასხეს', 'დაისხმება', 'დამისხითო', 'დაასხათო', 'დაისხენ', 'დაგესხაო', 'დამესხნეს', 'დაასხამდა', 'ვასხამდი', 'დაგვესხასო', 'დაგესხან', 'დაისხამდნენ', 'დაგვესხმებით', 'დავესხმებიო', 'დაესხან', 'დავასხი', 'დაგვსხი', 'დავასხა', 'დამესხმით', 'დაგვასხამენ', 'დაასხამდი', 'დავსხა', 'დაასხან', 'დაესხმოდნენ', 'დაგესხმებიან', 'დაასხი-მეთქი', 'დასხით', 'დაესხნენო', 'დამასხი', 'დაგვსხეს', 'დამისხი', 'დავსხათო', 'დავასხათ', 'დამესხი', 'დამესხას', 'დასხნენ', 'დაგვესხენ', 'დაგასხნა', 'დაუსხამდა', 'დასხითო', 'დამასხით', 'დაისხმიან', 'დამისხიაო', 'დასხმაო', 'დაგვსხამდა', 'დაგვასხას', 'დაგვესხმებიან', 'დასხმისა', 'დაგვისხამს', 'დაგვასხამს', 'დაისხამს', 'დაესხნენ', 'დაისხიო', 'დავესხაო', 'დაესხას', 'ასხენ', 'დაესხაო', 'დაისხა', 'დასხეს', 'დამესხას-მეთქი', 'დაგვესხმის', 'დამასხან', 'დაისხამდა', 'დავისხათ', 'დასხმითა', 'დავესხნეთ', 'დაგვასხამთ', 'დასხან', 'დამესხაო', 'დაისხით', 'დაგესხნენ', 'მასხამდნენ', 'დაასხამს', 'დაისხათ', 'დავსხით', 'დაესხმოდა', 'მასხამ', 'დაუსხამთ', 'დაუსხამენ', 'დაასხი', 'დაესხათ', 'დაასხნე', 'დაესხმებოდეს', 'დამასხამს', 'დაუსხამ', 'დაუსხეს', 'დამესხმის', 'დაესხი', 'დაესხმებოდა', 'დაესხეს', 'დაგესხმები', 'დავისხამდი', 'დაისხამ', 'დაგვისხამდა', 'დავესხნათ', 'დაგვასხამდა', 'დავუსხამდით', 'დავისხენ', 'დავასხამდი', 'დავსხმოდით', 'დავესხათ', 'დასხმოდეს', 'დაისხამსო', 'დაესხმებოდნენ', 'ვასხამთ', 'დაესხმიან', 'დავისხამ-მეთქი', 'დაგესხა', 'დაუსხია', 'დაესხათო', 'დაასხაო', 'ასხამდნენ', 'დასხმას', 'დაგისხამთ', 'დაგასხამ', 'დავესხმები', 'დამესხმება', 'გვასხამენ', 'დავასხამ', 'ასხამდათ', 'დასხმისთანავე', 'დაასხამ', 'დამესხნენ', 'დავასხით', 'დავუსხამ', 'დამასხას', 'დავუსხა', 'დაესხმებით', 'დავასხამდით', 'დასხმისაგან', 'დავსხმივართ', 'დეესხათ', 'დაასხიან', 'დასხმოდათ', 'დავისხამთ', 'დესხა', 'დაასხამდნენ', 'დაუსხი', 'დაგვისხამენ', 'დაესხა', 'დაასხენ', 'დავსხამთ', 'დამისხათ', 'დაგისხათ', 'დაგასხან', 'დაჰსხმოდა', 'დაესხნას', 'მასხა', 'დაგისხა', 'დამასხამდა', 'დაგვესხა', 'დაასხნა', 'დაგესხმებოდნენ', 'დავუსხათ', 'დაასხის', 'დამესხან', 'დამსხმია', 'დამისხია', 'დასხმიათ', 'დაისხმიდეს', 'დაგსხა', 'დაგვესხმოდა', 'დასხმია', 'დაგვასხეს', 'დაგვასხით', 'დავისხი', 'დავსხათ', 'დაგესხმიან', 'დავასხამთ', 'გასხამს', 'დასხამდნენ', 'დაგესხმებათ', 'დასხმა', 'დავესხით', 'დაგვასხესო', 'დამესხნენ-მეთქი', 'დაგესხმის', 'დაგსხმოდნენ', 'დამასხა', 'გვასხამ', 'დაგვსხამს', 'ასხამს', 'დაგვისხი', 'დაასხა', 'დაუსხით', 'დაისხი', 'დაგესხმებაო', 'დასხმით', 'ასხამენ', 'დაასხმიდეს', 'დავისხამ', 'დაგვესხმიან', 'დამისხამდა', 'დასხამს', 'დაგვსხმია', 'დასხმოდა', 'დაასხ', 'დამასხამ', 'დაესხის', 'დამისხეს', 'დაგვესხმოდნენ', 'დავესხმებით', 'დამასხენ', 'დაესხანო', 'დაუსხენ', 'დასხმისათვისაო', 'დასხმასა', 'გვასხამს', 'მასხი', 'ვასხამ', 'დაგასხი', 'დავასხამო', 'გასხნესო', 'დაასხნეს', 'დაგესხათო', 'დაგისხით', 'დაასხესო'}\n"
     ]
    }
   ],
   "source": [
    "print(lemma_to_words('დასხმა'))"
   ]
  },
  {
   "cell_type": "code",
   "execution_count": 43,
   "id": "3fa56782-fe8a-4f39-883b-be6237d95a8f",
   "metadata": {},
   "outputs": [
    {
     "data": {
      "text/plain": [
       "\"{'*სხმა'}\""
      ]
     },
     "execution_count": 43,
     "metadata": {},
     "output_type": "execute_result"
    }
   ],
   "source": [
    "word_to_lemma('მისხამს')"
   ]
  },
  {
   "cell_type": "code",
   "execution_count": 44,
   "id": "60040edf-a3ec-467a-bd09-e2d013383195",
   "metadata": {},
   "outputs": [
    {
     "name": "stdout",
     "output_type": "stream",
     "text": [
      "{'სხას', 'უსხამდა', 'მესხმოდნენ', 'ვუსხამდით', 'ვისხი', 'ასხამთო', 'ესხმიანო', 'ისხამენ', 'გვესხმიან', 'სხითა', 'სხარე', 'უსხენ', 'ისხმიან', 'ისხმებოდა', 'მისხამ', 'ისხამენო', 'ისხამდე', 'ესხმებიან', 'ვუსხამთ', 'მესხმით', 'გისხამდე', 'მისხმენ', 'სხცა', 'ესხმება', 'გასხენ', 'გისხენ', 'გვისხამენ', 'მისხამდე', 'სხათა', 'ისხით', 'ასხენ', 'უსხენცა', 'მასხა', 'ისხამ', 'ასხამდე', 'ვესხმი', 'ესხმოდა', 'გვესხმოდა', 'გესხმება', 'ვესხმოდი', 'ესხმებათ', 'ასხამენო', 'მესხმიან', 'მსხ', 'უსხან', 'გესხმიან', 'უსხამს', 'ვისხამ', 'გისხამენ', 'სხამენ', 'ისხამს', 'ისხმიდეს', 'ისხნა', 'მესხმი', 'გვისხამთ', 'გასხნა', 'ესხასა', 'ისხამთ', 'გვისხამდა', 'ასხამდა', 'გასხამენ', 'გვესხმოდნენო', 'ისხნენ', 'ისხამსო', 'ისხმება', 'გვისხამს', 'გასხამდნენ', 'ასხამდეს', 'ისხეს', 'ვისხამდით', 'მესხრე', 'ისხამდეს', 'უსხამ', 'სხამდნენ', 'უსხამთ', 'უსხამენ', 'მესხმის', 'ესხმოდნენ', 'ვასხამდე', 'გვესხმოდნენ', 'ვუსხი', 'ესხმოდეს', 'გისხამს', 'გვისხენ', 'გისხამდნენ', 'გვესხმი', 'სხ', 'ისხამდა', 'გესხმის', 'ვისხამთ', 'ვუსხამ', 'ასხამთ', 'ვასხამდით', 'სხამს', 'გესხმოდნენ', 'მესხმებოდა', 'ვუსხამდი', 'მესხმება', 'ესხმებოდა', 'გესხმებათ', 'ასხამს', 'ვასხამთ', 'სხით', 'მესხმოდა', 'ისხენით', 'ასხამდნენო', 'გვისხამდნენ', 'ისხამსა', 'ვესხმით', 'ესხმის', 'მესხმების', 'უსხამდეს', 'ასხამდი', 'ისხმოდა', 'მესხმოდეს', 'მესხმები', 'ასხამენ', 'ვსხამთ', 'ესხმით', 'ასხამდნენ', 'ისხმის', 'გვესხმება', 'გვესხმიანო', 'გვესხმის', 'გისხნენ', 'მისხამდა', 'ესხმიან', 'სხამდა', 'ესხმისო', 'ვასხამდი', 'ისხმებოდეს', 'გვესხას', 'მისხამს', 'ესხმებოდნენ', 'ისხამდნენ', 'მისხამენ', 'ვისხამდი', 'ესხმი', 'ასხნა', 'ვისხით', 'ასხამდით', 'ისხა', 'მსხნენო', 'სხა', 'ესხმიო', 'უსხა', 'უსხამდნენ', 'უსხნა', 'ასხამსო', 'სხო', 'მასხენ', 'ვისხაო', 'გისხამ', 'ვასხამ', 'სხთა', 'ასხამდენ', 'სხი', 'ისხნეს', 'ასხამ', 'ვესხმოდით', 'გესხმით', 'სხათ'}\n"
     ]
    }
   ],
   "source": [
    "print(lemma_to_words('*სხმა'))\n",
    "# ფიფქით დაწყებული ლემების გარჩევაც საჭირაო ცალკეა"
   ]
  },
  {
   "cell_type": "code",
   "execution_count": 45,
   "id": "5dfe4bac-6f44-4c99-80fc-8919fe9cdb8c",
   "metadata": {},
   "outputs": [
    {
     "data": {
      "text/plain": [
       "\"{'*სხმა', 'დასხმა', 'ასხმა'}\""
      ]
     },
     "execution_count": 45,
     "metadata": {},
     "output_type": "execute_result"
    }
   ],
   "source": [
    "word_to_lemma('ასხამს')"
   ]
  },
  {
   "cell_type": "markdown",
   "id": "3a44e304-a597-4f44-a720-84291fe40b16",
   "metadata": {},
   "source": [
    " სადაც გვაქვს ორი ლემა და მათ გააჩნიათ, ხოლმე საერთო ერთი ან რამოდენიმე ლექსემი ხშირად სინამდვილეში ერთი ლექსემის ჯგუფი ანუ ერთი ლემა უნდა იყოს. როგორც *ასხმა და დასხმა "
   ]
  },
  {
   "cell_type": "code",
   "execution_count": 46,
   "id": "f492bed2-5e70-41b7-b5d0-9b193ad234a1",
   "metadata": {},
   "outputs": [],
   "source": [
    "intersection = {}\n",
    "for lemmas in list(amb_lemmas['lemma']):\n",
    "    lemmas = literal_eval(lemmas)\n",
    "    for lemma in lemmas:\n",
    "        intersection[lemma] = lemmas.difference(lemma)"
   ]
  },
  {
   "cell_type": "markdown",
   "id": "d8180cf3-ee18-48f3-bc47-f27ef948984a",
   "metadata": {},
   "source": [
    "ლემები, რომლებთაც თანაკვეთა აქვთ ლექსემებში"
   ]
  },
  {
   "cell_type": "code",
   "execution_count": 47,
   "id": "e0b2eee8-5c27-4cbd-a25a-c2068799aee3",
   "metadata": {},
   "outputs": [
    {
     "name": "stdout",
     "output_type": "stream",
     "text": [
      "11296\n"
     ]
    },
    {
     "data": {
      "text/html": [
       "<div>\n",
       "<style scoped>\n",
       "    .dataframe tbody tr th:only-of-type {\n",
       "        vertical-align: middle;\n",
       "    }\n",
       "\n",
       "    .dataframe tbody tr th {\n",
       "        vertical-align: top;\n",
       "    }\n",
       "\n",
       "    .dataframe thead th {\n",
       "        text-align: right;\n",
       "    }\n",
       "</style>\n",
       "<table border=\"1\" class=\"dataframe\">\n",
       "  <thead>\n",
       "    <tr style=\"text-align: right;\">\n",
       "      <th></th>\n",
       "      <th>lemma</th>\n",
       "      <th>lexems</th>\n",
       "      <th>count</th>\n",
       "      <th>intersection</th>\n",
       "    </tr>\n",
       "  </thead>\n",
       "  <tbody>\n",
       "    <tr>\n",
       "      <th>1420</th>\n",
       "      <td>მიცემა</td>\n",
       "      <td>{შეაძლევთ, მიგეცაო, მოგ-ვცემს, მიცეთო, მოგვცემ...</td>\n",
       "      <td>811</td>\n",
       "      <td>{მიცემა, *ძლევა}</td>\n",
       "    </tr>\n",
       "    <tr>\n",
       "      <th>276</th>\n",
       "      <td>კითხვა</td>\n",
       "      <td>{მკითხავდიო, კითხვაშიაც, კითხვისაგან, მიკითხია...</td>\n",
       "      <td>620</td>\n",
       "      <td>{*კითხვა, კითხვა}</td>\n",
       "    </tr>\n",
       "    <tr>\n",
       "      <th>1414</th>\n",
       "      <td>ქმნა</td>\n",
       "      <td>{უქნივა, ჰქმნაო, გვიქმს, ჰქმნისო, იქნენ, მიზამ...</td>\n",
       "      <td>618</td>\n",
       "      <td>{*ქმნა, ქმნა}</td>\n",
       "    </tr>\n",
       "    <tr>\n",
       "      <th>1308</th>\n",
       "      <td>დადება</td>\n",
       "      <td>{დასდებოდა, დაჰდევ, დაგუდვა, დაგედვა, დაადეო, ...</td>\n",
       "      <td>607</td>\n",
       "      <td>{დასლვა, დადება}</td>\n",
       "    </tr>\n",
       "    <tr>\n",
       "      <th>40</th>\n",
       "      <td>დაპირება</td>\n",
       "      <td>{გიპირობენო, დააპიროთ, დააპირო, გპირდებიანო, ვ...</td>\n",
       "      <td>542</td>\n",
       "      <td>{დაპირება, *პირება}</td>\n",
       "    </tr>\n",
       "    <tr>\n",
       "      <th>87</th>\n",
       "      <td>თქმა</td>\n",
       "      <td>{იტყვი, გითხარითო, ეთქმოდარა, გეტყოდით, თქმაი,...</td>\n",
       "      <td>518</td>\n",
       "      <td>{თქმა, *თქმა}</td>\n",
       "    </tr>\n",
       "    <tr>\n",
       "      <th>252</th>\n",
       "      <td>შექმნა</td>\n",
       "      <td>{შეგიქმნისო, შექმნიაო, შევქმნიდიო, შემიქმნან, ...</td>\n",
       "      <td>510</td>\n",
       "      <td>{შექმნა, შექნიანი}</td>\n",
       "    </tr>\n",
       "    <tr>\n",
       "      <th>1294</th>\n",
       "      <td>დაკარგვა</td>\n",
       "      <td>{დაეკარგოს, დამკარგავს, ეკარგებოდნენ, დაკარგვა...</td>\n",
       "      <td>505</td>\n",
       "      <td>{დამკარგავი, დაკარგვა}</td>\n",
       "    </tr>\n",
       "    <tr>\n",
       "      <th>24</th>\n",
       "      <td>ნახვა</td>\n",
       "      <td>{ნახავდე, ნახერა, გვინახულო, მინახულებდაო, ენა...</td>\n",
       "      <td>499</td>\n",
       "      <td>{*ნახვა, ნახვა}</td>\n",
       "    </tr>\n",
       "    <tr>\n",
       "      <th>80</th>\n",
       "      <td>მოყოლა</td>\n",
       "      <td>{მოგვყვებოდა, ვაყოლებთ-თქო, მოყევით, მოყოლისგა...</td>\n",
       "      <td>498</td>\n",
       "      <td>{მიყოლა, მოყოლა}</td>\n",
       "    </tr>\n",
       "    <tr>\n",
       "      <th>2598</th>\n",
       "      <td>მოწონება</td>\n",
       "      <td>{მოსწონხარ, ვიწონებთო, აწონებს, აწონებს-მეთქი,...</td>\n",
       "      <td>493</td>\n",
       "      <td>{აწონა, მოწონება}</td>\n",
       "    </tr>\n",
       "    <tr>\n",
       "      <th>569</th>\n",
       "      <td>გადარჩენა</td>\n",
       "      <td>{გადაურჩებოდა, გადავირჩენთ, გადაერჩინოს-მეთქი,...</td>\n",
       "      <td>477</td>\n",
       "      <td>{გადარჩენა, გადრჩენა}</td>\n",
       "    </tr>\n",
       "    <tr>\n",
       "      <th>352</th>\n",
       "      <td>მოსვლა</td>\n",
       "      <td>{მოსულიყოო, მევიდენ, მოსვლისავე, მოსვლამდისა, ...</td>\n",
       "      <td>467</td>\n",
       "      <td>{მოსვლა, მოგვი}</td>\n",
       "    </tr>\n",
       "    <tr>\n",
       "      <th>507</th>\n",
       "      <td>მოსმენა</td>\n",
       "      <td>{მოუსმინოსო, გვისმენდით, უსმენთ, მომისმინოსო, ...</td>\n",
       "      <td>460</td>\n",
       "      <td>{მოსმენა, მომსმენი}</td>\n",
       "    </tr>\n",
       "    <tr>\n",
       "      <th>3233</th>\n",
       "      <td>დატოვება</td>\n",
       "      <td>{დატოვებს-თქო, დატოვებას, დაგვტოვებთო, დაგტოვა...</td>\n",
       "      <td>459</td>\n",
       "      <td>{დატოვებინება, დატოვება}</td>\n",
       "    </tr>\n",
       "    <tr>\n",
       "      <th>1195</th>\n",
       "      <td>გაჩენა</td>\n",
       "      <td>{გამიჩნდა, გავაჩენდით, გავჩენილიყავი, გაგჩენია...</td>\n",
       "      <td>451</td>\n",
       "      <td>{*ჩენა, გაჩენა}</td>\n",
       "    </tr>\n",
       "    <tr>\n",
       "      <th>7</th>\n",
       "      <td>ხლება</td>\n",
       "      <td>{გაახლებო, გეახლებიან, ახლდეთ, გხლებივართ, ეხლ...</td>\n",
       "      <td>450</td>\n",
       "      <td>{ხლება, *ხლება}</td>\n",
       "    </tr>\n",
       "    <tr>\n",
       "      <th>4182</th>\n",
       "      <td>მოქცევა</td>\n",
       "      <td>{მოვექეცითო, მოიქცე, მოექეციო, მოქცევისკენ, მო...</td>\n",
       "      <td>449</td>\n",
       "      <td>{მოქცევა, მომქცევი}</td>\n",
       "    </tr>\n",
       "    <tr>\n",
       "      <th>52</th>\n",
       "      <td>ყოფნა</td>\n",
       "      <td>{ყოფნის-მეთქი, ჰყოფილიყავი, იქნებიო, იყოო, ეყო...</td>\n",
       "      <td>447</td>\n",
       "      <td>{ყოფნა, ყოფა}</td>\n",
       "    </tr>\n",
       "    <tr>\n",
       "      <th>248</th>\n",
       "      <td>გაკეთება</td>\n",
       "      <td>{გაუკეთებდითო, გაუკეთებენ, გამიკეთებს, გამიკეთ...</td>\n",
       "      <td>446</td>\n",
       "      <td>{გამოკეთება, გაკეთება}</td>\n",
       "    </tr>\n",
       "    <tr>\n",
       "      <th>281</th>\n",
       "      <td>გაცნობა</td>\n",
       "      <td>{გამაცვნეს, გამეცნოთ, გაეცნოთ, გაცნობათ, გაგეც...</td>\n",
       "      <td>445</td>\n",
       "      <td>{გაცნობა, გამოცნობა}</td>\n",
       "    </tr>\n",
       "    <tr>\n",
       "      <th>1066</th>\n",
       "      <td>ცემა</td>\n",
       "      <td>{იცეთ, უცემდეს, ეცემე, გვიცემია, ცემაშიც, მცემ...</td>\n",
       "      <td>445</td>\n",
       "      <td>{*ცემა, ცემა}</td>\n",
       "    </tr>\n",
       "    <tr>\n",
       "      <th>6403</th>\n",
       "      <td>ბრძოლა</td>\n",
       "      <td>{გვებრძოდით, ებრძოლენ, ბრძოლასთანაც, იბრძოლებდ...</td>\n",
       "      <td>443</td>\n",
       "      <td>{ბრძოლა, ბრძოლება}</td>\n",
       "    </tr>\n",
       "    <tr>\n",
       "      <th>5096</th>\n",
       "      <td>მოთხოვნა</td>\n",
       "      <td>{ეთხოვები, მოვითხოვთ, მოეთხოვოსო, მოთხოვთ, მოთ...</td>\n",
       "      <td>441</td>\n",
       "      <td>{მოთხოვნამდე, მოთხოვნა}</td>\n",
       "    </tr>\n",
       "    <tr>\n",
       "      <th>5604</th>\n",
       "      <td>დაწერა</td>\n",
       "      <td>{დავწერ, დაიწერებოდნენ, დაგიწერე, დაწერილიყოო,...</td>\n",
       "      <td>440</td>\n",
       "      <td>{დამწერი, დაწერა}</td>\n",
       "    </tr>\n",
       "    <tr>\n",
       "      <th>2208</th>\n",
       "      <td>დამორჩილება</td>\n",
       "      <td>{დაუმორჩილე, დამორჩილების, დამემორჩილოთ, დაგვმ...</td>\n",
       "      <td>438</td>\n",
       "      <td>{მორჩილი, დამორჩილება}</td>\n",
       "    </tr>\n",
       "    <tr>\n",
       "      <th>4556</th>\n",
       "      <td>შეწუხება</td>\n",
       "      <td>{შევწუხდები, გაწუხებდეს, შეგაწუხებდით, მაწუხებ...</td>\n",
       "      <td>435</td>\n",
       "      <td>{შეწუხება, წუხვა}</td>\n",
       "    </tr>\n",
       "    <tr>\n",
       "      <th>97</th>\n",
       "      <td>ის</td>\n",
       "      <td>{იმათთვის, მასთანვე, იმისაც, იმისაა, მითამც, მ...</td>\n",
       "      <td>432</td>\n",
       "      <td>{ის, იგი}</td>\n",
       "    </tr>\n",
       "    <tr>\n",
       "      <th>122</th>\n",
       "      <td>ტირილი</td>\n",
       "      <td>{ამიტირდა, მტიროდნენ, ტირიო, ატირდნენ, შესტირი...</td>\n",
       "      <td>431</td>\n",
       "      <td>{ტირი, ტირილი}</td>\n",
       "    </tr>\n",
       "    <tr>\n",
       "      <th>461</th>\n",
       "      <td>ყოლა</td>\n",
       "      <td>{ეყოლოს, ყავს-მეთქი, ყოლიდან, გეყოლებოდათო, გყ...</td>\n",
       "      <td>429</td>\n",
       "      <td>{სმევა, ყოლა}</td>\n",
       "    </tr>\n",
       "    <tr>\n",
       "      <th>1324</th>\n",
       "      <td>ჩვენება</td>\n",
       "      <td>{უჩვენათ, ჩვენებოდნენ, ვუჩვენებდეთ, გვეჩვენეთ,...</td>\n",
       "      <td>421</td>\n",
       "      <td>{ჩვენება, *ჩვენება}</td>\n",
       "    </tr>\n",
       "    <tr>\n",
       "      <th>1150</th>\n",
       "      <td>დათმობა</td>\n",
       "      <td>{დავთმობდით, დაუთმის, დაუთმობენო, დათმონ, დაუთ...</td>\n",
       "      <td>418</td>\n",
       "      <td>{თმობა, დათმობა}</td>\n",
       "    </tr>\n",
       "    <tr>\n",
       "      <th>101</th>\n",
       "      <td>დადგომა</td>\n",
       "      <td>{დაადეგ, დამიდგება, დაგადექით, დამიდექიო, დასდ...</td>\n",
       "      <td>411</td>\n",
       "      <td>{დადგმა, დადგომა}</td>\n",
       "    </tr>\n",
       "    <tr>\n",
       "      <th>476</th>\n",
       "      <td>დაჯერება</td>\n",
       "      <td>{დაიჯერო, დააჯერებდი, დამიჯეროო, დასჯერებიან, ...</td>\n",
       "      <td>411</td>\n",
       "      <td>{*ჯერება, დაჯერება}</td>\n",
       "    </tr>\n",
       "    <tr>\n",
       "      <th>2242</th>\n",
       "      <td>გამოჩენა</td>\n",
       "      <td>{გამოუჩნდებოდა, გამოგვიჩნდებაო, გამოიჩენენო, გ...</td>\n",
       "      <td>410</td>\n",
       "      <td>{გამომჩენი, გამოჩენა}</td>\n",
       "    </tr>\n",
       "    <tr>\n",
       "      <th>6078</th>\n",
       "      <td>გამოცხადება</td>\n",
       "      <td>{გამომაცხადონო, გამოცხადდეო, გამოცხადებასაო, გ...</td>\n",
       "      <td>408</td>\n",
       "      <td>{გამოცხადება, გამოცხადებით}</td>\n",
       "    </tr>\n",
       "    <tr>\n",
       "      <th>836</th>\n",
       "      <td>მოკვლა</td>\n",
       "      <td>{მოიკლავო, მოგვეკლა, მომკლა, მოკვლის, მოიკალიო...</td>\n",
       "      <td>408</td>\n",
       "      <td>{მოუკლავი, მოკვლა}</td>\n",
       "    </tr>\n",
       "    <tr>\n",
       "      <th>197</th>\n",
       "      <td>ცხოვრება</td>\n",
       "      <td>{ცხოვრებდნენ, ცხოვრებასაო, -ცხოვრობს, ვსცხოვრო...</td>\n",
       "      <td>404</td>\n",
       "      <td>{ცხოვარი, ცხოვრება}</td>\n",
       "    </tr>\n",
       "    <tr>\n",
       "      <th>1423</th>\n",
       "      <td>გახარება</td>\n",
       "      <td>{გაიხარებ, გაგხარებია, გაგიხარდეთ, გაგახარებდა...</td>\n",
       "      <td>403</td>\n",
       "      <td>{გახრა, გახარება}</td>\n",
       "    </tr>\n",
       "    <tr>\n",
       "      <th>540</th>\n",
       "      <td>გრძნობა</td>\n",
       "      <td>{გრძნობაშია, გრძნობისაცა, გრძნობებიცა, ვჰგრძნო...</td>\n",
       "      <td>403</td>\n",
       "      <td>{უგრძნობი, გრძნობა}</td>\n",
       "    </tr>\n",
       "    <tr>\n",
       "      <th>1503</th>\n",
       "      <td>დავიწყება</td>\n",
       "      <td>{დაგვავიწყებდა, დაავიწყონ, დაგვიწყებიათო, დაავ...</td>\n",
       "      <td>398</td>\n",
       "      <td>{დავიწყება, დაწყება}</td>\n",
       "    </tr>\n",
       "    <tr>\n",
       "      <th>10837</th>\n",
       "      <td>გაყიდვა</td>\n",
       "      <td>{გაგიყიდოს, გავუყიდოთ, გაყიდვებისას, გაიყიდებო...</td>\n",
       "      <td>397</td>\n",
       "      <td>{გაყიდვა, ყიდვა}</td>\n",
       "    </tr>\n",
       "    <tr>\n",
       "      <th>209</th>\n",
       "      <td>დარჩენა</td>\n",
       "      <td>{დამირჩენია, დარჩენაცა, დარჩენიან, დაარჩინონ, ...</td>\n",
       "      <td>396</td>\n",
       "      <td>{დაურჩება, დარჩენა}</td>\n",
       "    </tr>\n",
       "    <tr>\n",
       "      <th>174</th>\n",
       "      <td>შეძლება</td>\n",
       "      <td>{შევიძლებდით, შეიძლო, შეეძლებათო, შეგეძლო, შეგ...</td>\n",
       "      <td>395</td>\n",
       "      <td>{*ძლება, შეძლება}</td>\n",
       "    </tr>\n",
       "    <tr>\n",
       "      <th>140</th>\n",
       "      <td>პოვნა</td>\n",
       "      <td>{ვუპოვით, პოულობდი, ვიპოვნიო, მიპოვნია, ეპოვოს...</td>\n",
       "      <td>395</td>\n",
       "      <td>{უპო, პოვნა}</td>\n",
       "    </tr>\n",
       "    <tr>\n",
       "      <th>95</th>\n",
       "      <td>ქონა</td>\n",
       "      <td>{გვექნება-მეთქი, ექნებათ, მექონე, მქონდის, აქუ...</td>\n",
       "      <td>395</td>\n",
       "      <td>{ქონა, შემოქნა}</td>\n",
       "    </tr>\n",
       "    <tr>\n",
       "      <th>492</th>\n",
       "      <td>ლოდინი</td>\n",
       "      <td>{ლოდინ, ელოდები-მეთქი, გელოდება-თქო, ველოდეთ, ...</td>\n",
       "      <td>394</td>\n",
       "      <td>{ლოდინი, ველი}</td>\n",
       "    </tr>\n",
       "    <tr>\n",
       "      <th>1411</th>\n",
       "      <td>მიღება</td>\n",
       "      <td>{მიმიღონ, მიიღ-ებს, მიღებებიდან, მიღებაშია, მი...</td>\n",
       "      <td>391</td>\n",
       "      <td>{მიღება, *ღება}</td>\n",
       "    </tr>\n",
       "    <tr>\n",
       "      <th>2014</th>\n",
       "      <td>ქცევა</td>\n",
       "      <td>{ქცევასაც, ქცევებია, გაქციოთ, გაქცევ, აქცევენ,...</td>\n",
       "      <td>388</td>\n",
       "      <td>{ქცევა, *ქცევა}</td>\n",
       "    </tr>\n",
       "    <tr>\n",
       "      <th>626</th>\n",
       "      <td>დგომა</td>\n",
       "      <td>{დგომასავითაა, გვიდგა, მდგარიყვენ, ჰდგას, მედგ...</td>\n",
       "      <td>387</td>\n",
       "      <td>{დგომა, ადგომა}</td>\n",
       "    </tr>\n",
       "  </tbody>\n",
       "</table>\n",
       "</div>"
      ],
      "text/plain": [
       "             lemma                                             lexems  count  \\\n",
       "1420        მიცემა  {შეაძლევთ, მიგეცაო, მოგ-ვცემს, მიცეთო, მოგვცემ...    811   \n",
       "276         კითხვა  {მკითხავდიო, კითხვაშიაც, კითხვისაგან, მიკითხია...    620   \n",
       "1414          ქმნა  {უქნივა, ჰქმნაო, გვიქმს, ჰქმნისო, იქნენ, მიზამ...    618   \n",
       "1308        დადება  {დასდებოდა, დაჰდევ, დაგუდვა, დაგედვა, დაადეო, ...    607   \n",
       "40        დაპირება  {გიპირობენო, დააპიროთ, დააპირო, გპირდებიანო, ვ...    542   \n",
       "87            თქმა  {იტყვი, გითხარითო, ეთქმოდარა, გეტყოდით, თქმაი,...    518   \n",
       "252         შექმნა  {შეგიქმნისო, შექმნიაო, შევქმნიდიო, შემიქმნან, ...    510   \n",
       "1294      დაკარგვა  {დაეკარგოს, დამკარგავს, ეკარგებოდნენ, დაკარგვა...    505   \n",
       "24           ნახვა  {ნახავდე, ნახერა, გვინახულო, მინახულებდაო, ენა...    499   \n",
       "80          მოყოლა  {მოგვყვებოდა, ვაყოლებთ-თქო, მოყევით, მოყოლისგა...    498   \n",
       "2598      მოწონება  {მოსწონხარ, ვიწონებთო, აწონებს, აწონებს-მეთქი,...    493   \n",
       "569      გადარჩენა  {გადაურჩებოდა, გადავირჩენთ, გადაერჩინოს-მეთქი,...    477   \n",
       "352         მოსვლა  {მოსულიყოო, მევიდენ, მოსვლისავე, მოსვლამდისა, ...    467   \n",
       "507        მოსმენა  {მოუსმინოსო, გვისმენდით, უსმენთ, მომისმინოსო, ...    460   \n",
       "3233      დატოვება  {დატოვებს-თქო, დატოვებას, დაგვტოვებთო, დაგტოვა...    459   \n",
       "1195        გაჩენა  {გამიჩნდა, გავაჩენდით, გავჩენილიყავი, გაგჩენია...    451   \n",
       "7            ხლება  {გაახლებო, გეახლებიან, ახლდეთ, გხლებივართ, ეხლ...    450   \n",
       "4182       მოქცევა  {მოვექეცითო, მოიქცე, მოექეციო, მოქცევისკენ, მო...    449   \n",
       "52           ყოფნა  {ყოფნის-მეთქი, ჰყოფილიყავი, იქნებიო, იყოო, ეყო...    447   \n",
       "248       გაკეთება  {გაუკეთებდითო, გაუკეთებენ, გამიკეთებს, გამიკეთ...    446   \n",
       "281        გაცნობა  {გამაცვნეს, გამეცნოთ, გაეცნოთ, გაცნობათ, გაგეც...    445   \n",
       "1066          ცემა  {იცეთ, უცემდეს, ეცემე, გვიცემია, ცემაშიც, მცემ...    445   \n",
       "6403        ბრძოლა  {გვებრძოდით, ებრძოლენ, ბრძოლასთანაც, იბრძოლებდ...    443   \n",
       "5096      მოთხოვნა  {ეთხოვები, მოვითხოვთ, მოეთხოვოსო, მოთხოვთ, მოთ...    441   \n",
       "5604        დაწერა  {დავწერ, დაიწერებოდნენ, დაგიწერე, დაწერილიყოო,...    440   \n",
       "2208   დამორჩილება  {დაუმორჩილე, დამორჩილების, დამემორჩილოთ, დაგვმ...    438   \n",
       "4556      შეწუხება  {შევწუხდები, გაწუხებდეს, შეგაწუხებდით, მაწუხებ...    435   \n",
       "97              ის  {იმათთვის, მასთანვე, იმისაც, იმისაა, მითამც, მ...    432   \n",
       "122         ტირილი  {ამიტირდა, მტიროდნენ, ტირიო, ატირდნენ, შესტირი...    431   \n",
       "461           ყოლა  {ეყოლოს, ყავს-მეთქი, ყოლიდან, გეყოლებოდათო, გყ...    429   \n",
       "1324       ჩვენება  {უჩვენათ, ჩვენებოდნენ, ვუჩვენებდეთ, გვეჩვენეთ,...    421   \n",
       "1150       დათმობა  {დავთმობდით, დაუთმის, დაუთმობენო, დათმონ, დაუთ...    418   \n",
       "101        დადგომა  {დაადეგ, დამიდგება, დაგადექით, დამიდექიო, დასდ...    411   \n",
       "476       დაჯერება  {დაიჯერო, დააჯერებდი, დამიჯეროო, დასჯერებიან, ...    411   \n",
       "2242      გამოჩენა  {გამოუჩნდებოდა, გამოგვიჩნდებაო, გამოიჩენენო, გ...    410   \n",
       "6078   გამოცხადება  {გამომაცხადონო, გამოცხადდეო, გამოცხადებასაო, გ...    408   \n",
       "836         მოკვლა  {მოიკლავო, მოგვეკლა, მომკლა, მოკვლის, მოიკალიო...    408   \n",
       "197       ცხოვრება  {ცხოვრებდნენ, ცხოვრებასაო, -ცხოვრობს, ვსცხოვრო...    404   \n",
       "1423      გახარება  {გაიხარებ, გაგხარებია, გაგიხარდეთ, გაგახარებდა...    403   \n",
       "540        გრძნობა  {გრძნობაშია, გრძნობისაცა, გრძნობებიცა, ვჰგრძნო...    403   \n",
       "1503     დავიწყება  {დაგვავიწყებდა, დაავიწყონ, დაგვიწყებიათო, დაავ...    398   \n",
       "10837      გაყიდვა  {გაგიყიდოს, გავუყიდოთ, გაყიდვებისას, გაიყიდებო...    397   \n",
       "209        დარჩენა  {დამირჩენია, დარჩენაცა, დარჩენიან, დაარჩინონ, ...    396   \n",
       "174        შეძლება  {შევიძლებდით, შეიძლო, შეეძლებათო, შეგეძლო, შეგ...    395   \n",
       "140          პოვნა  {ვუპოვით, პოულობდი, ვიპოვნიო, მიპოვნია, ეპოვოს...    395   \n",
       "95            ქონა  {გვექნება-მეთქი, ექნებათ, მექონე, მქონდის, აქუ...    395   \n",
       "492         ლოდინი  {ლოდინ, ელოდები-მეთქი, გელოდება-თქო, ველოდეთ, ...    394   \n",
       "1411        მიღება  {მიმიღონ, მიიღ-ებს, მიღებებიდან, მიღებაშია, მი...    391   \n",
       "2014         ქცევა  {ქცევასაც, ქცევებია, გაქციოთ, გაქცევ, აქცევენ,...    388   \n",
       "626          დგომა  {დგომასავითაა, გვიდგა, მდგარიყვენ, ჰდგას, მედგ...    387   \n",
       "\n",
       "                      intersection  \n",
       "1420              {მიცემა, *ძლევა}  \n",
       "276              {*კითხვა, კითხვა}  \n",
       "1414                 {*ქმნა, ქმნა}  \n",
       "1308              {დასლვა, დადება}  \n",
       "40             {დაპირება, *პირება}  \n",
       "87                   {თქმა, *თქმა}  \n",
       "252             {შექმნა, შექნიანი}  \n",
       "1294        {დამკარგავი, დაკარგვა}  \n",
       "24                 {*ნახვა, ნახვა}  \n",
       "80                {მიყოლა, მოყოლა}  \n",
       "2598             {აწონა, მოწონება}  \n",
       "569          {გადარჩენა, გადრჩენა}  \n",
       "352                {მოსვლა, მოგვი}  \n",
       "507            {მოსმენა, მომსმენი}  \n",
       "3233      {დატოვებინება, დატოვება}  \n",
       "1195               {*ჩენა, გაჩენა}  \n",
       "7                  {ხლება, *ხლება}  \n",
       "4182           {მოქცევა, მომქცევი}  \n",
       "52                   {ყოფნა, ყოფა}  \n",
       "248         {გამოკეთება, გაკეთება}  \n",
       "281           {გაცნობა, გამოცნობა}  \n",
       "1066                 {*ცემა, ცემა}  \n",
       "6403            {ბრძოლა, ბრძოლება}  \n",
       "5096       {მოთხოვნამდე, მოთხოვნა}  \n",
       "5604             {დამწერი, დაწერა}  \n",
       "2208        {მორჩილი, დამორჩილება}  \n",
       "4556             {შეწუხება, წუხვა}  \n",
       "97                       {ის, იგი}  \n",
       "122                 {ტირი, ტირილი}  \n",
       "461                  {სმევა, ყოლა}  \n",
       "1324           {ჩვენება, *ჩვენება}  \n",
       "1150              {თმობა, დათმობა}  \n",
       "101              {დადგმა, დადგომა}  \n",
       "476            {*ჯერება, დაჯერება}  \n",
       "2242         {გამომჩენი, გამოჩენა}  \n",
       "6078   {გამოცხადება, გამოცხადებით}  \n",
       "836             {მოუკლავი, მოკვლა}  \n",
       "197            {ცხოვარი, ცხოვრება}  \n",
       "1423             {გახრა, გახარება}  \n",
       "540            {უგრძნობი, გრძნობა}  \n",
       "1503          {დავიწყება, დაწყება}  \n",
       "10837             {გაყიდვა, ყიდვა}  \n",
       "209            {დაურჩება, დარჩენა}  \n",
       "174              {*ძლება, შეძლება}  \n",
       "140                   {უპო, პოვნა}  \n",
       "95                 {ქონა, შემოქნა}  \n",
       "492                 {ლოდინი, ველი}  \n",
       "1411               {მიღება, *ღება}  \n",
       "2014               {ქცევა, *ქცევა}  \n",
       "626                {დგომა, ადგომა}  "
      ]
     },
     "execution_count": 47,
     "metadata": {},
     "output_type": "execute_result"
    }
   ],
   "source": [
    "lemmas_frame['intersection'] = lemmas_frame['lemma'].map(intersection)\n",
    "lemmas_with_inter = lemmas_frame[~lemmas_frame.isnull().intersection]\n",
    "print(lemmas_with_inter.shape[0])\n",
    "lemmas_with_inter.sort_values(by=['count'], ascending=False)[:50]"
   ]
  },
  {
   "cell_type": "markdown",
   "id": "850673bb-aee5-466e-b8f0-8c2309e9f703",
   "metadata": {},
   "source": [
    "აქვე იკვეთება ჯგუფები, რომლებთა გაერთიანებაც შესაძლებელია: 1. [ა-ჰ]*ლემა და *ლემა (მაგ. დაჯერეაბ და *ჯერება ან შეძლება და *ძლება და ა.შ.) 2. ლემა1 და ლემა2 სადაც ლემა2 თვითონ შედის ლემა1-ში"
   ]
  },
  {
   "cell_type": "code",
   "execution_count": 48,
   "id": "132cd4a2-6888-44bd-a953-c835b9cc9649",
   "metadata": {},
   "outputs": [],
   "source": [
    "def word_to_lemma(word: str) -> str:\n",
    "    try:\n",
    "        return df[df['word'] == word]['lemma'].item()\n",
    "    except ValueError:\n",
    "        return ''\n",
    "        \n",
    "def print_word_to_lemma(word: str) -> None:\n",
    "    print(f'word: {word} - lemma: {word_to_lemma(word)}')"
   ]
  },
  {
   "cell_type": "markdown",
   "id": "abe07574-a986-4486-a568-2b603dbd3895",
   "metadata": {},
   "source": [
    "ზოგიერთი სიტყვის ყველა ფორმაზე მოგვეძებნება შესაბამისი სწორი ლემა"
   ]
  },
  {
   "cell_type": "code",
   "execution_count": 49,
   "id": "a1c0574b-9776-4510-9899-96218e78336f",
   "metadata": {},
   "outputs": [
    {
     "name": "stdout",
     "output_type": "stream",
     "text": [
      "word: ვჭამ - lemma: {'ჭამა'}\n",
      "word: ჭამ - lemma: {'ჭა', 'ჭამა'}\n",
      "word: ჭამს - lemma: {'ჭამა'}\n",
      "word: ვჭამთ - lemma: {'ჭამა'}\n",
      "word: ჭამთ - lemma: {'ჭამა'}\n",
      "word: ჭამენ - lemma: {'ჭამა'}\n"
     ]
    }
   ],
   "source": [
    "print_word_to_lemma('ვჭამ')\n",
    "print_word_to_lemma('ჭამ')\n",
    "print_word_to_lemma('ჭამს')\n",
    "print_word_to_lemma('ვჭამთ')\n",
    "print_word_to_lemma('ჭამთ')\n",
    "print_word_to_lemma('ჭამენ')"
   ]
  },
  {
   "cell_type": "code",
   "execution_count": 50,
   "id": "c44e6f9f-d0eb-49f2-8c2d-2d068d8ff291",
   "metadata": {},
   "outputs": [
    {
     "name": "stdout",
     "output_type": "stream",
     "text": [
      "word: წყალი - lemma: {'წყალი'}\n",
      "word: წყალმა - lemma: {'წყალი'}\n",
      "word: წყალს - lemma: {'წყალი'}\n",
      "word: წყლის - lemma: {'წყალი'}\n",
      "word: წყლით - lemma: {'წყალი'}\n",
      "word: წყლად - lemma: {'წყალი'}\n",
      "word: წყალო - lemma: {'წყალი'}\n"
     ]
    }
   ],
   "source": [
    "print_word_to_lemma('წყალი')\n",
    "print_word_to_lemma('წყალმა')\n",
    "print_word_to_lemma('წყალს')\n",
    "print_word_to_lemma('წყლის')\n",
    "print_word_to_lemma('წყლით')\n",
    "print_word_to_lemma('წყლად')\n",
    "print_word_to_lemma('წყალო')"
   ]
  },
  {
   "cell_type": "code",
   "execution_count": 51,
   "id": "43746188-d345-4d40-9a0f-a6bcdb88b002",
   "metadata": {},
   "outputs": [
    {
     "name": "stdout",
     "output_type": "stream",
     "text": [
      "word: ვყვირი - lemma: {'ყვირილი'}\n",
      "word: ყვირი - lemma: {'ყვირილი'}\n",
      "word: ყვირის - lemma: {'ყვირილი'}\n",
      "word: ვყვირით - lemma: {'ყვირილი'}\n",
      "word: ყვირით - lemma: {'ყვირილი'}\n",
      "word: ყვირიან - lemma: {'ყვირილი'}\n"
     ]
    }
   ],
   "source": [
    "print_word_to_lemma('ვყვირი')\n",
    "print_word_to_lemma('ყვირი')\n",
    "print_word_to_lemma('ყვირის')\n",
    "print_word_to_lemma('ვყვირით')\n",
    "print_word_to_lemma('ყვირით')\n",
    "print_word_to_lemma('ყვირიან')"
   ]
  },
  {
   "cell_type": "markdown",
   "id": "f5660411-535b-4eb6-bb92-9aab92f64b10",
   "metadata": {},
   "source": [
    "ზოგიერთი ცვალებადი მეტყველების ნაწილის ყველა ფორმა ერთ ლემაზე არ დადის"
   ]
  },
  {
   "cell_type": "code",
   "execution_count": 52,
   "id": "aae483e5-fe7f-409c-b488-1ae77541693d",
   "metadata": {},
   "outputs": [
    {
     "name": "stdout",
     "output_type": "stream",
     "text": [
      "word: მივდივარ - lemma: {'მისვლა', 'მიდენა'}\n",
      "word: მიდიხარ - lemma: {'მისვლა', 'მიდენა'}\n",
      "word: მიდის - lemma: {'მისვლა'}\n",
      "word: მივდივართ - lemma: {'მისვლა', 'მივდივარი'}\n",
      "word: მიდიხართ - lemma: {'მისვლა'}\n",
      "word: მიდიან - lemma: {'მიდიანი', 'მისვლა'}\n"
     ]
    }
   ],
   "source": [
    "print_word_to_lemma('მივდივარ')\n",
    "print_word_to_lemma('მიდიხარ')\n",
    "print_word_to_lemma('მიდის')\n",
    "print_word_to_lemma('მივდივართ')\n",
    "print_word_to_lemma('მიდიხართ')\n",
    "print_word_to_lemma('მიდიან')"
   ]
  },
  {
   "cell_type": "markdown",
   "id": "61e1380b-1476-4dc3-915c-f5f573995524",
   "metadata": {},
   "source": [
    "კუმშვად / კვეცადი სახელების სიაც კი გაარჩია და ზოგიერთი არასწორი ფორმაც კი იცის, რომელიც გმაოიყენება ენაში"
   ]
  },
  {
   "cell_type": "code",
   "execution_count": 53,
   "id": "039fc583-ed21-4948-9813-2b05c1160537",
   "metadata": {},
   "outputs": [
    {
     "name": "stdout",
     "output_type": "stream",
     "text": [
      "word: ნიორი - lemma: {'ნიორი'}\n",
      "word: ნიორის - lemma: {'ნიორი'}\n",
      "word: ნივრის - lemma: {'ნიორი'}\n",
      "word: მაწონი - lemma: {'მაწონი', 'დაწონა'}\n",
      "word: მაწვნის - lemma: {'მაწონი'}\n",
      "word: მინდორი - lemma: {'მინდორი', '\\t'}\n",
      "word: მინდვრის - lemma: {'მინდორი'}\n",
      "word: ლიმონი - lemma: {'ლიმო'}\n",
      "word: ლიმონის - lemma: {'ლიმონი'}\n",
      "word: ლიმნის - lemma: {'ლიმონი'}\n"
     ]
    }
   ],
   "source": [
    "print_word_to_lemma('ნიორი')\n",
    "print_word_to_lemma('ნიორის')\n",
    "print_word_to_lemma('ნივრის')\n",
    "print_word_to_lemma('მაწონი')\n",
    "print_word_to_lemma('მაწვნის')\n",
    "print_word_to_lemma('მინდორი')\n",
    "print_word_to_lemma('მინდვრის')\n",
    "print_word_to_lemma('ლიმონი')\n",
    "print_word_to_lemma('ლიმონის')\n",
    "print_word_to_lemma('ლიმნის')"
   ]
  },
  {
   "cell_type": "code",
   "execution_count": 54,
   "id": "8575c348-827d-4113-800e-ffccf96b58b2",
   "metadata": {},
   "outputs": [
    {
     "name": "stdout",
     "output_type": "stream",
     "text": [
      "word: ვმესიჯობ - lemma: \n",
      "word: მომწერე - lemma: {'მოწერა'}\n"
     ]
    }
   ],
   "source": [
    "print_word_to_lemma('ვმესიჯობ')\n",
    "print_word_to_lemma('მომწერე')"
   ]
  },
  {
   "cell_type": "code",
   "execution_count": 55,
   "id": "d7e48c6d-0a3d-4030-beaf-ade6b21c1565",
   "metadata": {},
   "outputs": [
    {
     "data": {
      "text/html": [
       "<div>\n",
       "<style scoped>\n",
       "    .dataframe tbody tr th:only-of-type {\n",
       "        vertical-align: middle;\n",
       "    }\n",
       "\n",
       "    .dataframe tbody tr th {\n",
       "        vertical-align: top;\n",
       "    }\n",
       "\n",
       "    .dataframe thead th {\n",
       "        text-align: right;\n",
       "    }\n",
       "</style>\n",
       "<table border=\"1\" class=\"dataframe\">\n",
       "  <thead>\n",
       "    <tr style=\"text-align: right;\">\n",
       "      <th></th>\n",
       "      <th>word</th>\n",
       "      <th>lemma</th>\n",
       "      <th>freq</th>\n",
       "      <th>lemma_count</th>\n",
       "    </tr>\n",
       "  </thead>\n",
       "  <tbody>\n",
       "    <tr>\n",
       "      <th>1000</th>\n",
       "      <td>ვილოცოთ</td>\n",
       "      <td>{'ლოცვა'}</td>\n",
       "      <td>219</td>\n",
       "      <td>1</td>\n",
       "    </tr>\n",
       "    <tr>\n",
       "      <th>1001</th>\n",
       "      <td>ღმერთს</td>\n",
       "      <td>{'ღმერთი'}</td>\n",
       "      <td>7440</td>\n",
       "      <td>1</td>\n",
       "    </tr>\n",
       "    <tr>\n",
       "      <th>1002</th>\n",
       "      <td>გადარჩენისა</td>\n",
       "      <td>{'გადარჩენა'}</td>\n",
       "      <td>357</td>\n",
       "      <td>1</td>\n",
       "    </tr>\n",
       "    <tr>\n",
       "      <th>1003</th>\n",
       "      <td>გაძლიერებისათვის</td>\n",
       "      <td>{'გაძლიერება'}</td>\n",
       "      <td>130</td>\n",
       "      <td>1</td>\n",
       "    </tr>\n",
       "    <tr>\n",
       "      <th>1004</th>\n",
       "      <td>მადლობა</td>\n",
       "      <td>{'მადლობა'}</td>\n",
       "      <td>16546</td>\n",
       "      <td>1</td>\n",
       "    </tr>\n",
       "    <tr>\n",
       "      <th>1005</th>\n",
       "      <td>შევწიროთ</td>\n",
       "      <td>{'შეწირვა'}</td>\n",
       "      <td>99</td>\n",
       "      <td>1</td>\n",
       "    </tr>\n",
       "    <tr>\n",
       "      <th>1006</th>\n",
       "      <td>შეყოვნდა</td>\n",
       "      <td>{'შეყოვნება'}</td>\n",
       "      <td>363</td>\n",
       "      <td>1</td>\n",
       "    </tr>\n",
       "    <tr>\n",
       "      <th>1007</th>\n",
       "      <td>მომეჩვენა</td>\n",
       "      <td>{'მოჩვენება'}</td>\n",
       "      <td>1231</td>\n",
       "      <td>1</td>\n",
       "    </tr>\n",
       "    <tr>\n",
       "      <th>1008</th>\n",
       "      <td>მეხსიერებას</td>\n",
       "      <td>{'მეხსიერება'}</td>\n",
       "      <td>539</td>\n",
       "      <td>1</td>\n",
       "    </tr>\n",
       "    <tr>\n",
       "      <th>1009</th>\n",
       "      <td>ძაბავდა</td>\n",
       "      <td>{'*ძაბვა'}</td>\n",
       "      <td>48</td>\n",
       "      <td>1</td>\n",
       "    </tr>\n",
       "    <tr>\n",
       "      <th>1010</th>\n",
       "      <td>სიტყვების</td>\n",
       "      <td>{'სიტყვა', 'სიტყვება'}</td>\n",
       "      <td>4304</td>\n",
       "      <td>2</td>\n",
       "    </tr>\n",
       "    <tr>\n",
       "      <th>1011</th>\n",
       "      <td>პოვნა</td>\n",
       "      <td>{'პოვნა'}</td>\n",
       "      <td>1776</td>\n",
       "      <td>1</td>\n",
       "    </tr>\n",
       "    <tr>\n",
       "      <th>1012</th>\n",
       "      <td>უჭირდა</td>\n",
       "      <td>{'ჭირვება'}</td>\n",
       "      <td>1794</td>\n",
       "      <td>1</td>\n",
       "    </tr>\n",
       "    <tr>\n",
       "      <th>1013</th>\n",
       "      <td>გონებაც</td>\n",
       "      <td>{'გონება'}</td>\n",
       "      <td>172</td>\n",
       "      <td>1</td>\n",
       "    </tr>\n",
       "    <tr>\n",
       "      <th>1014</th>\n",
       "      <td>დაბინდულიყო</td>\n",
       "      <td>{'დაბინდება'}</td>\n",
       "      <td>3</td>\n",
       "      <td>1</td>\n",
       "    </tr>\n",
       "    <tr>\n",
       "      <th>1015</th>\n",
       "      <td>სანგრიდან</td>\n",
       "      <td>{'სანგარი'}</td>\n",
       "      <td>16</td>\n",
       "      <td>1</td>\n",
       "    </tr>\n",
       "    <tr>\n",
       "      <th>1016</th>\n",
       "      <td>გავიდოდით</td>\n",
       "      <td>{'გასვლა'}</td>\n",
       "      <td>173</td>\n",
       "      <td>1</td>\n",
       "    </tr>\n",
       "    <tr>\n",
       "      <th>1017</th>\n",
       "      <td>მახსოვს</td>\n",
       "      <td>{'ხსოვნა'}</td>\n",
       "      <td>15112</td>\n",
       "      <td>1</td>\n",
       "    </tr>\n",
       "    <tr>\n",
       "      <th>1018</th>\n",
       "      <td>მომაშორა</td>\n",
       "      <td>{'მოშორება'}</td>\n",
       "      <td>30</td>\n",
       "      <td>1</td>\n",
       "    </tr>\n",
       "    <tr>\n",
       "      <th>1019</th>\n",
       "      <td>სახიდან</td>\n",
       "      <td>{'სახე'}</td>\n",
       "      <td>317</td>\n",
       "      <td>1</td>\n",
       "    </tr>\n",
       "  </tbody>\n",
       "</table>\n",
       "</div>"
      ],
      "text/plain": [
       "                  word                   lemma   freq  lemma_count\n",
       "1000           ვილოცოთ               {'ლოცვა'}    219            1\n",
       "1001            ღმერთს              {'ღმერთი'}   7440            1\n",
       "1002       გადარჩენისა           {'გადარჩენა'}    357            1\n",
       "1003  გაძლიერებისათვის          {'გაძლიერება'}    130            1\n",
       "1004           მადლობა             {'მადლობა'}  16546            1\n",
       "1005          შევწიროთ             {'შეწირვა'}     99            1\n",
       "1006          შეყოვნდა           {'შეყოვნება'}    363            1\n",
       "1007         მომეჩვენა           {'მოჩვენება'}   1231            1\n",
       "1008       მეხსიერებას          {'მეხსიერება'}    539            1\n",
       "1009           ძაბავდა              {'*ძაბვა'}     48            1\n",
       "1010         სიტყვების  {'სიტყვა', 'სიტყვება'}   4304            2\n",
       "1011             პოვნა               {'პოვნა'}   1776            1\n",
       "1012            უჭირდა             {'ჭირვება'}   1794            1\n",
       "1013           გონებაც              {'გონება'}    172            1\n",
       "1014       დაბინდულიყო           {'დაბინდება'}      3            1\n",
       "1015         სანგრიდან             {'სანგარი'}     16            1\n",
       "1016         გავიდოდით              {'გასვლა'}    173            1\n",
       "1017           მახსოვს              {'ხსოვნა'}  15112            1\n",
       "1018          მომაშორა            {'მოშორება'}     30            1\n",
       "1019           სახიდან                {'სახე'}    317            1"
      ]
     },
     "execution_count": 55,
     "metadata": {},
     "output_type": "execute_result"
    }
   ],
   "source": [
    "df[1000:1020]"
   ]
  },
  {
   "cell_type": "markdown",
   "id": "cdc37b76-6047-4934-b47d-73c4eeb83aa1",
   "metadata": {},
   "source": [
    "# შემოკლებული ცხრილი"
   ]
  },
  {
   "cell_type": "markdown",
   "id": "68e780f7-d581-4fa2-b5da-53af27a363ec",
   "metadata": {},
   "source": [
    "მაღლა წარმოდგენილი პრობლემებიდან გამომდინარე, იმისთვის, რომ მრავალემიანობა და მრავალთეგიანობა გადაგვეჭრა მივმართეთ ლემების და თეგების სიხშირის მიხედვით ამოეღებას."
   ]
  },
  {
   "cell_type": "code",
   "execution_count": 56,
   "id": "d46a4167-4d44-47d7-9605-215deba268b9",
   "metadata": {},
   "outputs": [
    {
     "data": {
      "text/html": [
       "<div>\n",
       "<style scoped>\n",
       "    .dataframe tbody tr th:only-of-type {\n",
       "        vertical-align: middle;\n",
       "    }\n",
       "\n",
       "    .dataframe tbody tr th {\n",
       "        vertical-align: top;\n",
       "    }\n",
       "\n",
       "    .dataframe thead th {\n",
       "        text-align: right;\n",
       "    }\n",
       "</style>\n",
       "<table border=\"1\" class=\"dataframe\">\n",
       "  <thead>\n",
       "    <tr style=\"text-align: right;\">\n",
       "      <th></th>\n",
       "      <th>word</th>\n",
       "      <th>lemma</th>\n",
       "      <th>pos_tag</th>\n",
       "      <th>freq</th>\n",
       "    </tr>\n",
       "  </thead>\n",
       "  <tbody>\n",
       "    <tr>\n",
       "      <th>0</th>\n",
       "      <td>ამ</td>\n",
       "      <td>ეს</td>\n",
       "      <td>Pron</td>\n",
       "      <td>1041654</td>\n",
       "    </tr>\n",
       "    <tr>\n",
       "      <th>1</th>\n",
       "      <td>ზამთრის</td>\n",
       "      <td>ზამთარ·ი</td>\n",
       "      <td>N</td>\n",
       "      <td>8035</td>\n",
       "    </tr>\n",
       "    <tr>\n",
       "      <th>2</th>\n",
       "      <td>მიწურულს</td>\n",
       "      <td>მი·წურულ·ი</td>\n",
       "      <td>Dat</td>\n",
       "      <td>5976</td>\n",
       "    </tr>\n",
       "    <tr>\n",
       "      <th>3</th>\n",
       "      <td>თითქმის</td>\n",
       "      <td>თითქმის</td>\n",
       "      <td>Adv</td>\n",
       "      <td>62608</td>\n",
       "    </tr>\n",
       "    <tr>\n",
       "      <th>4</th>\n",
       "      <td>სასოწარკვეთილი</td>\n",
       "      <td>სასოწარკვეთილ·ი</td>\n",
       "      <td>A</td>\n",
       "      <td>844</td>\n",
       "    </tr>\n",
       "    <tr>\n",
       "      <th>...</th>\n",
       "      <td>...</td>\n",
       "      <td>...</td>\n",
       "      <td>...</td>\n",
       "      <td>...</td>\n",
       "    </tr>\n",
       "    <tr>\n",
       "      <th>95</th>\n",
       "      <td>ხომ</td>\n",
       "      <td>ხომ</td>\n",
       "      <td>Adv</td>\n",
       "      <td>127578</td>\n",
       "    </tr>\n",
       "    <tr>\n",
       "      <th>96</th>\n",
       "      <td>ვსაყვედურობდი</td>\n",
       "      <td>საყვედურ·ი</td>\n",
       "      <td>V</td>\n",
       "      <td>19</td>\n",
       "    </tr>\n",
       "    <tr>\n",
       "      <th>97</th>\n",
       "      <td>საწინააღმდეგო</td>\n",
       "      <td>საწინააღმდეგო</td>\n",
       "      <td>A</td>\n",
       "      <td>9474</td>\n",
       "    </tr>\n",
       "    <tr>\n",
       "      <th>98</th>\n",
       "      <td>გაქვს</td>\n",
       "      <td>ქონა</td>\n",
       "      <td>V</td>\n",
       "      <td>8972</td>\n",
       "    </tr>\n",
       "    <tr>\n",
       "      <th>99</th>\n",
       "      <td>წამოვდექი</td>\n",
       "      <td>წამო·დგომა</td>\n",
       "      <td>V</td>\n",
       "      <td>332</td>\n",
       "    </tr>\n",
       "  </tbody>\n",
       "</table>\n",
       "<p>100 rows × 4 columns</p>\n",
       "</div>"
      ],
      "text/plain": [
       "              word            lemma pos_tag     freq\n",
       "0               ამ               ეს    Pron  1041654\n",
       "1          ზამთრის         ზამთარ·ი       N     8035\n",
       "2         მიწურულს       მი·წურულ·ი     Dat     5976\n",
       "3          თითქმის          თითქმის     Adv    62608\n",
       "4   სასოწარკვეთილი  სასოწარკვეთილ·ი       A      844\n",
       "..             ...              ...     ...      ...\n",
       "95             ხომ              ხომ     Adv   127578\n",
       "96   ვსაყვედურობდი       საყვედურ·ი       V       19\n",
       "97   საწინააღმდეგო    საწინააღმდეგო       A     9474\n",
       "98           გაქვს             ქონა       V     8972\n",
       "99       წამოვდექი       წამო·დგომა       V      332\n",
       "\n",
       "[100 rows x 4 columns]"
      ]
     },
     "execution_count": 56,
     "metadata": {},
     "output_type": "execute_result"
    }
   ],
   "source": [
    "df2 = pd.read_csv('csv/adv_dict2.csv')\n",
    "df2[:100]"
   ]
  },
  {
   "cell_type": "code",
   "execution_count": 57,
   "id": "28536a1f-e093-4ecf-bf44-8b2259d8219f",
   "metadata": {},
   "outputs": [
    {
     "data": {
      "text/plain": [
       "(2635260, 4)"
      ]
     },
     "execution_count": 57,
     "metadata": {},
     "output_type": "execute_result"
    }
   ],
   "source": [
    "df2.shape"
   ]
  },
  {
   "cell_type": "markdown",
   "id": "99f55b6c-91bc-49c7-b71a-05497bd618fc",
   "metadata": {
    "tags": []
   },
   "source": [
    "## ცხრილის გასუფთავება"
   ]
  },
  {
   "cell_type": "code",
   "execution_count": 58,
   "id": "4aacd015-b71a-4074-bb2f-52428b211834",
   "metadata": {},
   "outputs": [
    {
     "data": {
      "text/plain": [
       "(1468545, 4)"
      ]
     },
     "execution_count": 58,
     "metadata": {},
     "output_type": "execute_result"
    }
   ],
   "source": [
    "df2 = df2[df2.word.isin(cleaned_df.word)]\n",
    "df2.shape"
   ]
  },
  {
   "cell_type": "code",
   "execution_count": 76,
   "id": "e3dc5ffd-1231-449e-ae91-21cd54f4109d",
   "metadata": {},
   "outputs": [
    {
     "data": {
      "text/html": [
       "<div>\n",
       "<style scoped>\n",
       "    .dataframe tbody tr th:only-of-type {\n",
       "        vertical-align: middle;\n",
       "    }\n",
       "\n",
       "    .dataframe tbody tr th {\n",
       "        vertical-align: top;\n",
       "    }\n",
       "\n",
       "    .dataframe thead th {\n",
       "        text-align: right;\n",
       "    }\n",
       "</style>\n",
       "<table border=\"1\" class=\"dataframe\">\n",
       "  <thead>\n",
       "    <tr style=\"text-align: right;\">\n",
       "      <th></th>\n",
       "      <th>word</th>\n",
       "      <th>lemma</th>\n",
       "      <th>pos_tag</th>\n",
       "      <th>freq</th>\n",
       "    </tr>\n",
       "  </thead>\n",
       "  <tbody>\n",
       "  </tbody>\n",
       "</table>\n",
       "</div>"
      ],
      "text/plain": [
       "Empty DataFrame\n",
       "Columns: [word, lemma, pos_tag, freq]\n",
       "Index: []"
      ]
     },
     "execution_count": 76,
     "metadata": {},
     "output_type": "execute_result"
    }
   ],
   "source": [
    "df2[df2.isna().any(axis=1)]"
   ]
  },
  {
   "cell_type": "code",
   "execution_count": 77,
   "id": "9ca33858-fe23-4cf8-9e28-560316b726fc",
   "metadata": {},
   "outputs": [
    {
     "data": {
      "text/plain": [
       "(1468493, 4)"
      ]
     },
     "execution_count": 77,
     "metadata": {},
     "output_type": "execute_result"
    }
   ],
   "source": [
    "df2 = df2.dropna(how='any')\n",
    "df2.shape"
   ]
  },
  {
   "cell_type": "code",
   "execution_count": 61,
   "id": "c7044c40-a3e5-4287-96d8-f9c3fe04002f",
   "metadata": {},
   "outputs": [],
   "source": [
    "def remove_dot(x):\n",
    "    try:\n",
    "        return str(re.sub('·', '', x))\n",
    "    except TypeError:\n",
    "        print(x)\n",
    "\n",
    "df2.loc[:,'lemma'] = df2.loc[:,'lemma'].apply(remove_dot)"
   ]
  },
  {
   "cell_type": "code",
   "execution_count": 62,
   "id": "62af37e8-216b-40b1-9031-528cff98681b",
   "metadata": {},
   "outputs": [
    {
     "data": {
      "text/html": [
       "<div>\n",
       "<style scoped>\n",
       "    .dataframe tbody tr th:only-of-type {\n",
       "        vertical-align: middle;\n",
       "    }\n",
       "\n",
       "    .dataframe tbody tr th {\n",
       "        vertical-align: top;\n",
       "    }\n",
       "\n",
       "    .dataframe thead th {\n",
       "        text-align: right;\n",
       "    }\n",
       "</style>\n",
       "<table border=\"1\" class=\"dataframe\">\n",
       "  <thead>\n",
       "    <tr style=\"text-align: right;\">\n",
       "      <th></th>\n",
       "      <th>word</th>\n",
       "      <th>lemma</th>\n",
       "      <th>pos_tag</th>\n",
       "      <th>freq</th>\n",
       "    </tr>\n",
       "  </thead>\n",
       "  <tbody>\n",
       "    <tr>\n",
       "      <th>0</th>\n",
       "      <td>ამ</td>\n",
       "      <td>ეს</td>\n",
       "      <td>Pron</td>\n",
       "      <td>1041654</td>\n",
       "    </tr>\n",
       "    <tr>\n",
       "      <th>1</th>\n",
       "      <td>ზამთრის</td>\n",
       "      <td>ზამთარი</td>\n",
       "      <td>N</td>\n",
       "      <td>8035</td>\n",
       "    </tr>\n",
       "    <tr>\n",
       "      <th>2</th>\n",
       "      <td>მიწურულს</td>\n",
       "      <td>მიწურული</td>\n",
       "      <td>Dat</td>\n",
       "      <td>5976</td>\n",
       "    </tr>\n",
       "    <tr>\n",
       "      <th>3</th>\n",
       "      <td>თითქმის</td>\n",
       "      <td>თითქმის</td>\n",
       "      <td>Adv</td>\n",
       "      <td>62608</td>\n",
       "    </tr>\n",
       "    <tr>\n",
       "      <th>4</th>\n",
       "      <td>სასოწარკვეთილი</td>\n",
       "      <td>სასოწარკვეთილი</td>\n",
       "      <td>A</td>\n",
       "      <td>844</td>\n",
       "    </tr>\n",
       "  </tbody>\n",
       "</table>\n",
       "</div>"
      ],
      "text/plain": [
       "             word           lemma pos_tag     freq\n",
       "0              ამ              ეს    Pron  1041654\n",
       "1         ზამთრის         ზამთარი       N     8035\n",
       "2        მიწურულს        მიწურული     Dat     5976\n",
       "3         თითქმის         თითქმის     Adv    62608\n",
       "4  სასოწარკვეთილი  სასოწარკვეთილი       A      844"
      ]
     },
     "execution_count": 62,
     "metadata": {},
     "output_type": "execute_result"
    }
   ],
   "source": [
    "df2.head()"
   ]
  },
  {
   "cell_type": "markdown",
   "id": "a63a8efa-bb5a-41e1-af89-a5bd73f36d62",
   "metadata": {},
   "source": [
    "## ანალიზი"
   ]
  },
  {
   "cell_type": "markdown",
   "id": "350ec608-d097-47d8-87fd-c35d11db116b",
   "metadata": {},
   "source": [
    "### მეტყველების ნაწილები"
   ]
  },
  {
   "cell_type": "code",
   "execution_count": null,
   "id": "56c162f3-b714-4167-a64c-a50ee4bd7fed",
   "metadata": {},
   "outputs": [],
   "source": []
  },
  {
   "cell_type": "markdown",
   "id": "8cc5bf79-1904-4a85-849b-af8e1e5f16f3",
   "metadata": {},
   "source": [
    "### სიხშირეები"
   ]
  },
  {
   "cell_type": "code",
   "execution_count": 155,
   "id": "65ec1be5-93bd-4275-88ab-6c75eec792a0",
   "metadata": {},
   "outputs": [
    {
     "data": {
      "text/plain": [
       "count     1468493\n",
       "unique         64\n",
       "top             N\n",
       "freq       737145\n",
       "Name: pos_tag, dtype: object"
      ]
     },
     "execution_count": 155,
     "metadata": {},
     "output_type": "execute_result"
    }
   ],
   "source": [
    "df2.pos_tag.describe()"
   ]
  },
  {
   "cell_type": "markdown",
   "id": "18fd541b-a07d-41e4-8c15-038534826bf6",
   "metadata": {},
   "source": [
    "64 სახის აღნიშვნა მოიძებნება სულ"
   ]
  },
  {
   "cell_type": "code",
   "execution_count": 211,
   "id": "493338e3-63c6-4e98-97b0-86cf82af8532",
   "metadata": {},
   "outputs": [
    {
     "data": {
      "text/html": [
       "<div>\n",
       "<style scoped>\n",
       "    .dataframe tbody tr th:only-of-type {\n",
       "        vertical-align: middle;\n",
       "    }\n",
       "\n",
       "    .dataframe tbody tr th {\n",
       "        vertical-align: top;\n",
       "    }\n",
       "\n",
       "    .dataframe thead th {\n",
       "        text-align: right;\n",
       "    }\n",
       "</style>\n",
       "<table border=\"1\" class=\"dataframe\">\n",
       "  <thead>\n",
       "    <tr style=\"text-align: right;\">\n",
       "      <th></th>\n",
       "      <th>perc</th>\n",
       "    </tr>\n",
       "  </thead>\n",
       "  <tbody>\n",
       "    <tr>\n",
       "      <th>count</th>\n",
       "      <td>64.00000000</td>\n",
       "    </tr>\n",
       "    <tr>\n",
       "      <th>mean</th>\n",
       "      <td>0.01562500</td>\n",
       "    </tr>\n",
       "    <tr>\n",
       "      <th>std</th>\n",
       "      <td>0.07296806</td>\n",
       "    </tr>\n",
       "    <tr>\n",
       "      <th>min</th>\n",
       "      <td>0.00000068</td>\n",
       "    </tr>\n",
       "    <tr>\n",
       "      <th>25%</th>\n",
       "      <td>0.00000460</td>\n",
       "    </tr>\n",
       "    <tr>\n",
       "      <th>50%</th>\n",
       "      <td>0.00003405</td>\n",
       "    </tr>\n",
       "    <tr>\n",
       "      <th>75%</th>\n",
       "      <td>0.00045199</td>\n",
       "    </tr>\n",
       "    <tr>\n",
       "      <th>max</th>\n",
       "      <td>0.50197379</td>\n",
       "    </tr>\n",
       "  </tbody>\n",
       "</table>\n",
       "</div>"
      ],
      "text/plain": [
       "             perc\n",
       "count 64.00000000\n",
       "mean   0.01562500\n",
       "std    0.07296806\n",
       "min    0.00000068\n",
       "25%    0.00000460\n",
       "50%    0.00003405\n",
       "75%    0.00045199\n",
       "max    0.50197379"
      ]
     },
     "execution_count": 211,
     "metadata": {},
     "output_type": "execute_result"
    }
   ],
   "source": [
    "pos_tag_by_lemma = pd.value_counts(df2.pos_tag, normalize=True).reset_index()\n",
    "pos_tag_by_lemma.columns = ['pos', 'perc']\n",
    "pos_tag_by_lemma.describe()"
   ]
  },
  {
   "cell_type": "code",
   "execution_count": 278,
   "id": "de890a53-13e0-4e8b-9731-ca89a1066e36",
   "metadata": {},
   "outputs": [
    {
     "data": {
      "text/html": [
       "<div>\n",
       "<style scoped>\n",
       "    .dataframe tbody tr th:only-of-type {\n",
       "        vertical-align: middle;\n",
       "    }\n",
       "\n",
       "    .dataframe tbody tr th {\n",
       "        vertical-align: top;\n",
       "    }\n",
       "\n",
       "    .dataframe thead th {\n",
       "        text-align: right;\n",
       "    }\n",
       "</style>\n",
       "<table border=\"1\" class=\"dataframe\">\n",
       "  <thead>\n",
       "    <tr style=\"text-align: right;\">\n",
       "      <th></th>\n",
       "      <th>freq</th>\n",
       "    </tr>\n",
       "  </thead>\n",
       "  <tbody>\n",
       "    <tr>\n",
       "      <th>count</th>\n",
       "      <td>64.00000000</td>\n",
       "    </tr>\n",
       "    <tr>\n",
       "      <th>mean</th>\n",
       "      <td>0.01562500</td>\n",
       "    </tr>\n",
       "    <tr>\n",
       "      <th>std</th>\n",
       "      <td>0.05478963</td>\n",
       "    </tr>\n",
       "    <tr>\n",
       "      <th>min</th>\n",
       "      <td>0.00000001</td>\n",
       "    </tr>\n",
       "    <tr>\n",
       "      <th>25%</th>\n",
       "      <td>0.00000293</td>\n",
       "    </tr>\n",
       "    <tr>\n",
       "      <th>50%</th>\n",
       "      <td>0.00007374</td>\n",
       "    </tr>\n",
       "    <tr>\n",
       "      <th>75%</th>\n",
       "      <td>0.00243636</td>\n",
       "    </tr>\n",
       "    <tr>\n",
       "      <th>max</th>\n",
       "      <td>0.38237994</td>\n",
       "    </tr>\n",
       "  </tbody>\n",
       "</table>\n",
       "</div>"
      ],
      "text/plain": [
       "             freq\n",
       "count 64.00000000\n",
       "mean   0.01562500\n",
       "std    0.05478963\n",
       "min    0.00000001\n",
       "25%    0.00000293\n",
       "50%    0.00007374\n",
       "75%    0.00243636\n",
       "max    0.38237994"
      ]
     },
     "execution_count": 278,
     "metadata": {},
     "output_type": "execute_result"
    }
   ],
   "source": [
    "pos_tag_by_freq = (df2.groupby('pos_tag').sum() / df2.freq.sum()).reset_index().sort_values(by='freq', ascending=False)\n",
    "pos_tag_by_freq.describe()"
   ]
  },
  {
   "cell_type": "code",
   "execution_count": 222,
   "id": "119fc70e-cd4c-45a3-b976-ebb80455c314",
   "metadata": {},
   "outputs": [
    {
     "data": {
      "text/plain": [
       "<AxesSubplot:xlabel='pos', ylabel='perc'>"
      ]
     },
     "execution_count": 222,
     "metadata": {},
     "output_type": "execute_result"
    },
    {
     "data": {
      "image/png": "[encoded data removed]",
      "text/plain": [
       "<Figure size 1000x600 with 1 Axes>"
      ]
     },
     "metadata": {},
     "output_type": "display_data"
    }
   ],
   "source": [
    "plt.figure(figsize=(10, 6))\n",
    "sns.barplot(data=pos_tag_by_lemma.query('perc > 0.001'), x='pos', y='perc')"
   ]
  },
  {
   "cell_type": "markdown",
   "id": "1282ce6d-4051-44f9-a62f-c8fa2a4d0279",
   "metadata": {},
   "source": [
    "მათ შორის როგორც ვხედავთ ყველაზე ხშირად არსებითი სახელები, ზმნები და ზედსართავი სახელების ტიპის სიტყვები გვხვდება კორპუსში."
   ]
  },
  {
   "cell_type": "code",
   "execution_count": 311,
   "id": "4a7038e0-6d95-42c9-834f-d65026c21204",
   "metadata": {},
   "outputs": [],
   "source": [
    "cumulative_freq = pos_tag_by_freq.copy()\n",
    "cumulative_freq.pos_tag = cumulative_freq.pos_tag.apply(lambda x: x + ' + _' if x != 'N' else x)\n",
    "cumulative_freq.freq = cumulative_freq.freq.cumsum()"
   ]
  },
  {
   "cell_type": "code",
   "execution_count": 312,
   "id": "f4e6bcfa-5cd2-4da6-8f4f-94045af003df",
   "metadata": {},
   "outputs": [
    {
     "data": {
      "text/plain": [
       "<AxesSubplot:xlabel='freq', ylabel='pos_tag'>"
      ]
     },
     "execution_count": 312,
     "metadata": {},
     "output_type": "execute_result"
    },
    {
     "data": {
      "image/png": "[encoded data removed]",
      "text/plain": [
       "<Figure size 1000x1000 with 1 Axes>"
      ]
     },
     "metadata": {},
     "output_type": "display_data"
    }
   ],
   "source": [
    "plt.figure(figsize=(10, 10))\n",
    "sns.barplot(data=cumulative_freq.query('freq < 0.99'), y='pos_tag', x='freq', fill=True)"
   ]
  },
  {
   "cell_type": "markdown",
   "id": "bf12bce7-c658-4249-a1e9-d59c4457a2ca",
   "metadata": {},
   "source": [
    "სიხშირეებს თუ დავაკვირდებით დავინახავთ, რომ 18 მეტყველების ნაწილის თეგი ასახავს ტექტში შეხვედრილი სიტყვების 99%"
   ]
  },
  {
   "cell_type": "code",
   "execution_count": 313,
   "id": "78eca8da-4151-416e-bec3-922e9b1b89d4",
   "metadata": {},
   "outputs": [
    {
     "data": {
      "text/plain": [
       "<AxesSubplot:xlabel='freq', ylabel='pos_tag'>"
      ]
     },
     "execution_count": 313,
     "metadata": {},
     "output_type": "execute_result"
    },
    {
     "data": {
      "image/png": "[encoded data removed]",
      "text/plain": [
       "<Figure size 1000x600 with 1 Axes>"
      ]
     },
     "metadata": {},
     "output_type": "display_data"
    }
   ],
   "source": [
    "plt.figure(figsize=(10, 6))\n",
    "sns.barplot(data=cumulative_freq.query('freq < 0.90'), y='pos_tag', x='freq', fill=True)"
   ]
  },
  {
   "cell_type": "code",
   "execution_count": 232,
   "id": "b3dca0fc-2f9a-4ad0-8782-28cb2d7618dd",
   "metadata": {},
   "outputs": [
    {
     "data": {
      "text/plain": [
       "<AxesSubplot:xlabel='pos_tag', ylabel='freq'>"
      ]
     },
     "execution_count": 232,
     "metadata": {},
     "output_type": "execute_result"
    },
    {
     "data": {
      "image/png": "[encoded data removed]",
      "text/plain": [
       "<Figure size 1000x600 with 1 Axes>"
      ]
     },
     "metadata": {},
     "output_type": "display_data"
    }
   ],
   "source": [
    "plt.figure(figsize=(10, 6))\n",
    "sns.barplot(data=pos_tag_by_freq.query('freq > 0.01'), x='pos_tag', y='freq')"
   ]
  },
  {
   "cell_type": "code",
   "execution_count": 210,
   "id": "407d434c-1bc4-489d-b758-6ac5eae63cfb",
   "metadata": {},
   "outputs": [
    {
     "data": {
      "text/plain": [
       "<AxesSubplot:xlabel='perc', ylabel='pos'>"
      ]
     },
     "execution_count": 210,
     "metadata": {},
     "output_type": "execute_result"
    },
    {
     "data": {
      "image/png": "[encoded data removed]",
      "text/plain": [
       "<Figure size 1000x800 with 1 Axes>"
      ]
     },
     "metadata": {},
     "output_type": "display_data"
    }
   ],
   "source": [
    "plt.figure(figsize=(10, 8))\n",
    "plt.ticklabel_format(style='plain', axis='x')\n",
    "sns.barplot(data=pos_tag_by_lemma.query('perc < 0.00001'), y='pos', x='perc')"
   ]
  },
  {
   "cell_type": "code",
   "execution_count": 168,
   "id": "6caf449d-3445-4850-aeb3-e55e5a4deebc",
   "metadata": {},
   "outputs": [
    {
     "data": {
      "text/plain": [
       "<AxesSubplot:xlabel='pos_tag', ylabel='count'>"
      ]
     },
     "execution_count": 168,
     "metadata": {},
     "output_type": "execute_result"
    },
    {
     "data": {
      "image/png": "[encoded data removed]",
      "text/plain": [
       "<Figure size 2000x600 with 1 Axes>"
      ]
     },
     "metadata": {},
     "output_type": "display_data"
    }
   ],
   "source": [
    "plt.figure(figsize=(20, 6))\n",
    "sns.countplot(data=df2,order=pd.value_counts(df2.pos_tag).loc[lambda x: x < 50].index, x='pos_tag')"
   ]
  },
  {
   "cell_type": "code",
   "execution_count": 165,
   "id": "b8a3d12f-6b96-4ae3-8e3d-0987372c2228",
   "metadata": {},
   "outputs": [
    {
     "data": {
      "text/plain": [
       "Compl       8\n",
       "Encl:ცა     8\n",
       "Encl:მე     7\n",
       "Redup       6\n",
       "Neg         5\n",
       "Modal       5\n",
       "Encl:კი     5\n",
       "Abs         2\n",
       "Pot         2\n",
       "Encl:მცა    2\n",
       "Imp         1\n",
       "Tm:ძი       1\n",
       "Punct       1\n",
       "Rel:ც       1\n",
       "Tm:ვე       1\n",
       "Tm:ღა       1\n",
       ">XCOMP      1\n",
       "Encl:ძი     1\n",
       "X           1\n",
       "Name: pos_tag, dtype: int64"
      ]
     },
     "execution_count": 165,
     "metadata": {},
     "output_type": "execute_result"
    }
   ],
   "source": []
  },
  {
   "cell_type": "code",
   "execution_count": 64,
   "id": "9312f90b-3597-4c56-b58e-95875e69db0d",
   "metadata": {},
   "outputs": [],
   "source": [
    "lexem_group_sizes = df2.groupby('lemma').word.count()\n",
    "lexem_group_sizes = lexem_group_sizes.reset_index()"
   ]
  },
  {
   "cell_type": "code",
   "execution_count": 65,
   "id": "894f5622-8b18-4a01-b9af-a5347e2a20d8",
   "metadata": {},
   "outputs": [],
   "source": [
    "lexem_group_sizes.columns = ['lemma', 'count']\n",
    "freq_group = lexem_group_sizes.sort_values(by='count', ascending=False)[:10]"
   ]
  },
  {
   "cell_type": "code",
   "execution_count": 74,
   "id": "b5166f18-bd87-4782-ba2f-0956bcf7d603",
   "metadata": {},
   "outputs": [
    {
     "data": {
      "text/plain": [
       "<AxesSubplot:xlabel='lemma', ylabel='count'>"
      ]
     },
     "execution_count": 74,
     "metadata": {},
     "output_type": "execute_result"
    },
    {
     "data": {
      "image/png": "[encoded data removed]",
      "text/plain": [
       "<Figure size 1000x600 with 1 Axes>"
      ]
     },
     "metadata": {},
     "output_type": "display_data"
    }
   ],
   "source": [
    "plt.figure(figsize=(10, 6))\n",
    "sns.barplot(data=freq_group, x='lemma', y='count')"
   ]
  },
  {
   "cell_type": "code",
   "execution_count": 321,
   "id": "4f005c88-7178-4830-aa20-0ea73a62167d",
   "metadata": {},
   "outputs": [
    {
     "data": {
      "text/plain": [
       "211260"
      ]
     },
     "execution_count": 321,
     "metadata": {},
     "output_type": "execute_result"
    }
   ],
   "source": [
    "len(df2.lemma.unique())"
   ]
  },
  {
   "cell_type": "code",
   "execution_count": 95,
   "id": "1b06e350-bb30-4e37-b690-b00559e1307b",
   "metadata": {},
   "outputs": [],
   "source": [
    "def get_lexem_freq_by_pos(tag: str, num=10):\n",
    "    common_lexem_group_sizes = (df2[df2['pos_tag'] == tag]\n",
    "    .groupby('lemma')\n",
    "    .word.count()\n",
    "    .reset_index())\n",
    "    common_lexem_group_sizes.columns = ['lemma', 'count']\n",
    "    return common_lexem_group_sizes.sort_values(by='count', ascending=False)[:num]"
   ]
  },
  {
   "cell_type": "code",
   "execution_count": 97,
   "id": "a4b63fe8-89fc-494c-8e4c-6d19cdc9ced4",
   "metadata": {},
   "outputs": [
    {
     "data": {
      "text/html": [
       "<div>\n",
       "<style scoped>\n",
       "    .dataframe tbody tr th:only-of-type {\n",
       "        vertical-align: middle;\n",
       "    }\n",
       "\n",
       "    .dataframe tbody tr th {\n",
       "        vertical-align: top;\n",
       "    }\n",
       "\n",
       "    .dataframe thead th {\n",
       "        text-align: right;\n",
       "    }\n",
       "</style>\n",
       "<table border=\"1\" class=\"dataframe\">\n",
       "  <thead>\n",
       "    <tr style=\"text-align: right;\">\n",
       "      <th></th>\n",
       "      <th>lemma</th>\n",
       "      <th>count</th>\n",
       "    </tr>\n",
       "  </thead>\n",
       "  <tbody>\n",
       "    <tr>\n",
       "      <th>2733</th>\n",
       "      <td>??</td>\n",
       "      <td>583</td>\n",
       "    </tr>\n",
       "    <tr>\n",
       "      <th>30160</th>\n",
       "      <td>კაცი</td>\n",
       "      <td>265</td>\n",
       "    </tr>\n",
       "    <tr>\n",
       "      <th>60028</th>\n",
       "      <td>ქვეყანა</td>\n",
       "      <td>261</td>\n",
       "    </tr>\n",
       "    <tr>\n",
       "      <th>61145</th>\n",
       "      <td>ღმერთი</td>\n",
       "      <td>258</td>\n",
       "    </tr>\n",
       "    <tr>\n",
       "      <th>68625</th>\n",
       "      <td>წელი</td>\n",
       "      <td>241</td>\n",
       "    </tr>\n",
       "    <tr>\n",
       "      <th>22124</th>\n",
       "      <td>დღე</td>\n",
       "      <td>228</td>\n",
       "    </tr>\n",
       "    <tr>\n",
       "      <th>3123</th>\n",
       "      <td>ადამიანი</td>\n",
       "      <td>218</td>\n",
       "    </tr>\n",
       "    <tr>\n",
       "      <th>51155</th>\n",
       "      <td>საქმე</td>\n",
       "      <td>213</td>\n",
       "    </tr>\n",
       "    <tr>\n",
       "      <th>51129</th>\n",
       "      <td>საქართველო</td>\n",
       "      <td>205</td>\n",
       "    </tr>\n",
       "    <tr>\n",
       "      <th>53422</th>\n",
       "      <td>სოფელი</td>\n",
       "      <td>199</td>\n",
       "    </tr>\n",
       "  </tbody>\n",
       "</table>\n",
       "</div>"
      ],
      "text/plain": [
       "            lemma  count\n",
       "2733           ??    583\n",
       "30160        კაცი    265\n",
       "60028     ქვეყანა    261\n",
       "61145      ღმერთი    258\n",
       "68625        წელი    241\n",
       "22124         დღე    228\n",
       "3123     ადამიანი    218\n",
       "51155       საქმე    213\n",
       "51129  საქართველო    205\n",
       "53422      სოფელი    199"
      ]
     },
     "execution_count": 97,
     "metadata": {},
     "output_type": "execute_result"
    }
   ],
   "source": [
    "get_lexem_freq_by_pos('N')"
   ]
  },
  {
   "cell_type": "code",
   "execution_count": 98,
   "id": "9a73c685-c15f-40d6-9bed-3e0cfa0138fd",
   "metadata": {},
   "outputs": [
    {
     "data": {
      "text/plain": [
       "<AxesSubplot:xlabel='lemma', ylabel='count'>"
      ]
     },
     "execution_count": 98,
     "metadata": {},
     "output_type": "execute_result"
    },
    {
     "data": {
      "image/png": "[encoded data removed]",
      "text/plain": [
       "<Figure size 1000x600 with 1 Axes>"
      ]
     },
     "metadata": {},
     "output_type": "display_data"
    }
   ],
   "source": [
    "plt.figure(figsize=(10, 6))\n",
    "sns.barplot(data=get_lexem_freq_by_pos('N'), x='lemma', y='count')"
   ]
  },
  {
   "cell_type": "code",
   "execution_count": 99,
   "id": "bb91e38a-7162-4442-b143-5bedc6a81971",
   "metadata": {},
   "outputs": [
    {
     "data": {
      "text/plain": [
       "<AxesSubplot:xlabel='lemma', ylabel='count'>"
      ]
     },
     "execution_count": 99,
     "metadata": {},
     "output_type": "execute_result"
    },
    {
     "data": {
      "image/png": "[encoded data removed]",
      "text/plain": [
       "<Figure size 1000x600 with 1 Axes>"
      ]
     },
     "metadata": {},
     "output_type": "display_data"
    }
   ],
   "source": [
    "plt.figure(figsize=(10, 6))\n",
    "sns.barplot(data=get_lexem_freq_by_pos('V'), x='lemma', y='count')"
   ]
  },
  {
   "cell_type": "code",
   "execution_count": 100,
   "id": "a25b7ecd-6f5c-43bc-b503-a44f4acb39cb",
   "metadata": {},
   "outputs": [
    {
     "data": {
      "text/plain": [
       "<AxesSubplot:xlabel='lemma', ylabel='count'>"
      ]
     },
     "execution_count": 100,
     "metadata": {},
     "output_type": "execute_result"
    },
    {
     "data": {
      "image/png": "[encoded data removed]",
      "text/plain": [
       "<Figure size 1000x600 with 1 Axes>"
      ]
     },
     "metadata": {},
     "output_type": "display_data"
    }
   ],
   "source": [
    "plt.figure(figsize=(10, 6))\n",
    "sns.barplot(data=get_lexem_freq_by_pos('A'), x='lemma', y='count')"
   ]
  },
  {
   "cell_type": "code",
   "execution_count": 122,
   "id": "611baea4-e78d-42f6-97d8-f2f4b393ebc6",
   "metadata": {},
   "outputs": [],
   "source": [
    "freq_lemma_df = df2.groupby('lemma').freq.sum().reset_index()\n",
    "freq_lemma_df = freq_lemma_df.sort_values(by='freq', ascending=False)[:20]"
   ]
  },
  {
   "cell_type": "code",
   "execution_count": 123,
   "id": "705a03e9-c2a6-4e62-a4bb-1464f2d32299",
   "metadata": {},
   "outputs": [
    {
     "data": {
      "text/plain": [
       "<AxesSubplot:xlabel='lemma', ylabel='freq'>"
      ]
     },
     "execution_count": 123,
     "metadata": {},
     "output_type": "execute_result"
    },
    {
     "data": {
      "image/png": "[encoded data removed]",
      "text/plain": [
       "<Figure size 2000x600 with 1 Axes>"
      ]
     },
     "metadata": {},
     "output_type": "display_data"
    }
   ],
   "source": [
    "plt.figure(figsize=(20, 6))\n",
    "sns.barplot(data=freq_lemma_df, x='lemma', y='freq')"
   ]
  },
  {
   "cell_type": "code",
   "execution_count": 134,
   "id": "85fd09f9-625c-4d1c-b190-4119158046d6",
   "metadata": {},
   "outputs": [],
   "source": [
    "freq_lemma_df = df2.groupby(['lemma', 'pos_tag']).freq.sum().reset_index()\n",
    "freq_lemma_df = freq_lemma_df.sort_values(by='freq', ascending=False)"
   ]
  },
  {
   "cell_type": "code",
   "execution_count": 146,
   "id": "551c276d-76cf-487a-ba1b-a047613083c4",
   "metadata": {},
   "outputs": [
    {
     "data": {
      "text/plain": [
       "<AxesSubplot:xlabel='lemma', ylabel='freq'>"
      ]
     },
     "execution_count": 146,
     "metadata": {},
     "output_type": "execute_result"
    },
    {
     "data": {
      "image/png": "[encoded data removed]",
      "text/plain": [
       "<Figure size 2000x600 with 1 Axes>"
      ]
     },
     "metadata": {},
     "output_type": "display_data"
    }
   ],
   "source": [
    "plt.figure(figsize=(20, 6))\n",
    "sns.barplot(data=freq_lemma_df[freq_lemma_df['pos_tag'] == 'N'][:20], y='freq', x='lemma')"
   ]
  },
  {
   "cell_type": "code",
   "execution_count": 144,
   "id": "c21270ec-486e-466f-aba3-a6ee2a9395b2",
   "metadata": {},
   "outputs": [
    {
     "data": {
      "text/plain": [
       "<AxesSubplot:xlabel='lemma', ylabel='freq'>"
      ]
     },
     "execution_count": 144,
     "metadata": {},
     "output_type": "execute_result"
    },
    {
     "data": {
      "image/png": "[encoded data removed]",
      "text/plain": [
       "<Figure size 2000x600 with 1 Axes>"
      ]
     },
     "metadata": {},
     "output_type": "display_data"
    }
   ],
   "source": [
    "plt.figure(figsize=(20, 6))\n",
    "sns.barplot(data=freq_lemma_df[freq_lemma_df['pos_tag'] == 'V'][:20], y='freq', x='lemma')"
   ]
  },
  {
   "cell_type": "code",
   "execution_count": 145,
   "id": "9ed21fe1-f00c-4bb5-9f4e-4dd7644227c9",
   "metadata": {},
   "outputs": [
    {
     "data": {
      "text/plain": [
       "<AxesSubplot:xlabel='lemma', ylabel='freq'>"
      ]
     },
     "execution_count": 145,
     "metadata": {},
     "output_type": "execute_result"
    },
    {
     "data": {
      "image/png": "[encoded data removed]",
      "text/plain": [
       "<Figure size 2000x600 with 1 Axes>"
      ]
     },
     "metadata": {},
     "output_type": "display_data"
    }
   ],
   "source": [
    "plt.figure(figsize=(20, 6))\n",
    "sns.barplot(data=freq_lemma_df[freq_lemma_df['pos_tag'] == 'A'][:20], y='freq', x='lemma')"
   ]
  },
  {
   "cell_type": "code",
   "execution_count": null,
   "id": "b22562e6-daf2-409c-aff9-e2542b595f39",
   "metadata": {},
   "outputs": [],
   "source": [
    "df[df['lemma'] == '??']"
   ]
  },
  {
   "cell_type": "code",
   "execution_count": 69,
   "id": "7f7fd969-db7a-45d7-8ad8-dad1d8b9ba56",
   "metadata": {},
   "outputs": [
    {
     "data": {
      "text/html": [
       "<div>\n",
       "<style scoped>\n",
       "    .dataframe tbody tr th:only-of-type {\n",
       "        vertical-align: middle;\n",
       "    }\n",
       "\n",
       "    .dataframe tbody tr th {\n",
       "        vertical-align: top;\n",
       "    }\n",
       "\n",
       "    .dataframe thead th {\n",
       "        text-align: right;\n",
       "    }\n",
       "</style>\n",
       "<table border=\"1\" class=\"dataframe\">\n",
       "  <thead>\n",
       "    <tr style=\"text-align: right;\">\n",
       "      <th></th>\n",
       "      <th>word</th>\n",
       "      <th>lemma</th>\n",
       "      <th>pos_tag</th>\n",
       "      <th>freq</th>\n",
       "    </tr>\n",
       "  </thead>\n",
       "  <tbody>\n",
       "    <tr>\n",
       "      <th>3255</th>\n",
       "      <td>დ</td>\n",
       "      <td>??</td>\n",
       "      <td>N</td>\n",
       "      <td>4110</td>\n",
       "    </tr>\n",
       "    <tr>\n",
       "      <th>8168</th>\n",
       "      <td>ჟიულ</td>\n",
       "      <td>??</td>\n",
       "      <td>N</td>\n",
       "      <td>240</td>\n",
       "    </tr>\n",
       "    <tr>\n",
       "      <th>8813</th>\n",
       "      <td>ერნსტ</td>\n",
       "      <td>??</td>\n",
       "      <td>N</td>\n",
       "      <td>251</td>\n",
       "    </tr>\n",
       "    <tr>\n",
       "      <th>24701</th>\n",
       "      <td>შესანარჩუნებლად</td>\n",
       "      <td>??</td>\n",
       "      <td>Unrecognized</td>\n",
       "      <td>2421</td>\n",
       "    </tr>\n",
       "    <tr>\n",
       "      <th>25886</th>\n",
       "      <td>გამოისობით</td>\n",
       "      <td>??</td>\n",
       "      <td>Unrecognized</td>\n",
       "      <td>458</td>\n",
       "    </tr>\n",
       "    <tr>\n",
       "      <th>...</th>\n",
       "      <td>...</td>\n",
       "      <td>...</td>\n",
       "      <td>...</td>\n",
       "      <td>...</td>\n",
       "    </tr>\n",
       "    <tr>\n",
       "      <th>2453258</th>\n",
       "      <td>ბესო-კესო</td>\n",
       "      <td>??</td>\n",
       "      <td>N</td>\n",
       "      <td>3</td>\n",
       "    </tr>\n",
       "    <tr>\n",
       "      <th>2454637</th>\n",
       "      <td>ბასკაკები</td>\n",
       "      <td>??</td>\n",
       "      <td>N</td>\n",
       "      <td>3</td>\n",
       "    </tr>\n",
       "    <tr>\n",
       "      <th>2465985</th>\n",
       "      <td>გეკონტაქტებათ</td>\n",
       "      <td>??</td>\n",
       "      <td>N</td>\n",
       "      <td>3</td>\n",
       "    </tr>\n",
       "    <tr>\n",
       "      <th>2468870</th>\n",
       "      <td>ურთიერთთანაცხოვრების</td>\n",
       "      <td>??</td>\n",
       "      <td>Unrecognized</td>\n",
       "      <td>2</td>\n",
       "    </tr>\n",
       "    <tr>\n",
       "      <th>2497358</th>\n",
       "      <td>კილპატრიკს</td>\n",
       "      <td>??</td>\n",
       "      <td>N</td>\n",
       "      <td>2</td>\n",
       "    </tr>\n",
       "  </tbody>\n",
       "</table>\n",
       "<p>630 rows × 4 columns</p>\n",
       "</div>"
      ],
      "text/plain": [
       "                         word lemma       pos_tag  freq\n",
       "3255                        დ    ??             N  4110\n",
       "8168                     ჟიულ    ??             N   240\n",
       "8813                    ერნსტ    ??             N   251\n",
       "24701         შესანარჩუნებლად    ??  Unrecognized  2421\n",
       "25886              გამოისობით    ??  Unrecognized   458\n",
       "...                       ...   ...           ...   ...\n",
       "2453258             ბესო-კესო    ??             N     3\n",
       "2454637             ბასკაკები    ??             N     3\n",
       "2465985         გეკონტაქტებათ    ??             N     3\n",
       "2468870  ურთიერთთანაცხოვრების    ??  Unrecognized     2\n",
       "2497358            კილპატრიკს    ??             N     2\n",
       "\n",
       "[630 rows x 4 columns]"
      ]
     },
     "execution_count": 69,
     "metadata": {},
     "output_type": "execute_result"
    }
   ],
   "source": [
    "df2[df2['lemma'] == '??']"
   ]
  },
  {
   "cell_type": "code",
   "execution_count": 73,
   "id": "7ed45fcb-3e00-40db-af3f-d87a08527a32",
   "metadata": {},
   "outputs": [
    {
     "data": {
      "text/html": [
       "<div>\n",
       "<style scoped>\n",
       "    .dataframe tbody tr th:only-of-type {\n",
       "        vertical-align: middle;\n",
       "    }\n",
       "\n",
       "    .dataframe tbody tr th {\n",
       "        vertical-align: top;\n",
       "    }\n",
       "\n",
       "    .dataframe thead th {\n",
       "        text-align: right;\n",
       "    }\n",
       "</style>\n",
       "<table border=\"1\" class=\"dataframe\">\n",
       "  <thead>\n",
       "    <tr style=\"text-align: right;\">\n",
       "      <th></th>\n",
       "      <th>word</th>\n",
       "      <th>lemma</th>\n",
       "      <th>freq</th>\n",
       "      <th>lemma_count</th>\n",
       "    </tr>\n",
       "  </thead>\n",
       "  <tbody>\n",
       "    <tr>\n",
       "      <th>3200</th>\n",
       "      <td>დ</td>\n",
       "      <td>{'დ-ი'}</td>\n",
       "      <td>4110</td>\n",
       "      <td>1</td>\n",
       "    </tr>\n",
       "  </tbody>\n",
       "</table>\n",
       "</div>"
      ],
      "text/plain": [
       "     word    lemma  freq  lemma_count\n",
       "3200    დ  {'დ-ი'}  4110            1"
      ]
     },
     "execution_count": 73,
     "metadata": {},
     "output_type": "execute_result"
    }
   ],
   "source": [
    "cleaned_df[cleaned_df['word'] == 'დ']"
   ]
  },
  {
   "cell_type": "code",
   "execution_count": null,
   "id": "14294c3d-c5ab-4c53-9998-488539849287",
   "metadata": {},
   "outputs": [],
   "source": [
    "comb = df.join(df2, lsuffix='_old', rsuffix='_new', on='word')"
   ]
  },
  {
   "cell_type": "code",
   "execution_count": null,
   "id": "8299574c-ba49-446a-b104-7152fea670d4",
   "metadata": {},
   "outputs": [],
   "source": []
  }
 ],
 "metadata": {
  "environment": {
   "kernel": "python3",
   "name": "common-cpu.m106",
   "type": "gcloud",
   "uri": "gcr.io/deeplearning-platform-release/base-cpu:m106"
  },
  "kernelspec": {
   "display_name": "Python 3",
   "language": "python",
   "name": "python3"
  },
  "language_info": {
   "codemirror_mode": {
    "name": "ipython",
    "version": 3
   },
   "file_extension": ".py",
   "mimetype": "text/x-python",
   "name": "python",
   "nbconvert_exporter": "python",
   "pygments_lexer": "ipython3",
   "version": "3.7.12"
  },
  "toc-autonumbering": true
 },
 "nbformat": 4,
 "nbformat_minor": 5
}
